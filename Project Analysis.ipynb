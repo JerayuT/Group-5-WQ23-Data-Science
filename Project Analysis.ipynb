{
 "cells": [
  {
   "cell_type": "code",
   "execution_count": 1,
   "id": "26a12f9a",
   "metadata": {},
   "outputs": [],
   "source": [
    "import pandas as pd\n",
    "import numpy as np\n",
    "import statsmodels.formula.api as sm\n",
    "import seaborn as sns\n",
    "import matplotlib.pyplot as plt"
   ]
  },
  {
   "cell_type": "code",
   "execution_count": 2,
   "id": "72f2e27d",
   "metadata": {},
   "outputs": [
    {
     "data": {
      "text/html": [
       "<div>\n",
       "<style scoped>\n",
       "    .dataframe tbody tr th:only-of-type {\n",
       "        vertical-align: middle;\n",
       "    }\n",
       "\n",
       "    .dataframe tbody tr th {\n",
       "        vertical-align: top;\n",
       "    }\n",
       "\n",
       "    .dataframe thead th {\n",
       "        text-align: right;\n",
       "    }\n",
       "</style>\n",
       "<table border=\"1\" class=\"dataframe\">\n",
       "  <thead>\n",
       "    <tr style=\"text-align: right;\">\n",
       "      <th></th>\n",
       "      <th>HeartDisease</th>\n",
       "      <th>BMI</th>\n",
       "      <th>Smoking</th>\n",
       "      <th>AlcoholDrinking</th>\n",
       "      <th>Stroke</th>\n",
       "      <th>PhysicalHealth</th>\n",
       "      <th>MentalHealth</th>\n",
       "      <th>DiffWalking</th>\n",
       "      <th>Sex</th>\n",
       "      <th>AgeCategory</th>\n",
       "      <th>Race</th>\n",
       "      <th>Diabetic</th>\n",
       "      <th>PhysicalActivity</th>\n",
       "      <th>GenHealth</th>\n",
       "      <th>SleepTime</th>\n",
       "      <th>Asthma</th>\n",
       "      <th>KidneyDisease</th>\n",
       "      <th>SkinCancer</th>\n",
       "    </tr>\n",
       "  </thead>\n",
       "  <tbody>\n",
       "    <tr>\n",
       "      <th>0</th>\n",
       "      <td>No</td>\n",
       "      <td>16.60</td>\n",
       "      <td>Yes</td>\n",
       "      <td>No</td>\n",
       "      <td>No</td>\n",
       "      <td>3.0</td>\n",
       "      <td>30.0</td>\n",
       "      <td>No</td>\n",
       "      <td>Female</td>\n",
       "      <td>55-59</td>\n",
       "      <td>White</td>\n",
       "      <td>Yes</td>\n",
       "      <td>Yes</td>\n",
       "      <td>Very good</td>\n",
       "      <td>5.0</td>\n",
       "      <td>Yes</td>\n",
       "      <td>No</td>\n",
       "      <td>Yes</td>\n",
       "    </tr>\n",
       "    <tr>\n",
       "      <th>1</th>\n",
       "      <td>No</td>\n",
       "      <td>20.34</td>\n",
       "      <td>No</td>\n",
       "      <td>No</td>\n",
       "      <td>Yes</td>\n",
       "      <td>0.0</td>\n",
       "      <td>0.0</td>\n",
       "      <td>No</td>\n",
       "      <td>Female</td>\n",
       "      <td>80 or older</td>\n",
       "      <td>White</td>\n",
       "      <td>No</td>\n",
       "      <td>Yes</td>\n",
       "      <td>Very good</td>\n",
       "      <td>7.0</td>\n",
       "      <td>No</td>\n",
       "      <td>No</td>\n",
       "      <td>No</td>\n",
       "    </tr>\n",
       "    <tr>\n",
       "      <th>2</th>\n",
       "      <td>No</td>\n",
       "      <td>26.58</td>\n",
       "      <td>Yes</td>\n",
       "      <td>No</td>\n",
       "      <td>No</td>\n",
       "      <td>20.0</td>\n",
       "      <td>30.0</td>\n",
       "      <td>No</td>\n",
       "      <td>Male</td>\n",
       "      <td>65-69</td>\n",
       "      <td>White</td>\n",
       "      <td>Yes</td>\n",
       "      <td>Yes</td>\n",
       "      <td>Fair</td>\n",
       "      <td>8.0</td>\n",
       "      <td>Yes</td>\n",
       "      <td>No</td>\n",
       "      <td>No</td>\n",
       "    </tr>\n",
       "    <tr>\n",
       "      <th>3</th>\n",
       "      <td>No</td>\n",
       "      <td>24.21</td>\n",
       "      <td>No</td>\n",
       "      <td>No</td>\n",
       "      <td>No</td>\n",
       "      <td>0.0</td>\n",
       "      <td>0.0</td>\n",
       "      <td>No</td>\n",
       "      <td>Female</td>\n",
       "      <td>75-79</td>\n",
       "      <td>White</td>\n",
       "      <td>No</td>\n",
       "      <td>No</td>\n",
       "      <td>Good</td>\n",
       "      <td>6.0</td>\n",
       "      <td>No</td>\n",
       "      <td>No</td>\n",
       "      <td>Yes</td>\n",
       "    </tr>\n",
       "    <tr>\n",
       "      <th>4</th>\n",
       "      <td>No</td>\n",
       "      <td>23.71</td>\n",
       "      <td>No</td>\n",
       "      <td>No</td>\n",
       "      <td>No</td>\n",
       "      <td>28.0</td>\n",
       "      <td>0.0</td>\n",
       "      <td>Yes</td>\n",
       "      <td>Female</td>\n",
       "      <td>40-44</td>\n",
       "      <td>White</td>\n",
       "      <td>No</td>\n",
       "      <td>Yes</td>\n",
       "      <td>Very good</td>\n",
       "      <td>8.0</td>\n",
       "      <td>No</td>\n",
       "      <td>No</td>\n",
       "      <td>No</td>\n",
       "    </tr>\n",
       "  </tbody>\n",
       "</table>\n",
       "</div>"
      ],
      "text/plain": [
       "  HeartDisease    BMI Smoking AlcoholDrinking Stroke  PhysicalHealth  \\\n",
       "0           No  16.60     Yes              No     No             3.0   \n",
       "1           No  20.34      No              No    Yes             0.0   \n",
       "2           No  26.58     Yes              No     No            20.0   \n",
       "3           No  24.21      No              No     No             0.0   \n",
       "4           No  23.71      No              No     No            28.0   \n",
       "\n",
       "   MentalHealth DiffWalking     Sex  AgeCategory   Race Diabetic  \\\n",
       "0          30.0          No  Female        55-59  White      Yes   \n",
       "1           0.0          No  Female  80 or older  White       No   \n",
       "2          30.0          No    Male        65-69  White      Yes   \n",
       "3           0.0          No  Female        75-79  White       No   \n",
       "4           0.0         Yes  Female        40-44  White       No   \n",
       "\n",
       "  PhysicalActivity  GenHealth  SleepTime Asthma KidneyDisease SkinCancer  \n",
       "0              Yes  Very good        5.0    Yes            No        Yes  \n",
       "1              Yes  Very good        7.0     No            No         No  \n",
       "2              Yes       Fair        8.0    Yes            No         No  \n",
       "3               No       Good        6.0     No            No        Yes  \n",
       "4              Yes  Very good        8.0     No            No         No  "
      ]
     },
     "execution_count": 2,
     "metadata": {},
     "output_type": "execute_result"
    }
   ],
   "source": [
    "data = pd.read_csv(\"heart_2020_cleaned.csv\")\n",
    "data.head()"
   ]
  },
  {
   "cell_type": "code",
   "execution_count": 3,
   "id": "7da9af9a",
   "metadata": {},
   "outputs": [
    {
     "data": {
      "text/plain": [
       "(319795, 18)"
      ]
     },
     "execution_count": 3,
     "metadata": {},
     "output_type": "execute_result"
    }
   ],
   "source": [
    "data.shape"
   ]
  },
  {
   "cell_type": "code",
   "execution_count": 4,
   "id": "79eb3d32",
   "metadata": {},
   "outputs": [
    {
     "data": {
      "text/html": [
       "<div>\n",
       "<style scoped>\n",
       "    .dataframe tbody tr th:only-of-type {\n",
       "        vertical-align: middle;\n",
       "    }\n",
       "\n",
       "    .dataframe tbody tr th {\n",
       "        vertical-align: top;\n",
       "    }\n",
       "\n",
       "    .dataframe thead th {\n",
       "        text-align: right;\n",
       "    }\n",
       "</style>\n",
       "<table border=\"1\" class=\"dataframe\">\n",
       "  <thead>\n",
       "    <tr style=\"text-align: right;\">\n",
       "      <th></th>\n",
       "      <th>HeartDisease</th>\n",
       "      <th>BMI</th>\n",
       "      <th>Smoking</th>\n",
       "      <th>AlcoholDrinking</th>\n",
       "      <th>Stroke</th>\n",
       "      <th>PhysicalHealth</th>\n",
       "      <th>MentalHealth</th>\n",
       "      <th>DiffWalking</th>\n",
       "      <th>Sex</th>\n",
       "      <th>AgeCategory</th>\n",
       "      <th>Race</th>\n",
       "      <th>Diabetic</th>\n",
       "      <th>PhysicalActivity</th>\n",
       "      <th>GenHealth</th>\n",
       "      <th>SleepTime</th>\n",
       "      <th>Asthma</th>\n",
       "      <th>KidneyDisease</th>\n",
       "      <th>SkinCancer</th>\n",
       "    </tr>\n",
       "  </thead>\n",
       "  <tbody>\n",
       "    <tr>\n",
       "      <th>0</th>\n",
       "      <td>0</td>\n",
       "      <td>16.60</td>\n",
       "      <td>1</td>\n",
       "      <td>0</td>\n",
       "      <td>0</td>\n",
       "      <td>3.0</td>\n",
       "      <td>30.0</td>\n",
       "      <td>0</td>\n",
       "      <td>Female</td>\n",
       "      <td>55-59</td>\n",
       "      <td>White</td>\n",
       "      <td>1</td>\n",
       "      <td>1</td>\n",
       "      <td>Very good</td>\n",
       "      <td>5.0</td>\n",
       "      <td>1</td>\n",
       "      <td>0</td>\n",
       "      <td>1</td>\n",
       "    </tr>\n",
       "    <tr>\n",
       "      <th>1</th>\n",
       "      <td>0</td>\n",
       "      <td>20.34</td>\n",
       "      <td>0</td>\n",
       "      <td>0</td>\n",
       "      <td>1</td>\n",
       "      <td>0.0</td>\n",
       "      <td>0.0</td>\n",
       "      <td>0</td>\n",
       "      <td>Female</td>\n",
       "      <td>80 or older</td>\n",
       "      <td>White</td>\n",
       "      <td>0</td>\n",
       "      <td>1</td>\n",
       "      <td>Very good</td>\n",
       "      <td>7.0</td>\n",
       "      <td>0</td>\n",
       "      <td>0</td>\n",
       "      <td>0</td>\n",
       "    </tr>\n",
       "    <tr>\n",
       "      <th>2</th>\n",
       "      <td>0</td>\n",
       "      <td>26.58</td>\n",
       "      <td>1</td>\n",
       "      <td>0</td>\n",
       "      <td>0</td>\n",
       "      <td>20.0</td>\n",
       "      <td>30.0</td>\n",
       "      <td>0</td>\n",
       "      <td>Male</td>\n",
       "      <td>65-69</td>\n",
       "      <td>White</td>\n",
       "      <td>1</td>\n",
       "      <td>1</td>\n",
       "      <td>Fair</td>\n",
       "      <td>8.0</td>\n",
       "      <td>1</td>\n",
       "      <td>0</td>\n",
       "      <td>0</td>\n",
       "    </tr>\n",
       "    <tr>\n",
       "      <th>3</th>\n",
       "      <td>0</td>\n",
       "      <td>24.21</td>\n",
       "      <td>0</td>\n",
       "      <td>0</td>\n",
       "      <td>0</td>\n",
       "      <td>0.0</td>\n",
       "      <td>0.0</td>\n",
       "      <td>0</td>\n",
       "      <td>Female</td>\n",
       "      <td>75-79</td>\n",
       "      <td>White</td>\n",
       "      <td>0</td>\n",
       "      <td>0</td>\n",
       "      <td>Good</td>\n",
       "      <td>6.0</td>\n",
       "      <td>0</td>\n",
       "      <td>0</td>\n",
       "      <td>1</td>\n",
       "    </tr>\n",
       "    <tr>\n",
       "      <th>4</th>\n",
       "      <td>0</td>\n",
       "      <td>23.71</td>\n",
       "      <td>0</td>\n",
       "      <td>0</td>\n",
       "      <td>0</td>\n",
       "      <td>28.0</td>\n",
       "      <td>0.0</td>\n",
       "      <td>1</td>\n",
       "      <td>Female</td>\n",
       "      <td>40-44</td>\n",
       "      <td>White</td>\n",
       "      <td>0</td>\n",
       "      <td>1</td>\n",
       "      <td>Very good</td>\n",
       "      <td>8.0</td>\n",
       "      <td>0</td>\n",
       "      <td>0</td>\n",
       "      <td>0</td>\n",
       "    </tr>\n",
       "  </tbody>\n",
       "</table>\n",
       "</div>"
      ],
      "text/plain": [
       "   HeartDisease    BMI  Smoking  AlcoholDrinking  Stroke  PhysicalHealth  \\\n",
       "0             0  16.60        1                0       0             3.0   \n",
       "1             0  20.34        0                0       1             0.0   \n",
       "2             0  26.58        1                0       0            20.0   \n",
       "3             0  24.21        0                0       0             0.0   \n",
       "4             0  23.71        0                0       0            28.0   \n",
       "\n",
       "   MentalHealth  DiffWalking     Sex  AgeCategory   Race Diabetic  \\\n",
       "0          30.0            0  Female        55-59  White        1   \n",
       "1           0.0            0  Female  80 or older  White        0   \n",
       "2          30.0            0    Male        65-69  White        1   \n",
       "3           0.0            0  Female        75-79  White        0   \n",
       "4           0.0            1  Female        40-44  White        0   \n",
       "\n",
       "   PhysicalActivity  GenHealth  SleepTime  Asthma  KidneyDisease  SkinCancer  \n",
       "0                 1  Very good        5.0       1              0           1  \n",
       "1                 1  Very good        7.0       0              0           0  \n",
       "2                 1       Fair        8.0       1              0           0  \n",
       "3                 0       Good        6.0       0              0           1  \n",
       "4                 1  Very good        8.0       0              0           0  "
      ]
     },
     "execution_count": 4,
     "metadata": {},
     "output_type": "execute_result"
    }
   ],
   "source": [
    "data.replace(\"Yes\", 1, inplace = True)\n",
    "data.replace(\"No\", 0, inplace = True)\n",
    "data.head()"
   ]
  },
  {
   "cell_type": "code",
   "execution_count": 5,
   "id": "707db775",
   "metadata": {},
   "outputs": [
    {
     "data": {
      "text/plain": [
       "array([1, 0, 'No, borderline diabetes', 'Yes (during pregnancy)'],\n",
       "      dtype=object)"
      ]
     },
     "execution_count": 5,
     "metadata": {},
     "output_type": "execute_result"
    }
   ],
   "source": [
    "data['Diabetic'].unique()"
   ]
  },
  {
   "cell_type": "code",
   "execution_count": 6,
   "id": "8560dadc",
   "metadata": {},
   "outputs": [],
   "source": [
    "data.replace(\"Yes (during pregnancy)\", 1, inplace = True)\n",
    "data.replace(\"No, borderline diabetes\", 0, inplace = True)"
   ]
  },
  {
   "cell_type": "code",
   "execution_count": 7,
   "id": "ce80e46a",
   "metadata": {},
   "outputs": [
    {
     "data": {
      "text/plain": [
       "array(['Female', 'Male'], dtype=object)"
      ]
     },
     "execution_count": 7,
     "metadata": {},
     "output_type": "execute_result"
    }
   ],
   "source": [
    "data[\"Sex\"].unique()"
   ]
  },
  {
   "cell_type": "code",
   "execution_count": 8,
   "id": "85412de0",
   "metadata": {},
   "outputs": [],
   "source": [
    "data.replace(\"Female\", 1, inplace = True)\n",
    "data.replace(\"Male\", 0, inplace = True)"
   ]
  },
  {
   "cell_type": "code",
   "execution_count": 9,
   "id": "b427f26b",
   "metadata": {},
   "outputs": [
    {
     "data": {
      "text/plain": [
       "array(['55-59', '80 or older', '65-69', '75-79', '40-44', '70-74',\n",
       "       '60-64', '50-54', '45-49', '18-24', '35-39', '30-34', '25-29'],\n",
       "      dtype=object)"
      ]
     },
     "execution_count": 9,
     "metadata": {},
     "output_type": "execute_result"
    }
   ],
   "source": [
    "data[\"AgeCategory\"].unique()"
   ]
  },
  {
   "cell_type": "code",
   "execution_count": 10,
   "id": "b021c932",
   "metadata": {},
   "outputs": [],
   "source": [
    "data.replace(\"18-24\", 0, inplace = True)\n",
    "data.replace(\"25-29\", 1, inplace = True)\n",
    "data.replace(\"30-34\", 2, inplace = True)\n",
    "data.replace(\"35-39\", 3, inplace = True)\n",
    "data.replace(\"40-44\", 4, inplace = True)\n",
    "data.replace(\"45-49\", 5, inplace = True)\n",
    "data.replace(\"50-54\", 6, inplace = True)\n",
    "data.replace(\"55-59\", 7, inplace = True)\n",
    "data.replace(\"60-64\", 8, inplace = True)\n",
    "data.replace(\"65-69\", 9, inplace = True)\n",
    "data.replace(\"70-74\", 10, inplace = True)\n",
    "data.replace(\"75-79\", 11, inplace = True)\n",
    "data.replace(\"80 or older\", 12, inplace = True)"
   ]
  },
  {
   "cell_type": "code",
   "execution_count": 11,
   "id": "281e42e7",
   "metadata": {},
   "outputs": [
    {
     "data": {
      "text/plain": [
       "array(['White', 'Black', 'Asian', 'American Indian/Alaskan Native',\n",
       "       'Other', 'Hispanic'], dtype=object)"
      ]
     },
     "execution_count": 11,
     "metadata": {},
     "output_type": "execute_result"
    }
   ],
   "source": [
    "data[\"Race\"].unique()"
   ]
  },
  {
   "cell_type": "code",
   "execution_count": 12,
   "id": "957b3524",
   "metadata": {},
   "outputs": [],
   "source": [
    "data.replace(\"White\", 0, inplace = True)\n",
    "data.replace(\"Black\", 1, inplace = True)\n",
    "data.replace(\"Asian\", 2, inplace = True)\n",
    "data.replace(\"American Indian/Alaskan Native\", 3, inplace = True)\n",
    "data.replace(\"Hispanic\", 4, inplace = True)\n",
    "data.replace(\"Other\", 5, inplace = True)"
   ]
  },
  {
   "cell_type": "code",
   "execution_count": 13,
   "id": "698a2aaf",
   "metadata": {},
   "outputs": [
    {
     "data": {
      "text/plain": [
       "array(['Very good', 'Fair', 'Good', 'Poor', 'Excellent'], dtype=object)"
      ]
     },
     "execution_count": 13,
     "metadata": {},
     "output_type": "execute_result"
    }
   ],
   "source": [
    "data[\"GenHealth\"].unique()"
   ]
  },
  {
   "cell_type": "code",
   "execution_count": 14,
   "id": "944ad37f",
   "metadata": {},
   "outputs": [],
   "source": [
    "data.replace(\"Poor\", 0, inplace = True)\n",
    "data.replace(\"Fair\", 1, inplace = True)\n",
    "data.replace(\"Good\", 2, inplace = True)\n",
    "data.replace(\"Very good\", 3, inplace = True)\n",
    "data.replace(\"Excellent\", 4, inplace = True)"
   ]
  },
  {
   "cell_type": "code",
   "execution_count": 15,
   "id": "303a2909",
   "metadata": {},
   "outputs": [
    {
     "data": {
      "text/plain": [
       "(319795, 18)"
      ]
     },
     "execution_count": 15,
     "metadata": {},
     "output_type": "execute_result"
    }
   ],
   "source": [
    "data.shape"
   ]
  },
  {
   "cell_type": "code",
   "execution_count": 16,
   "id": "6bf9f009",
   "metadata": {},
   "outputs": [
    {
     "data": {
      "text/plain": [
       "292422"
      ]
     },
     "execution_count": 16,
     "metadata": {},
     "output_type": "execute_result"
    }
   ],
   "source": [
    "data['HeartDisease'].value_counts()[0] "
   ]
  },
  {
   "cell_type": "code",
   "execution_count": 17,
   "id": "701b81c5",
   "metadata": {},
   "outputs": [
    {
     "data": {
      "text/plain": [
       "27373"
      ]
     },
     "execution_count": 17,
     "metadata": {},
     "output_type": "execute_result"
    }
   ],
   "source": [
    "data['HeartDisease'].value_counts()[1]"
   ]
  },
  {
   "cell_type": "code",
   "execution_count": 18,
   "id": "3c1a6d6a",
   "metadata": {},
   "outputs": [
    {
     "data": {
      "text/plain": [
       "0.9144045404086993"
      ]
     },
     "execution_count": 18,
     "metadata": {},
     "output_type": "execute_result"
    }
   ],
   "source": [
    "data['HeartDisease'].value_counts()[0] / data.shape[0]"
   ]
  },
  {
   "cell_type": "code",
   "execution_count": 19,
   "id": "bdbd2411",
   "metadata": {},
   "outputs": [
    {
     "data": {
      "text/plain": [
       "0.08559545959130067"
      ]
     },
     "execution_count": 19,
     "metadata": {},
     "output_type": "execute_result"
    }
   ],
   "source": [
    "data['HeartDisease'].value_counts()[1] / data.shape[0]"
   ]
  },
  {
   "cell_type": "code",
   "execution_count": 20,
   "id": "912ca924",
   "metadata": {},
   "outputs": [
    {
     "data": {
      "text/plain": [
       "<AxesSubplot:xlabel='HeartDisease', ylabel='count'>"
      ]
     },
     "execution_count": 20,
     "metadata": {},
     "output_type": "execute_result"
    },
    {
     "data": {
      "image/png": "[encoded data removed]",
      "text/plain": [
       "<Figure size 432x288 with 1 Axes>"
      ]
     },
     "metadata": {
      "needs_background": "light"
     },
     "output_type": "display_data"
    }
   ],
   "source": [
    "sns.countplot(x='HeartDisease',data=data)"
   ]
  },
  {
   "cell_type": "markdown",
   "id": "3b8df74f",
   "metadata": {},
   "source": [
    "# SMOTE"
   ]
  },
  {
   "cell_type": "code",
   "execution_count": 21,
   "id": "997dcd04",
   "metadata": {},
   "outputs": [],
   "source": [
    "X = data[['BMI', 'Smoking', 'AlcoholDrinking', \"Stroke\", 'PhysicalHealth', \"MentalHealth\", \"DiffWalking\", \"Sex\", \"AgeCategory\", \"Race\", \"Diabetic\", \"PhysicalActivity\", \"GenHealth\", \"SleepTime\", \"Asthma\", \"KidneyDisease\", \"SkinCancer\"]]\n",
    "y = data.HeartDisease"
   ]
  },
  {
   "cell_type": "code",
   "execution_count": 22,
   "id": "12a12fe0",
   "metadata": {},
   "outputs": [],
   "source": [
    "from sklearn.model_selection import train_test_split\n",
    "X_train, X_test, y_train, y_test = train_test_split(X, y, \n",
    "                                                    test_size=0.3, \n",
    "                                                    random_state=0, \n",
    "                                                    shuffle=True, \n",
    "                                                    stratify=y)"
   ]
  },
  {
   "cell_type": "code",
   "execution_count": 23,
   "id": "e6cef28d",
   "metadata": {},
   "outputs": [],
   "source": [
    "test = pd.concat([X_test, y_test], axis=1)"
   ]
  },
  {
   "cell_type": "code",
   "execution_count": 24,
   "id": "cbdfde8e",
   "metadata": {},
   "outputs": [],
   "source": [
    "from imblearn.over_sampling import SMOTE\n",
    "from imblearn.over_sampling import BorderlineSMOTE\n",
    "from imblearn.under_sampling import RandomUnderSampler\n",
    "oversampled = SMOTE(random_state=0)\n",
    "X_train_smote, y_train_smote = oversampled.fit_resample(X_train, y_train)"
   ]
  },
  {
   "cell_type": "code",
   "execution_count": 25,
   "id": "9a9e7548",
   "metadata": {},
   "outputs": [],
   "source": [
    "train_smote = pd.concat([X_train_smote, y_train_smote], axis=1)"
   ]
  },
  {
   "cell_type": "code",
   "execution_count": null,
   "id": "484098ab",
   "metadata": {},
   "outputs": [],
   "source": []
  },
  {
   "cell_type": "code",
   "execution_count": null,
   "id": "18f9c27a",
   "metadata": {},
   "outputs": [],
   "source": []
  },
  {
   "cell_type": "code",
   "execution_count": null,
   "id": "2dcc9e42",
   "metadata": {},
   "outputs": [],
   "source": []
  },
  {
   "cell_type": "code",
   "execution_count": 26,
   "id": "803406ca",
   "metadata": {},
   "outputs": [
    {
     "data": {
      "text/plain": [
       "<AxesSubplot:>"
      ]
     },
     "execution_count": 26,
     "metadata": {},
     "output_type": "execute_result"
    },
    {
     "data": {
      "image/png": "[encoded data removed]",
      "text/plain": [
       "<Figure size 432x288 with 2 Axes>"
      ]
     },
     "metadata": {
      "needs_background": "light"
     },
     "output_type": "display_data"
    }
   ],
   "source": [
    "sns.heatmap(train_smote.corr(), cmap='tab10')"
   ]
  },
  {
   "cell_type": "code",
   "execution_count": 27,
   "id": "15178546",
   "metadata": {},
   "outputs": [
    {
     "data": {
      "text/plain": [
       "BMI                 0.092933\n",
       "Smoking             0.075172\n",
       "AlcoholDrinking    -0.160045\n",
       "Stroke              0.079751\n",
       "PhysicalHealth      0.243135\n",
       "MentalHealth        0.045628\n",
       "DiffWalking         0.178598\n",
       "Sex                -0.265262\n",
       "AgeCategory         0.420519\n",
       "Race               -0.109254\n",
       "Diabetic            0.120950\n",
       "PhysicalActivity   -0.263233\n",
       "GenHealth          -0.467626\n",
       "SleepTime           0.009837\n",
       "Asthma             -0.097669\n",
       "KidneyDisease       0.040832\n",
       "SkinCancer          0.021672\n",
       "HeartDisease        1.000000\n",
       "Name: HeartDisease, dtype: float64"
      ]
     },
     "execution_count": 27,
     "metadata": {},
     "output_type": "execute_result"
    }
   ],
   "source": [
    "train_smote.corr().loc[\"HeartDisease\", :]"
   ]
  },
  {
   "cell_type": "code",
   "execution_count": 28,
   "id": "c3ad8a54",
   "metadata": {},
   "outputs": [
    {
     "data": {
      "text/plain": [
       "<AxesSubplot:xlabel='AgeCategory', ylabel='count'>"
      ]
     },
     "execution_count": 28,
     "metadata": {},
     "output_type": "execute_result"
    },
    {
     "data": {
      "image/png": "[encoded data removed]",
      "text/plain": [
       "<Figure size 432x288 with 1 Axes>"
      ]
     },
     "metadata": {
      "needs_background": "light"
     },
     "output_type": "display_data"
    }
   ],
   "source": [
    "sns.countplot(x='AgeCategory',data=train_smote)"
   ]
  },
  {
   "cell_type": "markdown",
   "id": "228216d4",
   "metadata": {},
   "source": [
    "# Forward Stepwise Selection"
   ]
  },
  {
   "cell_type": "code",
   "execution_count": 29,
   "id": "dc663d6f",
   "metadata": {},
   "outputs": [],
   "source": [
    "import pandas as pd\n",
    "import numpy as np\n",
    "import statsmodels.formula.api as sm\n",
    "import seaborn as sns\n",
    "import matplotlib.pyplot as plt\n",
    "import itertools\n",
    "import time"
   ]
  },
  {
   "cell_type": "code",
   "execution_count": 30,
   "id": "38bc7a54",
   "metadata": {},
   "outputs": [
    {
     "name": "stdout",
     "output_type": "stream",
     "text": [
      "<class 'pandas.core.frame.DataFrame'>\n",
      "RangeIndex: 409390 entries, 0 to 409389\n",
      "Data columns (total 18 columns):\n",
      " #   Column            Non-Null Count   Dtype  \n",
      "---  ------            --------------   -----  \n",
      " 0   BMI               409390 non-null  float64\n",
      " 1   Smoking           409390 non-null  int64  \n",
      " 2   AlcoholDrinking   409390 non-null  int64  \n",
      " 3   Stroke            409390 non-null  int64  \n",
      " 4   PhysicalHealth    409390 non-null  float64\n",
      " 5   MentalHealth      409390 non-null  float64\n",
      " 6   DiffWalking       409390 non-null  int64  \n",
      " 7   Sex               409390 non-null  int64  \n",
      " 8   AgeCategory       409390 non-null  int64  \n",
      " 9   Race              409390 non-null  int64  \n",
      " 10  Diabetic          409390 non-null  int64  \n",
      " 11  PhysicalActivity  409390 non-null  int64  \n",
      " 12  GenHealth         409390 non-null  int64  \n",
      " 13  SleepTime         409390 non-null  float64\n",
      " 14  Asthma            409390 non-null  int64  \n",
      " 15  KidneyDisease     409390 non-null  int64  \n",
      " 16  SkinCancer        409390 non-null  int64  \n",
      " 17  HeartDisease      409390 non-null  int64  \n",
      "dtypes: float64(4), int64(14)\n",
      "memory usage: 56.2 MB\n"
     ]
    }
   ],
   "source": [
    "train_smote.info()"
   ]
  },
  {
   "cell_type": "code",
   "execution_count": 38,
   "id": "17bfc225",
   "metadata": {},
   "outputs": [],
   "source": [
    "X = train_smote[['BMI', 'Smoking', 'AlcoholDrinking', \"Stroke\", 'PhysicalHealth', \"MentalHealth\", \"DiffWalking\", \"Sex\", \"AgeCategory\", \"Race\", \"Diabetic\", \"PhysicalActivity\", \"GenHealth\", \"SleepTime\", \"Asthma\", \"KidneyDisease\", \"SkinCancer\"]]\n",
    "\n",
    "\n",
    "\n"
   ]
  },
  {
   "cell_type": "code",
   "execution_count": 39,
   "id": "1a1a9aba",
   "metadata": {},
   "outputs": [],
   "source": [
    "#Function to develop a model based on all predictors in predictor_subset\n",
    "def processSubset(predictor_subset):\n",
    "    # Fit model on feature_set and calculate R-squared\n",
    "    model = sm.logit('HeartDisease~' + '+'.join(predictor_subset),data = train_smote).fit()\n",
    "    llr = model.llr\n",
    "    return {\"model\":model, \"llr\":llr}\n",
    "#Function to select the best model amongst all models with 'k' predictors\n",
    "def getBest_model(k):\n",
    "    tic = time.time()\n",
    "    results = []\n",
    "    for combo in itertools.combinations(X.columns, k):\n",
    "        results.append(processSubset((list(combo))))\n",
    "\n",
    "    # Wrap everything up in a dataframe\n",
    "    models = pd.DataFrame(results)\n",
    "\n",
    "    # Choose the model with the highest RSS\n",
    "    best_model = models.loc[models['llr'].argmax()]\n",
    "    \n",
    "    toc = time.time()\n",
    "    print(\"Processed\", models.shape[0], \"models on\", k, \"predictors in\", (toc-tic), \"seconds.\")\n",
    "    return best_model"
   ]
  },
  {
   "cell_type": "code",
   "execution_count": 40,
   "id": "f4e01f42",
   "metadata": {},
   "outputs": [],
   "source": [
    "#Function to find the best predictor out of p-k predictors and add it to the model containing the k predictors\n",
    "def forward(predictors):\n",
    "\n",
    "    # Pull out predictors we still need to process\n",
    "    remaining_predictors = [p for p in X.columns if p not in predictors]\n",
    "    \n",
    "    tic = time.time()\n",
    "    \n",
    "    results = []\n",
    "    \n",
    "    for p in remaining_predictors:\n",
    "        results.append(processSubset(predictors+[p]))\n",
    "    \n",
    "    # Wrap everything up in a nice dataframe\n",
    "    models = pd.DataFrame(results)\n",
    "    \n",
    "    # Choose the model with the highest RSS\n",
    "    best_model = models.loc[models['llr'].argmax()]\n",
    "    \n",
    "    toc = time.time()\n",
    "    print(\"Processed \", models.shape[0], \"models on\", len(predictors)+1, \"predictors in\", (toc-tic), \"seconds.\")\n",
    "    \n",
    "    # Return the best model, along with some other useful information about the model\n",
    "    return best_model"
   ]
  },
  {
   "cell_type": "code",
   "execution_count": 41,
   "id": "96143fff",
   "metadata": {},
   "outputs": [],
   "source": [
    "def forward_selection():\n",
    "    models_best = pd.DataFrame(columns=[\"llr\", \"model\"])\n",
    "\n",
    "    tic = time.time()\n",
    "    predictors = []\n",
    "\n",
    "    for i in range(1,len(X.columns)+1):    \n",
    "        models_best.loc[i] = forward(predictors)\n",
    "        predictors = list(models_best.loc[i][\"model\"].params.index[1:])\n",
    "\n",
    "    toc = time.time()\n",
    "    print(\"Total elapsed time:\", (toc-tic), \"seconds.\")\n",
    "    return models_best"
   ]
  },
  {
   "cell_type": "code",
   "execution_count": 42,
   "id": "9500f103",
   "metadata": {},
   "outputs": [
    {
     "name": "stdout",
     "output_type": "stream",
     "text": [
      "Optimization terminated successfully.\n",
      "         Current function value: 0.688789\n",
      "         Iterations 4\n",
      "Optimization terminated successfully.\n",
      "         Current function value: 0.690319\n",
      "         Iterations 3\n",
      "Optimization terminated successfully.\n",
      "         Current function value: 0.678547\n",
      "         Iterations 6\n",
      "Optimization terminated successfully.\n",
      "         Current function value: 0.689890\n",
      "         Iterations 5\n",
      "Optimization terminated successfully.\n",
      "         Current function value: 0.662103\n",
      "         Iterations 5\n",
      "Optimization terminated successfully.\n",
      "         Current function value: 0.692104\n",
      "         Iterations 3\n",
      "Optimization terminated successfully.\n",
      "         Current function value: 0.676878\n",
      "         Iterations 5\n",
      "Optimization terminated successfully.\n",
      "         Current function value: 0.657472\n",
      "         Iterations 4\n",
      "Optimization terminated successfully.\n",
      "         Current function value: 0.596780\n",
      "         Iterations 5\n",
      "Optimization terminated successfully.\n",
      "         Current function value: 0.687098\n",
      "         Iterations 4\n",
      "Optimization terminated successfully.\n",
      "         Current function value: 0.685752\n",
      "         Iterations 4\n",
      "Optimization terminated successfully.\n",
      "         Current function value: 0.657880\n",
      "         Iterations 5\n",
      "Optimization terminated successfully.\n",
      "         Current function value: 0.572950\n",
      "         Iterations 6\n",
      "Optimization terminated successfully.\n",
      "         Current function value: 0.693099\n",
      "         Iterations 3\n",
      "Optimization terminated successfully.\n",
      "         Current function value: 0.688314\n",
      "         Iterations 4\n",
      "Optimization terminated successfully.\n",
      "         Current function value: 0.692307\n",
      "         Iterations 4\n",
      "Optimization terminated successfully.\n",
      "         Current function value: 0.692912\n",
      "         Iterations 3\n",
      "Processed  17 models on 1 predictors in 7.396205186843872 seconds.\n",
      "Optimization terminated successfully.\n",
      "         Current function value: 0.572836\n",
      "         Iterations 6\n",
      "Optimization terminated successfully.\n",
      "         Current function value: 0.572871\n",
      "         Iterations 6\n",
      "Optimization terminated successfully.\n",
      "         Current function value: 0.562739\n",
      "         Iterations 6\n",
      "Optimization terminated successfully.\n",
      "         Current function value: 0.572834\n",
      "         Iterations 6\n",
      "Optimization terminated successfully.\n",
      "         Current function value: 0.572388\n",
      "         Iterations 5\n",
      "Optimization terminated successfully.\n",
      "         Current function value: 0.567904\n",
      "         Iterations 6\n",
      "Optimization terminated successfully.\n",
      "         Current function value: 0.572519\n",
      "         Iterations 6\n",
      "Optimization terminated successfully.\n",
      "         Current function value: 0.539352\n",
      "         Iterations 6\n",
      "Optimization terminated successfully.\n",
      "         Current function value: 0.505992\n",
      "         Iterations 6\n",
      "Optimization terminated successfully.\n",
      "         Current function value: 0.564383\n",
      "         Iterations 6\n",
      "Optimization terminated successfully.\n",
      "         Current function value: 0.572877\n",
      "         Iterations 6\n",
      "Optimization terminated successfully.\n",
      "         Current function value: 0.568870\n",
      "         Iterations 6\n",
      "Optimization terminated successfully.\n",
      "         Current function value: 0.571714\n",
      "         Iterations 5\n",
      "Optimization terminated successfully.\n",
      "         Current function value: 0.562160\n",
      "         Iterations 6\n",
      "Optimization terminated successfully.\n",
      "         Current function value: 0.572639\n",
      "         Iterations 6\n",
      "Optimization terminated successfully.\n",
      "         Current function value: 0.572538\n",
      "         Iterations 6\n",
      "Processed  16 models on 2 predictors in 23.127726078033447 seconds.\n",
      "Optimization terminated successfully.\n",
      "         Current function value: 0.505599\n",
      "         Iterations 6\n",
      "Optimization terminated successfully.\n",
      "         Current function value: 0.505963\n",
      "         Iterations 6\n",
      "Optimization terminated successfully.\n",
      "         Current function value: 0.499332\n",
      "         Iterations 7\n",
      "Optimization terminated successfully.\n",
      "         Current function value: 0.505918\n",
      "         Iterations 6\n",
      "Optimization terminated successfully.\n",
      "         Current function value: 0.505664\n",
      "         Iterations 6\n",
      "Optimization terminated successfully.\n",
      "         Current function value: 0.505889\n",
      "         Iterations 6\n",
      "Optimization terminated successfully.\n",
      "         Current function value: 0.502585\n",
      "         Iterations 6\n",
      "Optimization terminated successfully.\n",
      "         Current function value: 0.470140\n",
      "         Iterations 6\n",
      "Optimization terminated successfully.\n",
      "         Current function value: 0.504511\n",
      "         Iterations 6\n",
      "Optimization terminated successfully.\n",
      "         Current function value: 0.505605\n",
      "         Iterations 6\n",
      "Optimization terminated successfully.\n",
      "         Current function value: 0.503718\n",
      "         Iterations 6\n",
      "Optimization terminated successfully.\n",
      "         Current function value: 0.505924\n",
      "         Iterations 6\n",
      "Optimization terminated successfully.\n",
      "         Current function value: 0.500039\n",
      "         Iterations 6\n",
      "Optimization terminated successfully.\n",
      "         Current function value: 0.504708\n",
      "         Iterations 6\n",
      "Optimization terminated successfully.\n",
      "         Current function value: 0.504312\n",
      "         Iterations 6\n",
      "Processed  15 models on 3 predictors in 12.585736989974976 seconds.\n",
      "Optimization terminated successfully.\n",
      "         Current function value: 0.469977\n",
      "         Iterations 6\n",
      "Optimization terminated successfully.\n",
      "         Current function value: 0.469512\n",
      "         Iterations 6\n",
      "Optimization terminated successfully.\n",
      "         Current function value: 0.463826\n",
      "         Iterations 7\n",
      "Optimization terminated successfully.\n",
      "         Current function value: 0.470113\n",
      "         Iterations 6\n",
      "Optimization terminated successfully.\n",
      "         Current function value: 0.470009\n",
      "         Iterations 6\n",
      "Optimization terminated successfully.\n",
      "         Current function value: 0.470016\n",
      "         Iterations 6\n",
      "Optimization terminated successfully.\n",
      "         Current function value: 0.468599\n",
      "         Iterations 6\n",
      "Optimization terminated successfully.\n",
      "         Current function value: 0.468965\n",
      "         Iterations 6\n",
      "Optimization terminated successfully.\n",
      "         Current function value: 0.469641\n",
      "         Iterations 6\n",
      "Optimization terminated successfully.\n",
      "         Current function value: 0.466887\n",
      "         Iterations 6\n",
      "Optimization terminated successfully.\n",
      "         Current function value: 0.470031\n",
      "         Iterations 6\n",
      "Optimization terminated successfully.\n",
      "         Current function value: 0.466913\n",
      "         Iterations 6\n",
      "Optimization terminated successfully.\n",
      "         Current function value: 0.469118\n",
      "         Iterations 6\n",
      "Optimization terminated successfully.\n",
      "         Current function value: 0.467752\n",
      "         Iterations 6\n",
      "Processed  14 models on 4 predictors in 11.339775085449219 seconds.\n",
      "Optimization terminated successfully.\n",
      "         Current function value: 0.463726\n",
      "         Iterations 7\n",
      "Optimization terminated successfully.\n",
      "         Current function value: 0.463499\n",
      "         Iterations 7\n",
      "Optimization terminated successfully.\n",
      "         Current function value: 0.463803\n",
      "         Iterations 7\n",
      "Optimization terminated successfully.\n",
      "         Current function value: 0.463690\n",
      "         Iterations 7\n",
      "Optimization terminated successfully.\n",
      "         Current function value: 0.463651\n",
      "         Iterations 7\n",
      "Optimization terminated successfully.\n",
      "         Current function value: 0.462265\n",
      "         Iterations 7\n",
      "Optimization terminated successfully.\n",
      "         Current function value: 0.462575\n",
      "         Iterations 7\n",
      "Optimization terminated successfully.\n",
      "         Current function value: 0.463214\n",
      "         Iterations 7\n",
      "Optimization terminated successfully.\n",
      "         Current function value: 0.460637\n",
      "         Iterations 7\n",
      "Optimization terminated successfully.\n",
      "         Current function value: 0.463724\n",
      "         Iterations 7\n",
      "Optimization terminated successfully.\n",
      "         Current function value: 0.460660\n",
      "         Iterations 7\n",
      "Optimization terminated successfully.\n",
      "         Current function value: 0.462767\n",
      "         Iterations 7\n",
      "Optimization terminated successfully.\n",
      "         Current function value: 0.461555\n",
      "         Iterations 7\n",
      "Processed  13 models on 5 predictors in 13.24259614944458 seconds.\n",
      "Optimization terminated successfully.\n",
      "         Current function value: 0.460630\n",
      "         Iterations 7\n",
      "Optimization terminated successfully.\n",
      "         Current function value: 0.460243\n",
      "         Iterations 7\n",
      "Optimization terminated successfully.\n",
      "         Current function value: 0.460605\n",
      "         Iterations 7\n",
      "Optimization terminated successfully.\n",
      "         Current function value: 0.460279\n",
      "         Iterations 7\n",
      "Optimization terminated successfully.\n",
      "         Current function value: 0.460551\n",
      "         Iterations 7\n",
      "Optimization terminated successfully.\n",
      "         Current function value: 0.458072\n",
      "         Iterations 7\n",
      "Optimization terminated successfully.\n",
      "         Current function value: 0.459210\n",
      "         Iterations 7\n",
      "Optimization terminated successfully.\n",
      "         Current function value: 0.459862\n",
      "         Iterations 7\n",
      "Optimization terminated successfully.\n",
      "         Current function value: 0.460540\n",
      "         Iterations 7\n",
      "Optimization terminated successfully.\n",
      "         Current function value: 0.457380\n",
      "         Iterations 7\n",
      "Optimization terminated successfully.\n",
      "         Current function value: 0.459522\n",
      "         Iterations 7\n",
      "Optimization terminated successfully.\n",
      "         Current function value: 0.458595\n",
      "         Iterations 7\n",
      "Processed  12 models on 6 predictors in 10.694020986557007 seconds.\n",
      "Optimization terminated successfully.\n",
      "         Current function value: 0.457343\n",
      "         Iterations 7\n",
      "Optimization terminated successfully.\n",
      "         Current function value: 0.457021\n",
      "         Iterations 7\n",
      "Optimization terminated successfully.\n",
      "         Current function value: 0.457362\n",
      "         Iterations 7\n",
      "Optimization terminated successfully.\n",
      "         Current function value: 0.457125\n",
      "         Iterations 7\n",
      "Optimization terminated successfully.\n",
      "         Current function value: 0.457243\n",
      "         Iterations 7\n",
      "Optimization terminated successfully.\n",
      "         Current function value: 0.455213\n",
      "         Iterations 7\n",
      "Optimization terminated successfully.\n",
      "         Current function value: 0.455999\n",
      "         Iterations 7\n",
      "Optimization terminated successfully.\n",
      "         Current function value: 0.456692\n",
      "         Iterations 7\n",
      "Optimization terminated successfully.\n",
      "         Current function value: 0.457249\n",
      "         Iterations 7\n",
      "Optimization terminated successfully.\n",
      "         Current function value: 0.456396\n",
      "         Iterations 7\n",
      "Optimization terminated successfully.\n",
      "         Current function value: 0.455465\n",
      "         Iterations 7\n",
      "Processed  11 models on 7 predictors in 9.633477926254272 seconds.\n",
      "Optimization terminated successfully.\n",
      "         Current function value: 0.455060\n",
      "         Iterations 7\n",
      "Optimization terminated successfully.\n",
      "         Current function value: 0.454881\n",
      "         Iterations 7\n",
      "Optimization terminated successfully.\n",
      "         Current function value: 0.455211\n",
      "         Iterations 7\n",
      "Optimization terminated successfully.\n",
      "         Current function value: 0.455190\n",
      "         Iterations 7\n",
      "Optimization terminated successfully.\n",
      "         Current function value: 0.454967\n",
      "         Iterations 7\n",
      "Optimization terminated successfully.\n",
      "         Current function value: 0.453819\n",
      "         Iterations 7\n",
      "Optimization terminated successfully.\n",
      "         Current function value: 0.454683\n",
      "         Iterations 7\n",
      "Optimization terminated successfully.\n",
      "         Current function value: 0.455045\n",
      "         Iterations 7\n",
      "Optimization terminated successfully.\n",
      "         Current function value: 0.454391\n",
      "         Iterations 7\n",
      "Optimization terminated successfully.\n",
      "         Current function value: 0.453312\n",
      "         Iterations 7\n",
      "Processed  10 models on 8 predictors in 7.700023174285889 seconds.\n",
      "Optimization terminated successfully.\n",
      "         Current function value: 0.453189\n",
      "         Iterations 7\n",
      "Optimization terminated successfully.\n",
      "         Current function value: 0.452986\n",
      "         Iterations 7\n",
      "Optimization terminated successfully.\n",
      "         Current function value: 0.453312\n",
      "         Iterations 7\n",
      "Optimization terminated successfully.\n",
      "         Current function value: 0.453292\n",
      "         Iterations 7\n",
      "Optimization terminated successfully.\n",
      "         Current function value: 0.453061\n",
      "         Iterations 7\n",
      "Optimization terminated successfully.\n",
      "         Current function value: 0.451714\n",
      "         Iterations 7\n",
      "Optimization terminated successfully.\n",
      "         Current function value: 0.452746\n",
      "         Iterations 7\n",
      "Optimization terminated successfully.\n",
      "         Current function value: 0.453155\n",
      "         Iterations 7\n",
      "Optimization terminated successfully.\n",
      "         Current function value: 0.452557\n",
      "         Iterations 7\n",
      "Processed  9 models on 9 predictors in 9.594441413879395 seconds.\n",
      "Optimization terminated successfully.\n",
      "         Current function value: 0.451606\n",
      "         Iterations 7\n",
      "Optimization terminated successfully.\n",
      "         Current function value: 0.451295\n",
      "         Iterations 7\n",
      "Optimization terminated successfully.\n",
      "         Current function value: 0.451714\n",
      "         Iterations 7\n",
      "Optimization terminated successfully.\n",
      "         Current function value: 0.451679\n",
      "         Iterations 7\n",
      "Optimization terminated successfully.\n",
      "         Current function value: 0.451491\n",
      "         Iterations 7\n",
      "Optimization terminated successfully.\n",
      "         Current function value: 0.451201\n",
      "         Iterations 7\n",
      "Optimization terminated successfully.\n",
      "         Current function value: 0.451539\n",
      "         Iterations 7\n",
      "Optimization terminated successfully.\n",
      "         Current function value: 0.450958\n",
      "         Iterations 7\n",
      "Processed  8 models on 10 predictors in 7.913441896438599 seconds.\n",
      "Optimization terminated successfully.\n",
      "         Current function value: 0.450839\n",
      "         Iterations 7\n",
      "Optimization terminated successfully.\n",
      "         Current function value: 0.450530\n",
      "         Iterations 7\n",
      "Optimization terminated successfully.\n",
      "         Current function value: 0.450958\n",
      "         Iterations 7\n",
      "Optimization terminated successfully.\n",
      "         Current function value: 0.450932\n",
      "         Iterations 7\n",
      "Optimization terminated successfully.\n",
      "         Current function value: 0.450739\n",
      "         Iterations 7\n",
      "Optimization terminated successfully.\n",
      "         Current function value: 0.450547\n",
      "         Iterations 7\n",
      "Optimization terminated successfully.\n",
      "         Current function value: 0.450788\n",
      "         Iterations 7\n",
      "Processed  7 models on 11 predictors in 6.746440887451172 seconds.\n",
      "Optimization terminated successfully.\n",
      "         Current function value: 0.450439\n",
      "         Iterations 7\n",
      "Optimization terminated successfully.\n",
      "         Current function value: 0.450530\n",
      "         Iterations 7\n",
      "Optimization terminated successfully.\n",
      "         Current function value: 0.450506\n",
      "         Iterations 7\n",
      "Optimization terminated successfully.\n",
      "         Current function value: 0.450283\n",
      "         Iterations 7\n",
      "Optimization terminated successfully.\n",
      "         Current function value: 0.450111\n",
      "         Iterations 7\n",
      "Optimization terminated successfully.\n",
      "         Current function value: 0.450352\n",
      "         Iterations 7\n",
      "Processed  6 models on 12 predictors in 6.744286060333252 seconds.\n",
      "Optimization terminated successfully.\n",
      "         Current function value: 0.449935\n",
      "         Iterations 7\n",
      "Optimization terminated successfully.\n",
      "         Current function value: 0.450109\n",
      "         Iterations 7\n",
      "Optimization terminated successfully.\n",
      "         Current function value: 0.450080\n",
      "         Iterations 7\n",
      "Optimization terminated successfully.\n",
      "         Current function value: 0.449891\n",
      "         Iterations 7\n",
      "Optimization terminated successfully.\n",
      "         Current function value: 0.449943\n",
      "         Iterations 7\n",
      "Processed  5 models on 13 predictors in 10.111940145492554 seconds.\n",
      "Optimization terminated successfully.\n",
      "         Current function value: 0.449703\n",
      "         Iterations 7\n",
      "Optimization terminated successfully.\n",
      "         Current function value: 0.449890\n",
      "         Iterations 7\n",
      "Optimization terminated successfully.\n",
      "         Current function value: 0.449818\n",
      "         Iterations 7\n",
      "Optimization terminated successfully.\n",
      "         Current function value: 0.449752\n",
      "         Iterations 7\n",
      "Processed  4 models on 14 predictors in 8.517865180969238 seconds.\n",
      "Optimization terminated successfully.\n",
      "         Current function value: 0.449701\n",
      "         Iterations 7\n",
      "Optimization terminated successfully.\n",
      "         Current function value: 0.449640\n",
      "         Iterations 7\n",
      "Optimization terminated successfully.\n",
      "         Current function value: 0.449564\n",
      "         Iterations 7\n",
      "Processed  3 models on 15 predictors in 3.982992172241211 seconds.\n",
      "Optimization terminated successfully.\n",
      "         Current function value: 0.449561\n",
      "         Iterations 7\n",
      "Optimization terminated successfully.\n",
      "         Current function value: 0.449495\n",
      "         Iterations 7\n",
      "Processed  2 models on 16 predictors in 3.286917209625244 seconds.\n",
      "Optimization terminated successfully.\n",
      "         Current function value: 0.449491\n",
      "         Iterations 7\n",
      "Processed  1 models on 17 predictors in 2.6531317234039307 seconds.\n",
      "Total elapsed time: 155.9968240261078 seconds.\n"
     ]
    }
   ],
   "source": [
    "models_best = forward_selection()\n"
   ]
  },
  {
   "cell_type": "code",
   "execution_count": 43,
   "id": "ebe2e3c7",
   "metadata": {},
   "outputs": [
    {
     "data": {
      "image/png": "[encoded data removed]",
      "text/plain": [
       "<Figure size 1440x720 with 2 Axes>"
      ]
     },
     "metadata": {
      "needs_background": "light"
     },
     "output_type": "display_data"
    }
   ],
   "source": [
    "def best_sub_plots():\n",
    "    plt.figure(figsize=(20,10))\n",
    "    plt.rcParams.update({'font.size': 18, 'lines.markersize': 10})\n",
    "\n",
    "    # We will now plot a red dot to indicate the model with the largest adjusted R^2 statistic.\n",
    "    # The argmax() function can be used to identify the location of the maximum point of a vector\n",
    "\n",
    "    llr = models_best.apply(lambda row: row[1].llr, axis=1)\n",
    "\n",
    "    # We'll do the same for AIC and BIC, this time looking for the models with the SMALLEST statistic\n",
    "    aic = models_best.apply(lambda row: row[1].aic, axis=1)\n",
    "\n",
    "    plt.subplot(2, 2, 1)\n",
    "    plt.plot(aic)\n",
    "    plt.plot(1+aic.argmin(), aic.min(), \"or\")\n",
    "    plt.xlabel('# Predictors')\n",
    "    plt.ylabel('AIC')\n",
    "\n",
    "    bic = models_best.apply(lambda row: row[1].bic, axis=1)\n",
    "\n",
    "    plt.subplot(2, 2, 2)\n",
    "    plt.plot(bic)\n",
    "    plt.plot(1+bic.argmin(), bic.min(), \"or\")\n",
    "    plt.xlabel('# Predictors')\n",
    "    plt.ylabel('BIC')\n",
    "best_sub_plots()"
   ]
  },
  {
   "cell_type": "code",
   "execution_count": null,
   "id": "1b14a89c",
   "metadata": {},
   "outputs": [],
   "source": []
  },
  {
   "cell_type": "code",
   "execution_count": null,
   "id": "2cf4283e",
   "metadata": {},
   "outputs": [],
   "source": []
  },
  {
   "cell_type": "code",
   "execution_count": 44,
   "id": "3a91861a",
   "metadata": {},
   "outputs": [
    {
     "name": "stdout",
     "output_type": "stream",
     "text": [
      "             feature        VIF\n",
      "0              const  76.610469\n",
      "1                BMI   1.140300\n",
      "2            Smoking   1.053249\n",
      "3    AlcoholDrinking   1.031072\n",
      "4             Stroke   1.036386\n",
      "5     PhysicalHealth   1.726023\n",
      "6       MentalHealth   1.232399\n",
      "7        DiffWalking   1.434284\n",
      "8                Sex   1.056527\n",
      "9        AgeCategory   1.348173\n",
      "10              Race   1.066589\n",
      "11          Diabetic   1.121755\n",
      "12  PhysicalActivity   1.277301\n",
      "13         GenHealth   1.924429\n",
      "14         SleepTime   1.040386\n",
      "15            Asthma   1.044145\n",
      "16     KidneyDisease   1.038851\n",
      "17        SkinCancer   1.065468\n"
     ]
    }
   ],
   "source": [
    "from statsmodels.stats.outliers_influence import variance_inflation_factor\n",
    "from statsmodels.tools.tools import add_constant\n",
    "X = add_constant(X)\n",
    "vif_data = pd.DataFrame()\n",
    "vif_data[\"feature\"] = X.columns\n",
    "\n",
    "for i in range(len(X.columns)):\n",
    "    vif_data.loc[i,'VIF'] = variance_inflation_factor(X.values, i)\n",
    "\n",
    "print(vif_data)"
   ]
  },
  {
   "cell_type": "code",
   "execution_count": 45,
   "id": "55653f8f",
   "metadata": {},
   "outputs": [
    {
     "data": {
      "text/html": [
       "<table class=\"simpletable\">\n",
       "<caption>Logit Regression Results</caption>\n",
       "<tr>\n",
       "  <th>Dep. Variable:</th>     <td>HeartDisease</td>   <th>  No. Observations:  </th>   <td>409390</td>   \n",
       "</tr>\n",
       "<tr>\n",
       "  <th>Model:</th>                 <td>Logit</td>      <th>  Df Residuals:      </th>   <td>409372</td>   \n",
       "</tr>\n",
       "<tr>\n",
       "  <th>Method:</th>                 <td>MLE</td>       <th>  Df Model:          </th>   <td>    17</td>   \n",
       "</tr>\n",
       "<tr>\n",
       "  <th>Date:</th>            <td>Thu, 02 Mar 2023</td> <th>  Pseudo R-squ.:     </th>   <td>0.3515</td>   \n",
       "</tr>\n",
       "<tr>\n",
       "  <th>Time:</th>                <td>23:06:38</td>     <th>  Log-Likelihood:    </th> <td>-1.8402e+05</td>\n",
       "</tr>\n",
       "<tr>\n",
       "  <th>converged:</th>             <td>True</td>       <th>  LL-Null:           </th> <td>-2.8377e+05</td>\n",
       "</tr>\n",
       "<tr>\n",
       "  <th>Covariance Type:</th>     <td>nonrobust</td>    <th>  LLR p-value:       </th>   <td> 0.000</td>   \n",
       "</tr>\n",
       "</table>\n",
       "<table class=\"simpletable\">\n",
       "<tr>\n",
       "          <td></td>            <th>coef</th>     <th>std err</th>      <th>z</th>      <th>P>|z|</th>  <th>[0.025</th>    <th>0.975]</th>  \n",
       "</tr>\n",
       "<tr>\n",
       "  <th>Intercept</th>        <td>    0.9685</td> <td>    0.037</td> <td>   26.514</td> <td> 0.000</td> <td>    0.897</td> <td>    1.040</td>\n",
       "</tr>\n",
       "<tr>\n",
       "  <th>GenHealth</th>        <td>   -1.0060</td> <td>    0.005</td> <td> -189.411</td> <td> 0.000</td> <td>   -1.016</td> <td>   -0.996</td>\n",
       "</tr>\n",
       "<tr>\n",
       "  <th>AgeCategory</th>      <td>    0.3179</td> <td>    0.002</td> <td>  191.949</td> <td> 0.000</td> <td>    0.315</td> <td>    0.321</td>\n",
       "</tr>\n",
       "<tr>\n",
       "  <th>Sex</th>              <td>   -1.3855</td> <td>    0.009</td> <td> -157.448</td> <td> 0.000</td> <td>   -1.403</td> <td>   -1.368</td>\n",
       "</tr>\n",
       "<tr>\n",
       "  <th>AlcoholDrinking</th>  <td>   -1.8456</td> <td>    0.030</td> <td>  -61.161</td> <td> 0.000</td> <td>   -1.905</td> <td>   -1.787</td>\n",
       "</tr>\n",
       "<tr>\n",
       "  <th>PhysicalActivity</th> <td>   -0.5479</td> <td>    0.010</td> <td>  -57.355</td> <td> 0.000</td> <td>   -0.567</td> <td>   -0.529</td>\n",
       "</tr>\n",
       "<tr>\n",
       "  <th>Asthma</th>           <td>   -0.6575</td> <td>    0.014</td> <td>  -46.034</td> <td> 0.000</td> <td>   -0.685</td> <td>   -0.630</td>\n",
       "</tr>\n",
       "<tr>\n",
       "  <th>DiffWalking</th>      <td>   -0.4839</td> <td>    0.013</td> <td>  -38.599</td> <td> 0.000</td> <td>   -0.508</td> <td>   -0.459</td>\n",
       "</tr>\n",
       "<tr>\n",
       "  <th>SkinCancer</th>       <td>   -0.5688</td> <td>    0.014</td> <td>  -40.869</td> <td> 0.000</td> <td>   -0.596</td> <td>   -0.542</td>\n",
       "</tr>\n",
       "<tr>\n",
       "  <th>Race</th>             <td>   -0.1203</td> <td>    0.003</td> <td>  -36.348</td> <td> 0.000</td> <td>   -0.127</td> <td>   -0.114</td>\n",
       "</tr>\n",
       "<tr>\n",
       "  <th>KidneyDisease</th>    <td>   -0.4992</td> <td>    0.021</td> <td>  -23.254</td> <td> 0.000</td> <td>   -0.541</td> <td>   -0.457</td>\n",
       "</tr>\n",
       "<tr>\n",
       "  <th>Smoking</th>          <td>   -0.1579</td> <td>    0.008</td> <td>  -18.764</td> <td> 0.000</td> <td>   -0.174</td> <td>   -0.141</td>\n",
       "</tr>\n",
       "<tr>\n",
       "  <th>Diabetic</th>         <td>   -0.2254</td> <td>    0.011</td> <td>  -19.797</td> <td> 0.000</td> <td>   -0.248</td> <td>   -0.203</td>\n",
       "</tr>\n",
       "<tr>\n",
       "  <th>MentalHealth</th>     <td>    0.0078</td> <td>    0.001</td> <td>   13.986</td> <td> 0.000</td> <td>    0.007</td> <td>    0.009</td>\n",
       "</tr>\n",
       "<tr>\n",
       "  <th>BMI</th>              <td>    0.0083</td> <td>    0.001</td> <td>   12.123</td> <td> 0.000</td> <td>    0.007</td> <td>    0.010</td>\n",
       "</tr>\n",
       "<tr>\n",
       "  <th>SleepTime</th>        <td>   -0.0310</td> <td>    0.003</td> <td>  -10.919</td> <td> 0.000</td> <td>   -0.037</td> <td>   -0.025</td>\n",
       "</tr>\n",
       "<tr>\n",
       "  <th>PhysicalHealth</th>   <td>   -0.0042</td> <td>    0.001</td> <td>   -7.571</td> <td> 0.000</td> <td>   -0.005</td> <td>   -0.003</td>\n",
       "</tr>\n",
       "<tr>\n",
       "  <th>Stroke</th>           <td>    0.0383</td> <td>    0.021</td> <td>    1.863</td> <td> 0.062</td> <td>   -0.002</td> <td>    0.079</td>\n",
       "</tr>\n",
       "</table>"
      ],
      "text/plain": [
       "<class 'statsmodels.iolib.summary.Summary'>\n",
       "\"\"\"\n",
       "                           Logit Regression Results                           \n",
       "==============================================================================\n",
       "Dep. Variable:           HeartDisease   No. Observations:               409390\n",
       "Model:                          Logit   Df Residuals:                   409372\n",
       "Method:                           MLE   Df Model:                           17\n",
       "Date:                Thu, 02 Mar 2023   Pseudo R-squ.:                  0.3515\n",
       "Time:                        23:06:38   Log-Likelihood:            -1.8402e+05\n",
       "converged:                       True   LL-Null:                   -2.8377e+05\n",
       "Covariance Type:            nonrobust   LLR p-value:                     0.000\n",
       "====================================================================================\n",
       "                       coef    std err          z      P>|z|      [0.025      0.975]\n",
       "------------------------------------------------------------------------------------\n",
       "Intercept            0.9685      0.037     26.514      0.000       0.897       1.040\n",
       "GenHealth           -1.0060      0.005   -189.411      0.000      -1.016      -0.996\n",
       "AgeCategory          0.3179      0.002    191.949      0.000       0.315       0.321\n",
       "Sex                 -1.3855      0.009   -157.448      0.000      -1.403      -1.368\n",
       "AlcoholDrinking     -1.8456      0.030    -61.161      0.000      -1.905      -1.787\n",
       "PhysicalActivity    -0.5479      0.010    -57.355      0.000      -0.567      -0.529\n",
       "Asthma              -0.6575      0.014    -46.034      0.000      -0.685      -0.630\n",
       "DiffWalking         -0.4839      0.013    -38.599      0.000      -0.508      -0.459\n",
       "SkinCancer          -0.5688      0.014    -40.869      0.000      -0.596      -0.542\n",
       "Race                -0.1203      0.003    -36.348      0.000      -0.127      -0.114\n",
       "KidneyDisease       -0.4992      0.021    -23.254      0.000      -0.541      -0.457\n",
       "Smoking             -0.1579      0.008    -18.764      0.000      -0.174      -0.141\n",
       "Diabetic            -0.2254      0.011    -19.797      0.000      -0.248      -0.203\n",
       "MentalHealth         0.0078      0.001     13.986      0.000       0.007       0.009\n",
       "BMI                  0.0083      0.001     12.123      0.000       0.007       0.010\n",
       "SleepTime           -0.0310      0.003    -10.919      0.000      -0.037      -0.025\n",
       "PhysicalHealth      -0.0042      0.001     -7.571      0.000      -0.005      -0.003\n",
       "Stroke               0.0383      0.021      1.863      0.062      -0.002       0.079\n",
       "====================================================================================\n",
       "\"\"\""
      ]
     },
     "execution_count": 45,
     "metadata": {},
     "output_type": "execute_result"
    }
   ],
   "source": [
    "model17 = models_best['model'][17]\n",
    "model17.summary()"
   ]
  },
  {
   "cell_type": "code",
   "execution_count": 46,
   "id": "8bb3d0c9",
   "metadata": {},
   "outputs": [
    {
     "data": {
      "text/html": [
       "<table class=\"simpletable\">\n",
       "<caption>Logit Regression Results</caption>\n",
       "<tr>\n",
       "  <th>Dep. Variable:</th>     <td>HeartDisease</td>   <th>  No. Observations:  </th>   <td>409390</td>   \n",
       "</tr>\n",
       "<tr>\n",
       "  <th>Model:</th>                 <td>Logit</td>      <th>  Df Residuals:      </th>   <td>409373</td>   \n",
       "</tr>\n",
       "<tr>\n",
       "  <th>Method:</th>                 <td>MLE</td>       <th>  Df Model:          </th>   <td>    16</td>   \n",
       "</tr>\n",
       "<tr>\n",
       "  <th>Date:</th>            <td>Thu, 02 Mar 2023</td> <th>  Pseudo R-squ.:     </th>   <td>0.3515</td>   \n",
       "</tr>\n",
       "<tr>\n",
       "  <th>Time:</th>                <td>23:06:43</td>     <th>  Log-Likelihood:    </th> <td>-1.8402e+05</td>\n",
       "</tr>\n",
       "<tr>\n",
       "  <th>converged:</th>             <td>True</td>       <th>  LL-Null:           </th> <td>-2.8377e+05</td>\n",
       "</tr>\n",
       "<tr>\n",
       "  <th>Covariance Type:</th>     <td>nonrobust</td>    <th>  LLR p-value:       </th>   <td> 0.000</td>   \n",
       "</tr>\n",
       "</table>\n",
       "<table class=\"simpletable\">\n",
       "<tr>\n",
       "          <td></td>            <th>coef</th>     <th>std err</th>      <th>z</th>      <th>P>|z|</th>  <th>[0.025</th>    <th>0.975]</th>  \n",
       "</tr>\n",
       "<tr>\n",
       "  <th>Intercept</th>        <td>    0.9698</td> <td>    0.037</td> <td>   26.553</td> <td> 0.000</td> <td>    0.898</td> <td>    1.041</td>\n",
       "</tr>\n",
       "<tr>\n",
       "  <th>GenHealth</th>        <td>   -1.0065</td> <td>    0.005</td> <td> -189.737</td> <td> 0.000</td> <td>   -1.017</td> <td>   -0.996</td>\n",
       "</tr>\n",
       "<tr>\n",
       "  <th>AgeCategory</th>      <td>    0.3180</td> <td>    0.002</td> <td>  192.208</td> <td> 0.000</td> <td>    0.315</td> <td>    0.321</td>\n",
       "</tr>\n",
       "<tr>\n",
       "  <th>Sex</th>              <td>   -1.3853</td> <td>    0.009</td> <td> -157.443</td> <td> 0.000</td> <td>   -1.403</td> <td>   -1.368</td>\n",
       "</tr>\n",
       "<tr>\n",
       "  <th>AlcoholDrinking</th>  <td>   -1.8452</td> <td>    0.030</td> <td>  -61.158</td> <td> 0.000</td> <td>   -1.904</td> <td>   -1.786</td>\n",
       "</tr>\n",
       "<tr>\n",
       "  <th>PhysicalActivity</th> <td>   -0.5479</td> <td>    0.010</td> <td>  -57.356</td> <td> 0.000</td> <td>   -0.567</td> <td>   -0.529</td>\n",
       "</tr>\n",
       "<tr>\n",
       "  <th>Asthma</th>           <td>   -0.6570</td> <td>    0.014</td> <td>  -46.009</td> <td> 0.000</td> <td>   -0.685</td> <td>   -0.629</td>\n",
       "</tr>\n",
       "<tr>\n",
       "  <th>DiffWalking</th>      <td>   -0.4826</td> <td>    0.013</td> <td>  -38.556</td> <td> 0.000</td> <td>   -0.507</td> <td>   -0.458</td>\n",
       "</tr>\n",
       "<tr>\n",
       "  <th>SkinCancer</th>       <td>   -0.5685</td> <td>    0.014</td> <td>  -40.851</td> <td> 0.000</td> <td>   -0.596</td> <td>   -0.541</td>\n",
       "</tr>\n",
       "<tr>\n",
       "  <th>Race</th>             <td>   -0.1203</td> <td>    0.003</td> <td>  -36.338</td> <td> 0.000</td> <td>   -0.127</td> <td>   -0.114</td>\n",
       "</tr>\n",
       "<tr>\n",
       "  <th>KidneyDisease</th>    <td>   -0.4979</td> <td>    0.021</td> <td>  -23.205</td> <td> 0.000</td> <td>   -0.540</td> <td>   -0.456</td>\n",
       "</tr>\n",
       "<tr>\n",
       "  <th>Smoking</th>          <td>   -0.1577</td> <td>    0.008</td> <td>  -18.738</td> <td> 0.000</td> <td>   -0.174</td> <td>   -0.141</td>\n",
       "</tr>\n",
       "<tr>\n",
       "  <th>Diabetic</th>         <td>   -0.2247</td> <td>    0.011</td> <td>  -19.745</td> <td> 0.000</td> <td>   -0.247</td> <td>   -0.202</td>\n",
       "</tr>\n",
       "<tr>\n",
       "  <th>MentalHealth</th>     <td>    0.0078</td> <td>    0.001</td> <td>   14.016</td> <td> 0.000</td> <td>    0.007</td> <td>    0.009</td>\n",
       "</tr>\n",
       "<tr>\n",
       "  <th>BMI</th>              <td>    0.0083</td> <td>    0.001</td> <td>   12.065</td> <td> 0.000</td> <td>    0.007</td> <td>    0.010</td>\n",
       "</tr>\n",
       "<tr>\n",
       "  <th>SleepTime</th>        <td>   -0.0309</td> <td>    0.003</td> <td>  -10.884</td> <td> 0.000</td> <td>   -0.036</td> <td>   -0.025</td>\n",
       "</tr>\n",
       "<tr>\n",
       "  <th>PhysicalHealth</th>   <td>   -0.0042</td> <td>    0.001</td> <td>   -7.525</td> <td> 0.000</td> <td>   -0.005</td> <td>   -0.003</td>\n",
       "</tr>\n",
       "</table>"
      ],
      "text/plain": [
       "<class 'statsmodels.iolib.summary.Summary'>\n",
       "\"\"\"\n",
       "                           Logit Regression Results                           \n",
       "==============================================================================\n",
       "Dep. Variable:           HeartDisease   No. Observations:               409390\n",
       "Model:                          Logit   Df Residuals:                   409373\n",
       "Method:                           MLE   Df Model:                           16\n",
       "Date:                Thu, 02 Mar 2023   Pseudo R-squ.:                  0.3515\n",
       "Time:                        23:06:43   Log-Likelihood:            -1.8402e+05\n",
       "converged:                       True   LL-Null:                   -2.8377e+05\n",
       "Covariance Type:            nonrobust   LLR p-value:                     0.000\n",
       "====================================================================================\n",
       "                       coef    std err          z      P>|z|      [0.025      0.975]\n",
       "------------------------------------------------------------------------------------\n",
       "Intercept            0.9698      0.037     26.553      0.000       0.898       1.041\n",
       "GenHealth           -1.0065      0.005   -189.737      0.000      -1.017      -0.996\n",
       "AgeCategory          0.3180      0.002    192.208      0.000       0.315       0.321\n",
       "Sex                 -1.3853      0.009   -157.443      0.000      -1.403      -1.368\n",
       "AlcoholDrinking     -1.8452      0.030    -61.158      0.000      -1.904      -1.786\n",
       "PhysicalActivity    -0.5479      0.010    -57.356      0.000      -0.567      -0.529\n",
       "Asthma              -0.6570      0.014    -46.009      0.000      -0.685      -0.629\n",
       "DiffWalking         -0.4826      0.013    -38.556      0.000      -0.507      -0.458\n",
       "SkinCancer          -0.5685      0.014    -40.851      0.000      -0.596      -0.541\n",
       "Race                -0.1203      0.003    -36.338      0.000      -0.127      -0.114\n",
       "KidneyDisease       -0.4979      0.021    -23.205      0.000      -0.540      -0.456\n",
       "Smoking             -0.1577      0.008    -18.738      0.000      -0.174      -0.141\n",
       "Diabetic            -0.2247      0.011    -19.745      0.000      -0.247      -0.202\n",
       "MentalHealth         0.0078      0.001     14.016      0.000       0.007       0.009\n",
       "BMI                  0.0083      0.001     12.065      0.000       0.007       0.010\n",
       "SleepTime           -0.0309      0.003    -10.884      0.000      -0.036      -0.025\n",
       "PhysicalHealth      -0.0042      0.001     -7.525      0.000      -0.005      -0.003\n",
       "====================================================================================\n",
       "\"\"\""
      ]
     },
     "execution_count": 46,
     "metadata": {},
     "output_type": "execute_result"
    }
   ],
   "source": [
    "#No PhysicalActivity and PhysicalHealth\n",
    "model16 = models_best['model'][16]\n",
    "model16.summary()"
   ]
  },
  {
   "cell_type": "markdown",
   "id": "4d5d6504",
   "metadata": {},
   "source": [
    "# Confusion Matrix for Forward Stepwise"
   ]
  },
  {
   "cell_type": "code",
   "execution_count": 47,
   "id": "edb4a363",
   "metadata": {},
   "outputs": [],
   "source": [
    "from sklearn.metrics import roc_curve, auc\n",
    "#Function to compute confusion matrix and prediction accuracy on test/train data\n",
    "def confusion_matrix_data(data,actual_values,model,cutoff=0.5):\n",
    "#Predict the values using the Logit model\n",
    "    pred_values = model.predict(data)\n",
    "# Specify the bins\n",
    "    bins=np.array([0,cutoff,1])\n",
    "#Confusion matrix\n",
    "    cm = np.histogram2d(actual_values, pred_values, bins=bins)[0]\n",
    "    cm_df = pd.DataFrame(cm)\n",
    "    cm_df.columns = ['Predicted 0','Predicted 1']\n",
    "    cm_df = cm_df.rename(index={0: 'Actual 0',1:'Actual 1'})\n",
    "# Calculate the accuracy\n",
    "    accuracy = (cm[0,0]+cm[1,1])/cm.sum()\n",
    "    fnr = (cm[1,0])/(cm[1,0]+cm[1,1])\n",
    "    precision = (cm[1,1])/(cm[0,1]+cm[1,1])\n",
    "    fpr = (cm[0,1])/(cm[0,0]+cm[0,1])\n",
    "    tpr = (cm[1,1])/(cm[1,0]+cm[1,1])\n",
    "    fpr_roc, tpr_roc, auc_thresholds = roc_curve(actual_values, pred_values)\n",
    "    auc_value = (auc(fpr_roc, tpr_roc))# AUC of ROC\n",
    "    sns.heatmap(cm_df, annot=True, cmap='Blues', fmt='g')\n",
    "    plt.ylabel(\"Actual Values\")\n",
    "    plt.xlabel(\"Predicted Values\")\n",
    "    print(\"Classification accuracy = {:.1%}\".format(accuracy))\n",
    "    print(\"Precision = {:.1%}\".format(precision))\n",
    "    print(\"TPR or Recall = {:.1%}\".format(tpr))\n",
    "    print(\"FNR = {:.1%}\".format(fnr))\n",
    "    print(\"FPR = {:.1%}\".format(fpr))\n",
    "    print(\"ROC-AUC = {:.1%}\".format(auc_value))\n",
    "    return pred_values"
   ]
  },
  {
   "cell_type": "code",
   "execution_count": 65,
   "id": "05a29c72",
   "metadata": {},
   "outputs": [
    {
     "name": "stdout",
     "output_type": "stream",
     "text": [
      "Classification accuracy = 81.3%\n",
      "Precision = 23.9%\n",
      "TPR or Recall = 53.8%\n",
      "FNR = 46.2%\n",
      "FPR = 16.1%\n",
      "ROC-AUC = 78.8%\n"
     ]
    },
    {
     "data": {
      "text/plain": [
       "171466    0.884130\n",
       "43807     0.164621\n",
       "73864     0.174993\n",
       "72981     0.426343\n",
       "280780    0.115022\n",
       "            ...   \n",
       "31488     0.077209\n",
       "117490    0.876260\n",
       "131937    0.152765\n",
       "80479     0.773701\n",
       "21409     0.007214\n",
       "Length: 95939, dtype: float64"
      ]
     },
     "execution_count": 65,
     "metadata": {},
     "output_type": "execute_result"
    },
    {
     "data": {
      "image/png": "[encoded data removed]",
      "text/plain": [
       "<Figure size 432x288 with 2 Axes>"
      ]
     },
     "metadata": {
      "needs_background": "light"
     },
     "output_type": "display_data"
    }
   ],
   "source": [
    "confusion_matrix_data(test,test.HeartDisease,model17,0.6)"
   ]
  },
  {
   "cell_type": "code",
   "execution_count": 66,
   "id": "03072d0b",
   "metadata": {},
   "outputs": [
    {
     "name": "stdout",
     "output_type": "stream",
     "text": [
      "Classification accuracy = 81.3%\n",
      "Precision = 23.8%\n",
      "TPR or Recall = 53.6%\n",
      "FNR = 46.4%\n",
      "FPR = 16.1%\n",
      "ROC-AUC = 78.8%\n"
     ]
    },
    {
     "data": {
      "text/plain": [
       "171466    0.884317\n",
       "43807     0.164856\n",
       "73864     0.175098\n",
       "72981     0.417676\n",
       "280780    0.115030\n",
       "            ...   \n",
       "31488     0.077257\n",
       "117490    0.876514\n",
       "131937    0.152766\n",
       "80479     0.773922\n",
       "21409     0.007209\n",
       "Length: 95939, dtype: float64"
      ]
     },
     "execution_count": 66,
     "metadata": {},
     "output_type": "execute_result"
    },
    {
     "data": {
      "image/png": "[encoded data removed]",
      "text/plain": [
       "<Figure size 432x288 with 2 Axes>"
      ]
     },
     "metadata": {
      "needs_background": "light"
     },
     "output_type": "display_data"
    }
   ],
   "source": [
    "#Take away physical activity and physical health\n",
    "confusion_matrix_data(test,test.HeartDisease,model16,0.6)"
   ]
  },
  {
   "cell_type": "code",
   "execution_count": null,
   "id": "ff2af671",
   "metadata": {},
   "outputs": [],
   "source": []
  },
  {
   "cell_type": "markdown",
   "id": "46a46d28",
   "metadata": {},
   "source": [
    "# Interactions"
   ]
  },
  {
   "cell_type": "code",
   "execution_count": 70,
   "id": "403718f1",
   "metadata": {},
   "outputs": [
    {
     "name": "stdout",
     "output_type": "stream",
     "text": [
      "Optimization terminated successfully.\n",
      "         Current function value: 0.453545\n",
      "         Iterations 7\n"
     ]
    }
   ],
   "source": [
    "#Interaction between Asthma and Smoking\n",
    "model3 = sm.logit(formula = 'HeartDisease~AgeCategory+GenHealth+Asthma*Smoking+Diabetic+KidneyDisease+Stroke+Sex+AlcoholDrinking+DiffWalking+BMI+SkinCancer+MentalHealth+Race+SleepTime', data = train_smote).fit()\n",
    "\n"
   ]
  },
  {
   "cell_type": "code",
   "execution_count": 71,
   "id": "c06d6d43",
   "metadata": {
    "scrolled": true
   },
   "outputs": [
    {
     "name": "stdout",
     "output_type": "stream",
     "text": [
      "Classification accuracy = 81.1%\n",
      "Precision = 23.8%\n",
      "TPR or Recall = 54.7%\n",
      "FNR = 45.3%\n",
      "FPR = 16.4%\n",
      "ROC-AUC = 79.1%\n"
     ]
    },
    {
     "data": {
      "text/plain": [
       "171466    0.899927\n",
       "43807     0.185864\n",
       "73864     0.196741\n",
       "72981     0.473400\n",
       "280780    0.116500\n",
       "            ...   \n",
       "31488     0.086472\n",
       "117490    0.890752\n",
       "131937    0.179245\n",
       "80479     0.789418\n",
       "21409     0.007228\n",
       "Length: 95939, dtype: float64"
      ]
     },
     "execution_count": 71,
     "metadata": {},
     "output_type": "execute_result"
    },
    {
     "data": {
      "image/png": "[encoded data removed]",
      "text/plain": [
       "<Figure size 432x288 with 2 Axes>"
      ]
     },
     "metadata": {
      "needs_background": "light"
     },
     "output_type": "display_data"
    }
   ],
   "source": [
    "confusion_matrix_data(test,test.HeartDisease,model3,0.6)"
   ]
  },
  {
   "cell_type": "code",
   "execution_count": 67,
   "id": "876d4da5",
   "metadata": {},
   "outputs": [
    {
     "name": "stdout",
     "output_type": "stream",
     "text": [
      "Optimization terminated successfully.\n",
      "         Current function value: 0.453422\n",
      "         Iterations 7\n"
     ]
    }
   ],
   "source": [
    "#Interaction between Diabetic and Kidney\n",
    "model4 = sm.logit(formula = 'HeartDisease~AgeCategory+GenHealth+Asthma+Smoking+Diabetic*KidneyDisease+Stroke+Sex+AlcoholDrinking+DiffWalking+BMI+SkinCancer+MentalHealth+Race+SleepTime', data = train_smote).fit()\n"
   ]
  },
  {
   "cell_type": "code",
   "execution_count": 68,
   "id": "a4736cf0",
   "metadata": {},
   "outputs": [
    {
     "name": "stdout",
     "output_type": "stream",
     "text": [
      "Classification accuracy = 81.2%\n",
      "Precision = 23.9%\n",
      "TPR or Recall = 54.9%\n",
      "FNR = 45.1%\n",
      "FPR = 16.4%\n",
      "ROC-AUC = 79.1%\n"
     ]
    },
    {
     "data": {
      "text/plain": [
       "171466    0.900557\n",
       "43807     0.182022\n",
       "73864     0.197262\n",
       "72981     0.467462\n",
       "280780    0.116634\n",
       "            ...   \n",
       "31488     0.086635\n",
       "117490    0.888521\n",
       "131937    0.179651\n",
       "80479     0.790418\n",
       "21409     0.007221\n",
       "Length: 95939, dtype: float64"
      ]
     },
     "execution_count": 68,
     "metadata": {},
     "output_type": "execute_result"
    },
    {
     "data": {
      "image/png": "[encoded data removed]",
      "text/plain": [
       "<Figure size 432x288 with 2 Axes>"
      ]
     },
     "metadata": {
      "needs_background": "light"
     },
     "output_type": "display_data"
    }
   ],
   "source": [
    "confusion_matrix_data(test,test.HeartDisease,model4,0.6)"
   ]
  },
  {
   "cell_type": "code",
   "execution_count": 77,
   "id": "0c2ce942",
   "metadata": {},
   "outputs": [
    {
     "name": "stdout",
     "output_type": "stream",
     "text": [
      "Optimization terminated successfully.\n",
      "         Current function value: 0.452654\n",
      "         Iterations 7\n"
     ]
    }
   ],
   "source": [
    "#AgeCategory * GenHealth\n",
    "model5 = sm.logit(formula = 'HeartDisease~AgeCategory*GenHealth+Asthma+Smoking+Diabetic+KidneyDisease+Stroke+Sex+AlcoholDrinking+DiffWalking+BMI+SkinCancer+MentalHealth+Race+SleepTime', data = train_smote).fit()\n"
   ]
  },
  {
   "cell_type": "code",
   "execution_count": 78,
   "id": "40cbf176",
   "metadata": {},
   "outputs": [
    {
     "name": "stdout",
     "output_type": "stream",
     "text": [
      "Classification accuracy = 80.8%\n",
      "Precision = 23.6%\n",
      "TPR or Recall = 55.3%\n",
      "FNR = 44.7%\n",
      "FPR = 16.8%\n",
      "ROC-AUC = 79.1%\n"
     ]
    },
    {
     "data": {
      "text/plain": [
       "171466    0.896492\n",
       "43807     0.189007\n",
       "73864     0.185250\n",
       "72981     0.461416\n",
       "280780    0.097438\n",
       "            ...   \n",
       "31488     0.087421\n",
       "117490    0.888756\n",
       "131937    0.181254\n",
       "80479     0.789188\n",
       "21409     0.003870\n",
       "Length: 95939, dtype: float64"
      ]
     },
     "execution_count": 78,
     "metadata": {},
     "output_type": "execute_result"
    },
    {
     "data": {
      "image/png": "[encoded data removed]",
      "text/plain": [
       "<Figure size 432x288 with 2 Axes>"
      ]
     },
     "metadata": {
      "needs_background": "light"
     },
     "output_type": "display_data"
    }
   ],
   "source": [
    "confusion_matrix_data(test,test.HeartDisease,model5,0.6)"
   ]
  },
  {
   "cell_type": "code",
   "execution_count": null,
   "id": "3bfbd78f",
   "metadata": {},
   "outputs": [],
   "source": []
  },
  {
   "cell_type": "code",
   "execution_count": null,
   "id": "5e3bf037",
   "metadata": {},
   "outputs": [],
   "source": []
  }
 ],
 "metadata": {
  "kernelspec": {
   "display_name": "Python 3 (ipykernel)",
   "language": "python",
   "name": "python3"
  },
  "language_info": {
   "codemirror_mode": {
    "name": "ipython",
    "version": 3
   },
   "file_extension": ".py",
   "mimetype": "text/x-python",
   "name": "python",
   "nbconvert_exporter": "python",
   "pygments_lexer": "ipython3",
   "version": "3.9.12"
  }
 },
 "nbformat": 4,
 "nbformat_minor": 5
}
