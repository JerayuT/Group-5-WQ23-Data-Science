{
 "cells": [
  {
   "cell_type": "code",
   "execution_count": 87,
   "id": "26a12f9a",
   "metadata": {},
   "outputs": [],
   "source": [
    "import pandas as pd\n",
    "import numpy as np\n",
    "import statsmodels.formula.api as sm\n",
    "import seaborn as sns\n",
    "import matplotlib.pyplot as plt"
   ]
  },
  {
   "cell_type": "code",
   "execution_count": 88,
   "id": "72f2e27d",
   "metadata": {},
   "outputs": [
    {
     "data": {
      "text/html": [
       "<div>\n",
       "<style scoped>\n",
       "    .dataframe tbody tr th:only-of-type {\n",
       "        vertical-align: middle;\n",
       "    }\n",
       "\n",
       "    .dataframe tbody tr th {\n",
       "        vertical-align: top;\n",
       "    }\n",
       "\n",
       "    .dataframe thead th {\n",
       "        text-align: right;\n",
       "    }\n",
       "</style>\n",
       "<table border=\"1\" class=\"dataframe\">\n",
       "  <thead>\n",
       "    <tr style=\"text-align: right;\">\n",
       "      <th></th>\n",
       "      <th>HeartDisease</th>\n",
       "      <th>BMI</th>\n",
       "      <th>Smoking</th>\n",
       "      <th>AlcoholDrinking</th>\n",
       "      <th>Stroke</th>\n",
       "      <th>PhysicalHealth</th>\n",
       "      <th>MentalHealth</th>\n",
       "      <th>DiffWalking</th>\n",
       "      <th>Sex</th>\n",
       "      <th>AgeCategory</th>\n",
       "      <th>Race</th>\n",
       "      <th>Diabetic</th>\n",
       "      <th>PhysicalActivity</th>\n",
       "      <th>GenHealth</th>\n",
       "      <th>SleepTime</th>\n",
       "      <th>Asthma</th>\n",
       "      <th>KidneyDisease</th>\n",
       "      <th>SkinCancer</th>\n",
       "    </tr>\n",
       "  </thead>\n",
       "  <tbody>\n",
       "    <tr>\n",
       "      <th>0</th>\n",
       "      <td>No</td>\n",
       "      <td>16.60</td>\n",
       "      <td>Yes</td>\n",
       "      <td>No</td>\n",
       "      <td>No</td>\n",
       "      <td>3.0</td>\n",
       "      <td>30.0</td>\n",
       "      <td>No</td>\n",
       "      <td>Female</td>\n",
       "      <td>55-59</td>\n",
       "      <td>White</td>\n",
       "      <td>Yes</td>\n",
       "      <td>Yes</td>\n",
       "      <td>Very good</td>\n",
       "      <td>5.0</td>\n",
       "      <td>Yes</td>\n",
       "      <td>No</td>\n",
       "      <td>Yes</td>\n",
       "    </tr>\n",
       "    <tr>\n",
       "      <th>1</th>\n",
       "      <td>No</td>\n",
       "      <td>20.34</td>\n",
       "      <td>No</td>\n",
       "      <td>No</td>\n",
       "      <td>Yes</td>\n",
       "      <td>0.0</td>\n",
       "      <td>0.0</td>\n",
       "      <td>No</td>\n",
       "      <td>Female</td>\n",
       "      <td>80 or older</td>\n",
       "      <td>White</td>\n",
       "      <td>No</td>\n",
       "      <td>Yes</td>\n",
       "      <td>Very good</td>\n",
       "      <td>7.0</td>\n",
       "      <td>No</td>\n",
       "      <td>No</td>\n",
       "      <td>No</td>\n",
       "    </tr>\n",
       "    <tr>\n",
       "      <th>2</th>\n",
       "      <td>No</td>\n",
       "      <td>26.58</td>\n",
       "      <td>Yes</td>\n",
       "      <td>No</td>\n",
       "      <td>No</td>\n",
       "      <td>20.0</td>\n",
       "      <td>30.0</td>\n",
       "      <td>No</td>\n",
       "      <td>Male</td>\n",
       "      <td>65-69</td>\n",
       "      <td>White</td>\n",
       "      <td>Yes</td>\n",
       "      <td>Yes</td>\n",
       "      <td>Fair</td>\n",
       "      <td>8.0</td>\n",
       "      <td>Yes</td>\n",
       "      <td>No</td>\n",
       "      <td>No</td>\n",
       "    </tr>\n",
       "    <tr>\n",
       "      <th>3</th>\n",
       "      <td>No</td>\n",
       "      <td>24.21</td>\n",
       "      <td>No</td>\n",
       "      <td>No</td>\n",
       "      <td>No</td>\n",
       "      <td>0.0</td>\n",
       "      <td>0.0</td>\n",
       "      <td>No</td>\n",
       "      <td>Female</td>\n",
       "      <td>75-79</td>\n",
       "      <td>White</td>\n",
       "      <td>No</td>\n",
       "      <td>No</td>\n",
       "      <td>Good</td>\n",
       "      <td>6.0</td>\n",
       "      <td>No</td>\n",
       "      <td>No</td>\n",
       "      <td>Yes</td>\n",
       "    </tr>\n",
       "    <tr>\n",
       "      <th>4</th>\n",
       "      <td>No</td>\n",
       "      <td>23.71</td>\n",
       "      <td>No</td>\n",
       "      <td>No</td>\n",
       "      <td>No</td>\n",
       "      <td>28.0</td>\n",
       "      <td>0.0</td>\n",
       "      <td>Yes</td>\n",
       "      <td>Female</td>\n",
       "      <td>40-44</td>\n",
       "      <td>White</td>\n",
       "      <td>No</td>\n",
       "      <td>Yes</td>\n",
       "      <td>Very good</td>\n",
       "      <td>8.0</td>\n",
       "      <td>No</td>\n",
       "      <td>No</td>\n",
       "      <td>No</td>\n",
       "    </tr>\n",
       "  </tbody>\n",
       "</table>\n",
       "</div>"
      ],
      "text/plain": [
       "  HeartDisease    BMI Smoking AlcoholDrinking Stroke  PhysicalHealth  \\\n",
       "0           No  16.60     Yes              No     No             3.0   \n",
       "1           No  20.34      No              No    Yes             0.0   \n",
       "2           No  26.58     Yes              No     No            20.0   \n",
       "3           No  24.21      No              No     No             0.0   \n",
       "4           No  23.71      No              No     No            28.0   \n",
       "\n",
       "   MentalHealth DiffWalking     Sex  AgeCategory   Race Diabetic  \\\n",
       "0          30.0          No  Female        55-59  White      Yes   \n",
       "1           0.0          No  Female  80 or older  White       No   \n",
       "2          30.0          No    Male        65-69  White      Yes   \n",
       "3           0.0          No  Female        75-79  White       No   \n",
       "4           0.0         Yes  Female        40-44  White       No   \n",
       "\n",
       "  PhysicalActivity  GenHealth  SleepTime Asthma KidneyDisease SkinCancer  \n",
       "0              Yes  Very good        5.0    Yes            No        Yes  \n",
       "1              Yes  Very good        7.0     No            No         No  \n",
       "2              Yes       Fair        8.0    Yes            No         No  \n",
       "3               No       Good        6.0     No            No        Yes  \n",
       "4              Yes  Very good        8.0     No            No         No  "
      ]
     },
     "execution_count": 88,
     "metadata": {},
     "output_type": "execute_result"
    }
   ],
   "source": [
    "data = pd.read_csv(\"heart_2020_cleaned.csv\")\n",
    "data.head()"
   ]
  },
  {
   "cell_type": "code",
   "execution_count": 89,
   "id": "7da9af9a",
   "metadata": {},
   "outputs": [
    {
     "data": {
      "text/plain": [
       "(319795, 18)"
      ]
     },
     "execution_count": 89,
     "metadata": {},
     "output_type": "execute_result"
    }
   ],
   "source": [
    "data.shape"
   ]
  },
  {
   "cell_type": "code",
   "execution_count": 90,
   "id": "79eb3d32",
   "metadata": {},
   "outputs": [
    {
     "data": {
      "text/html": [
       "<div>\n",
       "<style scoped>\n",
       "    .dataframe tbody tr th:only-of-type {\n",
       "        vertical-align: middle;\n",
       "    }\n",
       "\n",
       "    .dataframe tbody tr th {\n",
       "        vertical-align: top;\n",
       "    }\n",
       "\n",
       "    .dataframe thead th {\n",
       "        text-align: right;\n",
       "    }\n",
       "</style>\n",
       "<table border=\"1\" class=\"dataframe\">\n",
       "  <thead>\n",
       "    <tr style=\"text-align: right;\">\n",
       "      <th></th>\n",
       "      <th>HeartDisease</th>\n",
       "      <th>BMI</th>\n",
       "      <th>Smoking</th>\n",
       "      <th>AlcoholDrinking</th>\n",
       "      <th>Stroke</th>\n",
       "      <th>PhysicalHealth</th>\n",
       "      <th>MentalHealth</th>\n",
       "      <th>DiffWalking</th>\n",
       "      <th>Sex</th>\n",
       "      <th>AgeCategory</th>\n",
       "      <th>Race</th>\n",
       "      <th>Diabetic</th>\n",
       "      <th>PhysicalActivity</th>\n",
       "      <th>GenHealth</th>\n",
       "      <th>SleepTime</th>\n",
       "      <th>Asthma</th>\n",
       "      <th>KidneyDisease</th>\n",
       "      <th>SkinCancer</th>\n",
       "    </tr>\n",
       "  </thead>\n",
       "  <tbody>\n",
       "    <tr>\n",
       "      <th>0</th>\n",
       "      <td>0</td>\n",
       "      <td>16.60</td>\n",
       "      <td>1</td>\n",
       "      <td>0</td>\n",
       "      <td>0</td>\n",
       "      <td>3.0</td>\n",
       "      <td>30.0</td>\n",
       "      <td>0</td>\n",
       "      <td>Female</td>\n",
       "      <td>55-59</td>\n",
       "      <td>White</td>\n",
       "      <td>1</td>\n",
       "      <td>1</td>\n",
       "      <td>Very good</td>\n",
       "      <td>5.0</td>\n",
       "      <td>1</td>\n",
       "      <td>0</td>\n",
       "      <td>1</td>\n",
       "    </tr>\n",
       "    <tr>\n",
       "      <th>1</th>\n",
       "      <td>0</td>\n",
       "      <td>20.34</td>\n",
       "      <td>0</td>\n",
       "      <td>0</td>\n",
       "      <td>1</td>\n",
       "      <td>0.0</td>\n",
       "      <td>0.0</td>\n",
       "      <td>0</td>\n",
       "      <td>Female</td>\n",
       "      <td>80 or older</td>\n",
       "      <td>White</td>\n",
       "      <td>0</td>\n",
       "      <td>1</td>\n",
       "      <td>Very good</td>\n",
       "      <td>7.0</td>\n",
       "      <td>0</td>\n",
       "      <td>0</td>\n",
       "      <td>0</td>\n",
       "    </tr>\n",
       "    <tr>\n",
       "      <th>2</th>\n",
       "      <td>0</td>\n",
       "      <td>26.58</td>\n",
       "      <td>1</td>\n",
       "      <td>0</td>\n",
       "      <td>0</td>\n",
       "      <td>20.0</td>\n",
       "      <td>30.0</td>\n",
       "      <td>0</td>\n",
       "      <td>Male</td>\n",
       "      <td>65-69</td>\n",
       "      <td>White</td>\n",
       "      <td>1</td>\n",
       "      <td>1</td>\n",
       "      <td>Fair</td>\n",
       "      <td>8.0</td>\n",
       "      <td>1</td>\n",
       "      <td>0</td>\n",
       "      <td>0</td>\n",
       "    </tr>\n",
       "    <tr>\n",
       "      <th>3</th>\n",
       "      <td>0</td>\n",
       "      <td>24.21</td>\n",
       "      <td>0</td>\n",
       "      <td>0</td>\n",
       "      <td>0</td>\n",
       "      <td>0.0</td>\n",
       "      <td>0.0</td>\n",
       "      <td>0</td>\n",
       "      <td>Female</td>\n",
       "      <td>75-79</td>\n",
       "      <td>White</td>\n",
       "      <td>0</td>\n",
       "      <td>0</td>\n",
       "      <td>Good</td>\n",
       "      <td>6.0</td>\n",
       "      <td>0</td>\n",
       "      <td>0</td>\n",
       "      <td>1</td>\n",
       "    </tr>\n",
       "    <tr>\n",
       "      <th>4</th>\n",
       "      <td>0</td>\n",
       "      <td>23.71</td>\n",
       "      <td>0</td>\n",
       "      <td>0</td>\n",
       "      <td>0</td>\n",
       "      <td>28.0</td>\n",
       "      <td>0.0</td>\n",
       "      <td>1</td>\n",
       "      <td>Female</td>\n",
       "      <td>40-44</td>\n",
       "      <td>White</td>\n",
       "      <td>0</td>\n",
       "      <td>1</td>\n",
       "      <td>Very good</td>\n",
       "      <td>8.0</td>\n",
       "      <td>0</td>\n",
       "      <td>0</td>\n",
       "      <td>0</td>\n",
       "    </tr>\n",
       "  </tbody>\n",
       "</table>\n",
       "</div>"
      ],
      "text/plain": [
       "   HeartDisease    BMI  Smoking  AlcoholDrinking  Stroke  PhysicalHealth  \\\n",
       "0             0  16.60        1                0       0             3.0   \n",
       "1             0  20.34        0                0       1             0.0   \n",
       "2             0  26.58        1                0       0            20.0   \n",
       "3             0  24.21        0                0       0             0.0   \n",
       "4             0  23.71        0                0       0            28.0   \n",
       "\n",
       "   MentalHealth  DiffWalking     Sex  AgeCategory   Race Diabetic  \\\n",
       "0          30.0            0  Female        55-59  White        1   \n",
       "1           0.0            0  Female  80 or older  White        0   \n",
       "2          30.0            0    Male        65-69  White        1   \n",
       "3           0.0            0  Female        75-79  White        0   \n",
       "4           0.0            1  Female        40-44  White        0   \n",
       "\n",
       "   PhysicalActivity  GenHealth  SleepTime  Asthma  KidneyDisease  SkinCancer  \n",
       "0                 1  Very good        5.0       1              0           1  \n",
       "1                 1  Very good        7.0       0              0           0  \n",
       "2                 1       Fair        8.0       1              0           0  \n",
       "3                 0       Good        6.0       0              0           1  \n",
       "4                 1  Very good        8.0       0              0           0  "
      ]
     },
     "execution_count": 90,
     "metadata": {},
     "output_type": "execute_result"
    }
   ],
   "source": [
    "data.replace(\"Yes\", 1, inplace = True)\n",
    "data.replace(\"No\", 0, inplace = True)\n",
    "data.head()"
   ]
  },
  {
   "cell_type": "code",
   "execution_count": 91,
   "id": "707db775",
   "metadata": {},
   "outputs": [
    {
     "data": {
      "text/plain": [
       "array([1, 0, 'No, borderline diabetes', 'Yes (during pregnancy)'],\n",
       "      dtype=object)"
      ]
     },
     "execution_count": 91,
     "metadata": {},
     "output_type": "execute_result"
    }
   ],
   "source": [
    "data['Diabetic'].unique()"
   ]
  },
  {
   "cell_type": "code",
   "execution_count": 92,
   "id": "8560dadc",
   "metadata": {},
   "outputs": [],
   "source": [
    "data.replace(\"Yes (during pregnancy)\", 1, inplace = True)\n",
    "data.replace(\"No, borderline diabetes\", 0, inplace = True)"
   ]
  },
  {
   "cell_type": "code",
   "execution_count": 93,
   "id": "ce80e46a",
   "metadata": {},
   "outputs": [
    {
     "data": {
      "text/plain": [
       "array(['Female', 'Male'], dtype=object)"
      ]
     },
     "execution_count": 93,
     "metadata": {},
     "output_type": "execute_result"
    }
   ],
   "source": [
    "data[\"Sex\"].unique()"
   ]
  },
  {
   "cell_type": "code",
   "execution_count": 94,
   "id": "85412de0",
   "metadata": {},
   "outputs": [],
   "source": [
    "data.replace(\"Female\", 1, inplace = True)\n",
    "data.replace(\"Male\", 0, inplace = True)"
   ]
  },
  {
   "cell_type": "markdown",
   "id": "cc0b12f9",
   "metadata": {},
   "source": [
    "# Temporarily Convert Categorical Variables for SMOTE"
   ]
  },
  {
   "cell_type": "code",
   "execution_count": 95,
   "id": "b427f26b",
   "metadata": {},
   "outputs": [
    {
     "data": {
      "text/plain": [
       "array(['55-59', '80 or older', '65-69', '75-79', '40-44', '70-74',\n",
       "       '60-64', '50-54', '45-49', '18-24', '35-39', '30-34', '25-29'],\n",
       "      dtype=object)"
      ]
     },
     "execution_count": 95,
     "metadata": {},
     "output_type": "execute_result"
    }
   ],
   "source": [
    "data[\"AgeCategory\"].unique()"
   ]
  },
  {
   "cell_type": "code",
   "execution_count": 96,
   "id": "b021c932",
   "metadata": {},
   "outputs": [],
   "source": [
    "data.replace(\"18-24\", 0, inplace = True)\n",
    "data.replace(\"25-29\", 1, inplace = True)\n",
    "data.replace(\"30-34\", 2, inplace = True)\n",
    "data.replace(\"35-39\", 3, inplace = True)\n",
    "data.replace(\"40-44\", 4, inplace = True)\n",
    "data.replace(\"45-49\", 5, inplace = True)\n",
    "data.replace(\"50-54\", 6, inplace = True)\n",
    "data.replace(\"55-59\", 7, inplace = True)\n",
    "data.replace(\"60-64\", 8, inplace = True)\n",
    "data.replace(\"65-69\", 9, inplace = True)\n",
    "data.replace(\"70-74\", 10, inplace = True)\n",
    "data.replace(\"75-79\", 11, inplace = True)\n",
    "data.replace(\"80 or older\", 12, inplace = True)"
   ]
  },
  {
   "cell_type": "code",
   "execution_count": 97,
   "id": "281e42e7",
   "metadata": {},
   "outputs": [
    {
     "data": {
      "text/plain": [
       "array(['White', 'Black', 'Asian', 'American Indian/Alaskan Native',\n",
       "       'Other', 'Hispanic'], dtype=object)"
      ]
     },
     "execution_count": 97,
     "metadata": {},
     "output_type": "execute_result"
    }
   ],
   "source": [
    "data[\"Race\"].unique()"
   ]
  },
  {
   "cell_type": "code",
   "execution_count": 98,
   "id": "957b3524",
   "metadata": {},
   "outputs": [],
   "source": [
    "data.replace(\"White\", 0, inplace = True)\n",
    "data.replace(\"Black\", 1, inplace = True)\n",
    "data.replace(\"Asian\", 2, inplace = True)\n",
    "data.replace(\"American Indian/Alaskan Native\", 3, inplace = True)\n",
    "data.replace(\"Hispanic\", 4, inplace = True)\n",
    "data.replace(\"Other\", 5, inplace = True)"
   ]
  },
  {
   "cell_type": "code",
   "execution_count": 99,
   "id": "698a2aaf",
   "metadata": {},
   "outputs": [
    {
     "data": {
      "text/plain": [
       "array(['Very good', 'Fair', 'Good', 'Poor', 'Excellent'], dtype=object)"
      ]
     },
     "execution_count": 99,
     "metadata": {},
     "output_type": "execute_result"
    }
   ],
   "source": [
    "data[\"GenHealth\"].unique()"
   ]
  },
  {
   "cell_type": "code",
   "execution_count": 100,
   "id": "944ad37f",
   "metadata": {},
   "outputs": [],
   "source": [
    "data.replace(\"Poor\", 0, inplace = True)\n",
    "data.replace(\"Fair\", 1, inplace = True)\n",
    "data.replace(\"Good\", 2, inplace = True)\n",
    "data.replace(\"Very good\", 3, inplace = True)\n",
    "data.replace(\"Excellent\", 4, inplace = True)"
   ]
  },
  {
   "cell_type": "markdown",
   "id": "ceb42ece",
   "metadata": {},
   "source": [
    "# Calculate Data Proportions"
   ]
  },
  {
   "cell_type": "code",
   "execution_count": 101,
   "id": "6bf9f009",
   "metadata": {},
   "outputs": [
    {
     "data": {
      "text/plain": [
       "292422"
      ]
     },
     "execution_count": 101,
     "metadata": {},
     "output_type": "execute_result"
    }
   ],
   "source": [
    "data['HeartDisease'].value_counts()[0] "
   ]
  },
  {
   "cell_type": "code",
   "execution_count": 102,
   "id": "701b81c5",
   "metadata": {},
   "outputs": [
    {
     "data": {
      "text/plain": [
       "27373"
      ]
     },
     "execution_count": 102,
     "metadata": {},
     "output_type": "execute_result"
    }
   ],
   "source": [
    "data['HeartDisease'].value_counts()[1]"
   ]
  },
  {
   "cell_type": "code",
   "execution_count": 103,
   "id": "3c1a6d6a",
   "metadata": {},
   "outputs": [
    {
     "data": {
      "text/plain": [
       "0.9144045404086993"
      ]
     },
     "execution_count": 103,
     "metadata": {},
     "output_type": "execute_result"
    }
   ],
   "source": [
    "data['HeartDisease'].value_counts()[0] / data.shape[0]"
   ]
  },
  {
   "cell_type": "code",
   "execution_count": 104,
   "id": "bdbd2411",
   "metadata": {},
   "outputs": [
    {
     "data": {
      "text/plain": [
       "0.08559545959130067"
      ]
     },
     "execution_count": 104,
     "metadata": {},
     "output_type": "execute_result"
    }
   ],
   "source": [
    "data['HeartDisease'].value_counts()[1] / data.shape[0]"
   ]
  },
  {
   "cell_type": "code",
   "execution_count": 105,
   "id": "912ca924",
   "metadata": {},
   "outputs": [
    {
     "data": {
      "text/plain": [
       "<AxesSubplot:xlabel='HeartDisease', ylabel='count'>"
      ]
     },
     "execution_count": 105,
     "metadata": {},
     "output_type": "execute_result"
    },
    {
     "data": {
      "image/png": "[encoded data removed]",
      "text/plain": [
       "<Figure size 432x288 with 1 Axes>"
      ]
     },
     "metadata": {
      "needs_background": "light"
     },
     "output_type": "display_data"
    }
   ],
   "source": [
    "sns.countplot(x='HeartDisease',data=data)"
   ]
  },
  {
   "cell_type": "markdown",
   "id": "3b8df74f",
   "metadata": {},
   "source": [
    "# SMOTE"
   ]
  },
  {
   "cell_type": "code",
   "execution_count": 106,
   "id": "997dcd04",
   "metadata": {},
   "outputs": [],
   "source": [
    "X = data[['BMI', 'Smoking', 'AlcoholDrinking', \"Stroke\", 'PhysicalHealth', \"MentalHealth\", \"DiffWalking\", \"Sex\", \"AgeCategory\", \"Race\", \"Diabetic\", \"PhysicalActivity\", \"GenHealth\", \"SleepTime\", \"Asthma\", \"KidneyDisease\", \"SkinCancer\"]]\n",
    "y = data.HeartDisease"
   ]
  },
  {
   "cell_type": "code",
   "execution_count": 107,
   "id": "12a12fe0",
   "metadata": {},
   "outputs": [],
   "source": [
    "from sklearn.model_selection import train_test_split\n",
    "X_train, X_test, y_train, y_test = train_test_split(X, y, \n",
    "                                                    test_size=0.3, \n",
    "                                                    random_state=0, \n",
    "                                                    shuffle=True, \n",
    "                                                    stratify=y)"
   ]
  },
  {
   "cell_type": "code",
   "execution_count": 108,
   "id": "e6cef28d",
   "metadata": {},
   "outputs": [],
   "source": [
    "test = pd.concat([X_test, y_test], axis=1)"
   ]
  },
  {
   "cell_type": "code",
   "execution_count": 109,
   "id": "cbdfde8e",
   "metadata": {},
   "outputs": [],
   "source": [
    "from imblearn.over_sampling import SMOTE\n",
    "from imblearn.over_sampling import BorderlineSMOTE\n",
    "from imblearn.under_sampling import RandomUnderSampler\n",
    "oversampled = SMOTE(random_state=0)\n",
    "X_train_smote, y_train_smote = oversampled.fit_resample(X_train, y_train)"
   ]
  },
  {
   "cell_type": "code",
   "execution_count": 110,
   "id": "9a9e7548",
   "metadata": {},
   "outputs": [],
   "source": [
    "train_smote = pd.concat([X_train_smote, y_train_smote], axis=1)"
   ]
  },
  {
   "cell_type": "markdown",
   "id": "7ce33763",
   "metadata": {},
   "source": [
    "# Change Categorical Data Back to Categories"
   ]
  },
  {
   "cell_type": "code",
   "execution_count": 136,
   "id": "c124ee1b",
   "metadata": {},
   "outputs": [
    {
     "data": {
      "text/html": [
       "<div>\n",
       "<style scoped>\n",
       "    .dataframe tbody tr th:only-of-type {\n",
       "        vertical-align: middle;\n",
       "    }\n",
       "\n",
       "    .dataframe tbody tr th {\n",
       "        vertical-align: top;\n",
       "    }\n",
       "\n",
       "    .dataframe thead th {\n",
       "        text-align: right;\n",
       "    }\n",
       "</style>\n",
       "<table border=\"1\" class=\"dataframe\">\n",
       "  <thead>\n",
       "    <tr style=\"text-align: right;\">\n",
       "      <th></th>\n",
       "      <th>BMI</th>\n",
       "      <th>Smoking</th>\n",
       "      <th>AlcoholDrinking</th>\n",
       "      <th>Stroke</th>\n",
       "      <th>PhysicalHealth</th>\n",
       "      <th>MentalHealth</th>\n",
       "      <th>DiffWalking</th>\n",
       "      <th>Sex</th>\n",
       "      <th>AgeCategory</th>\n",
       "      <th>Race</th>\n",
       "      <th>Diabetic</th>\n",
       "      <th>PhysicalActivity</th>\n",
       "      <th>GenHealth</th>\n",
       "      <th>SleepTime</th>\n",
       "      <th>Asthma</th>\n",
       "      <th>KidneyDisease</th>\n",
       "      <th>SkinCancer</th>\n",
       "      <th>HeartDisease</th>\n",
       "    </tr>\n",
       "  </thead>\n",
       "  <tbody>\n",
       "    <tr>\n",
       "      <th>0</th>\n",
       "      <td>31.63</td>\n",
       "      <td>0</td>\n",
       "      <td>0</td>\n",
       "      <td>0</td>\n",
       "      <td>0.0</td>\n",
       "      <td>0.0</td>\n",
       "      <td>0</td>\n",
       "      <td>0</td>\n",
       "      <td>40-44</td>\n",
       "      <td>Hispanic</td>\n",
       "      <td>0</td>\n",
       "      <td>1</td>\n",
       "      <td>Excellent</td>\n",
       "      <td>6.0</td>\n",
       "      <td>0</td>\n",
       "      <td>0</td>\n",
       "      <td>0</td>\n",
       "      <td>0</td>\n",
       "    </tr>\n",
       "    <tr>\n",
       "      <th>1</th>\n",
       "      <td>27.98</td>\n",
       "      <td>1</td>\n",
       "      <td>0</td>\n",
       "      <td>0</td>\n",
       "      <td>0.0</td>\n",
       "      <td>0.0</td>\n",
       "      <td>0</td>\n",
       "      <td>0</td>\n",
       "      <td>70-74</td>\n",
       "      <td>White</td>\n",
       "      <td>1</td>\n",
       "      <td>1</td>\n",
       "      <td>Fair</td>\n",
       "      <td>8.0</td>\n",
       "      <td>0</td>\n",
       "      <td>0</td>\n",
       "      <td>0</td>\n",
       "      <td>1</td>\n",
       "    </tr>\n",
       "    <tr>\n",
       "      <th>2</th>\n",
       "      <td>26.58</td>\n",
       "      <td>1</td>\n",
       "      <td>0</td>\n",
       "      <td>0</td>\n",
       "      <td>0.0</td>\n",
       "      <td>0.0</td>\n",
       "      <td>0</td>\n",
       "      <td>0</td>\n",
       "      <td>45-49</td>\n",
       "      <td>White</td>\n",
       "      <td>0</td>\n",
       "      <td>1</td>\n",
       "      <td>Excellent</td>\n",
       "      <td>6.0</td>\n",
       "      <td>0</td>\n",
       "      <td>0</td>\n",
       "      <td>0</td>\n",
       "      <td>0</td>\n",
       "    </tr>\n",
       "    <tr>\n",
       "      <th>3</th>\n",
       "      <td>33.28</td>\n",
       "      <td>1</td>\n",
       "      <td>0</td>\n",
       "      <td>0</td>\n",
       "      <td>0.0</td>\n",
       "      <td>23.0</td>\n",
       "      <td>0</td>\n",
       "      <td>1</td>\n",
       "      <td>70-74</td>\n",
       "      <td>White</td>\n",
       "      <td>1</td>\n",
       "      <td>1</td>\n",
       "      <td>Good</td>\n",
       "      <td>8.0</td>\n",
       "      <td>0</td>\n",
       "      <td>0</td>\n",
       "      <td>0</td>\n",
       "      <td>0</td>\n",
       "    </tr>\n",
       "    <tr>\n",
       "      <th>4</th>\n",
       "      <td>26.57</td>\n",
       "      <td>0</td>\n",
       "      <td>0</td>\n",
       "      <td>0</td>\n",
       "      <td>0.0</td>\n",
       "      <td>0.0</td>\n",
       "      <td>0</td>\n",
       "      <td>1</td>\n",
       "      <td>18-24</td>\n",
       "      <td>Hispanic</td>\n",
       "      <td>0</td>\n",
       "      <td>0</td>\n",
       "      <td>Very good</td>\n",
       "      <td>8.0</td>\n",
       "      <td>0</td>\n",
       "      <td>0</td>\n",
       "      <td>0</td>\n",
       "      <td>0</td>\n",
       "    </tr>\n",
       "  </tbody>\n",
       "</table>\n",
       "</div>"
      ],
      "text/plain": [
       "     BMI  Smoking  AlcoholDrinking  Stroke  PhysicalHealth  MentalHealth  \\\n",
       "0  31.63        0                0       0             0.0           0.0   \n",
       "1  27.98        1                0       0             0.0           0.0   \n",
       "2  26.58        1                0       0             0.0           0.0   \n",
       "3  33.28        1                0       0             0.0          23.0   \n",
       "4  26.57        0                0       0             0.0           0.0   \n",
       "\n",
       "   DiffWalking  Sex AgeCategory      Race  Diabetic  PhysicalActivity  \\\n",
       "0            0    0       40-44  Hispanic         0                 1   \n",
       "1            0    0       70-74     White         1                 1   \n",
       "2            0    0       45-49     White         0                 1   \n",
       "3            0    1       70-74     White         1                 1   \n",
       "4            0    1       18-24  Hispanic         0                 0   \n",
       "\n",
       "   GenHealth  SleepTime  Asthma  KidneyDisease  SkinCancer  HeartDisease  \n",
       "0  Excellent        6.0       0              0           0             0  \n",
       "1       Fair        8.0       0              0           0             1  \n",
       "2  Excellent        6.0       0              0           0             0  \n",
       "3       Good        8.0       0              0           0             0  \n",
       "4  Very good        8.0       0              0           0             0  "
      ]
     },
     "execution_count": 136,
     "metadata": {},
     "output_type": "execute_result"
    }
   ],
   "source": [
    "def reverse_reformat(data):\n",
    "    replacement_age = {0 : \"18-24\", 1 : \"25-29\", 2 : \"30-34\", 3 : \"35-39\", 4 : \"40-44\", 5 : \"45-49\", 6 : \"50-54\", 7: \"55-59\", 8: \"60-64\", 9: \"65-69\", 10: \"70-74\", 11:  \"75-79\", 12: \"80 or older\"}\n",
    "    replacement_race = { 0: \"White\", 1: \"Black\", 2 : \"Asian\", 3: \"American Indian/Alaskan Native\",  4: \"Hispanic\", 5: \"Other\"}\n",
    "    replacement_genhealth = {0: \"Poor\", 1: \"Fair\", 2: \"Good\", 3: \"Very good\", 4: \"Excellent\"}\n",
    "    replacement_bmi_cut = {0: '(11.937, 19.55]', 1: '(19.55, 27.08]', 2: '(27.08, 34.61]', 3: '(34.61, 42.14]', 4: '(42.14, 49.67]', 5: '(49.67, 57.2]', 6: '(57.2, 64.73]', 7: '(64.73, 72.26]', 8: '(72.26, 79.79]', 9: '(79.79, 87.32]', 10: '(87.32, 94.85]'}\n",
    "    replacement_bmi_qcut = {0: '(12.019, 21.26]', 1: '(21.26, 23.01]', 2: '(23.01, 24.33]', 3: '(24.33, 25.61]', 4: '(25.61, 26.61]', 5: '(26.61, 27.89]', 6: '(27.89, 29.26]', 7: '(29.26, 31.0]', 8: '(31.0, 33.23]', 9: '(33.23, 36.92]', 10: '(36.92, 94.85]'}\n",
    "    data['AgeCategory'].replace(replacement_age, inplace = True)\n",
    "    data['Race'].replace(replacement_race, inplace = True)\n",
    "    data['GenHealth'].replace(replacement_genhealth, inplace = True)\n",
    "\n",
    "reverse_reformat(train_smote)\n",
    "reverse_reformat(data)\n",
    "train_smote.head()"
   ]
  },
  {
   "cell_type": "code",
   "execution_count": null,
   "id": "b8ee81ca",
   "metadata": {},
   "outputs": [],
   "source": []
  },
  {
   "cell_type": "markdown",
   "id": "25d3200c",
   "metadata": {},
   "source": [
    "# Some EDA"
   ]
  },
  {
   "cell_type": "code",
   "execution_count": 112,
   "id": "803406ca",
   "metadata": {},
   "outputs": [
    {
     "data": {
      "text/plain": [
       "<AxesSubplot:>"
      ]
     },
     "execution_count": 112,
     "metadata": {},
     "output_type": "execute_result"
    },
    {
     "data": {
      "image/png": "[encoded data removed]",
      "text/plain": [
       "<Figure size 432x288 with 2 Axes>"
      ]
     },
     "metadata": {
      "needs_background": "light"
     },
     "output_type": "display_data"
    }
   ],
   "source": [
    "sns.heatmap(train_smote.corr(), cmap='tab10')"
   ]
  },
  {
   "cell_type": "code",
   "execution_count": 113,
   "id": "15178546",
   "metadata": {},
   "outputs": [
    {
     "data": {
      "text/plain": [
       "BMI                 0.092933\n",
       "Smoking             0.075172\n",
       "AlcoholDrinking    -0.160045\n",
       "Stroke              0.079751\n",
       "PhysicalHealth      0.243135\n",
       "MentalHealth        0.045628\n",
       "DiffWalking         0.178598\n",
       "Sex                -0.265262\n",
       "Diabetic            0.120950\n",
       "PhysicalActivity   -0.263233\n",
       "SleepTime           0.009837\n",
       "Asthma             -0.097669\n",
       "KidneyDisease       0.040832\n",
       "SkinCancer          0.021672\n",
       "HeartDisease        1.000000\n",
       "Name: HeartDisease, dtype: float64"
      ]
     },
     "execution_count": 113,
     "metadata": {},
     "output_type": "execute_result"
    }
   ],
   "source": [
    "train_smote.corr().loc[\"HeartDisease\", :]"
   ]
  },
  {
   "cell_type": "code",
   "execution_count": 114,
   "id": "c3ad8a54",
   "metadata": {},
   "outputs": [
    {
     "data": {
      "text/plain": [
       "<AxesSubplot:xlabel='AgeCategory', ylabel='count'>"
      ]
     },
     "execution_count": 114,
     "metadata": {},
     "output_type": "execute_result"
    },
    {
     "data": {
      "image/png": "[encoded data removed]",
      "text/plain": [
       "<Figure size 432x288 with 1 Axes>"
      ]
     },
     "metadata": {
      "needs_background": "light"
     },
     "output_type": "display_data"
    }
   ],
   "source": [
    "sns.countplot(x='AgeCategory',data=train_smote)"
   ]
  },
  {
   "cell_type": "markdown",
   "id": "15ef6b14",
   "metadata": {},
   "source": [
    "# Baseline Model"
   ]
  },
  {
   "cell_type": "code",
   "execution_count": 126,
   "id": "8c448625",
   "metadata": {},
   "outputs": [
    {
     "name": "stdout",
     "output_type": "stream",
     "text": [
      "Optimization terminated successfully.\n",
      "         Current function value: 0.444383\n",
      "         Iterations 7\n"
     ]
    }
   ],
   "source": [
    "model = sm.logit(formula = 'HeartDisease~BMI+Smoking+AlcoholDrinking+Stroke+PhysicalHealth+MentalHealth+DiffWalking+Sex+AgeCategory+Race+Diabetic+PhysicalActivity+GenHealth+SleepTime+Asthma+KidneyDisease+SkinCancer', data = train_smote).fit()"
   ]
  },
  {
   "cell_type": "code",
   "execution_count": 127,
   "id": "82c3326d",
   "metadata": {},
   "outputs": [
    {
     "data": {
      "text/html": [
       "<table class=\"simpletable\">\n",
       "<caption>Logit Regression Results</caption>\n",
       "<tr>\n",
       "  <th>Dep. Variable:</th>     <td>HeartDisease</td>   <th>  No. Observations:  </th>   <td>409390</td>   \n",
       "</tr>\n",
       "<tr>\n",
       "  <th>Model:</th>                 <td>Logit</td>      <th>  Df Residuals:      </th>   <td>409354</td>   \n",
       "</tr>\n",
       "<tr>\n",
       "  <th>Method:</th>                 <td>MLE</td>       <th>  Df Model:          </th>   <td>    35</td>   \n",
       "</tr>\n",
       "<tr>\n",
       "  <th>Date:</th>            <td>Sat, 04 Mar 2023</td> <th>  Pseudo R-squ.:     </th>   <td>0.3589</td>   \n",
       "</tr>\n",
       "<tr>\n",
       "  <th>Time:</th>                <td>09:44:05</td>     <th>  Log-Likelihood:    </th> <td>-1.8193e+05</td>\n",
       "</tr>\n",
       "<tr>\n",
       "  <th>converged:</th>             <td>True</td>       <th>  LL-Null:           </th> <td>-2.8377e+05</td>\n",
       "</tr>\n",
       "<tr>\n",
       "  <th>Covariance Type:</th>     <td>nonrobust</td>    <th>  LLR p-value:       </th>   <td> 0.000</td>   \n",
       "</tr>\n",
       "</table>\n",
       "<table class=\"simpletable\">\n",
       "<tr>\n",
       "               <td></td>                 <th>coef</th>     <th>std err</th>      <th>z</th>      <th>P>|z|</th>  <th>[0.025</th>    <th>0.975]</th>  \n",
       "</tr>\n",
       "<tr>\n",
       "  <th>Intercept</th>                  <td>   -2.9293</td> <td>    0.057</td> <td>  -51.167</td> <td> 0.000</td> <td>   -3.042</td> <td>   -2.817</td>\n",
       "</tr>\n",
       "<tr>\n",
       "  <th>AgeCategory[T.25-29]</th>       <td>    0.2979</td> <td>    0.050</td> <td>    5.915</td> <td> 0.000</td> <td>    0.199</td> <td>    0.397</td>\n",
       "</tr>\n",
       "<tr>\n",
       "  <th>AgeCategory[T.30-34]</th>       <td>    0.6011</td> <td>    0.047</td> <td>   12.896</td> <td> 0.000</td> <td>    0.510</td> <td>    0.692</td>\n",
       "</tr>\n",
       "<tr>\n",
       "  <th>AgeCategory[T.35-39]</th>       <td>    0.8569</td> <td>    0.044</td> <td>   19.453</td> <td> 0.000</td> <td>    0.771</td> <td>    0.943</td>\n",
       "</tr>\n",
       "<tr>\n",
       "  <th>AgeCategory[T.40-44]</th>       <td>    1.2022</td> <td>    0.042</td> <td>   28.594</td> <td> 0.000</td> <td>    1.120</td> <td>    1.285</td>\n",
       "</tr>\n",
       "<tr>\n",
       "  <th>AgeCategory[T.45-49]</th>       <td>    1.5427</td> <td>    0.041</td> <td>   37.921</td> <td> 0.000</td> <td>    1.463</td> <td>    1.622</td>\n",
       "</tr>\n",
       "<tr>\n",
       "  <th>AgeCategory[T.50-54]</th>       <td>    1.9871</td> <td>    0.039</td> <td>   50.655</td> <td> 0.000</td> <td>    1.910</td> <td>    2.064</td>\n",
       "</tr>\n",
       "<tr>\n",
       "  <th>AgeCategory[T.55-59]</th>       <td>    2.3104</td> <td>    0.039</td> <td>   60.007</td> <td> 0.000</td> <td>    2.235</td> <td>    2.386</td>\n",
       "</tr>\n",
       "<tr>\n",
       "  <th>AgeCategory[T.60-64]</th>       <td>    2.6257</td> <td>    0.038</td> <td>   68.923</td> <td> 0.000</td> <td>    2.551</td> <td>    2.700</td>\n",
       "</tr>\n",
       "<tr>\n",
       "  <th>AgeCategory[T.65-69]</th>       <td>    2.9110</td> <td>    0.038</td> <td>   76.585</td> <td> 0.000</td> <td>    2.837</td> <td>    2.986</td>\n",
       "</tr>\n",
       "<tr>\n",
       "  <th>AgeCategory[T.70-74]</th>       <td>    3.2515</td> <td>    0.038</td> <td>   85.209</td> <td> 0.000</td> <td>    3.177</td> <td>    3.326</td>\n",
       "</tr>\n",
       "<tr>\n",
       "  <th>AgeCategory[T.75-79]</th>       <td>    3.5531</td> <td>    0.039</td> <td>   91.574</td> <td> 0.000</td> <td>    3.477</td> <td>    3.629</td>\n",
       "</tr>\n",
       "<tr>\n",
       "  <th>AgeCategory[T.80 or older]</th> <td>    3.6044</td> <td>    0.039</td> <td>   92.838</td> <td> 0.000</td> <td>    3.528</td> <td>    3.680</td>\n",
       "</tr>\n",
       "<tr>\n",
       "  <th>Race[T.Asian]</th>              <td>   -0.8495</td> <td>    0.046</td> <td>  -18.556</td> <td> 0.000</td> <td>   -0.939</td> <td>   -0.760</td>\n",
       "</tr>\n",
       "<tr>\n",
       "  <th>Race[T.Black]</th>              <td>   -1.3654</td> <td>    0.037</td> <td>  -37.240</td> <td> 0.000</td> <td>   -1.437</td> <td>   -1.294</td>\n",
       "</tr>\n",
       "<tr>\n",
       "  <th>Race[T.Hispanic]</th>           <td>   -0.5061</td> <td>    0.035</td> <td>  -14.620</td> <td> 0.000</td> <td>   -0.574</td> <td>   -0.438</td>\n",
       "</tr>\n",
       "<tr>\n",
       "  <th>Race[T.Other]</th>              <td>   -0.9137</td> <td>    0.041</td> <td>  -22.124</td> <td> 0.000</td> <td>   -0.995</td> <td>   -0.833</td>\n",
       "</tr>\n",
       "<tr>\n",
       "  <th>Race[T.White]</th>              <td>   -0.1412</td> <td>    0.031</td> <td>   -4.545</td> <td> 0.000</td> <td>   -0.202</td> <td>   -0.080</td>\n",
       "</tr>\n",
       "<tr>\n",
       "  <th>GenHealth[T.Fair]</th>          <td>    3.1064</td> <td>    0.020</td> <td>  156.401</td> <td> 0.000</td> <td>    3.067</td> <td>    3.145</td>\n",
       "</tr>\n",
       "<tr>\n",
       "  <th>GenHealth[T.Good]</th>          <td>    2.0901</td> <td>    0.017</td> <td>  122.426</td> <td> 0.000</td> <td>    2.057</td> <td>    2.124</td>\n",
       "</tr>\n",
       "<tr>\n",
       "  <th>GenHealth[T.Poor]</th>          <td>    4.0816</td> <td>    0.028</td> <td>  147.792</td> <td> 0.000</td> <td>    4.027</td> <td>    4.136</td>\n",
       "</tr>\n",
       "<tr>\n",
       "  <th>GenHealth[T.Very good]</th>     <td>    1.1017</td> <td>    0.017</td> <td>   64.206</td> <td> 0.000</td> <td>    1.068</td> <td>    1.135</td>\n",
       "</tr>\n",
       "<tr>\n",
       "  <th>BMI</th>                        <td>    0.0073</td> <td>    0.001</td> <td>   10.372</td> <td> 0.000</td> <td>    0.006</td> <td>    0.009</td>\n",
       "</tr>\n",
       "<tr>\n",
       "  <th>Smoking</th>                    <td>   -0.1826</td> <td>    0.009</td> <td>  -21.419</td> <td> 0.000</td> <td>   -0.199</td> <td>   -0.166</td>\n",
       "</tr>\n",
       "<tr>\n",
       "  <th>AlcoholDrinking</th>            <td>   -1.8634</td> <td>    0.030</td> <td>  -61.580</td> <td> 0.000</td> <td>   -1.923</td> <td>   -1.804</td>\n",
       "</tr>\n",
       "<tr>\n",
       "  <th>Stroke</th>                     <td>    0.0755</td> <td>    0.021</td> <td>    3.640</td> <td> 0.000</td> <td>    0.035</td> <td>    0.116</td>\n",
       "</tr>\n",
       "<tr>\n",
       "  <th>PhysicalHealth</th>             <td>   -0.0052</td> <td>    0.001</td> <td>   -8.601</td> <td> 0.000</td> <td>   -0.006</td> <td>   -0.004</td>\n",
       "</tr>\n",
       "<tr>\n",
       "  <th>MentalHealth</th>               <td>    0.0076</td> <td>    0.001</td> <td>   13.410</td> <td> 0.000</td> <td>    0.006</td> <td>    0.009</td>\n",
       "</tr>\n",
       "<tr>\n",
       "  <th>DiffWalking</th>                <td>   -0.4525</td> <td>    0.013</td> <td>  -35.581</td> <td> 0.000</td> <td>   -0.477</td> <td>   -0.428</td>\n",
       "</tr>\n",
       "<tr>\n",
       "  <th>Sex</th>                        <td>   -1.3631</td> <td>    0.009</td> <td> -153.837</td> <td> 0.000</td> <td>   -1.380</td> <td>   -1.346</td>\n",
       "</tr>\n",
       "<tr>\n",
       "  <th>Diabetic</th>                   <td>   -0.2224</td> <td>    0.012</td> <td>  -19.322</td> <td> 0.000</td> <td>   -0.245</td> <td>   -0.200</td>\n",
       "</tr>\n",
       "<tr>\n",
       "  <th>PhysicalActivity</th>           <td>   -0.5547</td> <td>    0.010</td> <td>  -57.454</td> <td> 0.000</td> <td>   -0.574</td> <td>   -0.536</td>\n",
       "</tr>\n",
       "<tr>\n",
       "  <th>SleepTime</th>                  <td>   -0.0312</td> <td>    0.003</td> <td>  -10.867</td> <td> 0.000</td> <td>   -0.037</td> <td>   -0.026</td>\n",
       "</tr>\n",
       "<tr>\n",
       "  <th>Asthma</th>                     <td>   -0.6561</td> <td>    0.014</td> <td>  -45.539</td> <td> 0.000</td> <td>   -0.684</td> <td>   -0.628</td>\n",
       "</tr>\n",
       "<tr>\n",
       "  <th>KidneyDisease</th>              <td>   -0.4820</td> <td>    0.022</td> <td>  -22.319</td> <td> 0.000</td> <td>   -0.524</td> <td>   -0.440</td>\n",
       "</tr>\n",
       "<tr>\n",
       "  <th>SkinCancer</th>                 <td>   -0.5891</td> <td>    0.014</td> <td>  -42.155</td> <td> 0.000</td> <td>   -0.617</td> <td>   -0.562</td>\n",
       "</tr>\n",
       "</table>"
      ],
      "text/plain": [
       "<class 'statsmodels.iolib.summary.Summary'>\n",
       "\"\"\"\n",
       "                           Logit Regression Results                           \n",
       "==============================================================================\n",
       "Dep. Variable:           HeartDisease   No. Observations:               409390\n",
       "Model:                          Logit   Df Residuals:                   409354\n",
       "Method:                           MLE   Df Model:                           35\n",
       "Date:                Sat, 04 Mar 2023   Pseudo R-squ.:                  0.3589\n",
       "Time:                        09:44:05   Log-Likelihood:            -1.8193e+05\n",
       "converged:                       True   LL-Null:                   -2.8377e+05\n",
       "Covariance Type:            nonrobust   LLR p-value:                     0.000\n",
       "==============================================================================================\n",
       "                                 coef    std err          z      P>|z|      [0.025      0.975]\n",
       "----------------------------------------------------------------------------------------------\n",
       "Intercept                     -2.9293      0.057    -51.167      0.000      -3.042      -2.817\n",
       "AgeCategory[T.25-29]           0.2979      0.050      5.915      0.000       0.199       0.397\n",
       "AgeCategory[T.30-34]           0.6011      0.047     12.896      0.000       0.510       0.692\n",
       "AgeCategory[T.35-39]           0.8569      0.044     19.453      0.000       0.771       0.943\n",
       "AgeCategory[T.40-44]           1.2022      0.042     28.594      0.000       1.120       1.285\n",
       "AgeCategory[T.45-49]           1.5427      0.041     37.921      0.000       1.463       1.622\n",
       "AgeCategory[T.50-54]           1.9871      0.039     50.655      0.000       1.910       2.064\n",
       "AgeCategory[T.55-59]           2.3104      0.039     60.007      0.000       2.235       2.386\n",
       "AgeCategory[T.60-64]           2.6257      0.038     68.923      0.000       2.551       2.700\n",
       "AgeCategory[T.65-69]           2.9110      0.038     76.585      0.000       2.837       2.986\n",
       "AgeCategory[T.70-74]           3.2515      0.038     85.209      0.000       3.177       3.326\n",
       "AgeCategory[T.75-79]           3.5531      0.039     91.574      0.000       3.477       3.629\n",
       "AgeCategory[T.80 or older]     3.6044      0.039     92.838      0.000       3.528       3.680\n",
       "Race[T.Asian]                 -0.8495      0.046    -18.556      0.000      -0.939      -0.760\n",
       "Race[T.Black]                 -1.3654      0.037    -37.240      0.000      -1.437      -1.294\n",
       "Race[T.Hispanic]              -0.5061      0.035    -14.620      0.000      -0.574      -0.438\n",
       "Race[T.Other]                 -0.9137      0.041    -22.124      0.000      -0.995      -0.833\n",
       "Race[T.White]                 -0.1412      0.031     -4.545      0.000      -0.202      -0.080\n",
       "GenHealth[T.Fair]              3.1064      0.020    156.401      0.000       3.067       3.145\n",
       "GenHealth[T.Good]              2.0901      0.017    122.426      0.000       2.057       2.124\n",
       "GenHealth[T.Poor]              4.0816      0.028    147.792      0.000       4.027       4.136\n",
       "GenHealth[T.Very good]         1.1017      0.017     64.206      0.000       1.068       1.135\n",
       "BMI                            0.0073      0.001     10.372      0.000       0.006       0.009\n",
       "Smoking                       -0.1826      0.009    -21.419      0.000      -0.199      -0.166\n",
       "AlcoholDrinking               -1.8634      0.030    -61.580      0.000      -1.923      -1.804\n",
       "Stroke                         0.0755      0.021      3.640      0.000       0.035       0.116\n",
       "PhysicalHealth                -0.0052      0.001     -8.601      0.000      -0.006      -0.004\n",
       "MentalHealth                   0.0076      0.001     13.410      0.000       0.006       0.009\n",
       "DiffWalking                   -0.4525      0.013    -35.581      0.000      -0.477      -0.428\n",
       "Sex                           -1.3631      0.009   -153.837      0.000      -1.380      -1.346\n",
       "Diabetic                      -0.2224      0.012    -19.322      0.000      -0.245      -0.200\n",
       "PhysicalActivity              -0.5547      0.010    -57.454      0.000      -0.574      -0.536\n",
       "SleepTime                     -0.0312      0.003    -10.867      0.000      -0.037      -0.026\n",
       "Asthma                        -0.6561      0.014    -45.539      0.000      -0.684      -0.628\n",
       "KidneyDisease                 -0.4820      0.022    -22.319      0.000      -0.524      -0.440\n",
       "SkinCancer                    -0.5891      0.014    -42.155      0.000      -0.617      -0.562\n",
       "==============================================================================================\n",
       "\"\"\""
      ]
     },
     "execution_count": 127,
     "metadata": {},
     "output_type": "execute_result"
    }
   ],
   "source": [
    "model.summary()"
   ]
  },
  {
   "cell_type": "code",
   "execution_count": 128,
   "id": "3041f337",
   "metadata": {},
   "outputs": [],
   "source": [
    "from sklearn.metrics import roc_curve, auc\n",
    "#Function to compute confusion matrix and prediction accuracy on test/train data\n",
    "def confusion_matrix_data(data,actual_values,model,cutoff=0.5):\n",
    "#Predict the values using the Logit model\n",
    "    pred_values = model.predict(data)\n",
    "# Specify the bins\n",
    "    bins=np.array([0,cutoff,1])\n",
    "#Confusion matrix\n",
    "    cm = np.histogram2d(actual_values, pred_values, bins=bins)[0]\n",
    "    cm_df = pd.DataFrame(cm)\n",
    "    cm_df.columns = ['Predicted 0','Predicted 1']\n",
    "    cm_df = cm_df.rename(index={0: 'Actual 0',1:'Actual 1'})\n",
    "# Calculate the accuracy\n",
    "    accuracy = (cm[0,0]+cm[1,1])/cm.sum()\n",
    "    fnr = (cm[1,0])/(cm[1,0]+cm[1,1])\n",
    "    precision = (cm[1,1])/(cm[0,1]+cm[1,1])\n",
    "    fpr = (cm[0,1])/(cm[0,0]+cm[0,1])\n",
    "    tpr = (cm[1,1])/(cm[1,0]+cm[1,1])\n",
    "    fpr_roc, tpr_roc, auc_thresholds = roc_curve(actual_values, pred_values)\n",
    "    auc_value = (auc(fpr_roc, tpr_roc))# AUC of ROC\n",
    "    sns.heatmap(cm_df, annot=True, cmap='Blues', fmt='g')\n",
    "    plt.ylabel(\"Actual Values\")\n",
    "    plt.xlabel(\"Predicted Values\")\n",
    "    print(\"Classification accuracy = {:.1%}\".format(accuracy))\n",
    "    print(\"Precision = {:.1%}\".format(precision))\n",
    "    print(\"TPR or Recall = {:.1%}\".format(tpr))\n",
    "    print(\"FNR = {:.1%}\".format(fnr))\n",
    "    print(\"FPR = {:.1%}\".format(fpr))\n",
    "    print(\"ROC-AUC = {:.1%}\".format(auc_value))\n",
    "    return pred_values"
   ]
  },
  {
   "cell_type": "code",
   "execution_count": 138,
   "id": "2609466d",
   "metadata": {},
   "outputs": [
    {
     "name": "stdout",
     "output_type": "stream",
     "text": [
      "Classification accuracy = 81.3%\n",
      "Precision = 23.9%\n",
      "TPR or Recall = 54.0%\n",
      "FNR = 46.0%\n",
      "FPR = 16.1%\n",
      "ROC-AUC = 78.7%\n"
     ]
    },
    {
     "data": {
      "text/plain": [
       "0         0.045198\n",
       "1         0.431221\n",
       "2         0.801958\n",
       "3         0.647883\n",
       "4         0.033629\n",
       "            ...   \n",
       "319790    0.681259\n",
       "319791    0.056859\n",
       "319792    0.150476\n",
       "319793    0.072715\n",
       "319794    0.606151\n",
       "Length: 319795, dtype: float64"
      ]
     },
     "execution_count": 138,
     "metadata": {},
     "output_type": "execute_result"
    },
    {
     "data": {
      "image/png": "[encoded data removed]",
      "text/plain": [
       "<Figure size 432x288 with 2 Axes>"
      ]
     },
     "metadata": {
      "needs_background": "light"
     },
     "output_type": "display_data"
    }
   ],
   "source": [
    "confusion_matrix_data(data,data.HeartDisease,model,0.6)"
   ]
  },
  {
   "cell_type": "markdown",
   "id": "228216d4",
   "metadata": {},
   "source": [
    "# Forward Stepwise Selection"
   ]
  },
  {
   "cell_type": "code",
   "execution_count": 115,
   "id": "dc663d6f",
   "metadata": {},
   "outputs": [],
   "source": [
    "import pandas as pd\n",
    "import numpy as np\n",
    "import statsmodels.formula.api as sm\n",
    "import seaborn as sns\n",
    "import matplotlib.pyplot as plt\n",
    "import itertools\n",
    "import time"
   ]
  },
  {
   "cell_type": "code",
   "execution_count": 116,
   "id": "38bc7a54",
   "metadata": {},
   "outputs": [
    {
     "name": "stdout",
     "output_type": "stream",
     "text": [
      "<class 'pandas.core.frame.DataFrame'>\n",
      "RangeIndex: 409390 entries, 0 to 409389\n",
      "Data columns (total 18 columns):\n",
      " #   Column            Non-Null Count   Dtype  \n",
      "---  ------            --------------   -----  \n",
      " 0   BMI               409390 non-null  float64\n",
      " 1   Smoking           409390 non-null  int64  \n",
      " 2   AlcoholDrinking   409390 non-null  int64  \n",
      " 3   Stroke            409390 non-null  int64  \n",
      " 4   PhysicalHealth    409390 non-null  float64\n",
      " 5   MentalHealth      409390 non-null  float64\n",
      " 6   DiffWalking       409390 non-null  int64  \n",
      " 7   Sex               409390 non-null  int64  \n",
      " 8   AgeCategory       409390 non-null  object \n",
      " 9   Race              409390 non-null  object \n",
      " 10  Diabetic          409390 non-null  int64  \n",
      " 11  PhysicalActivity  409390 non-null  int64  \n",
      " 12  GenHealth         409390 non-null  object \n",
      " 13  SleepTime         409390 non-null  float64\n",
      " 14  Asthma            409390 non-null  int64  \n",
      " 15  KidneyDisease     409390 non-null  int64  \n",
      " 16  SkinCancer        409390 non-null  int64  \n",
      " 17  HeartDisease      409390 non-null  int64  \n",
      "dtypes: float64(4), int64(11), object(3)\n",
      "memory usage: 56.2+ MB\n"
     ]
    }
   ],
   "source": [
    "train_smote.info()"
   ]
  },
  {
   "cell_type": "code",
   "execution_count": 117,
   "id": "17bfc225",
   "metadata": {},
   "outputs": [],
   "source": [
    "#Take out race, age group and health\n",
    "X = train_smote[['BMI', 'Smoking', 'AlcoholDrinking', \"Stroke\", \"Sex\",'PhysicalHealth', \"DiffWalking\", \"Diabetic\", \"PhysicalActivity\", \"SleepTime\", \"Asthma\", \"KidneyDisease\", \"SkinCancer\"]]\n",
    "\n"
   ]
  },
  {
   "cell_type": "code",
   "execution_count": 118,
   "id": "6e3cb247",
   "metadata": {},
   "outputs": [],
   "source": [
    "#Function to develop a model based on all predictors in predictor_subset\n",
    "def processSubset(predictor_subset):\n",
    "    # Fit model on feature_set and calculate R-squared\n",
    "    model = sm.logit('HeartDisease~' + '+'.join(predictor_subset),data = train_smote).fit()\n",
    "    llr_pvalue = model.llr_pvalue\n",
    "    return {\"model\":model, \"llr_pvalue\":llr_pvalue}\n",
    "#Function to select the best model amongst all models with 'k' predictors\n",
    "def getBest_model(k):\n",
    "    tic = time.time()\n",
    "    results = []\n",
    "    for combo in itertools.combinations(X.columns, k):\n",
    "        results.append(processSubset((list(combo))))\n",
    "\n",
    "    # Wrap everything up in a dataframe\n",
    "    models = pd.DataFrame(results)\n",
    "\n",
    "    # Choose the model with the highest RSS\n",
    "    best_model = models.loc[models['llr_pvalue'].argmin()]\n",
    "    \n",
    "    toc = time.time()\n",
    "    print(\"Processed\", models.shape[0], \"models on\", k, \"predictors in\", (toc-tic), \"seconds.\")\n",
    "    return best_model"
   ]
  },
  {
   "cell_type": "code",
   "execution_count": 119,
   "id": "f49e2bdc",
   "metadata": {},
   "outputs": [],
   "source": [
    "#Function to find the best predictor out of p-k predictors and add it to the model containing the k predictors\n",
    "def forward(predictors):\n",
    "\n",
    "    # Pull out predictors we still need to process\n",
    "    remaining_predictors = [p for p in X.columns if p not in predictors]\n",
    "    \n",
    "    tic = time.time()\n",
    "    \n",
    "    results = []\n",
    "    \n",
    "    for p in remaining_predictors:\n",
    "        results.append(processSubset(predictors+[p]))\n",
    "    \n",
    "    # Wrap everything up in a nice dataframe\n",
    "    models = pd.DataFrame(results)\n",
    "    \n",
    "    # Choose the model with the highest RSS\n",
    "    best_model = models.loc[models['llr_pvalue'].argmin()]\n",
    "    \n",
    "    toc = time.time()\n",
    "    print(\"Processed \", models.shape[0], \"models on\", len(predictors)+1, \"predictors in\", (toc-tic), \"seconds.\")\n",
    "    \n",
    "    # Return the best model, along with some other useful information about the model\n",
    "    return best_model"
   ]
  },
  {
   "cell_type": "code",
   "execution_count": 120,
   "id": "e64e07cd",
   "metadata": {},
   "outputs": [],
   "source": [
    "def forward_selection():\n",
    "    models_best = pd.DataFrame(columns=[\"llr_pvalue\", \"model\"])\n",
    "\n",
    "    tic = time.time()\n",
    "    predictors = []\n",
    "\n",
    "    for i in range(1,len(X.columns)+1):    \n",
    "        models_best.loc[i] = forward(predictors)\n",
    "        predictors = list(models_best.loc[i][\"model\"].params.index[1:])\n",
    "\n",
    "    toc = time.time()\n",
    "    print(\"Total elapsed time:\", (toc-tic), \"seconds.\")\n",
    "    return models_best"
   ]
  },
  {
   "cell_type": "code",
   "execution_count": 121,
   "id": "7ad0561f",
   "metadata": {
    "scrolled": false
   },
   "outputs": [
    {
     "name": "stdout",
     "output_type": "stream",
     "text": [
      "Optimization terminated successfully.\n",
      "         Current function value: 0.688789\n",
      "         Iterations 4\n",
      "Optimization terminated successfully.\n",
      "         Current function value: 0.690319\n",
      "         Iterations 3\n",
      "Optimization terminated successfully.\n",
      "         Current function value: 0.678547\n",
      "         Iterations 6\n",
      "Optimization terminated successfully.\n",
      "         Current function value: 0.689890\n",
      "         Iterations 5\n",
      "Optimization terminated successfully.\n",
      "         Current function value: 0.657472\n",
      "         Iterations 4\n",
      "Optimization terminated successfully.\n",
      "         Current function value: 0.662103\n",
      "         Iterations 5\n",
      "Optimization terminated successfully.\n",
      "         Current function value: 0.676878\n",
      "         Iterations 5\n",
      "Optimization terminated successfully.\n",
      "         Current function value: 0.685752\n",
      "         Iterations 4\n",
      "Optimization terminated successfully.\n",
      "         Current function value: 0.657880\n",
      "         Iterations 5\n",
      "Optimization terminated successfully.\n",
      "         Current function value: 0.693099\n",
      "         Iterations 3\n",
      "Optimization terminated successfully.\n",
      "         Current function value: 0.688314\n",
      "         Iterations 4\n",
      "Optimization terminated successfully.\n",
      "         Current function value: 0.692307\n",
      "         Iterations 4\n",
      "Optimization terminated successfully.\n",
      "         Current function value: 0.692912\n",
      "         Iterations 3\n",
      "Processed  13 models on 1 predictors in 5.391288995742798 seconds.\n",
      "Optimization terminated successfully.\n",
      "         Current function value: 0.685827\n",
      "         Iterations 4\n",
      "Optimization terminated successfully.\n",
      "         Current function value: 0.674736\n",
      "         Iterations 6\n",
      "Optimization terminated successfully.\n",
      "         Current function value: 0.685528\n",
      "         Iterations 5\n",
      "Optimization terminated successfully.\n",
      "         Current function value: 0.654105\n",
      "         Iterations 5\n",
      "Optimization terminated successfully.\n",
      "         Current function value: 0.659949\n",
      "         Iterations 5\n",
      "Optimization terminated successfully.\n",
      "         Current function value: 0.675106\n",
      "         Iterations 5\n",
      "Optimization terminated successfully.\n",
      "         Current function value: 0.683352\n",
      "         Iterations 4\n",
      "Optimization terminated successfully.\n",
      "         Current function value: 0.656817\n",
      "         Iterations 5\n",
      "Optimization terminated successfully.\n",
      "         Current function value: 0.688686\n",
      "         Iterations 4\n",
      "Optimization terminated successfully.\n",
      "         Current function value: 0.683121\n",
      "         Iterations 4\n",
      "Optimization terminated successfully.\n",
      "         Current function value: 0.688119\n",
      "         Iterations 4\n",
      "Optimization terminated successfully.\n",
      "         Current function value: 0.688425\n",
      "         Iterations 4\n",
      "Processed  12 models on 2 predictors in 5.184396982192993 seconds.\n",
      "Optimization terminated successfully.\n",
      "         Current function value: 0.670670\n",
      "         Iterations 6\n",
      "Optimization terminated successfully.\n",
      "         Current function value: 0.682773\n",
      "         Iterations 5\n",
      "Optimization terminated successfully.\n",
      "         Current function value: 0.652899\n",
      "         Iterations 5\n",
      "Optimization terminated successfully.\n",
      "         Current function value: 0.658194\n",
      "         Iterations 5\n",
      "Optimization terminated successfully.\n",
      "         Current function value: 0.672957\n",
      "         Iterations 5\n",
      "Optimization terminated successfully.\n",
      "         Current function value: 0.680641\n",
      "         Iterations 4\n",
      "Optimization terminated successfully.\n",
      "         Current function value: 0.655111\n",
      "         Iterations 5\n",
      "Optimization terminated successfully.\n",
      "         Current function value: 0.685696\n",
      "         Iterations 4\n",
      "Optimization terminated successfully.\n",
      "         Current function value: 0.680024\n",
      "         Iterations 4\n",
      "Optimization terminated successfully.\n",
      "         Current function value: 0.685186\n",
      "         Iterations 4\n",
      "Optimization terminated successfully.\n",
      "         Current function value: 0.685499\n",
      "         Iterations 4\n",
      "Processed  11 models on 3 predictors in 4.146682024002075 seconds.\n",
      "Optimization terminated successfully.\n",
      "         Current function value: 0.667779\n",
      "         Iterations 6\n",
      "Optimization terminated successfully.\n",
      "         Current function value: 0.638795\n",
      "         Iterations 6\n",
      "Optimization terminated successfully.\n",
      "         Current function value: 0.644392\n",
      "         Iterations 6\n",
      "Optimization terminated successfully.\n",
      "         Current function value: 0.658739\n",
      "         Iterations 6\n",
      "Optimization terminated successfully.\n",
      "         Current function value: 0.666205\n",
      "         Iterations 6\n",
      "Optimization terminated successfully.\n",
      "         Current function value: 0.641333\n",
      "         Iterations 6\n",
      "Optimization terminated successfully.\n",
      "         Current function value: 0.670553\n",
      "         Iterations 6\n",
      "Optimization terminated successfully.\n",
      "         Current function value: 0.665066\n",
      "         Iterations 6\n",
      "Optimization terminated successfully.\n",
      "         Current function value: 0.670129\n",
      "         Iterations 6\n",
      "Optimization terminated successfully.\n",
      "         Current function value: 0.670366\n",
      "         Iterations 6\n",
      "Processed  10 models on 4 predictors in 6.869471073150635 seconds.\n",
      "Optimization terminated successfully.\n",
      "         Current function value: 0.635542\n",
      "         Iterations 6\n",
      "Optimization terminated successfully.\n",
      "         Current function value: 0.643059\n",
      "         Iterations 6\n",
      "Optimization terminated successfully.\n",
      "         Current function value: 0.657074\n",
      "         Iterations 6\n",
      "Optimization terminated successfully.\n",
      "         Current function value: 0.663749\n",
      "         Iterations 6\n",
      "Optimization terminated successfully.\n",
      "         Current function value: 0.639520\n",
      "         Iterations 6\n",
      "Optimization terminated successfully.\n",
      "         Current function value: 0.667679\n",
      "         Iterations 6\n",
      "Optimization terminated successfully.\n",
      "         Current function value: 0.661955\n",
      "         Iterations 6\n",
      "Optimization terminated successfully.\n",
      "         Current function value: 0.667379\n",
      "         Iterations 6\n",
      "Optimization terminated successfully.\n",
      "         Current function value: 0.667516\n",
      "         Iterations 6\n",
      "Processed  9 models on 5 predictors in 5.977370262145996 seconds.\n",
      "Optimization terminated successfully.\n",
      "         Current function value: 0.609324\n",
      "         Iterations 6\n",
      "Optimization terminated successfully.\n",
      "         Current function value: 0.620824\n",
      "         Iterations 6\n",
      "Optimization terminated successfully.\n",
      "         Current function value: 0.631556\n",
      "         Iterations 6\n",
      "Optimization terminated successfully.\n",
      "         Current function value: 0.603926\n",
      "         Iterations 6\n",
      "Optimization terminated successfully.\n",
      "         Current function value: 0.635471\n",
      "         Iterations 6\n",
      "Optimization terminated successfully.\n",
      "         Current function value: 0.632104\n",
      "         Iterations 6\n",
      "Optimization terminated successfully.\n",
      "         Current function value: 0.634977\n",
      "         Iterations 6\n",
      "Optimization terminated successfully.\n",
      "         Current function value: 0.635430\n",
      "         Iterations 6\n",
      "Processed  8 models on 6 predictors in 5.153001070022583 seconds.\n",
      "Optimization terminated successfully.\n",
      "         Current function value: 0.605619\n",
      "         Iterations 6\n",
      "Optimization terminated successfully.\n",
      "         Current function value: 0.606776\n",
      "         Iterations 6\n",
      "Optimization terminated successfully.\n",
      "         Current function value: 0.590584\n",
      "         Iterations 6\n",
      "Optimization terminated successfully.\n",
      "         Current function value: 0.608867\n",
      "         Iterations 6\n",
      "Optimization terminated successfully.\n",
      "         Current function value: 0.604138\n",
      "         Iterations 6\n",
      "Optimization terminated successfully.\n",
      "         Current function value: 0.609258\n",
      "         Iterations 6\n",
      "Optimization terminated successfully.\n",
      "         Current function value: 0.609144\n",
      "         Iterations 6\n",
      "Processed  7 models on 7 predictors in 5.243711948394775 seconds.\n",
      "Optimization terminated successfully.\n",
      "         Current function value: 0.603613\n",
      "         Iterations 6\n",
      "Optimization terminated successfully.\n",
      "         Current function value: 0.589275\n",
      "         Iterations 6\n",
      "Optimization terminated successfully.\n",
      "         Current function value: 0.605163\n",
      "         Iterations 6\n",
      "Optimization terminated successfully.\n",
      "         Current function value: 0.600094\n",
      "         Iterations 6\n",
      "Optimization terminated successfully.\n",
      "         Current function value: 0.605605\n",
      "         Iterations 6\n",
      "Optimization terminated successfully.\n",
      "         Current function value: 0.605492\n",
      "         Iterations 6\n",
      "Processed  6 models on 8 predictors in 4.15254282951355 seconds.\n",
      "Optimization terminated successfully.\n",
      "         Current function value: 0.587845\n",
      "         Iterations 6\n",
      "Optimization terminated successfully.\n",
      "         Current function value: 0.603204\n",
      "         Iterations 6\n",
      "Optimization terminated successfully.\n",
      "         Current function value: 0.598036\n",
      "         Iterations 6\n",
      "Optimization terminated successfully.\n",
      "         Current function value: 0.603612\n",
      "         Iterations 6\n",
      "Optimization terminated successfully.\n",
      "         Current function value: 0.603499\n",
      "         Iterations 6\n",
      "Processed  5 models on 9 predictors in 3.6771368980407715 seconds.\n",
      "Optimization terminated successfully.\n",
      "         Current function value: 0.587462\n",
      "         Iterations 6\n",
      "Optimization terminated successfully.\n",
      "         Current function value: 0.582461\n",
      "         Iterations 6\n",
      "Optimization terminated successfully.\n",
      "         Current function value: 0.587841\n",
      "         Iterations 6\n",
      "Optimization terminated successfully.\n",
      "         Current function value: 0.587628\n",
      "         Iterations 6\n",
      "Processed  4 models on 10 predictors in 3.669252872467041 seconds.\n",
      "Optimization terminated successfully.\n",
      "         Current function value: 0.582187\n",
      "         Iterations 6\n",
      "Optimization terminated successfully.\n",
      "         Current function value: 0.587459\n",
      "         Iterations 6\n",
      "Optimization terminated successfully.\n",
      "         Current function value: 0.587271\n",
      "         Iterations 6\n",
      "Processed  3 models on 11 predictors in 3.0401053428649902 seconds.\n",
      "Optimization terminated successfully.\n",
      "         Current function value: 0.582187\n",
      "         Iterations 6\n",
      "Optimization terminated successfully.\n",
      "         Current function value: 0.581997\n",
      "         Iterations 6\n",
      "Processed  2 models on 12 predictors in 2.098973035812378 seconds.\n",
      "Optimization terminated successfully.\n",
      "         Current function value: 0.581997\n",
      "         Iterations 6\n",
      "Processed  1 models on 13 predictors in 1.2308809757232666 seconds.\n",
      "Total elapsed time: 56.061686992645264 seconds.\n"
     ]
    }
   ],
   "source": [
    "models_best = forward_selection()\n"
   ]
  },
  {
   "cell_type": "code",
   "execution_count": 122,
   "id": "9b678d4d",
   "metadata": {},
   "outputs": [
    {
     "data": {
      "image/png": "[encoded data removed]",
      "text/plain": [
       "<Figure size 1440x720 with 2 Axes>"
      ]
     },
     "metadata": {
      "needs_background": "light"
     },
     "output_type": "display_data"
    }
   ],
   "source": [
    "def best_sub_plots():\n",
    "    plt.figure(figsize=(20,10))\n",
    "    plt.rcParams.update({'font.size': 18, 'lines.markersize': 10})\n",
    "\n",
    "    # We will now plot a red dot to indicate the model with the largest adjusted R^2 statistic.\n",
    "    # The argmax() function can be used to identify the location of the maximum point of a vector\n",
    "\n",
    "    llr_pvalue = models_best.apply(lambda row: row[1].llr_pvalue, axis=1)\n",
    "\n",
    "    # We'll do the same for AIC and BIC, this time looking for the models with the SMALLEST statistic\n",
    "    aic = models_best.apply(lambda row: row[1].aic, axis=1)\n",
    "\n",
    "    plt.subplot(2, 2, 1)\n",
    "    plt.plot(aic)\n",
    "    plt.plot(1+aic.argmin(), aic.min(), \"or\")\n",
    "    plt.xlabel('# Predictors')\n",
    "    plt.ylabel('AIC')\n",
    "\n",
    "    bic = models_best.apply(lambda row: row[1].bic, axis=1)\n",
    "\n",
    "    plt.subplot(2, 2, 2)\n",
    "    plt.plot(bic)\n",
    "    plt.plot(1+bic.argmin(), bic.min(), \"or\")\n",
    "    plt.xlabel('# Predictors')\n",
    "    plt.ylabel('BIC')\n",
    "best_sub_plots()"
   ]
  },
  {
   "cell_type": "markdown",
   "id": "11f301e2",
   "metadata": {},
   "source": [
    "# VIF"
   ]
  },
  {
   "cell_type": "code",
   "execution_count": 143,
   "id": "3a91861a",
   "metadata": {},
   "outputs": [
    {
     "name": "stdout",
     "output_type": "stream",
     "text": [
      "             feature        VIF\n",
      "0              const  54.782921\n",
      "1                BMI   1.113899\n",
      "2            Smoking   1.035308\n",
      "3    AlcoholDrinking   1.016687\n",
      "4             Stroke   1.029939\n",
      "5                Sex   1.039117\n",
      "6     PhysicalHealth   1.343115\n",
      "7        DiffWalking   1.377622\n",
      "8           Diabetic   1.092440\n",
      "9   PhysicalActivity   1.214120\n",
      "10         SleepTime   1.012846\n",
      "11            Asthma   1.027016\n",
      "12     KidneyDisease   1.034961\n",
      "13        SkinCancer   1.010989\n"
     ]
    }
   ],
   "source": [
    "from statsmodels.stats.outliers_influence import variance_inflation_factor\n",
    "from statsmodels.tools.tools import add_constant\n",
    "X = add_constant(X)\n",
    "vif_data = pd.DataFrame()\n",
    "vif_data[\"feature\"] = X.columns\n",
    "\n",
    "for i in range(len(X.columns)):\n",
    "    vif_data.loc[i,'VIF'] = variance_inflation_factor(X.values, i)\n",
    "\n",
    "print(vif_data)"
   ]
  },
  {
   "cell_type": "code",
   "execution_count": 125,
   "id": "55653f8f",
   "metadata": {},
   "outputs": [
    {
     "data": {
      "text/html": [
       "<table class=\"simpletable\">\n",
       "<caption>Logit Regression Results</caption>\n",
       "<tr>\n",
       "  <th>Dep. Variable:</th>     <td>HeartDisease</td>   <th>  No. Observations:  </th>   <td>409390</td>   \n",
       "</tr>\n",
       "<tr>\n",
       "  <th>Model:</th>                 <td>Logit</td>      <th>  Df Residuals:      </th>   <td>409376</td>   \n",
       "</tr>\n",
       "<tr>\n",
       "  <th>Method:</th>                 <td>MLE</td>       <th>  Df Model:          </th>   <td>    13</td>   \n",
       "</tr>\n",
       "<tr>\n",
       "  <th>Date:</th>            <td>Sat, 04 Mar 2023</td> <th>  Pseudo R-squ.:     </th>   <td>0.1604</td>   \n",
       "</tr>\n",
       "<tr>\n",
       "  <th>Time:</th>                <td>09:42:52</td>     <th>  Log-Likelihood:    </th> <td>-2.3826e+05</td>\n",
       "</tr>\n",
       "<tr>\n",
       "  <th>converged:</th>             <td>True</td>       <th>  LL-Null:           </th> <td>-2.8377e+05</td>\n",
       "</tr>\n",
       "<tr>\n",
       "  <th>Covariance Type:</th>     <td>nonrobust</td>    <th>  LLR p-value:       </th>   <td> 0.000</td>   \n",
       "</tr>\n",
       "</table>\n",
       "<table class=\"simpletable\">\n",
       "<tr>\n",
       "          <td></td>            <th>coef</th>     <th>std err</th>      <th>z</th>      <th>P>|z|</th>  <th>[0.025</th>    <th>0.975]</th>  \n",
       "</tr>\n",
       "<tr>\n",
       "  <th>Intercept</th>        <td>    0.4711</td> <td>    0.026</td> <td>   17.832</td> <td> 0.000</td> <td>    0.419</td> <td>    0.523</td>\n",
       "</tr>\n",
       "<tr>\n",
       "  <th>BMI</th>              <td>    0.0040</td> <td>    0.001</td> <td>    6.860</td> <td> 0.000</td> <td>    0.003</td> <td>    0.005</td>\n",
       "</tr>\n",
       "<tr>\n",
       "  <th>Smoking</th>          <td>    0.1304</td> <td>    0.007</td> <td>   18.215</td> <td> 0.000</td> <td>    0.116</td> <td>    0.144</td>\n",
       "</tr>\n",
       "<tr>\n",
       "  <th>AlcoholDrinking</th>  <td>   -2.1637</td> <td>    0.028</td> <td>  -78.478</td> <td> 0.000</td> <td>   -2.218</td> <td>   -2.110</td>\n",
       "</tr>\n",
       "<tr>\n",
       "  <th>Stroke</th>           <td>    0.5038</td> <td>    0.019</td> <td>   26.726</td> <td> 0.000</td> <td>    0.467</td> <td>    0.541</td>\n",
       "</tr>\n",
       "<tr>\n",
       "  <th>Sex</th>              <td>   -1.1953</td> <td>    0.007</td> <td> -161.470</td> <td> 0.000</td> <td>   -1.210</td> <td>   -1.181</td>\n",
       "</tr>\n",
       "<tr>\n",
       "  <th>PhysicalHealth</th>   <td>    0.0384</td> <td>    0.000</td> <td>   87.285</td> <td> 0.000</td> <td>    0.038</td> <td>    0.039</td>\n",
       "</tr>\n",
       "<tr>\n",
       "  <th>DiffWalking</th>      <td>    0.3429</td> <td>    0.011</td> <td>   31.682</td> <td> 0.000</td> <td>    0.322</td> <td>    0.364</td>\n",
       "</tr>\n",
       "<tr>\n",
       "  <th>Diabetic</th>         <td>    0.3433</td> <td>    0.010</td> <td>   34.012</td> <td> 0.000</td> <td>    0.323</td> <td>    0.363</td>\n",
       "</tr>\n",
       "<tr>\n",
       "  <th>PhysicalActivity</th> <td>   -0.9087</td> <td>    0.008</td> <td> -111.771</td> <td> 0.000</td> <td>   -0.925</td> <td>   -0.893</td>\n",
       "</tr>\n",
       "<tr>\n",
       "  <th>SleepTime</th>        <td>    0.0348</td> <td>    0.002</td> <td>   14.377</td> <td> 0.000</td> <td>    0.030</td> <td>    0.040</td>\n",
       "</tr>\n",
       "<tr>\n",
       "  <th>Asthma</th>           <td>   -0.7992</td> <td>    0.012</td> <td>  -64.262</td> <td> 0.000</td> <td>   -0.824</td> <td>   -0.775</td>\n",
       "</tr>\n",
       "<tr>\n",
       "  <th>KidneyDisease</th>    <td>   -0.0170</td> <td>    0.020</td> <td>   -0.863</td> <td> 0.388</td> <td>   -0.055</td> <td>    0.022</td>\n",
       "</tr>\n",
       "<tr>\n",
       "  <th>SkinCancer</th>       <td>    0.1515</td> <td>    0.012</td> <td>   12.466</td> <td> 0.000</td> <td>    0.128</td> <td>    0.175</td>\n",
       "</tr>\n",
       "</table>"
      ],
      "text/plain": [
       "<class 'statsmodels.iolib.summary.Summary'>\n",
       "\"\"\"\n",
       "                           Logit Regression Results                           \n",
       "==============================================================================\n",
       "Dep. Variable:           HeartDisease   No. Observations:               409390\n",
       "Model:                          Logit   Df Residuals:                   409376\n",
       "Method:                           MLE   Df Model:                           13\n",
       "Date:                Sat, 04 Mar 2023   Pseudo R-squ.:                  0.1604\n",
       "Time:                        09:42:52   Log-Likelihood:            -2.3826e+05\n",
       "converged:                       True   LL-Null:                   -2.8377e+05\n",
       "Covariance Type:            nonrobust   LLR p-value:                     0.000\n",
       "====================================================================================\n",
       "                       coef    std err          z      P>|z|      [0.025      0.975]\n",
       "------------------------------------------------------------------------------------\n",
       "Intercept            0.4711      0.026     17.832      0.000       0.419       0.523\n",
       "BMI                  0.0040      0.001      6.860      0.000       0.003       0.005\n",
       "Smoking              0.1304      0.007     18.215      0.000       0.116       0.144\n",
       "AlcoholDrinking     -2.1637      0.028    -78.478      0.000      -2.218      -2.110\n",
       "Stroke               0.5038      0.019     26.726      0.000       0.467       0.541\n",
       "Sex                 -1.1953      0.007   -161.470      0.000      -1.210      -1.181\n",
       "PhysicalHealth       0.0384      0.000     87.285      0.000       0.038       0.039\n",
       "DiffWalking          0.3429      0.011     31.682      0.000       0.322       0.364\n",
       "Diabetic             0.3433      0.010     34.012      0.000       0.323       0.363\n",
       "PhysicalActivity    -0.9087      0.008   -111.771      0.000      -0.925      -0.893\n",
       "SleepTime            0.0348      0.002     14.377      0.000       0.030       0.040\n",
       "Asthma              -0.7992      0.012    -64.262      0.000      -0.824      -0.775\n",
       "KidneyDisease       -0.0170      0.020     -0.863      0.388      -0.055       0.022\n",
       "SkinCancer           0.1515      0.012     12.466      0.000       0.128       0.175\n",
       "====================================================================================\n",
       "\"\"\""
      ]
     },
     "execution_count": 125,
     "metadata": {},
     "output_type": "execute_result"
    }
   ],
   "source": [
    "model13 = models_best['model'][13]\n",
    "model13.summary()"
   ]
  },
  {
   "cell_type": "code",
   "execution_count": 144,
   "id": "aab55022",
   "metadata": {},
   "outputs": [
    {
     "name": "stdout",
     "output_type": "stream",
     "text": [
      "Classification accuracy = 81.7%\n",
      "Precision = 21.1%\n",
      "TPR or Recall = 41.4%\n",
      "FNR = 58.6%\n",
      "FPR = 14.5%\n",
      "ROC-AUC = 70.1%\n"
     ]
    },
    {
     "data": {
      "text/plain": [
       "0         0.189766\n",
       "1         0.309142\n",
       "2         0.595988\n",
       "3         0.433588\n",
       "4         0.539242\n",
       "            ...   \n",
       "319790    0.745599\n",
       "319791    0.307208\n",
       "319792    0.209615\n",
       "319793    0.456260\n",
       "319794    0.237114\n",
       "Length: 319795, dtype: float64"
      ]
     },
     "execution_count": 144,
     "metadata": {},
     "output_type": "execute_result"
    },
    {
     "data": {
      "image/png": "[encoded data removed]",
      "text/plain": [
       "<Figure size 432x288 with 2 Axes>"
      ]
     },
     "metadata": {
      "needs_background": "light"
     },
     "output_type": "display_data"
    }
   ],
   "source": [
    "confusion_matrix_data(data,data.HeartDisease,model13,0.6)"
   ]
  },
  {
   "cell_type": "code",
   "execution_count": 145,
   "id": "dbe2720f",
   "metadata": {},
   "outputs": [],
   "source": [
    "#Inclusion of other categorical variables is better"
   ]
  },
  {
   "cell_type": "markdown",
   "id": "46a46d28",
   "metadata": {},
   "source": [
    "# Interactions"
   ]
  },
  {
   "cell_type": "code",
   "execution_count": 147,
   "id": "403718f1",
   "metadata": {},
   "outputs": [
    {
     "name": "stdout",
     "output_type": "stream",
     "text": [
      "Optimization terminated successfully.\n",
      "         Current function value: 0.444382\n",
      "         Iterations 7\n"
     ]
    }
   ],
   "source": [
    "#Interaction between Asthma and Smoking\n",
    "model2 = sm.logit(formula = 'HeartDisease~AgeCategory+GenHealth+Asthma*Smoking+Diabetic+KidneyDisease+Stroke+Sex+AlcoholDrinking+DiffWalking+BMI+SkinCancer+MentalHealth+Race+SleepTime+PhysicalActivity+PhysicalHealth', data = train_smote).fit()\n",
    "\n"
   ]
  },
  {
   "cell_type": "code",
   "execution_count": 149,
   "id": "c06d6d43",
   "metadata": {
    "scrolled": true
   },
   "outputs": [
    {
     "name": "stdout",
     "output_type": "stream",
     "text": [
      "Classification accuracy = 81.3%\n",
      "Precision = 23.9%\n",
      "TPR or Recall = 54.0%\n",
      "FNR = 46.0%\n",
      "FPR = 16.1%\n",
      "ROC-AUC = 78.7%\n"
     ]
    },
    {
     "data": {
      "text/plain": [
       "0         0.044971\n",
       "1         0.431125\n",
       "2         0.801097\n",
       "3         0.647766\n",
       "4         0.033621\n",
       "            ...   \n",
       "319790    0.680089\n",
       "319791    0.056570\n",
       "319792    0.150411\n",
       "319793    0.072680\n",
       "319794    0.606009\n",
       "Length: 319795, dtype: float64"
      ]
     },
     "execution_count": 149,
     "metadata": {},
     "output_type": "execute_result"
    },
    {
     "data": {
      "image/png": "[encoded data removed]",
      "text/plain": [
       "<Figure size 432x288 with 2 Axes>"
      ]
     },
     "metadata": {
      "needs_background": "light"
     },
     "output_type": "display_data"
    }
   ],
   "source": [
    "confusion_matrix_data(data,data.HeartDisease,model2,0.6)"
   ]
  },
  {
   "cell_type": "code",
   "execution_count": 150,
   "id": "876d4da5",
   "metadata": {},
   "outputs": [
    {
     "name": "stdout",
     "output_type": "stream",
     "text": [
      "Optimization terminated successfully.\n",
      "         Current function value: 0.444270\n",
      "         Iterations 7\n"
     ]
    }
   ],
   "source": [
    "#Interaction between Diabetic and Kidney\n",
    "model3 = sm.logit(formula = 'HeartDisease~AgeCategory+GenHealth+Asthma+Smoking+Diabetic*KidneyDisease+Stroke+Sex+AlcoholDrinking+DiffWalking+BMI+SkinCancer+MentalHealth+Race+SleepTime+PhysicalActivity+PhysicalHealth', data = train_smote).fit()\n"
   ]
  },
  {
   "cell_type": "code",
   "execution_count": 151,
   "id": "a4736cf0",
   "metadata": {},
   "outputs": [
    {
     "name": "stdout",
     "output_type": "stream",
     "text": [
      "Classification accuracy = 81.3%\n",
      "Precision = 23.9%\n",
      "TPR or Recall = 54.1%\n",
      "FNR = 45.9%\n",
      "FPR = 16.1%\n",
      "ROC-AUC = 78.7%\n"
     ]
    },
    {
     "data": {
      "text/plain": [
       "0         0.044135\n",
       "1         0.432285\n",
       "2         0.798342\n",
       "3         0.649588\n",
       "4         0.033682\n",
       "            ...   \n",
       "319790    0.676352\n",
       "319791    0.056940\n",
       "319792    0.151152\n",
       "319793    0.072796\n",
       "319794    0.607844\n",
       "Length: 319795, dtype: float64"
      ]
     },
     "execution_count": 151,
     "metadata": {},
     "output_type": "execute_result"
    },
    {
     "data": {
      "image/png": "[encoded data removed]",
      "text/plain": [
       "<Figure size 432x288 with 2 Axes>"
      ]
     },
     "metadata": {
      "needs_background": "light"
     },
     "output_type": "display_data"
    }
   ],
   "source": [
    "confusion_matrix_data(data,data.HeartDisease,model3,0.6)"
   ]
  },
  {
   "cell_type": "code",
   "execution_count": 152,
   "id": "0f33acc3",
   "metadata": {},
   "outputs": [
    {
     "name": "stdout",
     "output_type": "stream",
     "text": [
      "Optimization terminated successfully.\n",
      "         Current function value: 0.444270\n",
      "         Iterations 7\n"
     ]
    }
   ],
   "source": [
    "#Interaction between both\n",
    "model4 = sm.logit(formula = 'HeartDisease~AgeCategory+GenHealth+Asthma*Smoking+Diabetic*KidneyDisease+Stroke+Sex+AlcoholDrinking+DiffWalking+BMI+SkinCancer+MentalHealth+Race+SleepTime+PhysicalActivity+PhysicalHealth', data = train_smote).fit()\n"
   ]
  },
  {
   "cell_type": "code",
   "execution_count": 153,
   "id": "feab8218",
   "metadata": {},
   "outputs": [
    {
     "name": "stdout",
     "output_type": "stream",
     "text": [
      "Classification accuracy = 81.3%\n",
      "Precision = 23.9%\n",
      "TPR or Recall = 54.1%\n",
      "FNR = 45.9%\n",
      "FPR = 16.1%\n",
      "ROC-AUC = 78.7%\n"
     ]
    },
    {
     "data": {
      "text/plain": [
       "0         0.043928\n",
       "1         0.432196\n",
       "2         0.797531\n",
       "3         0.649480\n",
       "4         0.033674\n",
       "            ...   \n",
       "319790    0.675257\n",
       "319791    0.056671\n",
       "319792    0.151091\n",
       "319793    0.072763\n",
       "319794    0.607713\n",
       "Length: 319795, dtype: float64"
      ]
     },
     "execution_count": 153,
     "metadata": {},
     "output_type": "execute_result"
    },
    {
     "data": {
      "image/png": "[encoded data removed]",
      "text/plain": [
       "<Figure size 432x288 with 2 Axes>"
      ]
     },
     "metadata": {
      "needs_background": "light"
     },
     "output_type": "display_data"
    }
   ],
   "source": [
    "confusion_matrix_data(data,data.HeartDisease,model4,0.6)"
   ]
  },
  {
   "cell_type": "code",
   "execution_count": 154,
   "id": "0c2ce942",
   "metadata": {},
   "outputs": [
    {
     "name": "stdout",
     "output_type": "stream",
     "text": [
      "Optimization terminated successfully.\n",
      "         Current function value: 0.441727\n",
      "         Iterations 8\n"
     ]
    }
   ],
   "source": [
    "#AgeCategory * GenHealth\n",
    "model5 = sm.logit(formula = 'HeartDisease~AgeCategory*GenHealth+Asthma+Smoking+Diabetic+KidneyDisease+Stroke+Sex+AlcoholDrinking+DiffWalking+BMI+SkinCancer+MentalHealth+Race+SleepTime+PhysicalActivity+PhysicalHealth', data = train_smote).fit()\n"
   ]
  },
  {
   "cell_type": "code",
   "execution_count": 155,
   "id": "40cbf176",
   "metadata": {},
   "outputs": [
    {
     "name": "stdout",
     "output_type": "stream",
     "text": [
      "Classification accuracy = 80.6%\n",
      "Precision = 23.2%\n",
      "TPR or Recall = 54.8%\n",
      "FNR = 45.2%\n",
      "FPR = 17.0%\n",
      "ROC-AUC = 78.8%\n"
     ]
    },
    {
     "data": {
      "text/plain": [
       "0         0.034741\n",
       "1         0.485458\n",
       "2         0.781655\n",
       "3         0.646952\n",
       "4         0.026793\n",
       "            ...   \n",
       "319790    0.687399\n",
       "319791    0.046321\n",
       "319792    0.144988\n",
       "319793    0.068795\n",
       "319794    0.605644\n",
       "Length: 319795, dtype: float64"
      ]
     },
     "execution_count": 155,
     "metadata": {},
     "output_type": "execute_result"
    },
    {
     "data": {
      "image/png": "[encoded data removed]",
      "text/plain": [
       "<Figure size 432x288 with 2 Axes>"
      ]
     },
     "metadata": {
      "needs_background": "light"
     },
     "output_type": "display_data"
    }
   ],
   "source": [
    "confusion_matrix_data(data,data.HeartDisease,model5,0.6)"
   ]
  },
  {
   "cell_type": "code",
   "execution_count": 156,
   "id": "3bfbd78f",
   "metadata": {},
   "outputs": [
    {
     "name": "stdout",
     "output_type": "stream",
     "text": [
      "Optimization terminated successfully.\n",
      "         Current function value: 0.444381\n",
      "         Iterations 7\n"
     ]
    }
   ],
   "source": [
    "model6 = sm.logit(formula = 'HeartDisease~AgeCategory+GenHealth+Asthma+Smoking+Diabetic+KidneyDisease+Sex+AlcoholDrinking+Stroke*DiffWalking+BMI+SkinCancer+MentalHealth+Race+SleepTime+PhysicalActivity+PhysicalHealth', data = train_smote).fit()\n"
   ]
  },
  {
   "cell_type": "code",
   "execution_count": 157,
   "id": "5e3bf037",
   "metadata": {},
   "outputs": [
    {
     "name": "stdout",
     "output_type": "stream",
     "text": [
      "Classification accuracy = 81.3%\n",
      "Precision = 23.9%\n",
      "TPR or Recall = 54.1%\n",
      "FNR = 45.9%\n",
      "FPR = 16.1%\n",
      "ROC-AUC = 78.7%\n"
     ]
    },
    {
     "data": {
      "text/plain": [
       "0         0.045190\n",
       "1         0.426468\n",
       "2         0.802066\n",
       "3         0.648101\n",
       "4         0.033514\n",
       "            ...   \n",
       "319790    0.680638\n",
       "319791    0.056873\n",
       "319792    0.150557\n",
       "319793    0.072738\n",
       "319794    0.606510\n",
       "Length: 319795, dtype: float64"
      ]
     },
     "execution_count": 157,
     "metadata": {},
     "output_type": "execute_result"
    },
    {
     "data": {
      "image/png": "[encoded data removed]",
      "text/plain": [
       "<Figure size 432x288 with 2 Axes>"
      ]
     },
     "metadata": {
      "needs_background": "light"
     },
     "output_type": "display_data"
    }
   ],
   "source": [
    "confusion_matrix_data(data,data.HeartDisease,model6,0.6)"
   ]
  },
  {
   "cell_type": "code",
   "execution_count": null,
   "id": "fddc6adc",
   "metadata": {},
   "outputs": [],
   "source": []
  },
  {
   "cell_type": "code",
   "execution_count": null,
   "id": "b38966c5",
   "metadata": {},
   "outputs": [],
   "source": []
  },
  {
   "cell_type": "code",
   "execution_count": null,
   "id": "1204407b",
   "metadata": {},
   "outputs": [],
   "source": []
  },
  {
   "cell_type": "code",
   "execution_count": null,
   "id": "c3edebc1",
   "metadata": {},
   "outputs": [],
   "source": []
  },
  {
   "cell_type": "code",
   "execution_count": null,
   "id": "79cbeca9",
   "metadata": {},
   "outputs": [],
   "source": []
  },
  {
   "cell_type": "code",
   "execution_count": null,
   "id": "d49ad1a9",
   "metadata": {},
   "outputs": [],
   "source": []
  }
 ],
 "metadata": {
  "kernelspec": {
   "display_name": "Python 3 (ipykernel)",
   "language": "python",
   "name": "python3"
  },
  "language_info": {
   "codemirror_mode": {
    "name": "ipython",
    "version": 3
   },
   "file_extension": ".py",
   "mimetype": "text/x-python",
   "name": "python",
   "nbconvert_exporter": "python",
   "pygments_lexer": "ipython3",
   "version": "3.9.12"
  }
 },
 "nbformat": 4,
 "nbformat_minor": 5
}
