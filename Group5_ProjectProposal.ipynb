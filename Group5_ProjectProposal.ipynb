{
 "cells": [
  {
   "cell_type": "raw",
   "id": "33dd6c4c",
   "metadata": {},
   "source": [
    "---\n",
    "title: \"Project proposal\"\n",
    "format: \n",
    "  html:\n",
    "    toc: true\n",
    "    toc-title: Contents\n",
    "    code-fold: show\n",
    "    self-contained: true\n",
    "jupyter: python3\n",
    "---"
   ]
  },
  {
   "cell_type": "markdown",
   "id": "0116f49b",
   "metadata": {},
   "source": [
    "## Instructions {-}\n",
    "\n",
    "1. Please answer the following questions as part of your project proposal.\n",
    "\n",
    "2. Write your answers in the *Markdown* cells of the Jupyter notebook. You don't need to write any code, but if you want to, you may use the *Code* cells.\n",
    "\n",
    "3. Use [Quarto](https://quarto.org/docs/output-formats/html-basics.html) to print the *.ipynb* file as HTML. You will need to open the command prompt, navigate to the directory containing the file, and use the command: `quarto render filename.ipynb --to html`. Submit the HTML file.\n",
    "\n",
    "4. The project proposal is worth 8 points, and is due on **27th January 2023 at 11:59 pm**. \n",
    "\n",
    "5. You must make one submission as a group, and not individually.\n",
    "\n",
    "6. Each team member must have at least **one commit** on the team's github repository. No points will be awarded to the team member(s) with no commits.\n",
    "\n",
    "7. Share the link of your project's GitHub repository [here](https://docs.google.com/spreadsheets/d/1khao3unpj_vsx4kOSg_Zzo77YK1UWL2w73Oa0aAirOo/edit#gid=0)."
   ]
  },
  {
   "cell_type": "markdown",
   "id": "fe7ea9bb",
   "metadata": {},
   "source": [
    "# 1) Team name\n",
    "Mention your team name.\n",
    "\n",
    "*(0 points)*"
   ]
  },
  {
   "cell_type": "markdown",
   "id": "4c11f1f7-2cc3-4618-a444-2a84473e8b4f",
   "metadata": {},
   "source": [
    "Group 5"
   ]
  },
  {
   "cell_type": "markdown",
   "id": "16fccc9b",
   "metadata": {},
   "source": [
    "# 2) Member names\n",
    "Mention the names of your team members.\n",
    "\n",
    "*(0 points)*"
   ]
  },
  {
   "cell_type": "markdown",
   "id": "dde55588-6b3f-4a2c-9569-90aaf45f6c43",
   "metadata": {},
   "source": [
    "Nayada Tantichirasakul (Candy), Annika Le, Anna Xiao, Tom Tiamraj"
   ]
  },
  {
   "cell_type": "markdown",
   "id": "220a6528",
   "metadata": {},
   "source": [
    "# 3) Link to the GitHub repository\n",
    "Share the link of the team's project repository on GitHub.\n",
    "\n",
    "Also, put the link of your project's GitHub repository [here](https://docs.google.com/spreadsheets/d/1khao3unpj_vsx4kOSg_Zzo77YK1UWL2w73Oa0aAirOo/edit#gid=0).\n",
    "\n",
    "We believe there is no harm in having other teams view your GitHub repository. However, if you don't want anyone to see your team's work, you may make the repository *Private* and add your instructor and graduate TA as *Colloborators* in it.\n",
    "\n",
    "*(0 points)*"
   ]
  },
  {
   "cell_type": "markdown",
   "id": "cd27e97d-b441-4791-a1a6-da71d089c15d",
   "metadata": {},
   "source": [
    "https://github.com/JerayuT/Group-5-WQ23-Data-Science"
   ]
  },
  {
   "cell_type": "markdown",
   "id": "16c1a490",
   "metadata": {},
   "source": [
    "# 4) Topic\n",
    "Mention the topic of your course project.\n",
    "\n",
    "*(0.25 points)*"
   ]
  },
  {
   "cell_type": "markdown",
   "id": "5f1330cc",
   "metadata": {},
   "source": [
    "The topic of our project is predicting whether an individual has heart disease given different health factors of the individual. "
   ]
  },
  {
   "cell_type": "markdown",
   "id": "9403cdfb",
   "metadata": {},
   "source": [
    "# 5) Problem statement\n",
    "Explain the problem statement. The problem statement must include:\n",
    "\n",
    "1. The problem\n",
    "\n",
    "2. Is it a regression or classification problem or a combination of both?\n",
    "\n",
    "3. Is it an inference or prediction problem or a combination of both?\n",
    "\n",
    "4. How will you assess model accuracy?\n",
    "\n",
    "  - If it is a classification problem, then which measure(s) will you optimize for your model – precision, recall, false negative rate (FNR), accuracy, ROC-AUC etc., and why?\n",
    "  - If it is a regression problem, then which measure(s) will you optimize for your model – RMSE (Root mean squared error), MAE (mean absolute error), maximum absolute error etc., and why?\n",
    "\n",
    "5. What techniques do you think you may need to use to improve your model? If you have too many variables, some of which are  correlated or collinear, you may need to do variable selection *(techniques for variable selection that you will learn later in the course - stepwise regression, lasso, ridge regression)*. If the variables do not have a linear relationship with the response, or if some of the modeling assumptions are not satisfied, you may need to transform the predictors and/or the response (variable transformation) to obtain a better fit.\n",
    "\n",
    "*(5 points)*"
   ]
  },
  {
   "cell_type": "markdown",
   "id": "bf631fe6",
   "metadata": {},
   "source": [
    "According to the CDC, heart-disease is the leading cause of death in the United States. Our group wants to investigate the various factors (i.e. age, physical activity, gender) that may correlate with someone developing a heart disease. Thus, this model would be useful to health care professionals as they may be able to use this model to accompany their medical examination and lessen frivolous medical procedures that would increase costs. "
   ]
  },
  {
   "cell_type": "markdown",
   "id": "01570d05",
   "metadata": {},
   "source": [
    "This is a classification problem because the response is a categorical variable since having heart disease is measured with a yes or no. This is a prediction problem because we are trying to predict whether an individual has heart disease given different health factors of the individuals. "
   ]
  },
  {
   "cell_type": "markdown",
   "id": "eafb7d6c",
   "metadata": {},
   "source": [
    "We will optimize recall and minimize the false negative rate because we do not want to predict that people will not have heart disease if they actually do have it. This is because misclassification can prevent people from taking action to decrease their chances of heart disease. We may need to use techniques for variable selection because we may have variables that could be correlated. "
   ]
  },
  {
   "cell_type": "markdown",
   "id": "3eb2d4f2",
   "metadata": {},
   "source": [
    "# 6) Data sources\n",
    "\n",
    "What data sources will you use, and how will the data help answer the questions? Explain.\n",
    "\n",
    "If the data is open source, share the link of the data.\n",
    "\n",
    "*(1 point)*"
   ]
  },
  {
   "cell_type": "markdown",
   "id": "8fa79c7f",
   "metadata": {},
   "source": [
    "https://www.kaggle.com/datasets/kamilpytlak/personal-key-indicators-of-heart-disease \n",
    "\n",
    "This data set has information on key indicators of heart disease, such as BMI, smoker status, drinking status, age and sex of over 300,000 individuals. We will investigate these factors as well as combinations of these factors to see their relationship with the likelihood of developing heart disease. "
   ]
  },
  {
   "cell_type": "markdown",
   "id": "cb8a845f",
   "metadata": {},
   "source": [
    "# 7) Stakeholders"
   ]
  },
  {
   "cell_type": "markdown",
   "id": "d39c782c",
   "metadata": {},
   "source": [
    "Who are the stakeholders, and how will your project benefit them? Explain.\n",
    "\n",
    "*(1 point)*"
   ]
  },
  {
   "cell_type": "markdown",
   "id": "e73016f4",
   "metadata": {},
   "source": [
    "The stakeholders would be medical professionals that are in charge of treating potential heart disease patients. Since our project consists of creating a classification model to determine individuals who have a high likelihood of having a heart disease, our results will be most beneficial to medical personnel in their evaluation of patients. This information would help medical professionals make better decisions on whether a treatment to the patient or further exploration of a patient is necessary given certain key indicators and whether a treatment should be given."
   ]
  },
  {
   "cell_type": "markdown",
   "id": "57e41b2a",
   "metadata": {},
   "source": [
    "# 8) Results\n",
    "What kind of results do you expect? \n",
    "\n",
    "How much accuracy is required / desired in your model (based on the metric(s) chosen in question 5), such that it is useful to the stakeholders and why?\n",
    "\n",
    "**Hint:** If it is a classification model, then your model must be at least better than random classification. If it is a regression model, then your model must be at least better than trivial models, such as the one with only the intercept term.\n",
    "\n",
    "*(0.5 point)*"
   ]
  },
  {
   "cell_type": "markdown",
   "id": "73bb5f09",
   "metadata": {},
   "source": [
    "We predict that there will be a strong relationship between whether or not the individual is a smoker, their BMI, and their age. There is a lot of scientific evidence that suggests that smoking and higher BMIs cause many health-related problems, including heart disease. Health also often worsens with age. "
   ]
  },
  {
   "cell_type": "markdown",
   "id": "b6126c10",
   "metadata": {},
   "source": [
    "We hope to create a model with an r-squared value that is over 0.7 because we want to provide the most accurate prediction for our stakeholders (medical professionals treating heart disease) to evaluate their patients. We also would like to minimize the false negative rate. "
   ]
  },
  {
   "cell_type": "markdown",
   "id": "0c874b4f",
   "metadata": {},
   "source": [
    "# 9) Work-split\n",
    "How do you plan to split the project work amongst individual team members?\n",
    "\n",
    "*(0.25 point)*"
   ]
  },
  {
   "cell_type": "markdown",
   "id": "5f5bb40b",
   "metadata": {},
   "source": [
    "Here is how we are planning on splitting the work: each person will be responsible for one bullet point.\n",
    "- Initial data exploration + model development\n",
    "- Model development\n",
    "- Assessing model accuracy\n",
    "- Data visualization\n"
   ]
  }
 ],
 "metadata": {
  "kernelspec": {
   "display_name": "Python 3 (ipykernel)",
   "language": "python",
   "name": "python3"
  },
  "language_info": {
   "codemirror_mode": {
    "name": "ipython",
    "version": 3
   },
   "file_extension": ".py",
   "mimetype": "text/x-python",
   "name": "python",
   "nbconvert_exporter": "python",
   "pygments_lexer": "ipython3",
   "version": "3.9.12"
  }
 },
 "nbformat": 4,
 "nbformat_minor": 5
}
