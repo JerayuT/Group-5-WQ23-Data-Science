{
 "cells": [
  {
   "cell_type": "code",
   "execution_count": 145,
   "id": "26a12f9a",
   "metadata": {},
   "outputs": [],
   "source": [
    "import pandas as pd\n",
    "import numpy as np\n",
    "import statsmodels.formula.api as sm\n",
    "import seaborn as sns\n",
    "import matplotlib.pyplot as plt"
   ]
  },
  {
   "cell_type": "code",
   "execution_count": 146,
   "id": "72f2e27d",
   "metadata": {},
   "outputs": [
    {
     "data": {
      "text/html": [
       "<div>\n",
       "<style scoped>\n",
       "    .dataframe tbody tr th:only-of-type {\n",
       "        vertical-align: middle;\n",
       "    }\n",
       "\n",
       "    .dataframe tbody tr th {\n",
       "        vertical-align: top;\n",
       "    }\n",
       "\n",
       "    .dataframe thead th {\n",
       "        text-align: right;\n",
       "    }\n",
       "</style>\n",
       "<table border=\"1\" class=\"dataframe\">\n",
       "  <thead>\n",
       "    <tr style=\"text-align: right;\">\n",
       "      <th></th>\n",
       "      <th>HeartDisease</th>\n",
       "      <th>BMI</th>\n",
       "      <th>Smoking</th>\n",
       "      <th>AlcoholDrinking</th>\n",
       "      <th>Stroke</th>\n",
       "      <th>PhysicalHealth</th>\n",
       "      <th>MentalHealth</th>\n",
       "      <th>DiffWalking</th>\n",
       "      <th>Sex</th>\n",
       "      <th>AgeCategory</th>\n",
       "      <th>Race</th>\n",
       "      <th>Diabetic</th>\n",
       "      <th>PhysicalActivity</th>\n",
       "      <th>GenHealth</th>\n",
       "      <th>SleepTime</th>\n",
       "      <th>Asthma</th>\n",
       "      <th>KidneyDisease</th>\n",
       "      <th>SkinCancer</th>\n",
       "    </tr>\n",
       "  </thead>\n",
       "  <tbody>\n",
       "    <tr>\n",
       "      <th>0</th>\n",
       "      <td>No</td>\n",
       "      <td>16.60</td>\n",
       "      <td>Yes</td>\n",
       "      <td>No</td>\n",
       "      <td>No</td>\n",
       "      <td>3.0</td>\n",
       "      <td>30.0</td>\n",
       "      <td>No</td>\n",
       "      <td>Female</td>\n",
       "      <td>55-59</td>\n",
       "      <td>White</td>\n",
       "      <td>Yes</td>\n",
       "      <td>Yes</td>\n",
       "      <td>Very good</td>\n",
       "      <td>5.0</td>\n",
       "      <td>Yes</td>\n",
       "      <td>No</td>\n",
       "      <td>Yes</td>\n",
       "    </tr>\n",
       "    <tr>\n",
       "      <th>1</th>\n",
       "      <td>No</td>\n",
       "      <td>20.34</td>\n",
       "      <td>No</td>\n",
       "      <td>No</td>\n",
       "      <td>Yes</td>\n",
       "      <td>0.0</td>\n",
       "      <td>0.0</td>\n",
       "      <td>No</td>\n",
       "      <td>Female</td>\n",
       "      <td>80 or older</td>\n",
       "      <td>White</td>\n",
       "      <td>No</td>\n",
       "      <td>Yes</td>\n",
       "      <td>Very good</td>\n",
       "      <td>7.0</td>\n",
       "      <td>No</td>\n",
       "      <td>No</td>\n",
       "      <td>No</td>\n",
       "    </tr>\n",
       "    <tr>\n",
       "      <th>2</th>\n",
       "      <td>No</td>\n",
       "      <td>26.58</td>\n",
       "      <td>Yes</td>\n",
       "      <td>No</td>\n",
       "      <td>No</td>\n",
       "      <td>20.0</td>\n",
       "      <td>30.0</td>\n",
       "      <td>No</td>\n",
       "      <td>Male</td>\n",
       "      <td>65-69</td>\n",
       "      <td>White</td>\n",
       "      <td>Yes</td>\n",
       "      <td>Yes</td>\n",
       "      <td>Fair</td>\n",
       "      <td>8.0</td>\n",
       "      <td>Yes</td>\n",
       "      <td>No</td>\n",
       "      <td>No</td>\n",
       "    </tr>\n",
       "    <tr>\n",
       "      <th>3</th>\n",
       "      <td>No</td>\n",
       "      <td>24.21</td>\n",
       "      <td>No</td>\n",
       "      <td>No</td>\n",
       "      <td>No</td>\n",
       "      <td>0.0</td>\n",
       "      <td>0.0</td>\n",
       "      <td>No</td>\n",
       "      <td>Female</td>\n",
       "      <td>75-79</td>\n",
       "      <td>White</td>\n",
       "      <td>No</td>\n",
       "      <td>No</td>\n",
       "      <td>Good</td>\n",
       "      <td>6.0</td>\n",
       "      <td>No</td>\n",
       "      <td>No</td>\n",
       "      <td>Yes</td>\n",
       "    </tr>\n",
       "    <tr>\n",
       "      <th>4</th>\n",
       "      <td>No</td>\n",
       "      <td>23.71</td>\n",
       "      <td>No</td>\n",
       "      <td>No</td>\n",
       "      <td>No</td>\n",
       "      <td>28.0</td>\n",
       "      <td>0.0</td>\n",
       "      <td>Yes</td>\n",
       "      <td>Female</td>\n",
       "      <td>40-44</td>\n",
       "      <td>White</td>\n",
       "      <td>No</td>\n",
       "      <td>Yes</td>\n",
       "      <td>Very good</td>\n",
       "      <td>8.0</td>\n",
       "      <td>No</td>\n",
       "      <td>No</td>\n",
       "      <td>No</td>\n",
       "    </tr>\n",
       "  </tbody>\n",
       "</table>\n",
       "</div>"
      ],
      "text/plain": [
       "  HeartDisease    BMI Smoking AlcoholDrinking Stroke  PhysicalHealth  \\\n",
       "0           No  16.60     Yes              No     No             3.0   \n",
       "1           No  20.34      No              No    Yes             0.0   \n",
       "2           No  26.58     Yes              No     No            20.0   \n",
       "3           No  24.21      No              No     No             0.0   \n",
       "4           No  23.71      No              No     No            28.0   \n",
       "\n",
       "   MentalHealth DiffWalking     Sex  AgeCategory   Race Diabetic  \\\n",
       "0          30.0          No  Female        55-59  White      Yes   \n",
       "1           0.0          No  Female  80 or older  White       No   \n",
       "2          30.0          No    Male        65-69  White      Yes   \n",
       "3           0.0          No  Female        75-79  White       No   \n",
       "4           0.0         Yes  Female        40-44  White       No   \n",
       "\n",
       "  PhysicalActivity  GenHealth  SleepTime Asthma KidneyDisease SkinCancer  \n",
       "0              Yes  Very good        5.0    Yes            No        Yes  \n",
       "1              Yes  Very good        7.0     No            No         No  \n",
       "2              Yes       Fair        8.0    Yes            No         No  \n",
       "3               No       Good        6.0     No            No        Yes  \n",
       "4              Yes  Very good        8.0     No            No         No  "
      ]
     },
     "execution_count": 146,
     "metadata": {},
     "output_type": "execute_result"
    }
   ],
   "source": [
    "data = pd.read_csv(\"heart_2020_cleaned.csv\")\n",
    "data.head()"
   ]
  },
  {
   "cell_type": "code",
   "execution_count": 147,
   "id": "79eb3d32",
   "metadata": {},
   "outputs": [
    {
     "data": {
      "text/html": [
       "<div>\n",
       "<style scoped>\n",
       "    .dataframe tbody tr th:only-of-type {\n",
       "        vertical-align: middle;\n",
       "    }\n",
       "\n",
       "    .dataframe tbody tr th {\n",
       "        vertical-align: top;\n",
       "    }\n",
       "\n",
       "    .dataframe thead th {\n",
       "        text-align: right;\n",
       "    }\n",
       "</style>\n",
       "<table border=\"1\" class=\"dataframe\">\n",
       "  <thead>\n",
       "    <tr style=\"text-align: right;\">\n",
       "      <th></th>\n",
       "      <th>HeartDisease</th>\n",
       "      <th>BMI</th>\n",
       "      <th>Smoking</th>\n",
       "      <th>AlcoholDrinking</th>\n",
       "      <th>Stroke</th>\n",
       "      <th>PhysicalHealth</th>\n",
       "      <th>MentalHealth</th>\n",
       "      <th>DiffWalking</th>\n",
       "      <th>Sex</th>\n",
       "      <th>AgeCategory</th>\n",
       "      <th>Race</th>\n",
       "      <th>Diabetic</th>\n",
       "      <th>PhysicalActivity</th>\n",
       "      <th>GenHealth</th>\n",
       "      <th>SleepTime</th>\n",
       "      <th>Asthma</th>\n",
       "      <th>KidneyDisease</th>\n",
       "      <th>SkinCancer</th>\n",
       "    </tr>\n",
       "  </thead>\n",
       "  <tbody>\n",
       "    <tr>\n",
       "      <th>0</th>\n",
       "      <td>0</td>\n",
       "      <td>16.60</td>\n",
       "      <td>1</td>\n",
       "      <td>0</td>\n",
       "      <td>0</td>\n",
       "      <td>3.0</td>\n",
       "      <td>30.0</td>\n",
       "      <td>0</td>\n",
       "      <td>Female</td>\n",
       "      <td>55-59</td>\n",
       "      <td>White</td>\n",
       "      <td>1</td>\n",
       "      <td>1</td>\n",
       "      <td>Very good</td>\n",
       "      <td>5.0</td>\n",
       "      <td>1</td>\n",
       "      <td>0</td>\n",
       "      <td>1</td>\n",
       "    </tr>\n",
       "    <tr>\n",
       "      <th>1</th>\n",
       "      <td>0</td>\n",
       "      <td>20.34</td>\n",
       "      <td>0</td>\n",
       "      <td>0</td>\n",
       "      <td>1</td>\n",
       "      <td>0.0</td>\n",
       "      <td>0.0</td>\n",
       "      <td>0</td>\n",
       "      <td>Female</td>\n",
       "      <td>80 or older</td>\n",
       "      <td>White</td>\n",
       "      <td>0</td>\n",
       "      <td>1</td>\n",
       "      <td>Very good</td>\n",
       "      <td>7.0</td>\n",
       "      <td>0</td>\n",
       "      <td>0</td>\n",
       "      <td>0</td>\n",
       "    </tr>\n",
       "    <tr>\n",
       "      <th>2</th>\n",
       "      <td>0</td>\n",
       "      <td>26.58</td>\n",
       "      <td>1</td>\n",
       "      <td>0</td>\n",
       "      <td>0</td>\n",
       "      <td>20.0</td>\n",
       "      <td>30.0</td>\n",
       "      <td>0</td>\n",
       "      <td>Male</td>\n",
       "      <td>65-69</td>\n",
       "      <td>White</td>\n",
       "      <td>1</td>\n",
       "      <td>1</td>\n",
       "      <td>Fair</td>\n",
       "      <td>8.0</td>\n",
       "      <td>1</td>\n",
       "      <td>0</td>\n",
       "      <td>0</td>\n",
       "    </tr>\n",
       "    <tr>\n",
       "      <th>3</th>\n",
       "      <td>0</td>\n",
       "      <td>24.21</td>\n",
       "      <td>0</td>\n",
       "      <td>0</td>\n",
       "      <td>0</td>\n",
       "      <td>0.0</td>\n",
       "      <td>0.0</td>\n",
       "      <td>0</td>\n",
       "      <td>Female</td>\n",
       "      <td>75-79</td>\n",
       "      <td>White</td>\n",
       "      <td>0</td>\n",
       "      <td>0</td>\n",
       "      <td>Good</td>\n",
       "      <td>6.0</td>\n",
       "      <td>0</td>\n",
       "      <td>0</td>\n",
       "      <td>1</td>\n",
       "    </tr>\n",
       "    <tr>\n",
       "      <th>4</th>\n",
       "      <td>0</td>\n",
       "      <td>23.71</td>\n",
       "      <td>0</td>\n",
       "      <td>0</td>\n",
       "      <td>0</td>\n",
       "      <td>28.0</td>\n",
       "      <td>0.0</td>\n",
       "      <td>1</td>\n",
       "      <td>Female</td>\n",
       "      <td>40-44</td>\n",
       "      <td>White</td>\n",
       "      <td>0</td>\n",
       "      <td>1</td>\n",
       "      <td>Very good</td>\n",
       "      <td>8.0</td>\n",
       "      <td>0</td>\n",
       "      <td>0</td>\n",
       "      <td>0</td>\n",
       "    </tr>\n",
       "  </tbody>\n",
       "</table>\n",
       "</div>"
      ],
      "text/plain": [
       "   HeartDisease    BMI  Smoking  AlcoholDrinking  Stroke  PhysicalHealth  \\\n",
       "0             0  16.60        1                0       0             3.0   \n",
       "1             0  20.34        0                0       1             0.0   \n",
       "2             0  26.58        1                0       0            20.0   \n",
       "3             0  24.21        0                0       0             0.0   \n",
       "4             0  23.71        0                0       0            28.0   \n",
       "\n",
       "   MentalHealth  DiffWalking     Sex  AgeCategory   Race Diabetic  \\\n",
       "0          30.0            0  Female        55-59  White        1   \n",
       "1           0.0            0  Female  80 or older  White        0   \n",
       "2          30.0            0    Male        65-69  White        1   \n",
       "3           0.0            0  Female        75-79  White        0   \n",
       "4           0.0            1  Female        40-44  White        0   \n",
       "\n",
       "   PhysicalActivity  GenHealth  SleepTime  Asthma  KidneyDisease  SkinCancer  \n",
       "0                 1  Very good        5.0       1              0           1  \n",
       "1                 1  Very good        7.0       0              0           0  \n",
       "2                 1       Fair        8.0       1              0           0  \n",
       "3                 0       Good        6.0       0              0           1  \n",
       "4                 1  Very good        8.0       0              0           0  "
      ]
     },
     "execution_count": 147,
     "metadata": {},
     "output_type": "execute_result"
    }
   ],
   "source": [
    "data.replace(\"Yes\", 1, inplace = True)\n",
    "data.replace(\"No\", 0, inplace = True)\n",
    "data.head()"
   ]
  },
  {
   "cell_type": "code",
   "execution_count": 148,
   "id": "707db775",
   "metadata": {},
   "outputs": [
    {
     "data": {
      "text/plain": [
       "array([1, 0, 'No, borderline diabetes', 'Yes (during pregnancy)'],\n",
       "      dtype=object)"
      ]
     },
     "execution_count": 148,
     "metadata": {},
     "output_type": "execute_result"
    }
   ],
   "source": [
    "data['Diabetic'].unique()"
   ]
  },
  {
   "cell_type": "code",
   "execution_count": 149,
   "id": "8560dadc",
   "metadata": {},
   "outputs": [],
   "source": [
    "data.replace(\"Yes (during pregnancy)\", 1, inplace = True)\n",
    "data.replace(\"No, borderline diabetes\", 0, inplace = True)"
   ]
  },
  {
   "cell_type": "code",
   "execution_count": 150,
   "id": "ce80e46a",
   "metadata": {},
   "outputs": [
    {
     "data": {
      "text/plain": [
       "array(['Female', 'Male'], dtype=object)"
      ]
     },
     "execution_count": 150,
     "metadata": {},
     "output_type": "execute_result"
    }
   ],
   "source": [
    "data[\"Sex\"].unique()"
   ]
  },
  {
   "cell_type": "code",
   "execution_count": 151,
   "id": "85412de0",
   "metadata": {},
   "outputs": [],
   "source": [
    "data.replace(\"Female\", 1, inplace = True)\n",
    "data.replace(\"Male\", 0, inplace = True)"
   ]
  },
  {
   "cell_type": "code",
   "execution_count": 152,
   "id": "b427f26b",
   "metadata": {},
   "outputs": [
    {
     "data": {
      "text/plain": [
       "array(['55-59', '80 or older', '65-69', '75-79', '40-44', '70-74',\n",
       "       '60-64', '50-54', '45-49', '18-24', '35-39', '30-34', '25-29'],\n",
       "      dtype=object)"
      ]
     },
     "execution_count": 152,
     "metadata": {},
     "output_type": "execute_result"
    }
   ],
   "source": [
    "data[\"AgeCategory\"].unique()"
   ]
  },
  {
   "cell_type": "code",
   "execution_count": 153,
   "id": "b021c932",
   "metadata": {},
   "outputs": [],
   "source": [
    "data.replace(\"18-24\", 0, inplace = True)\n",
    "data.replace(\"25-29\", 1, inplace = True)\n",
    "data.replace(\"30-34\", 2, inplace = True)\n",
    "data.replace(\"35-39\", 3, inplace = True)\n",
    "data.replace(\"40-44\", 4, inplace = True)\n",
    "data.replace(\"45-49\", 5, inplace = True)\n",
    "data.replace(\"50-54\", 6, inplace = True)\n",
    "data.replace(\"55-59\", 7, inplace = True)\n",
    "data.replace(\"60-64\", 8, inplace = True)\n",
    "data.replace(\"65-69\", 9, inplace = True)\n",
    "data.replace(\"70-74\", 10, inplace = True)\n",
    "data.replace(\"75-79\", 11, inplace = True)\n",
    "data.replace(\"80 or older\", 12, inplace = True)"
   ]
  },
  {
   "cell_type": "code",
   "execution_count": 154,
   "id": "281e42e7",
   "metadata": {},
   "outputs": [
    {
     "data": {
      "text/plain": [
       "array(['White', 'Black', 'Asian', 'American Indian/Alaskan Native',\n",
       "       'Other', 'Hispanic'], dtype=object)"
      ]
     },
     "execution_count": 154,
     "metadata": {},
     "output_type": "execute_result"
    }
   ],
   "source": [
    "data[\"Race\"].unique()"
   ]
  },
  {
   "cell_type": "code",
   "execution_count": 155,
   "id": "957b3524",
   "metadata": {},
   "outputs": [],
   "source": [
    "data.replace(\"White\", 0, inplace = True)\n",
    "data.replace(\"Black\", 1, inplace = True)\n",
    "data.replace(\"Asian\", 2, inplace = True)\n",
    "data.replace(\"American Indian/Alaskan Native\", 3, inplace = True)\n",
    "data.replace(\"Hispanic\", 4, inplace = True)\n",
    "data.replace(\"Other\", 5, inplace = True)"
   ]
  },
  {
   "cell_type": "code",
   "execution_count": 156,
   "id": "698a2aaf",
   "metadata": {},
   "outputs": [
    {
     "data": {
      "text/plain": [
       "array(['Very good', 'Fair', 'Good', 'Poor', 'Excellent'], dtype=object)"
      ]
     },
     "execution_count": 156,
     "metadata": {},
     "output_type": "execute_result"
    }
   ],
   "source": [
    "data[\"GenHealth\"].unique()"
   ]
  },
  {
   "cell_type": "code",
   "execution_count": 157,
   "id": "944ad37f",
   "metadata": {},
   "outputs": [],
   "source": [
    "data.replace(\"Poor\", 0, inplace = True)\n",
    "data.replace(\"Fair\", 1, inplace = True)\n",
    "data.replace(\"Good\", 2, inplace = True)\n",
    "data.replace(\"Very good\", 3, inplace = True)\n",
    "data.replace(\"Excellent\", 4, inplace = True)"
   ]
  },
  {
   "cell_type": "code",
   "execution_count": 158,
   "id": "303a2909",
   "metadata": {},
   "outputs": [
    {
     "data": {
      "text/plain": [
       "(319795, 18)"
      ]
     },
     "execution_count": 158,
     "metadata": {},
     "output_type": "execute_result"
    }
   ],
   "source": [
    "data.shape"
   ]
  },
  {
   "cell_type": "code",
   "execution_count": 159,
   "id": "350df765",
   "metadata": {},
   "outputs": [
    {
     "data": {
      "text/plain": [
       "223856.5"
      ]
     },
     "execution_count": 159,
     "metadata": {},
     "output_type": "execute_result"
    }
   ],
   "source": [
    "#70% train, 30% test\n",
    "\n",
    "319795 * 0.7"
   ]
  },
  {
   "cell_type": "code",
   "execution_count": 160,
   "id": "bdbb109f",
   "metadata": {},
   "outputs": [],
   "source": [
    "train = data.iloc[:223856, :]\n",
    "test = data.iloc[223856:, :]"
   ]
  },
  {
   "cell_type": "code",
   "execution_count": 161,
   "id": "803406ca",
   "metadata": {},
   "outputs": [
    {
     "data": {
      "text/plain": [
       "<AxesSubplot:>"
      ]
     },
     "execution_count": 161,
     "metadata": {},
     "output_type": "execute_result"
    },
    {
     "data": {
      "image/png": "[encoded data removed]",
      "text/plain": [
       "<Figure size 720x432 with 2 Axes>"
      ]
     },
     "metadata": {},
     "output_type": "display_data"
    }
   ],
   "source": [
    "sns.heatmap(train.corr(), cmap='tab10')"
   ]
  },
  {
   "cell_type": "code",
   "execution_count": 162,
   "id": "15178546",
   "metadata": {},
   "outputs": [
    {
     "data": {
      "text/plain": [
       "HeartDisease        1.000000\n",
       "BMI                 0.051816\n",
       "Smoking             0.108089\n",
       "AlcoholDrinking    -0.030670\n",
       "Stroke              0.196633\n",
       "PhysicalHealth      0.167607\n",
       "MentalHealth        0.027049\n",
       "DiffWalking         0.201167\n",
       "Sex                -0.070926\n",
       "AgeCategory         0.233795\n",
       "Race               -0.040265\n",
       "Diabetic            0.177459\n",
       "PhysicalActivity   -0.099053\n",
       "GenHealth          -0.243695\n",
       "SleepTime           0.012958\n",
       "Asthma              0.040076\n",
       "KidneyDisease       0.145019\n",
       "SkinCancer          0.094440\n",
       "Name: HeartDisease, dtype: float64"
      ]
     },
     "execution_count": 162,
     "metadata": {},
     "output_type": "execute_result"
    }
   ],
   "source": [
    "train.corr().loc[\"HeartDisease\", :]"
   ]
  },
  {
   "cell_type": "code",
   "execution_count": 163,
   "id": "912ca924",
   "metadata": {},
   "outputs": [
    {
     "data": {
      "text/plain": [
       "<AxesSubplot:xlabel='HeartDisease', ylabel='count'>"
      ]
     },
     "execution_count": 163,
     "metadata": {},
     "output_type": "execute_result"
    },
    {
     "data": {
      "image/png": "[encoded data removed]",
      "text/plain": [
       "<Figure size 720x432 with 1 Axes>"
      ]
     },
     "metadata": {},
     "output_type": "display_data"
    }
   ],
   "source": [
    "sns.countplot(x='HeartDisease',data=train)"
   ]
  },
  {
   "cell_type": "code",
   "execution_count": 164,
   "id": "f8363bd2",
   "metadata": {},
   "outputs": [
    {
     "data": {
      "text/plain": [
       "<AxesSubplot:xlabel='PhysicalHealth', ylabel='count'>"
      ]
     },
     "execution_count": 164,
     "metadata": {},
     "output_type": "execute_result"
    },
    {
     "data": {
      "image/png": "[encoded data removed]",
      "text/plain": [
       "<Figure size 720x432 with 1 Axes>"
      ]
     },
     "metadata": {},
     "output_type": "display_data"
    }
   ],
   "source": [
    "sns.set(font_scale = 0.6)\n",
    "sns.countplot(x='PhysicalHealth',data=train)"
   ]
  },
  {
   "cell_type": "code",
   "execution_count": 165,
   "id": "bd6aea4a",
   "metadata": {},
   "outputs": [
    {
     "data": {
      "text/plain": [
       "<AxesSubplot:xlabel='Sex', ylabel='count'>"
      ]
     },
     "execution_count": 165,
     "metadata": {},
     "output_type": "execute_result"
    },
    {
     "data": {
      "image/png": "[encoded data removed]",
      "text/plain": [
       "<Figure size 720x432 with 1 Axes>"
      ]
     },
     "metadata": {},
     "output_type": "display_data"
    }
   ],
   "source": [
    "sns.set(font_scale = 1.4)\n",
    "sns.countplot(x='Sex',data=train)"
   ]
  },
  {
   "cell_type": "code",
   "execution_count": 166,
   "id": "70f6de19",
   "metadata": {},
   "outputs": [
    {
     "data": {
      "text/plain": [
       "<AxesSubplot:xlabel='AgeCategory', ylabel='count'>"
      ]
     },
     "execution_count": 166,
     "metadata": {},
     "output_type": "execute_result"
    },
    {
     "data": {
      "image/png": "[encoded data removed]",
      "text/plain": [
       "<Figure size 720x432 with 1 Axes>"
      ]
     },
     "metadata": {},
     "output_type": "display_data"
    }
   ],
   "source": [
    "sns.countplot(x='AgeCategory',data=train)"
   ]
  },
  {
   "cell_type": "markdown",
   "id": "228216d4",
   "metadata": {},
   "source": [
    "# Variable Selection"
   ]
  },
  {
   "cell_type": "code",
   "execution_count": 167,
   "id": "dc663d6f",
   "metadata": {},
   "outputs": [],
   "source": [
    "import pandas as pd\n",
    "import numpy as np\n",
    "import statsmodels.formula.api as sm\n",
    "import seaborn as sns\n",
    "import matplotlib.pyplot as plt\n",
    "import itertools\n",
    "import time"
   ]
  },
  {
   "cell_type": "code",
   "execution_count": 168,
   "id": "ec906c3f",
   "metadata": {},
   "outputs": [
    {
     "data": {
      "text/html": [
       "<div>\n",
       "<style scoped>\n",
       "    .dataframe tbody tr th:only-of-type {\n",
       "        vertical-align: middle;\n",
       "    }\n",
       "\n",
       "    .dataframe tbody tr th {\n",
       "        vertical-align: top;\n",
       "    }\n",
       "\n",
       "    .dataframe thead th {\n",
       "        text-align: right;\n",
       "    }\n",
       "</style>\n",
       "<table border=\"1\" class=\"dataframe\">\n",
       "  <thead>\n",
       "    <tr style=\"text-align: right;\">\n",
       "      <th></th>\n",
       "      <th>HeartDisease</th>\n",
       "      <th>BMI</th>\n",
       "      <th>Smoking</th>\n",
       "      <th>AlcoholDrinking</th>\n",
       "      <th>Stroke</th>\n",
       "      <th>PhysicalHealth</th>\n",
       "      <th>MentalHealth</th>\n",
       "      <th>DiffWalking</th>\n",
       "      <th>Sex</th>\n",
       "      <th>AgeCategory</th>\n",
       "      <th>Race</th>\n",
       "      <th>Diabetic</th>\n",
       "      <th>PhysicalActivity</th>\n",
       "      <th>GenHealth</th>\n",
       "      <th>SleepTime</th>\n",
       "      <th>Asthma</th>\n",
       "      <th>KidneyDisease</th>\n",
       "      <th>SkinCancer</th>\n",
       "    </tr>\n",
       "  </thead>\n",
       "  <tbody>\n",
       "    <tr>\n",
       "      <th>0</th>\n",
       "      <td>0</td>\n",
       "      <td>16.60</td>\n",
       "      <td>1</td>\n",
       "      <td>0</td>\n",
       "      <td>0</td>\n",
       "      <td>3.0</td>\n",
       "      <td>30.0</td>\n",
       "      <td>0</td>\n",
       "      <td>1</td>\n",
       "      <td>7</td>\n",
       "      <td>0</td>\n",
       "      <td>1</td>\n",
       "      <td>1</td>\n",
       "      <td>3</td>\n",
       "      <td>5.0</td>\n",
       "      <td>1</td>\n",
       "      <td>0</td>\n",
       "      <td>1</td>\n",
       "    </tr>\n",
       "    <tr>\n",
       "      <th>1</th>\n",
       "      <td>0</td>\n",
       "      <td>20.34</td>\n",
       "      <td>0</td>\n",
       "      <td>0</td>\n",
       "      <td>1</td>\n",
       "      <td>0.0</td>\n",
       "      <td>0.0</td>\n",
       "      <td>0</td>\n",
       "      <td>1</td>\n",
       "      <td>12</td>\n",
       "      <td>0</td>\n",
       "      <td>0</td>\n",
       "      <td>1</td>\n",
       "      <td>3</td>\n",
       "      <td>7.0</td>\n",
       "      <td>0</td>\n",
       "      <td>0</td>\n",
       "      <td>0</td>\n",
       "    </tr>\n",
       "    <tr>\n",
       "      <th>2</th>\n",
       "      <td>0</td>\n",
       "      <td>26.58</td>\n",
       "      <td>1</td>\n",
       "      <td>0</td>\n",
       "      <td>0</td>\n",
       "      <td>20.0</td>\n",
       "      <td>30.0</td>\n",
       "      <td>0</td>\n",
       "      <td>0</td>\n",
       "      <td>9</td>\n",
       "      <td>0</td>\n",
       "      <td>1</td>\n",
       "      <td>1</td>\n",
       "      <td>1</td>\n",
       "      <td>8.0</td>\n",
       "      <td>1</td>\n",
       "      <td>0</td>\n",
       "      <td>0</td>\n",
       "    </tr>\n",
       "    <tr>\n",
       "      <th>3</th>\n",
       "      <td>0</td>\n",
       "      <td>24.21</td>\n",
       "      <td>0</td>\n",
       "      <td>0</td>\n",
       "      <td>0</td>\n",
       "      <td>0.0</td>\n",
       "      <td>0.0</td>\n",
       "      <td>0</td>\n",
       "      <td>1</td>\n",
       "      <td>11</td>\n",
       "      <td>0</td>\n",
       "      <td>0</td>\n",
       "      <td>0</td>\n",
       "      <td>2</td>\n",
       "      <td>6.0</td>\n",
       "      <td>0</td>\n",
       "      <td>0</td>\n",
       "      <td>1</td>\n",
       "    </tr>\n",
       "    <tr>\n",
       "      <th>4</th>\n",
       "      <td>0</td>\n",
       "      <td>23.71</td>\n",
       "      <td>0</td>\n",
       "      <td>0</td>\n",
       "      <td>0</td>\n",
       "      <td>28.0</td>\n",
       "      <td>0.0</td>\n",
       "      <td>1</td>\n",
       "      <td>1</td>\n",
       "      <td>4</td>\n",
       "      <td>0</td>\n",
       "      <td>0</td>\n",
       "      <td>1</td>\n",
       "      <td>3</td>\n",
       "      <td>8.0</td>\n",
       "      <td>0</td>\n",
       "      <td>0</td>\n",
       "      <td>0</td>\n",
       "    </tr>\n",
       "    <tr>\n",
       "      <th>...</th>\n",
       "      <td>...</td>\n",
       "      <td>...</td>\n",
       "      <td>...</td>\n",
       "      <td>...</td>\n",
       "      <td>...</td>\n",
       "      <td>...</td>\n",
       "      <td>...</td>\n",
       "      <td>...</td>\n",
       "      <td>...</td>\n",
       "      <td>...</td>\n",
       "      <td>...</td>\n",
       "      <td>...</td>\n",
       "      <td>...</td>\n",
       "      <td>...</td>\n",
       "      <td>...</td>\n",
       "      <td>...</td>\n",
       "      <td>...</td>\n",
       "      <td>...</td>\n",
       "    </tr>\n",
       "    <tr>\n",
       "      <th>223851</th>\n",
       "      <td>0</td>\n",
       "      <td>34.28</td>\n",
       "      <td>1</td>\n",
       "      <td>0</td>\n",
       "      <td>1</td>\n",
       "      <td>30.0</td>\n",
       "      <td>10.0</td>\n",
       "      <td>1</td>\n",
       "      <td>1</td>\n",
       "      <td>8</td>\n",
       "      <td>0</td>\n",
       "      <td>1</td>\n",
       "      <td>0</td>\n",
       "      <td>1</td>\n",
       "      <td>4.0</td>\n",
       "      <td>1</td>\n",
       "      <td>0</td>\n",
       "      <td>0</td>\n",
       "    </tr>\n",
       "    <tr>\n",
       "      <th>223852</th>\n",
       "      <td>0</td>\n",
       "      <td>24.80</td>\n",
       "      <td>0</td>\n",
       "      <td>0</td>\n",
       "      <td>0</td>\n",
       "      <td>0.0</td>\n",
       "      <td>0.0</td>\n",
       "      <td>0</td>\n",
       "      <td>1</td>\n",
       "      <td>5</td>\n",
       "      <td>0</td>\n",
       "      <td>0</td>\n",
       "      <td>1</td>\n",
       "      <td>3</td>\n",
       "      <td>8.0</td>\n",
       "      <td>0</td>\n",
       "      <td>0</td>\n",
       "      <td>0</td>\n",
       "    </tr>\n",
       "    <tr>\n",
       "      <th>223853</th>\n",
       "      <td>0</td>\n",
       "      <td>25.75</td>\n",
       "      <td>0</td>\n",
       "      <td>0</td>\n",
       "      <td>0</td>\n",
       "      <td>0.0</td>\n",
       "      <td>0.0</td>\n",
       "      <td>0</td>\n",
       "      <td>1</td>\n",
       "      <td>8</td>\n",
       "      <td>0</td>\n",
       "      <td>0</td>\n",
       "      <td>1</td>\n",
       "      <td>3</td>\n",
       "      <td>8.0</td>\n",
       "      <td>1</td>\n",
       "      <td>0</td>\n",
       "      <td>0</td>\n",
       "    </tr>\n",
       "    <tr>\n",
       "      <th>223854</th>\n",
       "      <td>1</td>\n",
       "      <td>23.91</td>\n",
       "      <td>1</td>\n",
       "      <td>0</td>\n",
       "      <td>0</td>\n",
       "      <td>18.0</td>\n",
       "      <td>0.0</td>\n",
       "      <td>1</td>\n",
       "      <td>0</td>\n",
       "      <td>9</td>\n",
       "      <td>3</td>\n",
       "      <td>1</td>\n",
       "      <td>0</td>\n",
       "      <td>1</td>\n",
       "      <td>5.0</td>\n",
       "      <td>1</td>\n",
       "      <td>0</td>\n",
       "      <td>0</td>\n",
       "    </tr>\n",
       "    <tr>\n",
       "      <th>223855</th>\n",
       "      <td>0</td>\n",
       "      <td>37.59</td>\n",
       "      <td>1</td>\n",
       "      <td>1</td>\n",
       "      <td>0</td>\n",
       "      <td>2.0</td>\n",
       "      <td>5.0</td>\n",
       "      <td>0</td>\n",
       "      <td>1</td>\n",
       "      <td>4</td>\n",
       "      <td>0</td>\n",
       "      <td>1</td>\n",
       "      <td>1</td>\n",
       "      <td>2</td>\n",
       "      <td>6.0</td>\n",
       "      <td>0</td>\n",
       "      <td>0</td>\n",
       "      <td>0</td>\n",
       "    </tr>\n",
       "  </tbody>\n",
       "</table>\n",
       "<p>223856 rows × 18 columns</p>\n",
       "</div>"
      ],
      "text/plain": [
       "        HeartDisease    BMI  Smoking  AlcoholDrinking  Stroke  PhysicalHealth  \\\n",
       "0                  0  16.60        1                0       0             3.0   \n",
       "1                  0  20.34        0                0       1             0.0   \n",
       "2                  0  26.58        1                0       0            20.0   \n",
       "3                  0  24.21        0                0       0             0.0   \n",
       "4                  0  23.71        0                0       0            28.0   \n",
       "...              ...    ...      ...              ...     ...             ...   \n",
       "223851             0  34.28        1                0       1            30.0   \n",
       "223852             0  24.80        0                0       0             0.0   \n",
       "223853             0  25.75        0                0       0             0.0   \n",
       "223854             1  23.91        1                0       0            18.0   \n",
       "223855             0  37.59        1                1       0             2.0   \n",
       "\n",
       "        MentalHealth  DiffWalking  Sex  AgeCategory  Race  Diabetic  \\\n",
       "0               30.0            0    1            7     0         1   \n",
       "1                0.0            0    1           12     0         0   \n",
       "2               30.0            0    0            9     0         1   \n",
       "3                0.0            0    1           11     0         0   \n",
       "4                0.0            1    1            4     0         0   \n",
       "...              ...          ...  ...          ...   ...       ...   \n",
       "223851          10.0            1    1            8     0         1   \n",
       "223852           0.0            0    1            5     0         0   \n",
       "223853           0.0            0    1            8     0         0   \n",
       "223854           0.0            1    0            9     3         1   \n",
       "223855           5.0            0    1            4     0         1   \n",
       "\n",
       "        PhysicalActivity  GenHealth  SleepTime  Asthma  KidneyDisease  \\\n",
       "0                      1          3        5.0       1              0   \n",
       "1                      1          3        7.0       0              0   \n",
       "2                      1          1        8.0       1              0   \n",
       "3                      0          2        6.0       0              0   \n",
       "4                      1          3        8.0       0              0   \n",
       "...                  ...        ...        ...     ...            ...   \n",
       "223851                 0          1        4.0       1              0   \n",
       "223852                 1          3        8.0       0              0   \n",
       "223853                 1          3        8.0       1              0   \n",
       "223854                 0          1        5.0       1              0   \n",
       "223855                 1          2        6.0       0              0   \n",
       "\n",
       "        SkinCancer  \n",
       "0                1  \n",
       "1                0  \n",
       "2                0  \n",
       "3                1  \n",
       "4                0  \n",
       "...            ...  \n",
       "223851           0  \n",
       "223852           0  \n",
       "223853           0  \n",
       "223854           0  \n",
       "223855           0  \n",
       "\n",
       "[223856 rows x 18 columns]"
      ]
     },
     "execution_count": 168,
     "metadata": {},
     "output_type": "execute_result"
    }
   ],
   "source": [
    "train"
   ]
  },
  {
   "cell_type": "code",
   "execution_count": 169,
   "id": "8831cf86",
   "metadata": {},
   "outputs": [
    {
     "name": "stdout",
     "output_type": "stream",
     "text": [
      "<class 'pandas.core.frame.DataFrame'>\n",
      "RangeIndex: 223856 entries, 0 to 223855\n",
      "Data columns (total 18 columns):\n",
      " #   Column            Non-Null Count   Dtype  \n",
      "---  ------            --------------   -----  \n",
      " 0   HeartDisease      223856 non-null  int64  \n",
      " 1   BMI               223856 non-null  float64\n",
      " 2   Smoking           223856 non-null  int64  \n",
      " 3   AlcoholDrinking   223856 non-null  int64  \n",
      " 4   Stroke            223856 non-null  int64  \n",
      " 5   PhysicalHealth    223856 non-null  float64\n",
      " 6   MentalHealth      223856 non-null  float64\n",
      " 7   DiffWalking       223856 non-null  int64  \n",
      " 8   Sex               223856 non-null  int64  \n",
      " 9   AgeCategory       223856 non-null  int64  \n",
      " 10  Race              223856 non-null  int64  \n",
      " 11  Diabetic          223856 non-null  int64  \n",
      " 12  PhysicalActivity  223856 non-null  int64  \n",
      " 13  GenHealth         223856 non-null  int64  \n",
      " 14  SleepTime         223856 non-null  float64\n",
      " 15  Asthma            223856 non-null  int64  \n",
      " 16  KidneyDisease     223856 non-null  int64  \n",
      " 17  SkinCancer        223856 non-null  int64  \n",
      "dtypes: float64(4), int64(14)\n",
      "memory usage: 30.7 MB\n"
     ]
    }
   ],
   "source": [
    "train.info()"
   ]
  },
  {
   "cell_type": "code",
   "execution_count": 170,
   "id": "17bfc225",
   "metadata": {},
   "outputs": [],
   "source": [
    "X = train[['BMI', 'Smoking', 'AlcoholDrinking', \"Stroke\", 'PhysicalHealth', \"MentalHealth\", \"DiffWalking\", \"Sex\", \"Race\", \"Diabetic\", \"PhysicalActivity\", \"GenHealth\", \"SleepTime\", \"Asthma\", \"KidneyDisease\", \"SkinCancer\"]]\n",
    "\n",
    "\n",
    "\n"
   ]
  },
  {
   "cell_type": "code",
   "execution_count": 171,
   "id": "7f1fc49d",
   "metadata": {},
   "outputs": [],
   "source": [
    "#Function to develop a model based on all predictors in predictor_subset\n",
    "def processSubset(predictor_subset):\n",
    "    # Fit model on feature_set and calculate R-squared\n",
    "    model = sm.logit('HeartDisease~' + '+'.join(predictor_subset),data = train).fit()\n",
    "    llr_pvalue = model.llr_pvalue\n",
    "    return {\"model\":model, \"llr_pvalue\":llr_pvalue}"
   ]
  },
  {
   "cell_type": "code",
   "execution_count": 172,
   "id": "972a5404",
   "metadata": {},
   "outputs": [],
   "source": [
    "#Function to select the best model amongst all models with 'k' predictors\n",
    "def getBest_model(k):\n",
    "    tic = time.time()\n",
    "    results = []\n",
    "    for combo in itertools.combinations(X.columns, k):\n",
    "        results.append(processSubset((list(combo))))\n",
    "\n",
    "    # Wrap everything up in a dataframe\n",
    "    models = pd.DataFrame(results)\n",
    "\n",
    "    # Choose the model with the highest RSS\n",
    "    best_model = models.loc[models['llr_pvalue'].argmin()]\n",
    "    \n",
    "    toc = time.time()\n",
    "    print(\"Processed\", models.shape[0], \"models on\", k, \"predictors in\", (toc-tic), \"seconds.\")\n",
    "    return best_model"
   ]
  },
  {
   "cell_type": "code",
   "execution_count": 173,
   "id": "e6c036ec",
   "metadata": {},
   "outputs": [],
   "source": [
    "#Function to find the best predictor out of p-k predictors and add it to the model containing the k predictors\n",
    "def forward(predictors):\n",
    "\n",
    "    # Pull out predictors we still need to process\n",
    "    remaining_predictors = [p for p in X.columns if p not in predictors]\n",
    "    \n",
    "    tic = time.time()\n",
    "    \n",
    "    results = []\n",
    "    \n",
    "    for p in remaining_predictors:\n",
    "        results.append(processSubset(predictors+[p]))\n",
    "    \n",
    "    # Wrap everything up in a nice dataframe\n",
    "    models = pd.DataFrame(results)\n",
    "    \n",
    "    # Choose the model with the highest RSS\n",
    "    best_model = models.loc[models['llr_pvalue'].argmin()]\n",
    "    \n",
    "    toc = time.time()\n",
    "    print(\"Processed \", models.shape[0], \"models on\", len(predictors)+1, \"predictors in\", (toc-tic), \"seconds.\")\n",
    "    \n",
    "    # Return the best model, along with some other useful information about the model\n",
    "    return best_model"
   ]
  },
  {
   "cell_type": "code",
   "execution_count": 174,
   "id": "eb3b0e00",
   "metadata": {},
   "outputs": [],
   "source": [
    "def forward_selection():\n",
    "    models_best = pd.DataFrame(columns=[\"llr_pvalue\", \"model\"])\n",
    "\n",
    "    tic = time.time()\n",
    "    predictors = []\n",
    "\n",
    "    for i in range(1,len(X.columns)+1):    \n",
    "        models_best.loc[i] = forward(predictors)\n",
    "        predictors = list(models_best.loc[i][\"model\"].params.index[1:])\n",
    "\n",
    "    toc = time.time()\n",
    "    print(\"Total elapsed time:\", (toc-tic), \"seconds.\")\n",
    "    return models_best"
   ]
  },
  {
   "cell_type": "code",
   "execution_count": 175,
   "id": "96ee6c21",
   "metadata": {},
   "outputs": [
    {
     "name": "stdout",
     "output_type": "stream",
     "text": [
      "Optimization terminated successfully.\n",
      "         Current function value: 0.291337\n",
      "         Iterations 6\n",
      "Optimization terminated successfully.\n",
      "         Current function value: 0.286852\n",
      "         Iterations 7\n",
      "Optimization terminated successfully.\n",
      "         Current function value: 0.292066\n",
      "         Iterations 7\n",
      "Optimization terminated successfully.\n",
      "         Current function value: 0.280690\n",
      "         Iterations 6\n",
      "Optimization terminated successfully.\n",
      "         Current function value: 0.282030\n",
      "         Iterations 7\n",
      "Optimization terminated successfully.\n",
      "         Current function value: 0.292251\n",
      "         Iterations 6\n",
      "Optimization terminated successfully.\n",
      "         Current function value: 0.277014\n",
      "         Iterations 7\n",
      "Optimization terminated successfully.\n",
      "         Current function value: 0.290079\n",
      "         Iterations 7\n",
      "Optimization terminated successfully.\n",
      "         Current function value: 0.291705\n",
      "         Iterations 7\n",
      "Optimization terminated successfully.\n",
      "         Current function value: 0.280284\n",
      "         Iterations 7\n",
      "Optimization terminated successfully.\n",
      "         Current function value: 0.288166\n",
      "         Iterations 7\n",
      "Optimization terminated successfully.\n",
      "         Current function value: 0.264463\n",
      "         Iterations 7\n",
      "Optimization terminated successfully.\n",
      "         Current function value: 0.292514\n",
      "         Iterations 6\n",
      "Optimization terminated successfully.\n",
      "         Current function value: 0.291853\n",
      "         Iterations 6\n",
      "Optimization terminated successfully.\n",
      "         Current function value: 0.285612\n",
      "         Iterations 6\n",
      "Optimization terminated successfully.\n",
      "         Current function value: 0.288925\n",
      "         Iterations 6\n",
      "Processed  16 models on 1 predictors in 9.45448899269104 seconds.\n",
      "Optimization terminated successfully.\n",
      "         Current function value: 0.285695\n",
      "         Iterations 7\n",
      "Optimization terminated successfully.\n",
      "         Current function value: 0.285897\n",
      "         Iterations 7\n",
      "Optimization terminated successfully.\n",
      "         Current function value: 0.275949\n",
      "         Iterations 7\n",
      "Optimization terminated successfully.\n",
      "         Current function value: 0.277930\n",
      "         Iterations 7\n",
      "Optimization terminated successfully.\n",
      "         Current function value: 0.286698\n",
      "         Iterations 7\n",
      "Optimization terminated successfully.\n",
      "         Current function value: 0.273383\n",
      "         Iterations 7\n",
      "Optimization terminated successfully.\n",
      "         Current function value: 0.284904\n",
      "         Iterations 7\n",
      "Optimization terminated successfully.\n",
      "         Current function value: 0.286170\n",
      "         Iterations 7\n",
      "Optimization terminated successfully.\n",
      "         Current function value: 0.275380\n",
      "         Iterations 7\n",
      "Optimization terminated successfully.\n",
      "         Current function value: 0.283314\n",
      "         Iterations 7\n",
      "Optimization terminated successfully.\n",
      "         Current function value: 0.262133\n",
      "         Iterations 7\n",
      "Optimization terminated successfully.\n",
      "         Current function value: 0.286731\n",
      "         Iterations 7\n",
      "Optimization terminated successfully.\n",
      "         Current function value: 0.286200\n",
      "         Iterations 7\n",
      "Optimization terminated successfully.\n",
      "         Current function value: 0.280271\n",
      "         Iterations 7\n",
      "Optimization terminated successfully.\n",
      "         Current function value: 0.283497\n",
      "         Iterations 7\n",
      "Processed  15 models on 2 predictors in 8.946950912475586 seconds.\n",
      "Optimization terminated successfully.\n",
      "         Current function value: 0.284823\n",
      "         Iterations 7\n",
      "Optimization terminated successfully.\n",
      "         Current function value: 0.274894\n",
      "         Iterations 7\n",
      "Optimization terminated successfully.\n",
      "         Current function value: 0.277383\n",
      "         Iterations 7\n",
      "Optimization terminated successfully.\n",
      "         Current function value: 0.285591\n",
      "         Iterations 7\n",
      "Optimization terminated successfully.\n",
      "         Current function value: 0.273256\n",
      "         Iterations 7\n",
      "Optimization terminated successfully.\n",
      "         Current function value: 0.283779\n",
      "         Iterations 7\n",
      "Optimization terminated successfully.\n",
      "         Current function value: 0.284953\n",
      "         Iterations 7\n",
      "Optimization terminated successfully.\n",
      "         Current function value: 0.275266\n",
      "         Iterations 7\n",
      "Optimization terminated successfully.\n",
      "         Current function value: 0.282669\n",
      "         Iterations 7\n",
      "Optimization terminated successfully.\n",
      "         Current function value: 0.262127\n",
      "         Iterations 7\n",
      "Optimization terminated successfully.\n",
      "         Current function value: 0.285540\n",
      "         Iterations 7\n",
      "Optimization terminated successfully.\n",
      "         Current function value: 0.285199\n",
      "         Iterations 7\n",
      "Optimization terminated successfully.\n",
      "         Current function value: 0.279391\n",
      "         Iterations 7\n",
      "Optimization terminated successfully.\n",
      "         Current function value: 0.282154\n",
      "         Iterations 7\n",
      "Processed  14 models on 3 predictors in 6.794729948043823 seconds.\n",
      "Optimization terminated successfully.\n",
      "         Current function value: 0.274182\n",
      "         Iterations 7\n",
      "Optimization terminated successfully.\n",
      "         Current function value: 0.276643\n",
      "         Iterations 7\n",
      "Optimization terminated successfully.\n",
      "         Current function value: 0.284690\n",
      "         Iterations 7\n",
      "Optimization terminated successfully.\n",
      "         Current function value: 0.272651\n",
      "         Iterations 7\n",
      "Optimization terminated successfully.\n",
      "         Current function value: 0.282908\n",
      "         Iterations 7\n",
      "Optimization terminated successfully.\n",
      "         Current function value: 0.284065\n",
      "         Iterations 7\n",
      "Optimization terminated successfully.\n",
      "         Current function value: 0.274740\n",
      "         Iterations 7\n",
      "Optimization terminated successfully.\n",
      "         Current function value: 0.281858\n",
      "         Iterations 7\n",
      "Optimization terminated successfully.\n",
      "         Current function value: 0.261589\n",
      "         Iterations 7\n",
      "Optimization terminated successfully.\n",
      "         Current function value: 0.284670\n",
      "         Iterations 7\n",
      "Optimization terminated successfully.\n",
      "         Current function value: 0.284330\n",
      "         Iterations 7\n",
      "Optimization terminated successfully.\n",
      "         Current function value: 0.278673\n",
      "         Iterations 7\n",
      "Optimization terminated successfully.\n",
      "         Current function value: 0.281321\n",
      "         Iterations 7\n",
      "Processed  13 models on 4 predictors in 7.180256128311157 seconds.\n",
      "Optimization terminated successfully.\n",
      "         Current function value: 0.268253\n",
      "         Iterations 7\n",
      "Optimization terminated successfully.\n",
      "         Current function value: 0.274142\n",
      "         Iterations 7\n",
      "Optimization terminated successfully.\n",
      "         Current function value: 0.265457\n",
      "         Iterations 7\n",
      "Optimization terminated successfully.\n",
      "         Current function value: 0.272107\n",
      "         Iterations 7\n",
      "Optimization terminated successfully.\n",
      "         Current function value: 0.273444\n",
      "         Iterations 7\n",
      "Optimization terminated successfully.\n",
      "         Current function value: 0.266011\n",
      "         Iterations 7\n",
      "Optimization terminated successfully.\n",
      "         Current function value: 0.272021\n",
      "         Iterations 7\n",
      "Optimization terminated successfully.\n",
      "         Current function value: 0.255743\n",
      "         Iterations 7\n",
      "Optimization terminated successfully.\n",
      "         Current function value: 0.274083\n",
      "         Iterations 7\n",
      "Optimization terminated successfully.\n",
      "         Current function value: 0.273861\n",
      "         Iterations 7\n",
      "Optimization terminated successfully.\n",
      "         Current function value: 0.269337\n",
      "         Iterations 7\n",
      "Optimization terminated successfully.\n",
      "         Current function value: 0.271171\n",
      "         Iterations 7\n",
      "Processed  12 models on 5 predictors in 6.777146100997925 seconds.\n",
      "Optimization terminated successfully.\n",
      "         Current function value: 0.267941\n",
      "         Iterations 7\n",
      "Optimization terminated successfully.\n",
      "         Current function value: 0.263685\n",
      "         Iterations 7\n",
      "Optimization terminated successfully.\n",
      "         Current function value: 0.265708\n",
      "         Iterations 7\n",
      "Optimization terminated successfully.\n",
      "         Current function value: 0.267463\n",
      "         Iterations 7\n",
      "Optimization terminated successfully.\n",
      "         Current function value: 0.261576\n",
      "         Iterations 7\n",
      "Optimization terminated successfully.\n",
      "         Current function value: 0.267350\n",
      "         Iterations 7\n",
      "Optimization terminated successfully.\n",
      "         Current function value: 0.255701\n",
      "         Iterations 7\n",
      "Optimization terminated successfully.\n",
      "         Current function value: 0.268050\n",
      "         Iterations 7\n"
     ]
    },
    {
     "name": "stdout",
     "output_type": "stream",
     "text": [
      "Optimization terminated successfully.\n",
      "         Current function value: 0.268164\n",
      "         Iterations 7\n",
      "Optimization terminated successfully.\n",
      "         Current function value: 0.264665\n",
      "         Iterations 7\n",
      "Optimization terminated successfully.\n",
      "         Current function value: 0.265517\n",
      "         Iterations 7\n",
      "Processed  11 models on 6 predictors in 6.483505964279175 seconds.\n",
      "Optimization terminated successfully.\n",
      "         Current function value: 0.263277\n",
      "         Iterations 7\n",
      "Optimization terminated successfully.\n",
      "         Current function value: 0.265545\n",
      "         Iterations 7\n",
      "Optimization terminated successfully.\n",
      "         Current function value: 0.267188\n",
      "         Iterations 7\n",
      "Optimization terminated successfully.\n",
      "         Current function value: 0.261317\n",
      "         Iterations 7\n",
      "Optimization terminated successfully.\n",
      "         Current function value: 0.267007\n",
      "         Iterations 7\n",
      "Optimization terminated successfully.\n",
      "         Current function value: 0.254715\n",
      "         Iterations 7\n",
      "Optimization terminated successfully.\n",
      "         Current function value: 0.267784\n",
      "         Iterations 7\n",
      "Optimization terminated successfully.\n",
      "         Current function value: 0.267823\n",
      "         Iterations 7\n",
      "Optimization terminated successfully.\n",
      "         Current function value: 0.264357\n",
      "         Iterations 7\n",
      "Optimization terminated successfully.\n",
      "         Current function value: 0.265292\n",
      "         Iterations 7\n",
      "Processed  10 models on 7 predictors in 8.517642974853516 seconds.\n",
      "Optimization terminated successfully.\n",
      "         Current function value: 0.260266\n",
      "         Iterations 7\n",
      "Optimization terminated successfully.\n",
      "         Current function value: 0.262528\n",
      "         Iterations 7\n",
      "Optimization terminated successfully.\n",
      "         Current function value: 0.257875\n",
      "         Iterations 7\n",
      "Optimization terminated successfully.\n",
      "         Current function value: 0.262971\n",
      "         Iterations 7\n",
      "Optimization terminated successfully.\n",
      "         Current function value: 0.252981\n",
      "         Iterations 7\n",
      "Optimization terminated successfully.\n",
      "         Current function value: 0.263145\n",
      "         Iterations 7\n",
      "Optimization terminated successfully.\n",
      "         Current function value: 0.263222\n",
      "         Iterations 7\n",
      "Optimization terminated successfully.\n",
      "         Current function value: 0.260355\n",
      "         Iterations 7\n",
      "Optimization terminated successfully.\n",
      "         Current function value: 0.260974\n",
      "         Iterations 7\n",
      "Processed  9 models on 8 predictors in 6.0506978034973145 seconds.\n",
      "Optimization terminated successfully.\n",
      "         Current function value: 0.259471\n",
      "         Iterations 7\n",
      "Optimization terminated successfully.\n",
      "         Current function value: 0.254926\n",
      "         Iterations 7\n",
      "Optimization terminated successfully.\n",
      "         Current function value: 0.259867\n",
      "         Iterations 7\n",
      "Optimization terminated successfully.\n",
      "         Current function value: 0.249972\n",
      "         Iterations 7\n",
      "Optimization terminated successfully.\n",
      "         Current function value: 0.260119\n",
      "         Iterations 7\n",
      "Optimization terminated successfully.\n",
      "         Current function value: 0.260133\n",
      "         Iterations 7\n",
      "Optimization terminated successfully.\n",
      "         Current function value: 0.257304\n",
      "         Iterations 7\n",
      "Optimization terminated successfully.\n",
      "         Current function value: 0.258073\n",
      "         Iterations 7\n",
      "Processed  8 models on 9 predictors in 5.423985242843628 seconds.\n",
      "Optimization terminated successfully.\n",
      "         Current function value: 0.254030\n",
      "         Iterations 7\n",
      "Optimization terminated successfully.\n",
      "         Current function value: 0.259049\n",
      "         Iterations 7\n",
      "Optimization terminated successfully.\n",
      "         Current function value: 0.248880\n",
      "         Iterations 7\n",
      "Optimization terminated successfully.\n",
      "         Current function value: 0.259345\n",
      "         Iterations 7\n",
      "Optimization terminated successfully.\n",
      "         Current function value: 0.259318\n",
      "         Iterations 7\n",
      "Optimization terminated successfully.\n",
      "         Current function value: 0.256534\n",
      "         Iterations 7\n",
      "Optimization terminated successfully.\n",
      "         Current function value: 0.257550\n",
      "         Iterations 7\n",
      "Processed  7 models on 10 predictors in 4.4848902225494385 seconds.\n",
      "Optimization terminated successfully.\n",
      "         Current function value: 0.253759\n",
      "         Iterations 7\n",
      "Optimization terminated successfully.\n",
      "         Current function value: 0.245552\n",
      "         Iterations 7\n",
      "Optimization terminated successfully.\n",
      "         Current function value: 0.253938\n",
      "         Iterations 7\n",
      "Optimization terminated successfully.\n",
      "         Current function value: 0.253894\n",
      "         Iterations 7\n",
      "Optimization terminated successfully.\n",
      "         Current function value: 0.251957\n",
      "         Iterations 7\n",
      "Optimization terminated successfully.\n",
      "         Current function value: 0.252265\n",
      "         Iterations 7\n",
      "Processed  6 models on 11 predictors in 4.1598920822143555 seconds.\n",
      "Optimization terminated successfully.\n",
      "         Current function value: 0.245527\n",
      "         Iterations 7\n",
      "Optimization terminated successfully.\n",
      "         Current function value: 0.253675\n",
      "         Iterations 7\n",
      "Optimization terminated successfully.\n",
      "         Current function value: 0.253620\n",
      "         Iterations 7\n",
      "Optimization terminated successfully.\n",
      "         Current function value: 0.251723\n",
      "         Iterations 7\n",
      "Optimization terminated successfully.\n",
      "         Current function value: 0.251975\n",
      "         Iterations 7\n",
      "Processed  5 models on 12 predictors in 3.369400978088379 seconds.\n",
      "Optimization terminated successfully.\n",
      "         Current function value: 0.245407\n",
      "         Iterations 7\n",
      "Optimization terminated successfully.\n",
      "         Current function value: 0.245487\n",
      "         Iterations 7\n",
      "Optimization terminated successfully.\n",
      "         Current function value: 0.244119\n",
      "         Iterations 7\n",
      "Optimization terminated successfully.\n",
      "         Current function value: 0.243961\n",
      "         Iterations 7\n",
      "Processed  4 models on 13 predictors in 3.08638596534729 seconds.\n",
      "Optimization terminated successfully.\n",
      "         Current function value: 0.245362\n",
      "         Iterations 7\n",
      "Optimization terminated successfully.\n",
      "         Current function value: 0.244013\n",
      "         Iterations 7\n",
      "Optimization terminated successfully.\n",
      "         Current function value: 0.243870\n",
      "         Iterations 7\n",
      "Processed  3 models on 14 predictors in 2.3869681358337402 seconds.\n",
      "Optimization terminated successfully.\n",
      "         Current function value: 0.243975\n",
      "         Iterations 7\n",
      "Optimization terminated successfully.\n",
      "         Current function value: 0.243824\n",
      "         Iterations 7\n",
      "Processed  2 models on 15 predictors in 1.525862216949463 seconds.\n",
      "Optimization terminated successfully.\n",
      "         Current function value: 0.242580\n",
      "         Iterations 7\n",
      "Processed  1 models on 16 predictors in 0.8068480491638184 seconds.\n",
      "Total elapsed time: 85.71726417541504 seconds.\n"
     ]
    }
   ],
   "source": [
    "models_best = forward_selection()"
   ]
  },
  {
   "cell_type": "code",
   "execution_count": 176,
   "id": "df6514b7",
   "metadata": {},
   "outputs": [
    {
     "data": {
      "image/png": "[encoded data removed]",
      "text/plain": [
       "<Figure size 1440x720 with 2 Axes>"
      ]
     },
     "metadata": {},
     "output_type": "display_data"
    }
   ],
   "source": [
    "def best_sub_plots():\n",
    "    plt.figure(figsize=(20,10))\n",
    "    plt.rcParams.update({'font.size': 18, 'lines.markersize': 10})\n",
    "\n",
    "    # We will now plot a red dot to indicate the model with the largest adjusted R^2 statistic.\n",
    "    # The argmax() function can be used to identify the location of the maximum point of a vector\n",
    "\n",
    "    llr_pvalue = models_best.apply(lambda row: row[1].llr_pvalue, axis=1)\n",
    "\n",
    "    # We'll do the same for AIC and BIC, this time looking for the models with the SMALLEST statistic\n",
    "    aic = models_best.apply(lambda row: row[1].aic, axis=1)\n",
    "\n",
    "    plt.subplot(2, 2, 1)\n",
    "    plt.plot(aic)\n",
    "    plt.plot(1+aic.argmin(), aic.min(), \"or\")\n",
    "    plt.xlabel('# Predictors')\n",
    "    plt.ylabel('AIC')\n",
    "\n",
    "    bic = models_best.apply(lambda row: row[1].bic, axis=1)\n",
    "\n",
    "    plt.subplot(2, 2, 2)\n",
    "    plt.plot(bic)\n",
    "    plt.plot(1+bic.argmin(), bic.min(), \"or\")\n",
    "    plt.xlabel('# Predictors')\n",
    "    plt.ylabel('BIC')\n",
    "best_sub_plots()"
   ]
  },
  {
   "cell_type": "code",
   "execution_count": 177,
   "id": "ffcb5934",
   "metadata": {},
   "outputs": [
    {
     "name": "stdout",
     "output_type": "stream",
     "text": [
      "             feature        VIF\n",
      "0              const  74.636861\n",
      "1                BMI   1.108443\n",
      "2            Smoking   1.067495\n",
      "3    AlcoholDrinking   1.022739\n",
      "4             Stroke   1.052646\n",
      "5     PhysicalHealth   1.482866\n",
      "6       MentalHealth   1.140953\n",
      "7        DiffWalking   1.393625\n",
      "8                Sex   1.030652\n",
      "9               Race   1.022242\n",
      "10          Diabetic   1.133459\n",
      "11  PhysicalActivity   1.143438\n",
      "12         GenHealth   1.571787\n",
      "13         SleepTime   1.022765\n",
      "14            Asthma   1.037701\n",
      "15     KidneyDisease   1.056610\n",
      "16        SkinCancer   1.029092\n"
     ]
    }
   ],
   "source": [
    "from statsmodels.stats.outliers_influence import variance_inflation_factor\n",
    "from statsmodels.tools.tools import add_constant\n",
    "X = add_constant(X)\n",
    "vif_data = pd.DataFrame()\n",
    "vif_data[\"feature\"] = X.columns\n",
    "\n",
    "for i in range(len(X.columns)):\n",
    "    vif_data.loc[i,'VIF'] = variance_inflation_factor(X.values, i)\n",
    "\n",
    "print(vif_data)"
   ]
  },
  {
   "cell_type": "code",
   "execution_count": 178,
   "id": "55653f8f",
   "metadata": {},
   "outputs": [
    {
     "data": {
      "text/html": [
       "<table class=\"simpletable\">\n",
       "<caption>Logit Regression Results</caption>\n",
       "<tr>\n",
       "  <th>Dep. Variable:</th>     <td>HeartDisease</td>   <th>  No. Observations:  </th>  <td>223856</td> \n",
       "</tr>\n",
       "<tr>\n",
       "  <th>Model:</th>                 <td>Logit</td>      <th>  Df Residuals:      </th>  <td>223839</td> \n",
       "</tr>\n",
       "<tr>\n",
       "  <th>Method:</th>                 <td>MLE</td>       <th>  Df Model:          </th>  <td>    16</td> \n",
       "</tr>\n",
       "<tr>\n",
       "  <th>Date:</th>            <td>Sun, 05 Mar 2023</td> <th>  Pseudo R-squ.:     </th>  <td>0.1709</td> \n",
       "</tr>\n",
       "<tr>\n",
       "  <th>Time:</th>                <td>12:33:28</td>     <th>  Log-Likelihood:    </th> <td> -54303.</td>\n",
       "</tr>\n",
       "<tr>\n",
       "  <th>converged:</th>             <td>True</td>       <th>  LL-Null:           </th> <td> -65500.</td>\n",
       "</tr>\n",
       "<tr>\n",
       "  <th>Covariance Type:</th>     <td>nonrobust</td>    <th>  LLR p-value:       </th>  <td> 0.000</td> \n",
       "</tr>\n",
       "</table>\n",
       "<table class=\"simpletable\">\n",
       "<tr>\n",
       "          <td></td>            <th>coef</th>     <th>std err</th>      <th>z</th>      <th>P>|z|</th>  <th>[0.025</th>    <th>0.975]</th>  \n",
       "</tr>\n",
       "<tr>\n",
       "  <th>Intercept</th>        <td>   -1.3156</td> <td>    0.063</td> <td>  -20.868</td> <td> 0.000</td> <td>   -1.439</td> <td>   -1.192</td>\n",
       "</tr>\n",
       "<tr>\n",
       "  <th>Smoking</th>          <td>    0.4271</td> <td>    0.017</td> <td>   25.376</td> <td> 0.000</td> <td>    0.394</td> <td>    0.460</td>\n",
       "</tr>\n",
       "<tr>\n",
       "  <th>BMI</th>              <td>   -0.0081</td> <td>    0.001</td> <td>   -6.336</td> <td> 0.000</td> <td>   -0.011</td> <td>   -0.006</td>\n",
       "</tr>\n",
       "<tr>\n",
       "  <th>AlcoholDrinking</th>  <td>   -0.3828</td> <td>    0.038</td> <td>   -9.954</td> <td> 0.000</td> <td>   -0.458</td> <td>   -0.307</td>\n",
       "</tr>\n",
       "<tr>\n",
       "  <th>Stroke</th>           <td>    1.2372</td> <td>    0.027</td> <td>   45.861</td> <td> 0.000</td> <td>    1.184</td> <td>    1.290</td>\n",
       "</tr>\n",
       "<tr>\n",
       "  <th>PhysicalHealth</th>   <td>   -0.0005</td> <td>    0.001</td> <td>   -0.458</td> <td> 0.647</td> <td>   -0.002</td> <td>    0.001</td>\n",
       "</tr>\n",
       "<tr>\n",
       "  <th>MentalHealth</th>     <td>   -0.0134</td> <td>    0.001</td> <td>  -12.842</td> <td> 0.000</td> <td>   -0.015</td> <td>   -0.011</td>\n",
       "</tr>\n",
       "<tr>\n",
       "  <th>DiffWalking</th>      <td>    0.5240</td> <td>    0.021</td> <td>   24.464</td> <td> 0.000</td> <td>    0.482</td> <td>    0.566</td>\n",
       "</tr>\n",
       "<tr>\n",
       "  <th>Sex</th>              <td>   -0.6064</td> <td>    0.017</td> <td>  -35.822</td> <td> 0.000</td> <td>   -0.640</td> <td>   -0.573</td>\n",
       "</tr>\n",
       "<tr>\n",
       "  <th>Race</th>             <td>   -0.1247</td> <td>    0.007</td> <td>  -18.193</td> <td> 0.000</td> <td>   -0.138</td> <td>   -0.111</td>\n",
       "</tr>\n",
       "<tr>\n",
       "  <th>Diabetic</th>         <td>    0.7003</td> <td>    0.019</td> <td>   36.027</td> <td> 0.000</td> <td>    0.662</td> <td>    0.738</td>\n",
       "</tr>\n",
       "<tr>\n",
       "  <th>PhysicalActivity</th> <td>   -0.0626</td> <td>    0.019</td> <td>   -3.309</td> <td> 0.001</td> <td>   -0.100</td> <td>   -0.026</td>\n",
       "</tr>\n",
       "<tr>\n",
       "  <th>GenHealth</th>        <td>   -0.5578</td> <td>    0.010</td> <td>  -56.441</td> <td> 0.000</td> <td>   -0.577</td> <td>   -0.538</td>\n",
       "</tr>\n",
       "<tr>\n",
       "  <th>SleepTime</th>        <td>    0.0304</td> <td>    0.005</td> <td>    6.144</td> <td> 0.000</td> <td>    0.021</td> <td>    0.040</td>\n",
       "</tr>\n",
       "<tr>\n",
       "  <th>Asthma</th>           <td>    0.0949</td> <td>    0.023</td> <td>    4.188</td> <td> 0.000</td> <td>    0.050</td> <td>    0.139</td>\n",
       "</tr>\n",
       "<tr>\n",
       "  <th>KidneyDisease</th>    <td>    0.7141</td> <td>    0.029</td> <td>   24.408</td> <td> 0.000</td> <td>    0.657</td> <td>    0.771</td>\n",
       "</tr>\n",
       "<tr>\n",
       "  <th>SkinCancer</th>       <td>    0.5843</td> <td>    0.023</td> <td>   25.876</td> <td> 0.000</td> <td>    0.540</td> <td>    0.629</td>\n",
       "</tr>\n",
       "</table>"
      ],
      "text/plain": [
       "<class 'statsmodels.iolib.summary.Summary'>\n",
       "\"\"\"\n",
       "                           Logit Regression Results                           \n",
       "==============================================================================\n",
       "Dep. Variable:           HeartDisease   No. Observations:               223856\n",
       "Model:                          Logit   Df Residuals:                   223839\n",
       "Method:                           MLE   Df Model:                           16\n",
       "Date:                Sun, 05 Mar 2023   Pseudo R-squ.:                  0.1709\n",
       "Time:                        12:33:28   Log-Likelihood:                -54303.\n",
       "converged:                       True   LL-Null:                       -65500.\n",
       "Covariance Type:            nonrobust   LLR p-value:                     0.000\n",
       "====================================================================================\n",
       "                       coef    std err          z      P>|z|      [0.025      0.975]\n",
       "------------------------------------------------------------------------------------\n",
       "Intercept           -1.3156      0.063    -20.868      0.000      -1.439      -1.192\n",
       "Smoking              0.4271      0.017     25.376      0.000       0.394       0.460\n",
       "BMI                 -0.0081      0.001     -6.336      0.000      -0.011      -0.006\n",
       "AlcoholDrinking     -0.3828      0.038     -9.954      0.000      -0.458      -0.307\n",
       "Stroke               1.2372      0.027     45.861      0.000       1.184       1.290\n",
       "PhysicalHealth      -0.0005      0.001     -0.458      0.647      -0.002       0.001\n",
       "MentalHealth        -0.0134      0.001    -12.842      0.000      -0.015      -0.011\n",
       "DiffWalking          0.5240      0.021     24.464      0.000       0.482       0.566\n",
       "Sex                 -0.6064      0.017    -35.822      0.000      -0.640      -0.573\n",
       "Race                -0.1247      0.007    -18.193      0.000      -0.138      -0.111\n",
       "Diabetic             0.7003      0.019     36.027      0.000       0.662       0.738\n",
       "PhysicalActivity    -0.0626      0.019     -3.309      0.001      -0.100      -0.026\n",
       "GenHealth           -0.5578      0.010    -56.441      0.000      -0.577      -0.538\n",
       "SleepTime            0.0304      0.005      6.144      0.000       0.021       0.040\n",
       "Asthma               0.0949      0.023      4.188      0.000       0.050       0.139\n",
       "KidneyDisease        0.7141      0.029     24.408      0.000       0.657       0.771\n",
       "SkinCancer           0.5843      0.023     25.876      0.000       0.540       0.629\n",
       "====================================================================================\n",
       "\"\"\""
      ]
     },
     "execution_count": 178,
     "metadata": {},
     "output_type": "execute_result"
    }
   ],
   "source": [
    "best_fwd_reg_model = models_best['model'][16]\n",
    "best_fwd_reg_model.summary()"
   ]
  },
  {
   "cell_type": "markdown",
   "id": "3fa8bc65",
   "metadata": {},
   "source": [
    "# confusion matrix"
   ]
  },
  {
   "cell_type": "code",
   "execution_count": 179,
   "id": "57ab7ffb",
   "metadata": {},
   "outputs": [],
   "source": [
    "pred = best_fwd_reg_model.predict(train)"
   ]
  },
  {
   "cell_type": "code",
   "execution_count": 180,
   "id": "a40a460d",
   "metadata": {},
   "outputs": [],
   "source": [
    "from sklearn.metrics import roc_curve, auc\n",
    "#Function to compute confusion matrix and prediction accuracy on test/train data\n",
    "def confusion_matrix_data(data,actual_values,model,cutoff=0.5):\n",
    "#Predict the values using the Logit model\n",
    "    pred_values = model.predict(data)\n",
    "# Specify the bins\n",
    "    bins=np.array([0,cutoff,1])\n",
    "#Confusion matrix\n",
    "    cm = np.histogram2d(actual_values, pred_values, bins=bins)[0]\n",
    "    cm_df = pd.DataFrame(cm)\n",
    "    cm_df.columns = ['Predicted 0','Predicted 1']\n",
    "    cm_df = cm_df.rename(index={0: 'Actual 0',1:'Actual 1'})\n",
    "# Calculate the accuracy\n",
    "    accuracy = (cm[0,0]+cm[1,1])/cm.sum()\n",
    "    fnr = (cm[1,0])/(cm[1,0]+cm[1,1])\n",
    "    precision = (cm[1,1])/(cm[0,1]+cm[1,1])\n",
    "    fpr = (cm[0,1])/(cm[0,0]+cm[0,1])\n",
    "    tpr = (cm[1,1])/(cm[1,0]+cm[1,1])\n",
    "    fpr_roc, tpr_roc, auc_thresholds = roc_curve(actual_values, pred_values)\n",
    "    auc_value = (auc(fpr_roc, tpr_roc))# AUC of ROC\n",
    "    sns.heatmap(cm_df, annot=True, cmap='Blues', fmt='g')\n",
    "    plt.ylabel(\"Actual Values\")\n",
    "    plt.xlabel(\"Predicted Values\")\n",
    "    print(\"Classification accuracy = {:.1%}\".format(accuracy))\n",
    "    print(\"Precision = {:.1%}\".format(precision))\n",
    "    print(\"TPR or Recall = {:.1%}\".format(tpr))\n",
    "    print(\"FNR = {:.1%}\".format(fnr))\n",
    "    print(\"FPR = {:.1%}\".format(fpr))\n",
    "    print(\"ROC-AUC = {:.1%}\".format(auc_value))\n",
    "    return pred_values"
   ]
  },
  {
   "cell_type": "code",
   "execution_count": 181,
   "id": "319bff8a",
   "metadata": {},
   "outputs": [
    {
     "name": "stdout",
     "output_type": "stream",
     "text": [
      "Classification accuracy = 91.6%\n",
      "Precision = 59.2%\n",
      "TPR or Recall = 5.7%\n",
      "FNR = 94.3%\n",
      "FPR = 0.4%\n",
      "ROC-AUC = 80.1%\n"
     ]
    },
    {
     "data": {
      "text/plain": [
       "0         0.096537\n",
       "1         0.085268\n",
       "2         0.250502\n",
       "3         0.078192\n",
       "4         0.043289\n",
       "            ...   \n",
       "223851    0.549863\n",
       "223852    0.026191\n",
       "223853    0.028508\n",
       "223854    0.365573\n",
       "223855    0.072712\n",
       "Length: 223856, dtype: float64"
      ]
     },
     "execution_count": 181,
     "metadata": {},
     "output_type": "execute_result"
    },
    {
     "data": {
      "image/png": "[encoded data removed]",
      "text/plain": [
       "<Figure size 720x432 with 2 Axes>"
      ]
     },
     "metadata": {},
     "output_type": "display_data"
    }
   ],
   "source": [
    "confusion_matrix_data(train,train.HeartDisease,best_fwd_reg_model,0.6)"
   ]
  },
  {
   "cell_type": "code",
   "execution_count": 182,
   "id": "83b0ad91",
   "metadata": {},
   "outputs": [
    {
     "name": "stdout",
     "output_type": "stream",
     "text": [
      "Classification accuracy = 91.6%\n",
      "Precision = 57.2%\n",
      "TPR or Recall = 5.8%\n",
      "FNR = 94.2%\n",
      "FPR = 0.4%\n",
      "ROC-AUC = 79.4%\n"
     ]
    },
    {
     "data": {
      "text/plain": [
       "223856    0.026396\n",
       "223857    0.042120\n",
       "223858    0.036368\n",
       "223859    0.058610\n",
       "223860    0.346156\n",
       "            ...   \n",
       "319790    0.338732\n",
       "319791    0.042352\n",
       "319792    0.026258\n",
       "319793    0.031145\n",
       "319794    0.023354\n",
       "Length: 95939, dtype: float64"
      ]
     },
     "execution_count": 182,
     "metadata": {},
     "output_type": "execute_result"
    },
    {
     "data": {
      "image/png": "[encoded data removed]",
      "text/plain": [
       "<Figure size 720x432 with 2 Axes>"
      ]
     },
     "metadata": {},
     "output_type": "display_data"
    }
   ],
   "source": [
    "confusion_matrix_data(test,test.HeartDisease,best_fwd_reg_model,0.6)"
   ]
  },
  {
   "cell_type": "code",
   "execution_count": 183,
   "id": "141cc810",
   "metadata": {},
   "outputs": [],
   "source": [
    "#Function to compute confusion matrix and prediction accuracy on test/train data\n",
    "def confusion_matrix_data(data,actual_values,model,cutoff=0.5):\n",
    "#Predict the values using the Logit model\n",
    "    pred_values = model.predict(data)\n",
    "# Specify the bins\n",
    "    bins=np.array([0,cutoff,1])\n",
    "#Confusion matrix\n",
    "    cm = np.histogram2d(actual_values, pred_values, bins=bins)[0]\n",
    "    cm_df = pd.DataFrame(cm)\n",
    "    cm_df.columns = ['Predicted 0','Predicted 1']\n",
    "    cm_df = cm_df.rename(index={0: 'Actual 0',1:'Actual 1'})\n",
    "# Calculate the accuracy\n",
    "    accuracy = (cm[0,0]+cm[1,1])/cm.sum()\n",
    "    fnr = (cm[1,0])/(cm[1,0]+cm[1,1])\n",
    "    precision = (cm[1,1])/(cm[0,1]+cm[1,1])\n",
    "    fpr = (cm[0,1])/(cm[0,0]+cm[0,1])\n",
    "    tpr = (cm[1,1])/(cm[1,0]+cm[1,1])\n",
    "    fpr_roc, tpr_roc, auc_thresholds = roc_curve(actual_values, pred_values)\n",
    "    auc_value = (auc(fpr_roc, tpr_roc))# AUC of ROC\n",
    "    sns.heatmap(cm_df, annot=True, cmap='Blues', fmt='g')\n",
    "    plt.ylabel(\"Actual Values\")\n",
    "    plt.xlabel(\"Predicted Values\")\n",
    "    print(\"Classification accuracy = {:.1%}\".format(accuracy))\n",
    "    print(\"Precision = {:.1%}\".format(precision))\n",
    "    print(\"TPR or Recall = {:.1%}\".format(tpr))\n",
    "    print(\"FNR = {:.1%}\".format(fnr))\n",
    "    print(\"FPR = {:.1%}\".format(fpr))\n",
    "    print(\"ROC-AUC = {:.1%}\".format(auc_value))"
   ]
  },
  {
   "cell_type": "code",
   "execution_count": 184,
   "id": "fa3b9e12",
   "metadata": {},
   "outputs": [
    {
     "name": "stdout",
     "output_type": "stream",
     "text": [
      "Classification accuracy = 91.6%\n",
      "Precision = 57.2%\n",
      "TPR or Recall = 5.8%\n",
      "FNR = 94.2%\n",
      "FPR = 0.4%\n",
      "ROC-AUC = 79.4%\n"
     ]
    },
    {
     "data": {
      "image/png": "[encoded data removed]",
      "text/plain": [
       "<Figure size 720x432 with 2 Axes>"
      ]
     },
     "metadata": {},
     "output_type": "display_data"
    }
   ],
   "source": [
    "confusion_matrix_data(test,test.HeartDisease,best_fwd_reg_model,0.6)"
   ]
  },
  {
   "cell_type": "code",
   "execution_count": 185,
   "id": "e70f1c7d",
   "metadata": {},
   "outputs": [],
   "source": [
    "#insigts: age, kidney disease, skin cancer, bmi, climbing stairs, stroke"
   ]
  },
  {
   "cell_type": "markdown",
   "id": "fc384987",
   "metadata": {},
   "source": [
    "#  base model"
   ]
  },
  {
   "cell_type": "code",
   "execution_count": 190,
   "id": "96bd9bac",
   "metadata": {},
   "outputs": [
    {
     "name": "stdout",
     "output_type": "stream",
     "text": [
      "Optimization terminated successfully.\n",
      "         Current function value: 0.227164\n",
      "         Iterations 8\n"
     ]
    }
   ],
   "source": [
    "base_model = sm.logit(formula = 'HeartDisease~BMI+Smoking+AlcoholDrinking+Stroke+PhysicalHealth+MentalHealth+DiffWalking+Sex+AgeCategory+Race+Diabetic+PhysicalActivity+GenHealth+SleepTime+Asthma+KidneyDisease+SkinCancer', data = train).fit()"
   ]
  },
  {
   "cell_type": "code",
   "execution_count": 191,
   "id": "37aadd40",
   "metadata": {},
   "outputs": [
    {
     "name": "stdout",
     "output_type": "stream",
     "text": [
      "Classification accuracy = 91.6%\n",
      "Precision = 59.3%\n",
      "TPR or Recall = 6.0%\n",
      "FNR = 94.0%\n",
      "FPR = 0.4%\n",
      "ROC-AUC = 84.2%\n"
     ]
    },
    {
     "data": {
      "image/png": "[encoded data removed]",
      "text/plain": [
       "<Figure size 720x432 with 2 Axes>"
      ]
     },
     "metadata": {},
     "output_type": "display_data"
    }
   ],
   "source": [
    "confusion_matrix_data(train,train.HeartDisease,base_model,0.6)"
   ]
  },
  {
   "cell_type": "markdown",
   "id": "c57b22f3",
   "metadata": {},
   "source": [
    "# interactions "
   ]
  },
  {
   "cell_type": "code",
   "execution_count": 192,
   "id": "6507bd4a",
   "metadata": {},
   "outputs": [
    {
     "name": "stdout",
     "output_type": "stream",
     "text": [
      "Optimization terminated successfully.\n",
      "         Current function value: 0.226677\n",
      "         Iterations 8\n"
     ]
    }
   ],
   "source": [
    "#model = sm.logit(formula = 'HeartDisease~', data = train).fit()\n",
    "interact_model = sm.logit(formula = 'HeartDisease~Smoking*Asthma+AlcoholDrinking*MentalHealth+Sex+AgeCategory+Race+Diabetic*KidneyDisease+Stroke*DiffWalking*BMI*PhysicalHealth*PhysicalActivity*GenHealth+SleepTime+SkinCancer', data = train).fit()\n"
   ]
  },
  {
   "cell_type": "code",
   "execution_count": 193,
   "id": "cec3b124",
   "metadata": {},
   "outputs": [
    {
     "name": "stdout",
     "output_type": "stream",
     "text": [
      "Classification accuracy = 91.6%\n",
      "Precision = 53.9%\n",
      "TPR or Recall = 10.5%\n",
      "FNR = 89.5%\n",
      "FPR = 0.8%\n",
      "ROC-AUC = 84.2%\n"
     ]
    },
    {
     "data": {
      "image/png": "[encoded data removed]",
      "text/plain": [
       "<Figure size 720x432 with 2 Axes>"
      ]
     },
     "metadata": {},
     "output_type": "display_data"
    }
   ],
   "source": [
    "confusion_matrix_data(train,train.HeartDisease,interact_model,0.5)"
   ]
  },
  {
   "cell_type": "code",
   "execution_count": 194,
   "id": "7847f610",
   "metadata": {},
   "outputs": [],
   "source": [
    "#insigts: age, kidney disease, skin cancer, bmi, climbing stairs, stroke"
   ]
  },
  {
   "cell_type": "code",
   "execution_count": 195,
   "id": "c15abd11",
   "metadata": {},
   "outputs": [
    {
     "name": "stdout",
     "output_type": "stream",
     "text": [
      "Optimization terminated successfully.\n",
      "         Current function value: 0.241266\n",
      "         Iterations 8\n"
     ]
    }
   ],
   "source": [
    "interact_model2 = sm.logit(formula = 'HeartDisease~AgeCategory+Stroke+BMI+Smoking*Asthma+Diabetic*KidneyDisease', data = train).fit()\n",
    "\n",
    "#HeartDisease~Smoking*Asthma+AlcoholDrinking*MentalHealth+Sex+AgeCategory+Race+Diabetic*KidneyDisease+Stroke*DiffWalking*BMI*PhysicalHealth*PhysicalActivity*GenHealth+SleepTime+SkinCancer\n"
   ]
  },
  {
   "cell_type": "code",
   "execution_count": 196,
   "id": "b98e9c78",
   "metadata": {},
   "outputs": [
    {
     "name": "stdout",
     "output_type": "stream",
     "text": [
      "Classification accuracy = 91.5%\n",
      "Precision = 55.9%\n",
      "TPR or Recall = 3.0%\n",
      "FNR = 97.0%\n",
      "FPR = 0.2%\n",
      "ROC-AUC = 80.8%\n"
     ]
    },
    {
     "data": {
      "image/png": "[encoded data removed]",
      "text/plain": [
       "<Figure size 720x432 with 2 Axes>"
      ]
     },
     "metadata": {},
     "output_type": "display_data"
    }
   ],
   "source": [
    "confusion_matrix_data(train,train.HeartDisease,interact_model2,0.6)"
   ]
  },
  {
   "cell_type": "markdown",
   "id": "e453237a",
   "metadata": {},
   "source": [
    "# transformations"
   ]
  },
  {
   "cell_type": "code",
   "execution_count": 197,
   "id": "a06adce7",
   "metadata": {},
   "outputs": [],
   "source": [
    "#continuous variables: BMI, PhysicalHealth, MentalHealth AgeCategory, SleepTime"
   ]
  },
  {
   "cell_type": "code",
   "execution_count": 249,
   "id": "1345924f",
   "metadata": {},
   "outputs": [
    {
     "name": "stdout",
     "output_type": "stream",
     "text": [
      "Optimization terminated successfully.\n",
      "         Current function value: 0.291176\n",
      "         Iterations 7\n",
      "Classification accuracy = 91.4%\n",
      "Precision = 0.0%\n",
      "TPR or Recall = 0.0%\n",
      "FNR = 100.0%\n",
      "FPR = 0.0%\n",
      "ROC-AUC = 55.9%\n"
     ]
    },
    {
     "data": {
      "image/png": "[encoded data removed]",
      "text/plain": [
       "<Figure size 720x432 with 2 Axes>"
      ]
     },
     "metadata": {},
     "output_type": "display_data"
    }
   ],
   "source": [
    "#bmi log -> higher acc\n",
    "transform_model_bmi_log = sm.logit(formula = 'HeartDisease~np.log(BMI)', data = train).fit()\n",
    "confusion_matrix_data(train,train.HeartDisease,transform_model_bmi_log,0.2)"
   ]
  },
  {
   "cell_type": "code",
   "execution_count": 199,
   "id": "20470165",
   "metadata": {},
   "outputs": [
    {
     "name": "stdout",
     "output_type": "stream",
     "text": [
      "Optimization terminated successfully.\n",
      "         Current function value: 0.291079\n",
      "         Iterations 7\n",
      "Classification accuracy = 90.7%\n",
      "Precision = 11.6%\n",
      "TPR or Recall = 1.3%\n",
      "FNR = 98.7%\n",
      "FPR = 0.9%\n",
      "ROC-AUC = 55.9%\n"
     ]
    },
    {
     "data": {
      "image/png": "[encoded data removed]",
      "text/plain": [
       "<Figure size 720x432 with 2 Axes>"
      ]
     },
     "metadata": {},
     "output_type": "display_data"
    }
   ],
   "source": [
    "#bmi quad\n",
    "\n",
    "transform_model = sm.logit(formula = 'HeartDisease~BMI+I(BMI**2)', data = train).fit()\n",
    "#transform_model = sm.logit(formula = 'HeartDisease~BMI+I(BMI**2)+I(BMI**3)', data = train).fit()\n",
    "confusion_matrix_data(train,train.HeartDisease,transform_model,0.12)"
   ]
  },
  {
   "cell_type": "code",
   "execution_count": 200,
   "id": "03d2eb89",
   "metadata": {},
   "outputs": [
    {
     "name": "stdout",
     "output_type": "stream",
     "text": [
      "Optimization terminated successfully.\n",
      "         Current function value: 0.291068\n",
      "         Iterations 7\n",
      "Classification accuracy = 85.6%\n",
      "Precision = 10.9%\n",
      "TPR or Recall = 9.6%\n",
      "FNR = 90.4%\n",
      "FPR = 7.3%\n",
      "ROC-AUC = 55.9%\n"
     ]
    },
    {
     "data": {
      "image/png": "[encoded data removed]",
      "text/plain": [
       "<Figure size 720x432 with 2 Axes>"
      ]
     },
     "metadata": {},
     "output_type": "display_data"
    }
   ],
   "source": [
    "### bmi cubic\n",
    "\n",
    "#transform_model = sm.logit(formula = 'HeartDisease~BMI+I(BMI**2)', data = train).fit()\n",
    "transform_model = sm.logit(formula = 'HeartDisease~BMI+I(BMI**2)+I(BMI**3)', data = train).fit()\n",
    "confusion_matrix_data(train,train.HeartDisease,transform_model,0.11)"
   ]
  },
  {
   "cell_type": "code",
   "execution_count": 201,
   "id": "a4c78821",
   "metadata": {},
   "outputs": [
    {
     "name": "stdout",
     "output_type": "stream",
     "text": [
      "Optimization terminated successfully.\n",
      "         Current function value: 0.292592\n",
      "         Iterations 6\n",
      "Classification accuracy = 91.1%\n",
      "Precision = 13.0%\n",
      "TPR or Recall = 0.6%\n",
      "FNR = 99.4%\n",
      "FPR = 0.4%\n",
      "ROC-AUC = 48.8%\n"
     ]
    },
    {
     "data": {
      "image/png": "[encoded data removed]",
      "text/plain": [
       "<Figure size 720x432 with 2 Axes>"
      ]
     },
     "metadata": {},
     "output_type": "display_data"
    }
   ],
   "source": [
    "# SleepTime log\n",
    "\n",
    "transform_model = sm.logit(formula = 'HeartDisease~np.log(SleepTime)', data = train).fit()\n",
    "#transform_model = sm.logit(formula = 'HeartDisease~SleepTime+I(SleepTime**2)', data = train).fit()\n",
    "#transform_model = sm.logit(formula = 'HeartDisease~SleepTime+I(SleepTime**2)+I(SleepTime**3)', data = train).fit()\n",
    "confusion_matrix_data(train,train.HeartDisease,transform_model,0.09)"
   ]
  },
  {
   "cell_type": "code",
   "execution_count": 202,
   "id": "f207e250",
   "metadata": {},
   "outputs": [
    {
     "name": "stdout",
     "output_type": "stream",
     "text": [
      "Optimization terminated successfully.\n",
      "         Current function value: 0.291742\n",
      "         Iterations 6\n",
      "Classification accuracy = 91.4%\n",
      "Precision = 23.0%\n",
      "TPR or Recall = 0.2%\n",
      "FNR = 99.8%\n",
      "FPR = 0.1%\n",
      "ROC-AUC = 56.7%\n"
     ]
    },
    {
     "data": {
      "image/png": "[encoded data removed]",
      "text/plain": [
       "<Figure size 720x432 with 2 Axes>"
      ]
     },
     "metadata": {},
     "output_type": "display_data"
    }
   ],
   "source": [
    "# SleepTime quad -> higher accuracy\n",
    "\n",
    "#transform_model = sm.logit(formula = 'HeartDisease~np.log(SleepTime)', data = train).fit()\n",
    "transform_model = sm.logit(formula = 'HeartDisease~SleepTime+I(SleepTime**2)', data = train).fit()\n",
    "#transform_model = sm.logit(formula = 'HeartDisease~SleepTime+I(SleepTime**2)+I(SleepTime**3)', data = train).fit()\n",
    "confusion_matrix_data(train,train.HeartDisease,transform_model,0.33)"
   ]
  },
  {
   "cell_type": "code",
   "execution_count": 203,
   "id": "f03c0cd5",
   "metadata": {},
   "outputs": [
    {
     "name": "stdout",
     "output_type": "stream",
     "text": [
      "Optimization terminated successfully.\n",
      "         Current function value: 0.290871\n",
      "         Iterations 7\n",
      "Classification accuracy = 91.3%\n",
      "Precision = 8.6%\n",
      "TPR or Recall = 0.2%\n",
      "FNR = 99.8%\n",
      "FPR = 0.2%\n",
      "ROC-AUC = 57.2%\n"
     ]
    },
    {
     "data": {
      "image/png": "[encoded data removed]",
      "text/plain": [
       "<Figure size 720x432 with 2 Axes>"
      ]
     },
     "metadata": {},
     "output_type": "display_data"
    }
   ],
   "source": [
    "# SleepTime cubic\n",
    "\n",
    "#transform_model = sm.logit(formula = 'HeartDisease~np.log(SleepTime)', data = train).fit()\n",
    "#transform_model = sm.logit(formula = 'HeartDisease~SleepTime+I(SleepTime**2)', data = train).fit()\n",
    "transform_model = sm.logit(formula = 'HeartDisease~SleepTime+I(SleepTime**2)+I(SleepTime**3)', data = train).fit()\n",
    "confusion_matrix_data(train,train.HeartDisease,transform_model,0.33)"
   ]
  },
  {
   "cell_type": "code",
   "execution_count": 204,
   "id": "972fde7c",
   "metadata": {},
   "outputs": [
    {
     "name": "stdout",
     "output_type": "stream",
     "text": [
      "Optimization terminated successfully.\n",
      "         Current function value: 0.281471\n",
      "         Iterations 7\n",
      "Classification accuracy = 87.2%\n",
      "Precision = 22.9%\n",
      "TPR or Recall = 20.9%\n",
      "FNR = 79.1%\n",
      "FPR = 6.6%\n",
      "ROC-AUC = 61.6%\n"
     ]
    },
    {
     "data": {
      "image/png": "[encoded data removed]",
      "text/plain": [
       "<Figure size 720x432 with 2 Axes>"
      ]
     },
     "metadata": {},
     "output_type": "display_data"
    }
   ],
   "source": [
    "# PhysicalHealth quad\n",
    "\n",
    "transform_model = sm.logit(formula = 'HeartDisease~PhysicalHealth+I(PhysicalHealth**2)', data = train).fit()\n",
    "#transform_model = sm.logit(formula = 'HeartDisease~PhysicalHealth+I(PhysicalHealth**2)+I(PhysicalHealth**3)', data = train).fit()\n",
    "confusion_matrix_data(train,train.HeartDisease,transform_model,0.2)"
   ]
  },
  {
   "cell_type": "code",
   "execution_count": 205,
   "id": "da879245",
   "metadata": {},
   "outputs": [
    {
     "name": "stdout",
     "output_type": "stream",
     "text": [
      "Optimization terminated successfully.\n",
      "         Current function value: 0.281381\n",
      "         Iterations 7\n",
      "Classification accuracy = 87.9%\n",
      "Precision = 23.5%\n",
      "TPR or Recall = 18.1%\n",
      "FNR = 81.9%\n",
      "FPR = 5.5%\n",
      "ROC-AUC = 61.6%\n"
     ]
    },
    {
     "data": {
      "image/png": "[encoded data removed]",
      "text/plain": [
       "<Figure size 720x432 with 2 Axes>"
      ]
     },
     "metadata": {},
     "output_type": "display_data"
    }
   ],
   "source": [
    "# PhysicalHealth cubic -> higher accuracy\n",
    "\n",
    "#transform_model = sm.logit(formula = 'HeartDisease~PhysicalHealth+I(PhysicalHealth**2)', data = train).fit()\n",
    "transform_model = sm.logit(formula = 'HeartDisease~PhysicalHealth+I(PhysicalHealth**2)+I(PhysicalHealth**3)', data = train).fit()\n",
    "confusion_matrix_data(train,train.HeartDisease,transform_model,0.2)"
   ]
  },
  {
   "cell_type": "code",
   "execution_count": 206,
   "id": "f65eb974",
   "metadata": {},
   "outputs": [
    {
     "name": "stdout",
     "output_type": "stream",
     "text": [
      "Optimization terminated successfully.\n",
      "         Current function value: 0.291637\n",
      "         Iterations 6\n",
      "Classification accuracy = 86.8%\n",
      "Precision = 12.6%\n",
      "TPR or Recall = 9.2%\n",
      "FNR = 90.8%\n",
      "FPR = 6.0%\n",
      "ROC-AUC = 53.9%\n"
     ]
    },
    {
     "data": {
      "image/png": "[encoded data removed]",
      "text/plain": [
       "<Figure size 720x432 with 2 Axes>"
      ]
     },
     "metadata": {},
     "output_type": "display_data"
    }
   ],
   "source": [
    "# MentalHealth quad -> higher accuracy\n",
    "\n",
    "transform_model = sm.logit(formula = 'HeartDisease~MentalHealth+I(MentalHealth**2)', data = train).fit()\n",
    "#transform_model = sm.logit(formula = 'HeartDisease~MentalHealth+I(MentalHealth**2)+I(MentalHealth**3)', data = train).fit()\n",
    "confusion_matrix_data(train,train.HeartDisease,transform_model,0.1)"
   ]
  },
  {
   "cell_type": "code",
   "execution_count": 207,
   "id": "7b41b374",
   "metadata": {},
   "outputs": [
    {
     "name": "stdout",
     "output_type": "stream",
     "text": [
      "Optimization terminated successfully.\n",
      "         Current function value: 0.291384\n",
      "         Iterations 7\n",
      "Classification accuracy = 85.2%\n",
      "Precision = 11.9%\n",
      "TPR or Recall = 11.2%\n",
      "FNR = 88.8%\n",
      "FPR = 7.8%\n",
      "ROC-AUC = 54.2%\n"
     ]
    },
    {
     "data": {
      "image/png": "[encoded data removed]",
      "text/plain": [
       "<Figure size 720x432 with 2 Axes>"
      ]
     },
     "metadata": {},
     "output_type": "display_data"
    }
   ],
   "source": [
    "# MentalHealth cubic\n",
    "\n",
    "#transform_model = sm.logit(formula = 'HeartDisease~MentalHealth+I(MentalHealth**2)', data = train).fit()\n",
    "transform_model = sm.logit(formula = 'HeartDisease~MentalHealth+I(MentalHealth**2)+I(MentalHealth**3)', data = train).fit()\n",
    "confusion_matrix_data(train,train.HeartDisease,transform_model,0.1)"
   ]
  },
  {
   "cell_type": "code",
   "execution_count": 208,
   "id": "38e7e5a3",
   "metadata": {},
   "outputs": [
    {
     "name": "stdout",
     "output_type": "stream",
     "text": [
      "Optimization terminated successfully.\n",
      "         Current function value: 0.279343\n",
      "         Iterations 7\n",
      "Classification accuracy = 91.4%\n",
      "Precision = 26.9%\n",
      "TPR or Recall = 0.2%\n",
      "FNR = 99.8%\n",
      "FPR = 0.0%\n",
      "ROC-AUC = 65.9%\n"
     ]
    },
    {
     "data": {
      "image/png": "[encoded data removed]",
      "text/plain": [
       "<Figure size 720x432 with 2 Axes>"
      ]
     },
     "metadata": {},
     "output_type": "display_data"
    }
   ],
   "source": [
    "transform_model = sm.logit(formula = 'HeartDisease~np.log(BMI)+SleepTime+I(SleepTime**2)+MentalHealth+I(MentalHealth**2)+PhysicalHealth+I(PhysicalHealth**2)+I(PhysicalHealth**3)', data = train).fit()\n",
    "confusion_matrix_data(train,train.HeartDisease,transform_model,0.4)"
   ]
  },
  {
   "cell_type": "code",
   "execution_count": 209,
   "id": "6e5ebfc8",
   "metadata": {},
   "outputs": [
    {
     "name": "stdout",
     "output_type": "stream",
     "text": [
      "Optimization terminated successfully.\n",
      "         Current function value: 0.279343\n",
      "         Iterations 7\n",
      "Classification accuracy = 91.4%\n",
      "Precision = 26.9%\n",
      "TPR or Recall = 0.2%\n",
      "FNR = 99.8%\n",
      "FPR = 0.0%\n",
      "ROC-AUC = 65.9%\n"
     ]
    },
    {
     "data": {
      "image/png": "[encoded data removed]",
      "text/plain": [
       "<Figure size 720x432 with 2 Axes>"
      ]
     },
     "metadata": {},
     "output_type": "display_data"
    }
   ],
   "source": [
    "# just cont vars\n",
    "\n",
    "transform_model = sm.logit(formula = 'HeartDisease~np.log(BMI)+SleepTime+I(SleepTime**2)+MentalHealth+I(MentalHealth**2)+PhysicalHealth+I(PhysicalHealth**2)+I(PhysicalHealth**3)', data = train).fit()\n",
    "confusion_matrix_data(train,train.HeartDisease,transform_model,0.4)"
   ]
  },
  {
   "cell_type": "code",
   "execution_count": 210,
   "id": "6876c305",
   "metadata": {},
   "outputs": [
    {
     "name": "stdout",
     "output_type": "stream",
     "text": [
      "Optimization terminated successfully.\n",
      "         Current function value: 0.226924\n",
      "         Iterations 8\n",
      "Classification accuracy = 91.6%\n",
      "Precision = 53.6%\n",
      "TPR or Recall = 10.9%\n",
      "FNR = 89.1%\n",
      "FPR = 0.9%\n",
      "ROC-AUC = 84.2%\n"
     ]
    },
    {
     "data": {
      "image/png": "[encoded data removed]",
      "text/plain": [
       "<Figure size 720x432 with 2 Axes>"
      ]
     },
     "metadata": {},
     "output_type": "display_data"
    }
   ],
   "source": [
    "#transformed\n",
    "transform_model = sm.logit(formula = 'HeartDisease~np.log(BMI)+SleepTime+I(SleepTime**2)+MentalHealth+I(MentalHealth**2)+PhysicalHealth+I(PhysicalHealth**2)+I(PhysicalHealth**3)+Smoking+AlcoholDrinking+Stroke+DiffWalking+Sex+AgeCategory+Race+Diabetic+PhysicalActivity+GenHealth+Asthma+KidneyDisease+SkinCancer', data = train).fit()\n",
    "confusion_matrix_data(train,train.HeartDisease,transform_model,0.5)"
   ]
  },
  {
   "cell_type": "code",
   "execution_count": 211,
   "id": "1c102f75",
   "metadata": {},
   "outputs": [
    {
     "name": "stdout",
     "output_type": "stream",
     "text": [
      "Optimization terminated successfully.\n",
      "         Current function value: 0.226892\n",
      "         Iterations 8\n",
      "Classification accuracy = 91.6%\n",
      "Precision = 59.6%\n",
      "TPR or Recall = 5.9%\n",
      "FNR = 94.1%\n",
      "FPR = 0.4%\n",
      "ROC-AUC = 84.2%\n"
     ]
    },
    {
     "data": {
      "image/png": "[encoded data removed]",
      "text/plain": [
       "<Figure size 720x432 with 2 Axes>"
      ]
     },
     "metadata": {},
     "output_type": "display_data"
    }
   ],
   "source": [
    "#transform + interact\n",
    "transform_model = sm.logit(formula = 'HeartDisease~np.log(BMI)+SleepTime+I(SleepTime**2)+MentalHealth+I(MentalHealth**2)+PhysicalHealth+I(PhysicalHealth**2)+I(PhysicalHealth**3)+Smoking*Asthma+AlcoholDrinking+Stroke+DiffWalking+Sex+AgeCategory+Race+Diabetic*KidneyDisease+PhysicalActivity*GenHealth+SkinCancer', data = train).fit()\n",
    "confusion_matrix_data(train,train.HeartDisease,transform_model,0.6)"
   ]
  },
  {
   "cell_type": "markdown",
   "id": "3577a156",
   "metadata": {},
   "source": [
    "# subsetting stroke & difficulty walking"
   ]
  },
  {
   "cell_type": "markdown",
   "id": "bfaa8a69",
   "metadata": {},
   "source": [
    "## stroke  & difficulty walking = yes "
   ]
  },
  {
   "cell_type": "code",
   "execution_count": 212,
   "id": "de286775",
   "metadata": {},
   "outputs": [
    {
     "data": {
      "text/html": [
       "<div>\n",
       "<style scoped>\n",
       "    .dataframe tbody tr th:only-of-type {\n",
       "        vertical-align: middle;\n",
       "    }\n",
       "\n",
       "    .dataframe tbody tr th {\n",
       "        vertical-align: top;\n",
       "    }\n",
       "\n",
       "    .dataframe thead th {\n",
       "        text-align: right;\n",
       "    }\n",
       "</style>\n",
       "<table border=\"1\" class=\"dataframe\">\n",
       "  <thead>\n",
       "    <tr style=\"text-align: right;\">\n",
       "      <th></th>\n",
       "      <th>HeartDisease</th>\n",
       "      <th>BMI</th>\n",
       "      <th>Smoking</th>\n",
       "      <th>AlcoholDrinking</th>\n",
       "      <th>Stroke</th>\n",
       "      <th>PhysicalHealth</th>\n",
       "      <th>MentalHealth</th>\n",
       "      <th>DiffWalking</th>\n",
       "      <th>Sex</th>\n",
       "      <th>AgeCategory</th>\n",
       "      <th>Race</th>\n",
       "      <th>Diabetic</th>\n",
       "      <th>PhysicalActivity</th>\n",
       "      <th>GenHealth</th>\n",
       "      <th>SleepTime</th>\n",
       "      <th>Asthma</th>\n",
       "      <th>KidneyDisease</th>\n",
       "      <th>SkinCancer</th>\n",
       "    </tr>\n",
       "  </thead>\n",
       "  <tbody>\n",
       "    <tr>\n",
       "      <th>35</th>\n",
       "      <td>1</td>\n",
       "      <td>32.98</td>\n",
       "      <td>1</td>\n",
       "      <td>0</td>\n",
       "      <td>1</td>\n",
       "      <td>10.0</td>\n",
       "      <td>0.0</td>\n",
       "      <td>1</td>\n",
       "      <td>0</td>\n",
       "      <td>11</td>\n",
       "      <td>0</td>\n",
       "      <td>1</td>\n",
       "      <td>1</td>\n",
       "      <td>0</td>\n",
       "      <td>4.0</td>\n",
       "      <td>0</td>\n",
       "      <td>0</td>\n",
       "      <td>1</td>\n",
       "    </tr>\n",
       "    <tr>\n",
       "      <th>135</th>\n",
       "      <td>0</td>\n",
       "      <td>23.39</td>\n",
       "      <td>1</td>\n",
       "      <td>0</td>\n",
       "      <td>1</td>\n",
       "      <td>0.0</td>\n",
       "      <td>3.0</td>\n",
       "      <td>1</td>\n",
       "      <td>1</td>\n",
       "      <td>10</td>\n",
       "      <td>0</td>\n",
       "      <td>0</td>\n",
       "      <td>1</td>\n",
       "      <td>2</td>\n",
       "      <td>9.0</td>\n",
       "      <td>0</td>\n",
       "      <td>0</td>\n",
       "      <td>1</td>\n",
       "    </tr>\n",
       "    <tr>\n",
       "      <th>142</th>\n",
       "      <td>1</td>\n",
       "      <td>31.48</td>\n",
       "      <td>0</td>\n",
       "      <td>1</td>\n",
       "      <td>1</td>\n",
       "      <td>20.0</td>\n",
       "      <td>20.0</td>\n",
       "      <td>1</td>\n",
       "      <td>0</td>\n",
       "      <td>9</td>\n",
       "      <td>1</td>\n",
       "      <td>0</td>\n",
       "      <td>0</td>\n",
       "      <td>1</td>\n",
       "      <td>7.0</td>\n",
       "      <td>1</td>\n",
       "      <td>0</td>\n",
       "      <td>0</td>\n",
       "    </tr>\n",
       "    <tr>\n",
       "      <th>270</th>\n",
       "      <td>1</td>\n",
       "      <td>32.08</td>\n",
       "      <td>1</td>\n",
       "      <td>0</td>\n",
       "      <td>1</td>\n",
       "      <td>10.0</td>\n",
       "      <td>30.0</td>\n",
       "      <td>1</td>\n",
       "      <td>0</td>\n",
       "      <td>8</td>\n",
       "      <td>0</td>\n",
       "      <td>1</td>\n",
       "      <td>0</td>\n",
       "      <td>1</td>\n",
       "      <td>3.0</td>\n",
       "      <td>0</td>\n",
       "      <td>0</td>\n",
       "      <td>0</td>\n",
       "    </tr>\n",
       "    <tr>\n",
       "      <th>279</th>\n",
       "      <td>1</td>\n",
       "      <td>30.90</td>\n",
       "      <td>1</td>\n",
       "      <td>0</td>\n",
       "      <td>1</td>\n",
       "      <td>30.0</td>\n",
       "      <td>15.0</td>\n",
       "      <td>1</td>\n",
       "      <td>1</td>\n",
       "      <td>9</td>\n",
       "      <td>0</td>\n",
       "      <td>1</td>\n",
       "      <td>0</td>\n",
       "      <td>0</td>\n",
       "      <td>4.0</td>\n",
       "      <td>1</td>\n",
       "      <td>1</td>\n",
       "      <td>0</td>\n",
       "    </tr>\n",
       "  </tbody>\n",
       "</table>\n",
       "</div>"
      ],
      "text/plain": [
       "     HeartDisease    BMI  Smoking  AlcoholDrinking  Stroke  PhysicalHealth  \\\n",
       "35              1  32.98        1                0       1            10.0   \n",
       "135             0  23.39        1                0       1             0.0   \n",
       "142             1  31.48        0                1       1            20.0   \n",
       "270             1  32.08        1                0       1            10.0   \n",
       "279             1  30.90        1                0       1            30.0   \n",
       "\n",
       "     MentalHealth  DiffWalking  Sex  AgeCategory  Race  Diabetic  \\\n",
       "35            0.0            1    0           11     0         1   \n",
       "135           3.0            1    1           10     0         0   \n",
       "142          20.0            1    0            9     1         0   \n",
       "270          30.0            1    0            8     0         1   \n",
       "279          15.0            1    1            9     0         1   \n",
       "\n",
       "     PhysicalActivity  GenHealth  SleepTime  Asthma  KidneyDisease  SkinCancer  \n",
       "35                  1          0        4.0       0              0           1  \n",
       "135                 1          2        9.0       0              0           1  \n",
       "142                 0          1        7.0       1              0           0  \n",
       "270                 0          1        3.0       0              0           0  \n",
       "279                 0          0        4.0       1              1           0  "
      ]
     },
     "execution_count": 212,
     "metadata": {},
     "output_type": "execute_result"
    }
   ],
   "source": [
    "subset1 = data.loc[((train['Stroke'] == 1) & (data['DiffWalking'] == 1))]\n",
    "subset1.head()"
   ]
  },
  {
   "cell_type": "code",
   "execution_count": 213,
   "id": "2938de2e",
   "metadata": {},
   "outputs": [
    {
     "data": {
      "text/plain": [
       "(3715, 18)"
      ]
     },
     "execution_count": 213,
     "metadata": {},
     "output_type": "execute_result"
    }
   ],
   "source": [
    "subset1.shape"
   ]
  },
  {
   "cell_type": "code",
   "execution_count": 250,
   "id": "8ce099fa",
   "metadata": {},
   "outputs": [
    {
     "name": "stdout",
     "output_type": "stream",
     "text": [
      "Optimization terminated successfully.\n",
      "         Current function value: 0.686836\n",
      "         Iterations 4\n"
     ]
    },
    {
     "data": {
      "text/html": [
       "<table class=\"simpletable\">\n",
       "<caption>Logit Regression Results</caption>\n",
       "<tr>\n",
       "  <th>Dep. Variable:</th>     <td>HeartDisease</td>   <th>  No. Observations:  </th>  <td>  5346</td>  \n",
       "</tr>\n",
       "<tr>\n",
       "  <th>Model:</th>                 <td>Logit</td>      <th>  Df Residuals:      </th>  <td>  5345</td>  \n",
       "</tr>\n",
       "<tr>\n",
       "  <th>Method:</th>                 <td>MLE</td>       <th>  Df Model:          </th>  <td>     0</td>  \n",
       "</tr>\n",
       "<tr>\n",
       "  <th>Date:</th>            <td>Sun, 05 Mar 2023</td> <th>  Pseudo R-squ.:     </th> <td>7.875e-11</td>\n",
       "</tr>\n",
       "<tr>\n",
       "  <th>Time:</th>                <td>12:51:13</td>     <th>  Log-Likelihood:    </th> <td> -3671.8</td> \n",
       "</tr>\n",
       "<tr>\n",
       "  <th>converged:</th>             <td>True</td>       <th>  LL-Null:           </th> <td> -3671.8</td> \n",
       "</tr>\n",
       "<tr>\n",
       "  <th>Covariance Type:</th>     <td>nonrobust</td>    <th>  LLR p-value:       </th>  <td>   nan</td>  \n",
       "</tr>\n",
       "</table>\n",
       "<table class=\"simpletable\">\n",
       "<tr>\n",
       "      <td></td>         <th>coef</th>     <th>std err</th>      <th>z</th>      <th>P>|z|</th>  <th>[0.025</th>    <th>0.975]</th>  \n",
       "</tr>\n",
       "<tr>\n",
       "  <th>Intercept</th> <td>   -0.2254</td> <td>    0.028</td> <td>   -8.189</td> <td> 0.000</td> <td>   -0.279</td> <td>   -0.171</td>\n",
       "</tr>\n",
       "</table>"
      ],
      "text/plain": [
       "<class 'statsmodels.iolib.summary.Summary'>\n",
       "\"\"\"\n",
       "                           Logit Regression Results                           \n",
       "==============================================================================\n",
       "Dep. Variable:           HeartDisease   No. Observations:                 5346\n",
       "Model:                          Logit   Df Residuals:                     5345\n",
       "Method:                           MLE   Df Model:                            0\n",
       "Date:                Sun, 05 Mar 2023   Pseudo R-squ.:               7.875e-11\n",
       "Time:                        12:51:13   Log-Likelihood:                -3671.8\n",
       "converged:                       True   LL-Null:                       -3671.8\n",
       "Covariance Type:            nonrobust   LLR p-value:                       nan\n",
       "==============================================================================\n",
       "                 coef    std err          z      P>|z|      [0.025      0.975]\n",
       "------------------------------------------------------------------------------\n",
       "Intercept     -0.2254      0.028     -8.189      0.000      -0.279      -0.171\n",
       "==============================================================================\n",
       "\"\"\""
      ]
     },
     "execution_count": 250,
     "metadata": {},
     "output_type": "execute_result"
    }
   ],
   "source": [
    "model_subset1 = sm.logit(formula = 'HeartDisease~1', data = subset1).fit()\n",
    "model_subset1.summary()"
   ]
  },
  {
   "cell_type": "code",
   "execution_count": 215,
   "id": "4fc34479",
   "metadata": {},
   "outputs": [
    {
     "name": "stdout",
     "output_type": "stream",
     "text": [
      "Classification accuracy = 55.7%\n",
      "Precision = nan%\n",
      "TPR or Recall = 0.0%\n",
      "FNR = 100.0%\n",
      "FPR = 0.0%\n",
      "ROC-AUC = 50.0%\n"
     ]
    },
    {
     "name": "stderr",
     "output_type": "stream",
     "text": [
      "/var/folders/px/k1txdkt13v35xmbjymyfnzf40000gn/T/ipykernel_7669/2813583335.py:15: RuntimeWarning: invalid value encountered in double_scalars\n",
      "  precision = (cm[1,1])/(cm[0,1]+cm[1,1])\n"
     ]
    },
    {
     "data": {
      "image/png": "[encoded data removed]",
      "text/plain": [
       "<Figure size 720x432 with 2 Axes>"
      ]
     },
     "metadata": {},
     "output_type": "display_data"
    }
   ],
   "source": [
    "confusion_matrix_data(subset1,subset1.HeartDisease,model_subset1,0.6)"
   ]
  },
  {
   "cell_type": "code",
   "execution_count": 216,
   "id": "57b17cca",
   "metadata": {},
   "outputs": [
    {
     "data": {
      "text/plain": [
       "35        0.44253\n",
       "135       0.44253\n",
       "142       0.44253\n",
       "270       0.44253\n",
       "279       0.44253\n",
       "           ...   \n",
       "223699    0.44253\n",
       "223701    0.44253\n",
       "223739    0.44253\n",
       "223834    0.44253\n",
       "223851    0.44253\n",
       "Length: 3715, dtype: float64"
      ]
     },
     "execution_count": 216,
     "metadata": {},
     "output_type": "execute_result"
    }
   ],
   "source": [
    "pred1 = model_subset1.predict(subset1)\n",
    "pred1"
   ]
  },
  {
   "cell_type": "code",
   "execution_count": 217,
   "id": "89550187",
   "metadata": {},
   "outputs": [
    {
     "data": {
      "text/html": [
       "<div>\n",
       "<style scoped>\n",
       "    .dataframe tbody tr th:only-of-type {\n",
       "        vertical-align: middle;\n",
       "    }\n",
       "\n",
       "    .dataframe tbody tr th {\n",
       "        vertical-align: top;\n",
       "    }\n",
       "\n",
       "    .dataframe thead th {\n",
       "        text-align: right;\n",
       "    }\n",
       "</style>\n",
       "<table border=\"1\" class=\"dataframe\">\n",
       "  <thead>\n",
       "    <tr style=\"text-align: right;\">\n",
       "      <th></th>\n",
       "      <th>0</th>\n",
       "    </tr>\n",
       "  </thead>\n",
       "  <tbody>\n",
       "    <tr>\n",
       "      <th>35</th>\n",
       "      <td>0</td>\n",
       "    </tr>\n",
       "    <tr>\n",
       "      <th>135</th>\n",
       "      <td>0</td>\n",
       "    </tr>\n",
       "    <tr>\n",
       "      <th>142</th>\n",
       "      <td>0</td>\n",
       "    </tr>\n",
       "    <tr>\n",
       "      <th>270</th>\n",
       "      <td>0</td>\n",
       "    </tr>\n",
       "    <tr>\n",
       "      <th>279</th>\n",
       "      <td>0</td>\n",
       "    </tr>\n",
       "    <tr>\n",
       "      <th>...</th>\n",
       "      <td>...</td>\n",
       "    </tr>\n",
       "    <tr>\n",
       "      <th>223699</th>\n",
       "      <td>0</td>\n",
       "    </tr>\n",
       "    <tr>\n",
       "      <th>223701</th>\n",
       "      <td>0</td>\n",
       "    </tr>\n",
       "    <tr>\n",
       "      <th>223739</th>\n",
       "      <td>0</td>\n",
       "    </tr>\n",
       "    <tr>\n",
       "      <th>223834</th>\n",
       "      <td>0</td>\n",
       "    </tr>\n",
       "    <tr>\n",
       "      <th>223851</th>\n",
       "      <td>0</td>\n",
       "    </tr>\n",
       "  </tbody>\n",
       "</table>\n",
       "<p>3715 rows × 1 columns</p>\n",
       "</div>"
      ],
      "text/plain": [
       "        0\n",
       "35      0\n",
       "135     0\n",
       "142     0\n",
       "270     0\n",
       "279     0\n",
       "...    ..\n",
       "223699  0\n",
       "223701  0\n",
       "223739  0\n",
       "223834  0\n",
       "223851  0\n",
       "\n",
       "[3715 rows x 1 columns]"
      ]
     },
     "execution_count": 217,
     "metadata": {},
     "output_type": "execute_result"
    }
   ],
   "source": [
    "pred1 = pred1.to_frame()\n",
    "pred1['new'] = 0\n",
    "pred1.drop(0, axis=1, inplace=True)\n",
    "pred1.rename(columns={'new': 0}, inplace=True)\n",
    "pred1"
   ]
  },
  {
   "cell_type": "markdown",
   "id": "8fd5b8e4",
   "metadata": {},
   "source": [
    "##  stroke & difficulty walking = no"
   ]
  },
  {
   "cell_type": "code",
   "execution_count": 218,
   "id": "bdc61396",
   "metadata": {},
   "outputs": [
    {
     "data": {
      "text/html": [
       "<div>\n",
       "<style scoped>\n",
       "    .dataframe tbody tr th:only-of-type {\n",
       "        vertical-align: middle;\n",
       "    }\n",
       "\n",
       "    .dataframe tbody tr th {\n",
       "        vertical-align: top;\n",
       "    }\n",
       "\n",
       "    .dataframe thead th {\n",
       "        text-align: right;\n",
       "    }\n",
       "</style>\n",
       "<table border=\"1\" class=\"dataframe\">\n",
       "  <thead>\n",
       "    <tr style=\"text-align: right;\">\n",
       "      <th></th>\n",
       "      <th>HeartDisease</th>\n",
       "      <th>BMI</th>\n",
       "      <th>Smoking</th>\n",
       "      <th>AlcoholDrinking</th>\n",
       "      <th>Stroke</th>\n",
       "      <th>PhysicalHealth</th>\n",
       "      <th>MentalHealth</th>\n",
       "      <th>DiffWalking</th>\n",
       "      <th>Sex</th>\n",
       "      <th>AgeCategory</th>\n",
       "      <th>Race</th>\n",
       "      <th>Diabetic</th>\n",
       "      <th>PhysicalActivity</th>\n",
       "      <th>GenHealth</th>\n",
       "      <th>SleepTime</th>\n",
       "      <th>Asthma</th>\n",
       "      <th>KidneyDisease</th>\n",
       "      <th>SkinCancer</th>\n",
       "    </tr>\n",
       "  </thead>\n",
       "  <tbody>\n",
       "    <tr>\n",
       "      <th>0</th>\n",
       "      <td>0</td>\n",
       "      <td>16.60</td>\n",
       "      <td>1</td>\n",
       "      <td>0</td>\n",
       "      <td>0</td>\n",
       "      <td>3.0</td>\n",
       "      <td>30.0</td>\n",
       "      <td>0</td>\n",
       "      <td>1</td>\n",
       "      <td>7</td>\n",
       "      <td>0</td>\n",
       "      <td>1</td>\n",
       "      <td>1</td>\n",
       "      <td>3</td>\n",
       "      <td>5.0</td>\n",
       "      <td>1</td>\n",
       "      <td>0</td>\n",
       "      <td>1</td>\n",
       "    </tr>\n",
       "    <tr>\n",
       "      <th>2</th>\n",
       "      <td>0</td>\n",
       "      <td>26.58</td>\n",
       "      <td>1</td>\n",
       "      <td>0</td>\n",
       "      <td>0</td>\n",
       "      <td>20.0</td>\n",
       "      <td>30.0</td>\n",
       "      <td>0</td>\n",
       "      <td>0</td>\n",
       "      <td>9</td>\n",
       "      <td>0</td>\n",
       "      <td>1</td>\n",
       "      <td>1</td>\n",
       "      <td>1</td>\n",
       "      <td>8.0</td>\n",
       "      <td>1</td>\n",
       "      <td>0</td>\n",
       "      <td>0</td>\n",
       "    </tr>\n",
       "    <tr>\n",
       "      <th>3</th>\n",
       "      <td>0</td>\n",
       "      <td>24.21</td>\n",
       "      <td>0</td>\n",
       "      <td>0</td>\n",
       "      <td>0</td>\n",
       "      <td>0.0</td>\n",
       "      <td>0.0</td>\n",
       "      <td>0</td>\n",
       "      <td>1</td>\n",
       "      <td>11</td>\n",
       "      <td>0</td>\n",
       "      <td>0</td>\n",
       "      <td>0</td>\n",
       "      <td>2</td>\n",
       "      <td>6.0</td>\n",
       "      <td>0</td>\n",
       "      <td>0</td>\n",
       "      <td>1</td>\n",
       "    </tr>\n",
       "    <tr>\n",
       "      <th>6</th>\n",
       "      <td>0</td>\n",
       "      <td>21.63</td>\n",
       "      <td>0</td>\n",
       "      <td>0</td>\n",
       "      <td>0</td>\n",
       "      <td>15.0</td>\n",
       "      <td>0.0</td>\n",
       "      <td>0</td>\n",
       "      <td>1</td>\n",
       "      <td>10</td>\n",
       "      <td>0</td>\n",
       "      <td>0</td>\n",
       "      <td>1</td>\n",
       "      <td>1</td>\n",
       "      <td>4.0</td>\n",
       "      <td>1</td>\n",
       "      <td>0</td>\n",
       "      <td>1</td>\n",
       "    </tr>\n",
       "    <tr>\n",
       "      <th>8</th>\n",
       "      <td>0</td>\n",
       "      <td>26.45</td>\n",
       "      <td>0</td>\n",
       "      <td>0</td>\n",
       "      <td>0</td>\n",
       "      <td>0.0</td>\n",
       "      <td>0.0</td>\n",
       "      <td>0</td>\n",
       "      <td>1</td>\n",
       "      <td>12</td>\n",
       "      <td>0</td>\n",
       "      <td>0</td>\n",
       "      <td>0</td>\n",
       "      <td>1</td>\n",
       "      <td>5.0</td>\n",
       "      <td>0</td>\n",
       "      <td>1</td>\n",
       "      <td>0</td>\n",
       "    </tr>\n",
       "  </tbody>\n",
       "</table>\n",
       "</div>"
      ],
      "text/plain": [
       "   HeartDisease    BMI  Smoking  AlcoholDrinking  Stroke  PhysicalHealth  \\\n",
       "0             0  16.60        1                0       0             3.0   \n",
       "2             0  26.58        1                0       0            20.0   \n",
       "3             0  24.21        0                0       0             0.0   \n",
       "6             0  21.63        0                0       0            15.0   \n",
       "8             0  26.45        0                0       0             0.0   \n",
       "\n",
       "   MentalHealth  DiffWalking  Sex  AgeCategory  Race  Diabetic  \\\n",
       "0          30.0            0    1            7     0         1   \n",
       "2          30.0            0    0            9     0         1   \n",
       "3           0.0            0    1           11     0         0   \n",
       "6           0.0            0    1           10     0         0   \n",
       "8           0.0            0    1           12     0         0   \n",
       "\n",
       "   PhysicalActivity  GenHealth  SleepTime  Asthma  KidneyDisease  SkinCancer  \n",
       "0                 1          3        5.0       1              0           1  \n",
       "2                 1          1        8.0       1              0           0  \n",
       "3                 0          2        6.0       0              0           1  \n",
       "6                 1          1        4.0       1              0           1  \n",
       "8                 0          1        5.0       0              1           0  "
      ]
     },
     "execution_count": 218,
     "metadata": {},
     "output_type": "execute_result"
    }
   ],
   "source": [
    "subset2 = data.loc[((train['Stroke'] != 1) & (data['DiffWalking'] != 1))]\n",
    "subset2.head()"
   ]
  },
  {
   "cell_type": "code",
   "execution_count": 219,
   "id": "5083b2b3",
   "metadata": {},
   "outputs": [],
   "source": [
    "X_subset2 = subset2[['BMI', 'Smoking', 'AlcoholDrinking', \"Stroke\", 'PhysicalHealth', \"MentalHealth\", \"DiffWalking\", \"Sex\", \"AgeCategory\", \"Race\", \"Diabetic\", \"PhysicalActivity\", \"GenHealth\", \"SleepTime\", \"Asthma\", \"KidneyDisease\", \"SkinCancer\"]]\n",
    "y_subset2 = subset2.HeartDisease"
   ]
  },
  {
   "cell_type": "code",
   "execution_count": 220,
   "id": "4710deec",
   "metadata": {},
   "outputs": [],
   "source": [
    "#X_sw_no_train, y_sw_no_train = oversampled.fit_resample(X_alc_no_train, y_alc_no_train)\n"
   ]
  },
  {
   "cell_type": "code",
   "execution_count": 221,
   "id": "9743f64a",
   "metadata": {},
   "outputs": [],
   "source": [
    "#TP: 1391, FP:767, FN: 680, TN"
   ]
  },
  {
   "cell_type": "code",
   "execution_count": 251,
   "id": "3f9810bb",
   "metadata": {},
   "outputs": [
    {
     "name": "stdout",
     "output_type": "stream",
     "text": [
      "Classification accuracy = 54.5%\n",
      "Precision = 49.1%\n",
      "TPR or Recall = 71.0%\n",
      "FNR = 29.0%\n",
      "FPR = 58.8%\n",
      "ROC-AUC = 59.2%\n"
     ]
    },
    {
     "data": {
      "image/png": "[encoded data removed]",
      "text/plain": [
       "<Figure size 720x432 with 2 Axes>"
      ]
     },
     "metadata": {},
     "output_type": "display_data"
    }
   ],
   "source": [
    "confusion_matrix_data(subset1,subset1.HeartDisease,model2,0.5)"
   ]
  },
  {
   "cell_type": "code",
   "execution_count": null,
   "id": "a5542303",
   "metadata": {},
   "outputs": [],
   "source": [
    "subset2 = train.loc[((train['Stroke'] != 1) & (train['DiffWalking'] != 1))]\n",
    "#pred1 = model.predict(subset2)"
   ]
  },
  {
   "cell_type": "code",
   "execution_count": null,
   "id": "169c5662",
   "metadata": {},
   "outputs": [],
   "source": [
    "subset2.shape"
   ]
  },
  {
   "cell_type": "code",
   "execution_count": null,
   "id": "d1db8c1b",
   "metadata": {},
   "outputs": [],
   "source": [
    "subset2 = train.loc[((train['Stroke'] != 1) | (train['DiffWalking'] != 1))]\n",
    "model2 = sm.logit(formula = 'HeartDisease~BMI+Smoking+AlcoholDrinking+PhysicalHealth+MentalHealth+Sex+AgeCategory+Race+Diabetic+PhysicalActivity+GenHealth+SleepTime+Asthma+KidneyDisease+SkinCancer', data = subset2).fit()\n",
    "\n",
    "confusion_matrix_data(subset2,subset2.HeartDisease,model2,0.6)\n"
   ]
  },
  {
   "cell_type": "markdown",
   "id": "67389a27",
   "metadata": {},
   "source": [
    "TP: 1391, FP:767, FN: 680, TN:877 -> subset1"
   ]
  },
  {
   "cell_type": "markdown",
   "id": "af86fc45",
   "metadata": {},
   "source": [
    "TP: 176776, FP:10295, FN:509, TN:439 -> subset2"
   ]
  },
  {
   "cell_type": "markdown",
   "id": "b09cbedf",
   "metadata": {},
   "source": [
    "TP:178167, FP:11062, FN:,1189 TN: 1316 -> combined"
   ]
  },
  {
   "cell_type": "markdown",
   "id": "6e5024c6",
   "metadata": {},
   "source": [
    "class acc = TP+TN/(TP+TN+FP+FN)\n",
    "\n",
    "179483/191734 = 0.936104186 ~ 93.6%"
   ]
  },
  {
   "cell_type": "markdown",
   "id": "06dacbb7",
   "metadata": {},
   "source": [
    "fnr = FN/(TP+FN)\n",
    "1189/(178167+1189) = 0.006629 ~ 0.66 %"
   ]
  },
  {
   "cell_type": "markdown",
   "id": "81f472ad",
   "metadata": {},
   "source": [
    "TN:178167, FN:11062, FP:1189, TP:1316"
   ]
  },
  {
   "cell_type": "markdown",
   "id": "15ecc708",
   "metadata": {},
   "source": [
    "acc ~ 93.6"
   ]
  },
  {
   "cell_type": "markdown",
   "id": "0a5cad7b",
   "metadata": {},
   "source": [
    "FNR: ~89.4"
   ]
  },
  {
   "cell_type": "markdown",
   "id": "032d06c9",
   "metadata": {},
   "source": [
    "# smote"
   ]
  },
  {
   "cell_type": "code",
   "execution_count": 223,
   "id": "59170850",
   "metadata": {},
   "outputs": [],
   "source": [
    "X = data[['BMI', 'Smoking', 'AlcoholDrinking', \"Stroke\", 'PhysicalHealth', \"MentalHealth\", \"DiffWalking\", \"Sex\", \"AgeCategory\", \"Race\", \"Diabetic\", \"PhysicalActivity\", \"GenHealth\", \"SleepTime\", \"Asthma\", \"KidneyDisease\", \"SkinCancer\"]]\n",
    "y = data.HeartDisease"
   ]
  },
  {
   "cell_type": "code",
   "execution_count": 224,
   "id": "a5354a2c",
   "metadata": {},
   "outputs": [],
   "source": [
    "from sklearn.model_selection import train_test_split\n",
    "X_train, X_test, y_train, y_test = train_test_split(X, y, \n",
    "                                                    test_size=0.3, \n",
    "                                                    random_state=0, \n",
    "                                                    shuffle=True, \n",
    "                                                    stratify=y)"
   ]
  },
  {
   "cell_type": "code",
   "execution_count": 225,
   "id": "a5378601",
   "metadata": {},
   "outputs": [],
   "source": [
    "test = pd.concat([X_test, y_test], axis=1)"
   ]
  },
  {
   "cell_type": "code",
   "execution_count": 226,
   "id": "9f649569",
   "metadata": {},
   "outputs": [],
   "source": [
    "from imblearn.over_sampling import SMOTE\n",
    "from imblearn.over_sampling import BorderlineSMOTE\n",
    "from imblearn.under_sampling import RandomUnderSampler\n",
    "oversampled = SMOTE(random_state=0)\n",
    "X_train_smote, y_train_smote = oversampled.fit_resample(X_train, y_train)"
   ]
  },
  {
   "cell_type": "code",
   "execution_count": 227,
   "id": "7e268d6c",
   "metadata": {},
   "outputs": [
    {
     "data": {
      "text/html": [
       "<div>\n",
       "<style scoped>\n",
       "    .dataframe tbody tr th:only-of-type {\n",
       "        vertical-align: middle;\n",
       "    }\n",
       "\n",
       "    .dataframe tbody tr th {\n",
       "        vertical-align: top;\n",
       "    }\n",
       "\n",
       "    .dataframe thead th {\n",
       "        text-align: right;\n",
       "    }\n",
       "</style>\n",
       "<table border=\"1\" class=\"dataframe\">\n",
       "  <thead>\n",
       "    <tr style=\"text-align: right;\">\n",
       "      <th></th>\n",
       "      <th>BMI</th>\n",
       "      <th>Smoking</th>\n",
       "      <th>AlcoholDrinking</th>\n",
       "      <th>Stroke</th>\n",
       "      <th>PhysicalHealth</th>\n",
       "      <th>MentalHealth</th>\n",
       "      <th>DiffWalking</th>\n",
       "      <th>Sex</th>\n",
       "      <th>AgeCategory</th>\n",
       "      <th>Race</th>\n",
       "      <th>Diabetic</th>\n",
       "      <th>PhysicalActivity</th>\n",
       "      <th>GenHealth</th>\n",
       "      <th>SleepTime</th>\n",
       "      <th>Asthma</th>\n",
       "      <th>KidneyDisease</th>\n",
       "      <th>SkinCancer</th>\n",
       "      <th>HeartDisease</th>\n",
       "    </tr>\n",
       "  </thead>\n",
       "  <tbody>\n",
       "    <tr>\n",
       "      <th>0</th>\n",
       "      <td>31.63</td>\n",
       "      <td>0</td>\n",
       "      <td>0</td>\n",
       "      <td>0</td>\n",
       "      <td>0.0</td>\n",
       "      <td>0.0</td>\n",
       "      <td>0</td>\n",
       "      <td>0</td>\n",
       "      <td>4</td>\n",
       "      <td>4</td>\n",
       "      <td>0</td>\n",
       "      <td>1</td>\n",
       "      <td>4</td>\n",
       "      <td>6.0</td>\n",
       "      <td>0</td>\n",
       "      <td>0</td>\n",
       "      <td>0</td>\n",
       "      <td>0</td>\n",
       "    </tr>\n",
       "    <tr>\n",
       "      <th>1</th>\n",
       "      <td>27.98</td>\n",
       "      <td>1</td>\n",
       "      <td>0</td>\n",
       "      <td>0</td>\n",
       "      <td>0.0</td>\n",
       "      <td>0.0</td>\n",
       "      <td>0</td>\n",
       "      <td>0</td>\n",
       "      <td>10</td>\n",
       "      <td>0</td>\n",
       "      <td>1</td>\n",
       "      <td>1</td>\n",
       "      <td>1</td>\n",
       "      <td>8.0</td>\n",
       "      <td>0</td>\n",
       "      <td>0</td>\n",
       "      <td>0</td>\n",
       "      <td>1</td>\n",
       "    </tr>\n",
       "    <tr>\n",
       "      <th>2</th>\n",
       "      <td>26.58</td>\n",
       "      <td>1</td>\n",
       "      <td>0</td>\n",
       "      <td>0</td>\n",
       "      <td>0.0</td>\n",
       "      <td>0.0</td>\n",
       "      <td>0</td>\n",
       "      <td>0</td>\n",
       "      <td>5</td>\n",
       "      <td>0</td>\n",
       "      <td>0</td>\n",
       "      <td>1</td>\n",
       "      <td>4</td>\n",
       "      <td>6.0</td>\n",
       "      <td>0</td>\n",
       "      <td>0</td>\n",
       "      <td>0</td>\n",
       "      <td>0</td>\n",
       "    </tr>\n",
       "    <tr>\n",
       "      <th>3</th>\n",
       "      <td>33.28</td>\n",
       "      <td>1</td>\n",
       "      <td>0</td>\n",
       "      <td>0</td>\n",
       "      <td>0.0</td>\n",
       "      <td>23.0</td>\n",
       "      <td>0</td>\n",
       "      <td>1</td>\n",
       "      <td>10</td>\n",
       "      <td>0</td>\n",
       "      <td>1</td>\n",
       "      <td>1</td>\n",
       "      <td>2</td>\n",
       "      <td>8.0</td>\n",
       "      <td>0</td>\n",
       "      <td>0</td>\n",
       "      <td>0</td>\n",
       "      <td>0</td>\n",
       "    </tr>\n",
       "    <tr>\n",
       "      <th>4</th>\n",
       "      <td>26.57</td>\n",
       "      <td>0</td>\n",
       "      <td>0</td>\n",
       "      <td>0</td>\n",
       "      <td>0.0</td>\n",
       "      <td>0.0</td>\n",
       "      <td>0</td>\n",
       "      <td>1</td>\n",
       "      <td>0</td>\n",
       "      <td>4</td>\n",
       "      <td>0</td>\n",
       "      <td>0</td>\n",
       "      <td>3</td>\n",
       "      <td>8.0</td>\n",
       "      <td>0</td>\n",
       "      <td>0</td>\n",
       "      <td>0</td>\n",
       "      <td>0</td>\n",
       "    </tr>\n",
       "  </tbody>\n",
       "</table>\n",
       "</div>"
      ],
      "text/plain": [
       "     BMI  Smoking  AlcoholDrinking  Stroke  PhysicalHealth  MentalHealth  \\\n",
       "0  31.63        0                0       0             0.0           0.0   \n",
       "1  27.98        1                0       0             0.0           0.0   \n",
       "2  26.58        1                0       0             0.0           0.0   \n",
       "3  33.28        1                0       0             0.0          23.0   \n",
       "4  26.57        0                0       0             0.0           0.0   \n",
       "\n",
       "   DiffWalking  Sex  AgeCategory  Race  Diabetic  PhysicalActivity  GenHealth  \\\n",
       "0            0    0            4     4         0                 1          4   \n",
       "1            0    0           10     0         1                 1          1   \n",
       "2            0    0            5     0         0                 1          4   \n",
       "3            0    1           10     0         1                 1          2   \n",
       "4            0    1            0     4         0                 0          3   \n",
       "\n",
       "   SleepTime  Asthma  KidneyDisease  SkinCancer  HeartDisease  \n",
       "0        6.0       0              0           0             0  \n",
       "1        8.0       0              0           0             1  \n",
       "2        6.0       0              0           0             0  \n",
       "3        8.0       0              0           0             0  \n",
       "4        8.0       0              0           0             0  "
      ]
     },
     "execution_count": 227,
     "metadata": {},
     "output_type": "execute_result"
    }
   ],
   "source": [
    "train_smote = pd.concat([X_train_smote, y_train_smote], axis=1)\n",
    "train_smote.head()"
   ]
  },
  {
   "cell_type": "code",
   "execution_count": 228,
   "id": "e6da9299",
   "metadata": {},
   "outputs": [],
   "source": [
    "#subset1 = train_smote.loc[((train_smote['Stroke'] == 1) & (train_smote['DiffWalking'] == 1))]\n",
    "#subset1.head()"
   ]
  },
  {
   "cell_type": "code",
   "execution_count": 229,
   "id": "a8338c4f",
   "metadata": {},
   "outputs": [
    {
     "name": "stdout",
     "output_type": "stream",
     "text": [
      "Optimization terminated successfully.\n",
      "         Current function value: 0.589677\n",
      "         Iterations 5\n",
      "Classification accuracy = 44.4%\n",
      "Precision = 44.4%\n",
      "TPR or Recall = 100.0%\n",
      "FNR = 0.0%\n",
      "FPR = 100.0%\n",
      "ROC-AUC = 50.0%\n"
     ]
    },
    {
     "data": {
      "image/png": "[encoded data removed]",
      "text/plain": [
       "<Figure size 720x432 with 2 Axes>"
      ]
     },
     "metadata": {},
     "output_type": "display_data"
    }
   ],
   "source": [
    "subset_smote1 = train_smote.loc[((train_smote['Stroke'] == 1) & (train_smote['DiffWalking'] == 1))]\n",
    "subset1 = data.loc[((data['Stroke'] == 1) & (data['DiffWalking'] == 1))]\n",
    "model1 = sm.logit(formula = 'HeartDisease~1', data = subset_smote1).fit()\n",
    "confusion_matrix_data(subset1,subset1.HeartDisease,model1,0.6)"
   ]
  },
  {
   "cell_type": "code",
   "execution_count": 230,
   "id": "d3867698",
   "metadata": {},
   "outputs": [
    {
     "data": {
      "text/plain": [
       "(5346, 18)"
      ]
     },
     "execution_count": 230,
     "metadata": {},
     "output_type": "execute_result"
    }
   ],
   "source": [
    "subset1.shape"
   ]
  },
  {
   "cell_type": "code",
   "execution_count": 231,
   "id": "0ea5d3b5",
   "metadata": {},
   "outputs": [
    {
     "data": {
      "text/plain": [
       "(188019, 18)"
      ]
     },
     "execution_count": 231,
     "metadata": {},
     "output_type": "execute_result"
    }
   ],
   "source": [
    "subset2.shape"
   ]
  },
  {
   "cell_type": "markdown",
   "id": "1646e599",
   "metadata": {},
   "source": [
    "0, 0, 2973, 2373"
   ]
  },
  {
   "cell_type": "code",
   "execution_count": 232,
   "id": "741e340a",
   "metadata": {},
   "outputs": [
    {
     "name": "stdout",
     "output_type": "stream",
     "text": [
      "Optimization terminated successfully.\n",
      "         Current function value: 0.449686\n",
      "         Iterations 7\n",
      "Classification accuracy = 81.6%\n",
      "Precision = 22.7%\n",
      "TPR or Recall = 54.2%\n",
      "FNR = 45.8%\n",
      "FPR = 16.0%\n",
      "ROC-AUC = 78.9%\n"
     ]
    },
    {
     "data": {
      "image/png": "[encoded data removed]",
      "text/plain": [
       "<Figure size 720x432 with 2 Axes>"
      ]
     },
     "metadata": {},
     "output_type": "display_data"
    }
   ],
   "source": [
    "subset_smote2 = train_smote.loc[((train_smote['Stroke'] == 0) | (train_smote['DiffWalking'] == 0))]\n",
    "subset2 = data.loc[((data['Stroke'] == 0) | (data['DiffWalking'] == 0))]\n",
    "model2 = sm.logit(formula = 'HeartDisease~BMI+Smoking+AlcoholDrinking+PhysicalHealth+MentalHealth+Sex+AgeCategory+Race+Diabetic+PhysicalActivity+GenHealth+SleepTime+Asthma+KidneyDisease+SkinCancer', data = subset_smote2).fit()\n",
    "confusion_matrix_data(subset2,subset2.HeartDisease,model2,0.6)"
   ]
  },
  {
   "cell_type": "markdown",
   "id": "75ad880c",
   "metadata": {},
   "source": [
    "TN:154043, FN:45421, FP:25315, TP:105518"
   ]
  },
  {
   "cell_type": "markdown",
   "id": "2b85f8a5",
   "metadata": {},
   "source": [
    "class acc = TP+TN/(TP+TN+FP+FN)\n",
    "\n",
    "259561/330297 = 78.6~"
   ]
  },
  {
   "cell_type": "markdown",
   "id": "e999e74e",
   "metadata": {},
   "source": [
    "fnr = FN/(TP+FN) ~ 41.8\n",
    "\n",
    "1189/(178167+1189) = 0.006629 ~ 0.66 %"
   ]
  },
  {
   "cell_type": "markdown",
   "id": "7e0ed07a",
   "metadata": {},
   "source": [
    "# smote part2 (w categorical vals)"
   ]
  },
  {
   "cell_type": "code",
   "execution_count": 233,
   "id": "d23b72a1",
   "metadata": {},
   "outputs": [],
   "source": [
    "heart_dataset = pd.read_csv('heart_2020_cleaned.csv')"
   ]
  },
  {
   "cell_type": "code",
   "execution_count": 234,
   "id": "d6fe1810",
   "metadata": {},
   "outputs": [
    {
     "data": {
      "text/html": [
       "<div>\n",
       "<style scoped>\n",
       "    .dataframe tbody tr th:only-of-type {\n",
       "        vertical-align: middle;\n",
       "    }\n",
       "\n",
       "    .dataframe tbody tr th {\n",
       "        vertical-align: top;\n",
       "    }\n",
       "\n",
       "    .dataframe thead th {\n",
       "        text-align: right;\n",
       "    }\n",
       "</style>\n",
       "<table border=\"1\" class=\"dataframe\">\n",
       "  <thead>\n",
       "    <tr style=\"text-align: right;\">\n",
       "      <th></th>\n",
       "      <th>HeartDisease</th>\n",
       "      <th>BMI</th>\n",
       "      <th>Smoking</th>\n",
       "      <th>AlcoholDrinking</th>\n",
       "      <th>Stroke</th>\n",
       "      <th>PhysicalHealth</th>\n",
       "      <th>MentalHealth</th>\n",
       "      <th>DiffWalking</th>\n",
       "      <th>Sex</th>\n",
       "      <th>AgeCategory</th>\n",
       "      <th>Race</th>\n",
       "      <th>Diabetic</th>\n",
       "      <th>PhysicalActivity</th>\n",
       "      <th>GenHealth</th>\n",
       "      <th>SleepTime</th>\n",
       "      <th>Asthma</th>\n",
       "      <th>KidneyDisease</th>\n",
       "      <th>SkinCancer</th>\n",
       "    </tr>\n",
       "  </thead>\n",
       "  <tbody>\n",
       "    <tr>\n",
       "      <th>0</th>\n",
       "      <td>No</td>\n",
       "      <td>16.60</td>\n",
       "      <td>Yes</td>\n",
       "      <td>No</td>\n",
       "      <td>No</td>\n",
       "      <td>3.0</td>\n",
       "      <td>30.0</td>\n",
       "      <td>No</td>\n",
       "      <td>Female</td>\n",
       "      <td>55-59</td>\n",
       "      <td>White</td>\n",
       "      <td>Yes</td>\n",
       "      <td>Yes</td>\n",
       "      <td>Very good</td>\n",
       "      <td>5.0</td>\n",
       "      <td>Yes</td>\n",
       "      <td>No</td>\n",
       "      <td>Yes</td>\n",
       "    </tr>\n",
       "    <tr>\n",
       "      <th>1</th>\n",
       "      <td>No</td>\n",
       "      <td>20.34</td>\n",
       "      <td>No</td>\n",
       "      <td>No</td>\n",
       "      <td>Yes</td>\n",
       "      <td>0.0</td>\n",
       "      <td>0.0</td>\n",
       "      <td>No</td>\n",
       "      <td>Female</td>\n",
       "      <td>80 or older</td>\n",
       "      <td>White</td>\n",
       "      <td>No</td>\n",
       "      <td>Yes</td>\n",
       "      <td>Very good</td>\n",
       "      <td>7.0</td>\n",
       "      <td>No</td>\n",
       "      <td>No</td>\n",
       "      <td>No</td>\n",
       "    </tr>\n",
       "    <tr>\n",
       "      <th>2</th>\n",
       "      <td>No</td>\n",
       "      <td>26.58</td>\n",
       "      <td>Yes</td>\n",
       "      <td>No</td>\n",
       "      <td>No</td>\n",
       "      <td>20.0</td>\n",
       "      <td>30.0</td>\n",
       "      <td>No</td>\n",
       "      <td>Male</td>\n",
       "      <td>65-69</td>\n",
       "      <td>White</td>\n",
       "      <td>Yes</td>\n",
       "      <td>Yes</td>\n",
       "      <td>Fair</td>\n",
       "      <td>8.0</td>\n",
       "      <td>Yes</td>\n",
       "      <td>No</td>\n",
       "      <td>No</td>\n",
       "    </tr>\n",
       "    <tr>\n",
       "      <th>3</th>\n",
       "      <td>No</td>\n",
       "      <td>24.21</td>\n",
       "      <td>No</td>\n",
       "      <td>No</td>\n",
       "      <td>No</td>\n",
       "      <td>0.0</td>\n",
       "      <td>0.0</td>\n",
       "      <td>No</td>\n",
       "      <td>Female</td>\n",
       "      <td>75-79</td>\n",
       "      <td>White</td>\n",
       "      <td>No</td>\n",
       "      <td>No</td>\n",
       "      <td>Good</td>\n",
       "      <td>6.0</td>\n",
       "      <td>No</td>\n",
       "      <td>No</td>\n",
       "      <td>Yes</td>\n",
       "    </tr>\n",
       "    <tr>\n",
       "      <th>4</th>\n",
       "      <td>No</td>\n",
       "      <td>23.71</td>\n",
       "      <td>No</td>\n",
       "      <td>No</td>\n",
       "      <td>No</td>\n",
       "      <td>28.0</td>\n",
       "      <td>0.0</td>\n",
       "      <td>Yes</td>\n",
       "      <td>Female</td>\n",
       "      <td>40-44</td>\n",
       "      <td>White</td>\n",
       "      <td>No</td>\n",
       "      <td>Yes</td>\n",
       "      <td>Very good</td>\n",
       "      <td>8.0</td>\n",
       "      <td>No</td>\n",
       "      <td>No</td>\n",
       "      <td>No</td>\n",
       "    </tr>\n",
       "  </tbody>\n",
       "</table>\n",
       "</div>"
      ],
      "text/plain": [
       "  HeartDisease    BMI Smoking AlcoholDrinking Stroke  PhysicalHealth  \\\n",
       "0           No  16.60     Yes              No     No             3.0   \n",
       "1           No  20.34      No              No    Yes             0.0   \n",
       "2           No  26.58     Yes              No     No            20.0   \n",
       "3           No  24.21      No              No     No             0.0   \n",
       "4           No  23.71      No              No     No            28.0   \n",
       "\n",
       "   MentalHealth DiffWalking     Sex  AgeCategory   Race Diabetic  \\\n",
       "0          30.0          No  Female        55-59  White      Yes   \n",
       "1           0.0          No  Female  80 or older  White       No   \n",
       "2          30.0          No    Male        65-69  White      Yes   \n",
       "3           0.0          No  Female        75-79  White       No   \n",
       "4           0.0         Yes  Female        40-44  White       No   \n",
       "\n",
       "  PhysicalActivity  GenHealth  SleepTime Asthma KidneyDisease SkinCancer  \n",
       "0              Yes  Very good        5.0    Yes            No        Yes  \n",
       "1              Yes  Very good        7.0     No            No         No  \n",
       "2              Yes       Fair        8.0    Yes            No         No  \n",
       "3               No       Good        6.0     No            No        Yes  \n",
       "4              Yes  Very good        8.0     No            No         No  "
      ]
     },
     "execution_count": 234,
     "metadata": {},
     "output_type": "execute_result"
    }
   ],
   "source": [
    "heart_dataset.head()"
   ]
  },
  {
   "cell_type": "code",
   "execution_count": 235,
   "id": "aede67c0",
   "metadata": {},
   "outputs": [],
   "source": [
    "df = heart_dataset.copy()"
   ]
  },
  {
   "cell_type": "code",
   "execution_count": 236,
   "id": "7603f67a",
   "metadata": {},
   "outputs": [
    {
     "data": {
      "text/html": [
       "<div>\n",
       "<style scoped>\n",
       "    .dataframe tbody tr th:only-of-type {\n",
       "        vertical-align: middle;\n",
       "    }\n",
       "\n",
       "    .dataframe tbody tr th {\n",
       "        vertical-align: top;\n",
       "    }\n",
       "\n",
       "    .dataframe thead th {\n",
       "        text-align: right;\n",
       "    }\n",
       "</style>\n",
       "<table border=\"1\" class=\"dataframe\">\n",
       "  <thead>\n",
       "    <tr style=\"text-align: right;\">\n",
       "      <th></th>\n",
       "      <th>HeartDisease</th>\n",
       "      <th>BMI</th>\n",
       "      <th>Smoking</th>\n",
       "      <th>AlcoholDrinking</th>\n",
       "      <th>Stroke</th>\n",
       "      <th>PhysicalHealth</th>\n",
       "      <th>MentalHealth</th>\n",
       "      <th>DiffWalking</th>\n",
       "      <th>Sex</th>\n",
       "      <th>AgeCategory</th>\n",
       "      <th>Race</th>\n",
       "      <th>Diabetic</th>\n",
       "      <th>PhysicalActivity</th>\n",
       "      <th>GenHealth</th>\n",
       "      <th>SleepTime</th>\n",
       "      <th>Asthma</th>\n",
       "      <th>KidneyDisease</th>\n",
       "      <th>SkinCancer</th>\n",
       "    </tr>\n",
       "  </thead>\n",
       "  <tbody>\n",
       "    <tr>\n",
       "      <th>0</th>\n",
       "      <td>0</td>\n",
       "      <td>16.60</td>\n",
       "      <td>1</td>\n",
       "      <td>0</td>\n",
       "      <td>0</td>\n",
       "      <td>3.0</td>\n",
       "      <td>30.0</td>\n",
       "      <td>0</td>\n",
       "      <td>1</td>\n",
       "      <td>7</td>\n",
       "      <td>0</td>\n",
       "      <td>1</td>\n",
       "      <td>1</td>\n",
       "      <td>3</td>\n",
       "      <td>5.0</td>\n",
       "      <td>1</td>\n",
       "      <td>0</td>\n",
       "      <td>1</td>\n",
       "    </tr>\n",
       "    <tr>\n",
       "      <th>1</th>\n",
       "      <td>0</td>\n",
       "      <td>20.34</td>\n",
       "      <td>0</td>\n",
       "      <td>0</td>\n",
       "      <td>1</td>\n",
       "      <td>0.0</td>\n",
       "      <td>0.0</td>\n",
       "      <td>0</td>\n",
       "      <td>1</td>\n",
       "      <td>12</td>\n",
       "      <td>0</td>\n",
       "      <td>0</td>\n",
       "      <td>1</td>\n",
       "      <td>3</td>\n",
       "      <td>7.0</td>\n",
       "      <td>0</td>\n",
       "      <td>0</td>\n",
       "      <td>0</td>\n",
       "    </tr>\n",
       "    <tr>\n",
       "      <th>2</th>\n",
       "      <td>0</td>\n",
       "      <td>26.58</td>\n",
       "      <td>1</td>\n",
       "      <td>0</td>\n",
       "      <td>0</td>\n",
       "      <td>20.0</td>\n",
       "      <td>30.0</td>\n",
       "      <td>0</td>\n",
       "      <td>0</td>\n",
       "      <td>9</td>\n",
       "      <td>0</td>\n",
       "      <td>1</td>\n",
       "      <td>1</td>\n",
       "      <td>1</td>\n",
       "      <td>8.0</td>\n",
       "      <td>1</td>\n",
       "      <td>0</td>\n",
       "      <td>0</td>\n",
       "    </tr>\n",
       "    <tr>\n",
       "      <th>3</th>\n",
       "      <td>0</td>\n",
       "      <td>24.21</td>\n",
       "      <td>0</td>\n",
       "      <td>0</td>\n",
       "      <td>0</td>\n",
       "      <td>0.0</td>\n",
       "      <td>0.0</td>\n",
       "      <td>0</td>\n",
       "      <td>1</td>\n",
       "      <td>11</td>\n",
       "      <td>0</td>\n",
       "      <td>0</td>\n",
       "      <td>0</td>\n",
       "      <td>2</td>\n",
       "      <td>6.0</td>\n",
       "      <td>0</td>\n",
       "      <td>0</td>\n",
       "      <td>1</td>\n",
       "    </tr>\n",
       "    <tr>\n",
       "      <th>4</th>\n",
       "      <td>0</td>\n",
       "      <td>23.71</td>\n",
       "      <td>0</td>\n",
       "      <td>0</td>\n",
       "      <td>0</td>\n",
       "      <td>28.0</td>\n",
       "      <td>0.0</td>\n",
       "      <td>1</td>\n",
       "      <td>1</td>\n",
       "      <td>4</td>\n",
       "      <td>0</td>\n",
       "      <td>0</td>\n",
       "      <td>1</td>\n",
       "      <td>3</td>\n",
       "      <td>8.0</td>\n",
       "      <td>0</td>\n",
       "      <td>0</td>\n",
       "      <td>0</td>\n",
       "    </tr>\n",
       "  </tbody>\n",
       "</table>\n",
       "</div>"
      ],
      "text/plain": [
       "   HeartDisease    BMI  Smoking  AlcoholDrinking  Stroke  PhysicalHealth  \\\n",
       "0             0  16.60        1                0       0             3.0   \n",
       "1             0  20.34        0                0       1             0.0   \n",
       "2             0  26.58        1                0       0            20.0   \n",
       "3             0  24.21        0                0       0             0.0   \n",
       "4             0  23.71        0                0       0            28.0   \n",
       "\n",
       "   MentalHealth  DiffWalking  Sex  AgeCategory  Race  Diabetic  \\\n",
       "0          30.0            0    1            7     0         1   \n",
       "1           0.0            0    1           12     0         0   \n",
       "2          30.0            0    0            9     0         1   \n",
       "3           0.0            0    1           11     0         0   \n",
       "4           0.0            1    1            4     0         0   \n",
       "\n",
       "   PhysicalActivity  GenHealth  SleepTime  Asthma  KidneyDisease  SkinCancer  \n",
       "0                 1          3        5.0       1              0           1  \n",
       "1                 1          3        7.0       0              0           0  \n",
       "2                 1          1        8.0       1              0           0  \n",
       "3                 0          2        6.0       0              0           1  \n",
       "4                 1          3        8.0       0              0           0  "
      ]
     },
     "execution_count": 236,
     "metadata": {},
     "output_type": "execute_result"
    }
   ],
   "source": [
    "def reformat(data):\n",
    "    replacement_values = {\"Yes\": 1, \"No\": 0, \"Yes (during pregnancy)\": 1, \"No, borderline diabetes\": 0, \"Male\": 0, \"Female\": 1}\n",
    "    replacement_age = {\"18-24\": 0, \"25-29\": 1, \"30-34\": 2, \"35-39\": 3, \"40-44\": 4, \"45-49\": 5, \"50-54\": 6, \"55-59\": 7, \"60-64\": 8, \"65-69\": 9, \"70-74\": 10, \"75-79\": 11, \"80 or older\": 12}\n",
    "    replacement_race = {\"White\": 0, \"Black\": 1, \"Asian\": 2, \"American Indian/Alaskan Native\": 3, \"Hispanic\": 4, \"Other\": 5}\n",
    "    replacement_genhealth = {\"Poor\": 0, \"Fair\": 1, \"Good\": 2, \"Very good\": 3, \"Excellent\": 4}\n",
    "    #replacement_bmi_cut = {'(11.937, 19.55]': 0, '(19.55, 27.08]': 1, '(27.08, 34.61]': 2, '(34.61, 42.14]': 3, '(42.14, 49.67]': 4, '(49.67, 57.2]': 5, '(57.2, 64.73]': 6, '(64.73, 72.26]': 7, '(72.26, 79.79]': 8, '(79.79, 87.32]': 9, '(87.32, 94.85]': 10}\n",
    "    data.replace(replacement_values, inplace = True)\n",
    "    data.replace(replacement_age, inplace = True)\n",
    "    data.replace(replacement_race, inplace = True)\n",
    "    data.replace(replacement_genhealth, inplace = True)\n",
    "    #data.replace(replacement_bmi_cut, inplace = True)\n",
    "reformat(df)\n",
    "df.head()"
   ]
  },
  {
   "cell_type": "code",
   "execution_count": 237,
   "id": "6e5c3913",
   "metadata": {},
   "outputs": [],
   "source": [
    "X = df[['BMI', 'Smoking', 'AlcoholDrinking', \"Stroke\", 'PhysicalHealth', \"MentalHealth\", \"DiffWalking\", \"Sex\", \"AgeCategory\", \"Race\", \"Diabetic\", \"PhysicalActivity\", \"GenHealth\", \"SleepTime\", \"Asthma\", \"KidneyDisease\", \"SkinCancer\"]]\n",
    "y = df.HeartDisease"
   ]
  },
  {
   "cell_type": "code",
   "execution_count": 238,
   "id": "ce61984b",
   "metadata": {},
   "outputs": [],
   "source": [
    "from sklearn.model_selection import train_test_split\n",
    "X_train, X_test, y_train, y_test = train_test_split(X, y, \n",
    "                                                    test_size=0.3, \n",
    "                                                    random_state=0, \n",
    "                                                    shuffle=True, \n",
    "                                                    stratify=y)"
   ]
  },
  {
   "cell_type": "code",
   "execution_count": 239,
   "id": "3f2879ee",
   "metadata": {},
   "outputs": [],
   "source": [
    "test = pd.concat([X_test, y_test], axis=1)"
   ]
  },
  {
   "cell_type": "code",
   "execution_count": 240,
   "id": "9eb2e3bb",
   "metadata": {},
   "outputs": [],
   "source": [
    "from imblearn.over_sampling import SMOTE\n",
    "from imblearn.over_sampling import BorderlineSMOTE\n",
    "from imblearn.under_sampling import RandomUnderSampler\n",
    "oversampled = SMOTE(random_state=0)\n",
    "X_train_smote, y_train_smote = oversampled.fit_resample(X_train, y_train)"
   ]
  },
  {
   "cell_type": "code",
   "execution_count": 241,
   "id": "903b7e0b",
   "metadata": {},
   "outputs": [],
   "source": [
    "train_smote = pd.concat([X_train_smote, y_train_smote], axis=1)"
   ]
  },
  {
   "cell_type": "code",
   "execution_count": 242,
   "id": "df8433e4",
   "metadata": {},
   "outputs": [
    {
     "data": {
      "text/html": [
       "<div>\n",
       "<style scoped>\n",
       "    .dataframe tbody tr th:only-of-type {\n",
       "        vertical-align: middle;\n",
       "    }\n",
       "\n",
       "    .dataframe tbody tr th {\n",
       "        vertical-align: top;\n",
       "    }\n",
       "\n",
       "    .dataframe thead th {\n",
       "        text-align: right;\n",
       "    }\n",
       "</style>\n",
       "<table border=\"1\" class=\"dataframe\">\n",
       "  <thead>\n",
       "    <tr style=\"text-align: right;\">\n",
       "      <th></th>\n",
       "      <th>BMI</th>\n",
       "      <th>Smoking</th>\n",
       "      <th>AlcoholDrinking</th>\n",
       "      <th>Stroke</th>\n",
       "      <th>PhysicalHealth</th>\n",
       "      <th>MentalHealth</th>\n",
       "      <th>DiffWalking</th>\n",
       "      <th>Sex</th>\n",
       "      <th>AgeCategory</th>\n",
       "      <th>Race</th>\n",
       "      <th>Diabetic</th>\n",
       "      <th>PhysicalActivity</th>\n",
       "      <th>GenHealth</th>\n",
       "      <th>SleepTime</th>\n",
       "      <th>Asthma</th>\n",
       "      <th>KidneyDisease</th>\n",
       "      <th>SkinCancer</th>\n",
       "      <th>HeartDisease</th>\n",
       "    </tr>\n",
       "  </thead>\n",
       "  <tbody>\n",
       "    <tr>\n",
       "      <th>0</th>\n",
       "      <td>31.63</td>\n",
       "      <td>0</td>\n",
       "      <td>0</td>\n",
       "      <td>0</td>\n",
       "      <td>0.0</td>\n",
       "      <td>0.0</td>\n",
       "      <td>0</td>\n",
       "      <td>0</td>\n",
       "      <td>4</td>\n",
       "      <td>4</td>\n",
       "      <td>0</td>\n",
       "      <td>1</td>\n",
       "      <td>4</td>\n",
       "      <td>6.0</td>\n",
       "      <td>0</td>\n",
       "      <td>0</td>\n",
       "      <td>0</td>\n",
       "      <td>0</td>\n",
       "    </tr>\n",
       "    <tr>\n",
       "      <th>1</th>\n",
       "      <td>27.98</td>\n",
       "      <td>1</td>\n",
       "      <td>0</td>\n",
       "      <td>0</td>\n",
       "      <td>0.0</td>\n",
       "      <td>0.0</td>\n",
       "      <td>0</td>\n",
       "      <td>0</td>\n",
       "      <td>10</td>\n",
       "      <td>0</td>\n",
       "      <td>1</td>\n",
       "      <td>1</td>\n",
       "      <td>1</td>\n",
       "      <td>8.0</td>\n",
       "      <td>0</td>\n",
       "      <td>0</td>\n",
       "      <td>0</td>\n",
       "      <td>1</td>\n",
       "    </tr>\n",
       "    <tr>\n",
       "      <th>2</th>\n",
       "      <td>26.58</td>\n",
       "      <td>1</td>\n",
       "      <td>0</td>\n",
       "      <td>0</td>\n",
       "      <td>0.0</td>\n",
       "      <td>0.0</td>\n",
       "      <td>0</td>\n",
       "      <td>0</td>\n",
       "      <td>5</td>\n",
       "      <td>0</td>\n",
       "      <td>0</td>\n",
       "      <td>1</td>\n",
       "      <td>4</td>\n",
       "      <td>6.0</td>\n",
       "      <td>0</td>\n",
       "      <td>0</td>\n",
       "      <td>0</td>\n",
       "      <td>0</td>\n",
       "    </tr>\n",
       "    <tr>\n",
       "      <th>3</th>\n",
       "      <td>33.28</td>\n",
       "      <td>1</td>\n",
       "      <td>0</td>\n",
       "      <td>0</td>\n",
       "      <td>0.0</td>\n",
       "      <td>23.0</td>\n",
       "      <td>0</td>\n",
       "      <td>1</td>\n",
       "      <td>10</td>\n",
       "      <td>0</td>\n",
       "      <td>1</td>\n",
       "      <td>1</td>\n",
       "      <td>2</td>\n",
       "      <td>8.0</td>\n",
       "      <td>0</td>\n",
       "      <td>0</td>\n",
       "      <td>0</td>\n",
       "      <td>0</td>\n",
       "    </tr>\n",
       "    <tr>\n",
       "      <th>4</th>\n",
       "      <td>26.57</td>\n",
       "      <td>0</td>\n",
       "      <td>0</td>\n",
       "      <td>0</td>\n",
       "      <td>0.0</td>\n",
       "      <td>0.0</td>\n",
       "      <td>0</td>\n",
       "      <td>1</td>\n",
       "      <td>0</td>\n",
       "      <td>4</td>\n",
       "      <td>0</td>\n",
       "      <td>0</td>\n",
       "      <td>3</td>\n",
       "      <td>8.0</td>\n",
       "      <td>0</td>\n",
       "      <td>0</td>\n",
       "      <td>0</td>\n",
       "      <td>0</td>\n",
       "    </tr>\n",
       "  </tbody>\n",
       "</table>\n",
       "</div>"
      ],
      "text/plain": [
       "     BMI  Smoking  AlcoholDrinking  Stroke  PhysicalHealth  MentalHealth  \\\n",
       "0  31.63        0                0       0             0.0           0.0   \n",
       "1  27.98        1                0       0             0.0           0.0   \n",
       "2  26.58        1                0       0             0.0           0.0   \n",
       "3  33.28        1                0       0             0.0          23.0   \n",
       "4  26.57        0                0       0             0.0           0.0   \n",
       "\n",
       "   DiffWalking  Sex  AgeCategory  Race  Diabetic  PhysicalActivity  GenHealth  \\\n",
       "0            0    0            4     4         0                 1          4   \n",
       "1            0    0           10     0         1                 1          1   \n",
       "2            0    0            5     0         0                 1          4   \n",
       "3            0    1           10     0         1                 1          2   \n",
       "4            0    1            0     4         0                 0          3   \n",
       "\n",
       "   SleepTime  Asthma  KidneyDisease  SkinCancer  HeartDisease  \n",
       "0        6.0       0              0           0             0  \n",
       "1        8.0       0              0           0             1  \n",
       "2        6.0       0              0           0             0  \n",
       "3        8.0       0              0           0             0  \n",
       "4        8.0       0              0           0             0  "
      ]
     },
     "execution_count": 242,
     "metadata": {},
     "output_type": "execute_result"
    }
   ],
   "source": [
    "train_smote.head()"
   ]
  },
  {
   "cell_type": "code",
   "execution_count": 243,
   "id": "1630d7a7",
   "metadata": {},
   "outputs": [],
   "source": [
    "# Reformating Data back to Categorical"
   ]
  },
  {
   "cell_type": "code",
   "execution_count": 244,
   "id": "7e19e9f7",
   "metadata": {},
   "outputs": [
    {
     "data": {
      "text/html": [
       "<div>\n",
       "<style scoped>\n",
       "    .dataframe tbody tr th:only-of-type {\n",
       "        vertical-align: middle;\n",
       "    }\n",
       "\n",
       "    .dataframe tbody tr th {\n",
       "        vertical-align: top;\n",
       "    }\n",
       "\n",
       "    .dataframe thead th {\n",
       "        text-align: right;\n",
       "    }\n",
       "</style>\n",
       "<table border=\"1\" class=\"dataframe\">\n",
       "  <thead>\n",
       "    <tr style=\"text-align: right;\">\n",
       "      <th></th>\n",
       "      <th>BMI</th>\n",
       "      <th>Smoking</th>\n",
       "      <th>AlcoholDrinking</th>\n",
       "      <th>Stroke</th>\n",
       "      <th>PhysicalHealth</th>\n",
       "      <th>MentalHealth</th>\n",
       "      <th>DiffWalking</th>\n",
       "      <th>Sex</th>\n",
       "      <th>AgeCategory</th>\n",
       "      <th>Race</th>\n",
       "      <th>Diabetic</th>\n",
       "      <th>PhysicalActivity</th>\n",
       "      <th>GenHealth</th>\n",
       "      <th>SleepTime</th>\n",
       "      <th>Asthma</th>\n",
       "      <th>KidneyDisease</th>\n",
       "      <th>SkinCancer</th>\n",
       "      <th>HeartDisease</th>\n",
       "    </tr>\n",
       "  </thead>\n",
       "  <tbody>\n",
       "    <tr>\n",
       "      <th>0</th>\n",
       "      <td>31.63</td>\n",
       "      <td>0</td>\n",
       "      <td>0</td>\n",
       "      <td>0</td>\n",
       "      <td>0.0</td>\n",
       "      <td>0.0</td>\n",
       "      <td>0</td>\n",
       "      <td>0</td>\n",
       "      <td>40-44</td>\n",
       "      <td>Hispanic</td>\n",
       "      <td>0</td>\n",
       "      <td>1</td>\n",
       "      <td>Excellent</td>\n",
       "      <td>6.0</td>\n",
       "      <td>0</td>\n",
       "      <td>0</td>\n",
       "      <td>0</td>\n",
       "      <td>0</td>\n",
       "    </tr>\n",
       "    <tr>\n",
       "      <th>1</th>\n",
       "      <td>27.98</td>\n",
       "      <td>1</td>\n",
       "      <td>0</td>\n",
       "      <td>0</td>\n",
       "      <td>0.0</td>\n",
       "      <td>0.0</td>\n",
       "      <td>0</td>\n",
       "      <td>0</td>\n",
       "      <td>70-74</td>\n",
       "      <td>White</td>\n",
       "      <td>1</td>\n",
       "      <td>1</td>\n",
       "      <td>Fair</td>\n",
       "      <td>8.0</td>\n",
       "      <td>0</td>\n",
       "      <td>0</td>\n",
       "      <td>0</td>\n",
       "      <td>1</td>\n",
       "    </tr>\n",
       "    <tr>\n",
       "      <th>2</th>\n",
       "      <td>26.58</td>\n",
       "      <td>1</td>\n",
       "      <td>0</td>\n",
       "      <td>0</td>\n",
       "      <td>0.0</td>\n",
       "      <td>0.0</td>\n",
       "      <td>0</td>\n",
       "      <td>0</td>\n",
       "      <td>45-49</td>\n",
       "      <td>White</td>\n",
       "      <td>0</td>\n",
       "      <td>1</td>\n",
       "      <td>Excellent</td>\n",
       "      <td>6.0</td>\n",
       "      <td>0</td>\n",
       "      <td>0</td>\n",
       "      <td>0</td>\n",
       "      <td>0</td>\n",
       "    </tr>\n",
       "    <tr>\n",
       "      <th>3</th>\n",
       "      <td>33.28</td>\n",
       "      <td>1</td>\n",
       "      <td>0</td>\n",
       "      <td>0</td>\n",
       "      <td>0.0</td>\n",
       "      <td>23.0</td>\n",
       "      <td>0</td>\n",
       "      <td>1</td>\n",
       "      <td>70-74</td>\n",
       "      <td>White</td>\n",
       "      <td>1</td>\n",
       "      <td>1</td>\n",
       "      <td>Good</td>\n",
       "      <td>8.0</td>\n",
       "      <td>0</td>\n",
       "      <td>0</td>\n",
       "      <td>0</td>\n",
       "      <td>0</td>\n",
       "    </tr>\n",
       "    <tr>\n",
       "      <th>4</th>\n",
       "      <td>26.57</td>\n",
       "      <td>0</td>\n",
       "      <td>0</td>\n",
       "      <td>0</td>\n",
       "      <td>0.0</td>\n",
       "      <td>0.0</td>\n",
       "      <td>0</td>\n",
       "      <td>1</td>\n",
       "      <td>18-24</td>\n",
       "      <td>Hispanic</td>\n",
       "      <td>0</td>\n",
       "      <td>0</td>\n",
       "      <td>Very good</td>\n",
       "      <td>8.0</td>\n",
       "      <td>0</td>\n",
       "      <td>0</td>\n",
       "      <td>0</td>\n",
       "      <td>0</td>\n",
       "    </tr>\n",
       "  </tbody>\n",
       "</table>\n",
       "</div>"
      ],
      "text/plain": [
       "     BMI  Smoking  AlcoholDrinking  Stroke  PhysicalHealth  MentalHealth  \\\n",
       "0  31.63        0                0       0             0.0           0.0   \n",
       "1  27.98        1                0       0             0.0           0.0   \n",
       "2  26.58        1                0       0             0.0           0.0   \n",
       "3  33.28        1                0       0             0.0          23.0   \n",
       "4  26.57        0                0       0             0.0           0.0   \n",
       "\n",
       "   DiffWalking  Sex AgeCategory      Race  Diabetic  PhysicalActivity  \\\n",
       "0            0    0       40-44  Hispanic         0                 1   \n",
       "1            0    0       70-74     White         1                 1   \n",
       "2            0    0       45-49     White         0                 1   \n",
       "3            0    1       70-74     White         1                 1   \n",
       "4            0    1       18-24  Hispanic         0                 0   \n",
       "\n",
       "   GenHealth  SleepTime  Asthma  KidneyDisease  SkinCancer  HeartDisease  \n",
       "0  Excellent        6.0       0              0           0             0  \n",
       "1       Fair        8.0       0              0           0             1  \n",
       "2  Excellent        6.0       0              0           0             0  \n",
       "3       Good        8.0       0              0           0             0  \n",
       "4  Very good        8.0       0              0           0             0  "
      ]
     },
     "execution_count": 244,
     "metadata": {},
     "output_type": "execute_result"
    }
   ],
   "source": [
    "def reverse_reformat(data):\n",
    "    #replacement_values = {\"Yes\": 1, \"No\": 0, \"Yes (during pregnancy)\": 1, \"No, borderline diabetes\": 0, \"Male\": 0, \"Female\": 1}\n",
    "    replacement_age = {0 : \"18-24\", 1 : \"25-29\", 2 : \"30-34\", 3 : \"35-39\", 4 : \"40-44\", 5 : \"45-49\", 6 : \"50-54\", 7: \"55-59\", 8: \"60-64\", 9: \"65-69\", 10: \"70-74\", 11:  \"75-79\", 12: \"80 or older\"}\n",
    "    replacement_race = { 0: \"White\", 1: \"Black\", 2 : \"Asian\", 3: \"American Indian/Alaskan Native\",  4: \"Hispanic\", 5: \"Other\"}\n",
    "    replacement_genhealth = {0: \"Poor\", 1: \"Fair\", 2: \"Good\", 3: \"Very good\", 4: \"Excellent\"}\n",
    "    replacement_bmi_cut = {0: '(11.937, 19.55]', 1: '(19.55, 27.08]', 2: '(27.08, 34.61]', 3: '(34.61, 42.14]', 4: '(42.14, 49.67]', 5: '(49.67, 57.2]', 6: '(57.2, 64.73]', 7: '(64.73, 72.26]', 8: '(72.26, 79.79]', 9: '(79.79, 87.32]', 10: '(87.32, 94.85]'}\n",
    "    replacement_bmi_qcut = {0: '(12.019, 21.26]', 1: '(21.26, 23.01]', 2: '(23.01, 24.33]', 3: '(24.33, 25.61]', 4: '(25.61, 26.61]', 5: '(26.61, 27.89]', 6: '(27.89, 29.26]', 7: '(29.26, 31.0]', 8: '(31.0, 33.23]', 9: '(33.23, 36.92]', 10: '(36.92, 94.85]'}\n",
    "    #data.replace(replacement_values, inplace = True)\n",
    "    data['AgeCategory'].replace(replacement_age, inplace = True)\n",
    "    data['Race'].replace(replacement_race, inplace = True)\n",
    "    data['GenHealth'].replace(replacement_genhealth, inplace = True)\n",
    "    #data['bmi_binned_cut'].replace(replacement_bmi_cut, inplace = True)\n",
    "    #data['bmi_binned_qcut'].replace(replacement_bmi_qcut, inplace = True)\n",
    "reverse_reformat(train_smote)\n",
    "reverse_reformat(test)\n",
    "reverse_reformat(df)\n",
    "train_smote.head()"
   ]
  },
  {
   "cell_type": "code",
   "execution_count": 245,
   "id": "62eb1ed7",
   "metadata": {},
   "outputs": [
    {
     "name": "stdout",
     "output_type": "stream",
     "text": [
      "Optimization terminated successfully.\n",
      "         Current function value: 0.589677\n",
      "         Iterations 5\n",
      "Classification accuracy = 44.4%\n",
      "Precision = 44.4%\n",
      "TPR or Recall = 100.0%\n",
      "FNR = 0.0%\n",
      "FPR = 100.0%\n",
      "ROC-AUC = 50.0%\n"
     ]
    },
    {
     "data": {
      "image/png": "[encoded data removed]",
      "text/plain": [
       "<Figure size 720x432 with 2 Axes>"
      ]
     },
     "metadata": {},
     "output_type": "display_data"
    }
   ],
   "source": [
    "subset_smote1 = train_smote.loc[((train_smote['Stroke'] == 1) & (train_smote['DiffWalking'] == 1))]\n",
    "subset1 = df.loc[((df['Stroke'] == 1) & (df['DiffWalking'] == 1))]\n",
    "model1 = sm.logit(formula = 'HeartDisease~1', data = subset_smote1).fit()\n",
    "confusion_matrix_data(subset1,subset1.HeartDisease,model1,0.6)"
   ]
  },
  {
   "cell_type": "code",
   "execution_count": 246,
   "id": "502b2973",
   "metadata": {},
   "outputs": [
    {
     "data": {
      "text/html": [
       "<table class=\"simpletable\">\n",
       "<caption>Logit Regression Results</caption>\n",
       "<tr>\n",
       "  <th>Dep. Variable:</th>     <td>HeartDisease</td>   <th>  No. Observations:  </th>  <td>  7492</td>  \n",
       "</tr>\n",
       "<tr>\n",
       "  <th>Model:</th>                 <td>Logit</td>      <th>  Df Residuals:      </th>  <td>  7491</td>  \n",
       "</tr>\n",
       "<tr>\n",
       "  <th>Method:</th>                 <td>MLE</td>       <th>  Df Model:          </th>  <td>     0</td>  \n",
       "</tr>\n",
       "<tr>\n",
       "  <th>Date:</th>            <td>Sun, 05 Mar 2023</td> <th>  Pseudo R-squ.:     </th> <td>6.119e-11</td>\n",
       "</tr>\n",
       "<tr>\n",
       "  <th>Time:</th>                <td>12:35:59</td>     <th>  Log-Likelihood:    </th> <td> -4417.9</td> \n",
       "</tr>\n",
       "<tr>\n",
       "  <th>converged:</th>             <td>True</td>       <th>  LL-Null:           </th> <td> -4417.9</td> \n",
       "</tr>\n",
       "<tr>\n",
       "  <th>Covariance Type:</th>     <td>nonrobust</td>    <th>  LLR p-value:       </th>  <td>   nan</td>  \n",
       "</tr>\n",
       "</table>\n",
       "<table class=\"simpletable\">\n",
       "<tr>\n",
       "      <td></td>         <th>coef</th>     <th>std err</th>      <th>z</th>      <th>P>|z|</th>  <th>[0.025</th>    <th>0.975]</th>  \n",
       "</tr>\n",
       "<tr>\n",
       "  <th>Intercept</th> <td>    0.9616</td> <td>    0.026</td> <td>   37.229</td> <td> 0.000</td> <td>    0.911</td> <td>    1.012</td>\n",
       "</tr>\n",
       "</table>"
      ],
      "text/plain": [
       "<class 'statsmodels.iolib.summary.Summary'>\n",
       "\"\"\"\n",
       "                           Logit Regression Results                           \n",
       "==============================================================================\n",
       "Dep. Variable:           HeartDisease   No. Observations:                 7492\n",
       "Model:                          Logit   Df Residuals:                     7491\n",
       "Method:                           MLE   Df Model:                            0\n",
       "Date:                Sun, 05 Mar 2023   Pseudo R-squ.:               6.119e-11\n",
       "Time:                        12:35:59   Log-Likelihood:                -4417.9\n",
       "converged:                       True   LL-Null:                       -4417.9\n",
       "Covariance Type:            nonrobust   LLR p-value:                       nan\n",
       "==============================================================================\n",
       "                 coef    std err          z      P>|z|      [0.025      0.975]\n",
       "------------------------------------------------------------------------------\n",
       "Intercept      0.9616      0.026     37.229      0.000       0.911       1.012\n",
       "==============================================================================\n",
       "\"\"\""
      ]
     },
     "execution_count": 246,
     "metadata": {},
     "output_type": "execute_result"
    }
   ],
   "source": [
    "model1.summary()"
   ]
  },
  {
   "cell_type": "code",
   "execution_count": 247,
   "id": "864b1214",
   "metadata": {},
   "outputs": [
    {
     "name": "stdout",
     "output_type": "stream",
     "text": [
      "Optimization terminated successfully.\n",
      "         Current function value: 0.442772\n",
      "         Iterations 7\n",
      "Classification accuracy = 81.7%\n",
      "Precision = 22.5%\n",
      "TPR or Recall = 53.1%\n",
      "FNR = 46.9%\n",
      "FPR = 15.8%\n",
      "ROC-AUC = 78.5%\n"
     ]
    },
    {
     "data": {
      "image/png": "[encoded data removed]",
      "text/plain": [
       "<Figure size 720x432 with 2 Axes>"
      ]
     },
     "metadata": {},
     "output_type": "display_data"
    }
   ],
   "source": [
    "subset_smote2 = train_smote.loc[((train_smote['Stroke'] == 0) | (train_smote['DiffWalking'] == 0))]\n",
    "subset2 = df.loc[((df['Stroke'] == 0) | (df['DiffWalking'] == 0))]\n",
    "model2 = sm.logit(formula = 'HeartDisease~BMI+Smoking+AlcoholDrinking+Stroke+PhysicalHealth+MentalHealth+DiffWalking+Sex+AgeCategory+Race+Diabetic+PhysicalActivity+GenHealth+SleepTime+Asthma+KidneyDisease+SkinCancer', data = subset_smote2).fit()\n",
    "confusion_matrix_data(subset2,subset2.HeartDisease,model2,0.6)"
   ]
  },
  {
   "cell_type": "markdown",
   "id": "9d0c2aba",
   "metadata": {},
   "source": [
    "TN:243633, FN:11717, FP:48789, TP:15656"
   ]
  },
  {
   "cell_type": "markdown",
   "id": "2d29d1bb",
   "metadata": {},
   "source": [
    "class acc = TP+TN/(TP+TN+FP+FN) \n",
    "259561/330297 = 81.0797~ 81.1\n",
    "\n",
    "fnr = FN/(TP+FN) = 42.804 ~ 42.8\n",
    "\n",
    "prec = TP/(TP+FP) ~ 24.293 ~24.3 "
   ]
  },
  {
   "cell_type": "code",
   "execution_count": 248,
   "id": "eb5a2d14",
   "metadata": {},
   "outputs": [
    {
     "data": {
      "text/html": [
       "<table class=\"simpletable\">\n",
       "<caption>Logit Regression Results</caption>\n",
       "<tr>\n",
       "  <th>Dep. Variable:</th>     <td>HeartDisease</td>   <th>  No. Observations:  </th>   <td>401898</td>   \n",
       "</tr>\n",
       "<tr>\n",
       "  <th>Model:</th>                 <td>Logit</td>      <th>  Df Residuals:      </th>   <td>401862</td>   \n",
       "</tr>\n",
       "<tr>\n",
       "  <th>Method:</th>                 <td>MLE</td>       <th>  Df Model:          </th>   <td>    35</td>   \n",
       "</tr>\n",
       "<tr>\n",
       "  <th>Date:</th>            <td>Sun, 05 Mar 2023</td> <th>  Pseudo R-squ.:     </th>   <td>0.3612</td>   \n",
       "</tr>\n",
       "<tr>\n",
       "  <th>Time:</th>                <td>12:36:33</td>     <th>  Log-Likelihood:    </th> <td>-1.7795e+05</td>\n",
       "</tr>\n",
       "<tr>\n",
       "  <th>converged:</th>             <td>True</td>       <th>  LL-Null:           </th> <td>-2.7856e+05</td>\n",
       "</tr>\n",
       "<tr>\n",
       "  <th>Covariance Type:</th>     <td>nonrobust</td>    <th>  LLR p-value:       </th>   <td> 0.000</td>   \n",
       "</tr>\n",
       "</table>\n",
       "<table class=\"simpletable\">\n",
       "<tr>\n",
       "               <td></td>                 <th>coef</th>     <th>std err</th>      <th>z</th>      <th>P>|z|</th>  <th>[0.025</th>    <th>0.975]</th>  \n",
       "</tr>\n",
       "<tr>\n",
       "  <th>Intercept</th>                  <td>   -2.9351</td> <td>    0.058</td> <td>  -50.708</td> <td> 0.000</td> <td>   -3.049</td> <td>   -2.822</td>\n",
       "</tr>\n",
       "<tr>\n",
       "  <th>AgeCategory[T.25-29]</th>       <td>    0.3023</td> <td>    0.050</td> <td>    5.994</td> <td> 0.000</td> <td>    0.203</td> <td>    0.401</td>\n",
       "</tr>\n",
       "<tr>\n",
       "  <th>AgeCategory[T.30-34]</th>       <td>    0.6012</td> <td>    0.047</td> <td>   12.867</td> <td> 0.000</td> <td>    0.510</td> <td>    0.693</td>\n",
       "</tr>\n",
       "<tr>\n",
       "  <th>AgeCategory[T.35-39]</th>       <td>    0.8588</td> <td>    0.044</td> <td>   19.445</td> <td> 0.000</td> <td>    0.772</td> <td>    0.945</td>\n",
       "</tr>\n",
       "<tr>\n",
       "  <th>AgeCategory[T.40-44]</th>       <td>    1.1929</td> <td>    0.042</td> <td>   28.263</td> <td> 0.000</td> <td>    1.110</td> <td>    1.276</td>\n",
       "</tr>\n",
       "<tr>\n",
       "  <th>AgeCategory[T.45-49]</th>       <td>    1.5374</td> <td>    0.041</td> <td>   37.661</td> <td> 0.000</td> <td>    1.457</td> <td>    1.617</td>\n",
       "</tr>\n",
       "<tr>\n",
       "  <th>AgeCategory[T.50-54]</th>       <td>    1.9834</td> <td>    0.039</td> <td>   50.396</td> <td> 0.000</td> <td>    1.906</td> <td>    2.061</td>\n",
       "</tr>\n",
       "<tr>\n",
       "  <th>AgeCategory[T.55-59]</th>       <td>    2.3064</td> <td>    0.039</td> <td>   59.710</td> <td> 0.000</td> <td>    2.231</td> <td>    2.382</td>\n",
       "</tr>\n",
       "<tr>\n",
       "  <th>AgeCategory[T.60-64]</th>       <td>    2.6246</td> <td>    0.038</td> <td>   68.685</td> <td> 0.000</td> <td>    2.550</td> <td>    2.700</td>\n",
       "</tr>\n",
       "<tr>\n",
       "  <th>AgeCategory[T.65-69]</th>       <td>    2.9199</td> <td>    0.038</td> <td>   76.593</td> <td> 0.000</td> <td>    2.845</td> <td>    2.995</td>\n",
       "</tr>\n",
       "<tr>\n",
       "  <th>AgeCategory[T.70-74]</th>       <td>    3.2669</td> <td>    0.038</td> <td>   85.345</td> <td> 0.000</td> <td>    3.192</td> <td>    3.342</td>\n",
       "</tr>\n",
       "<tr>\n",
       "  <th>AgeCategory[T.75-79]</th>       <td>    3.5706</td> <td>    0.039</td> <td>   91.689</td> <td> 0.000</td> <td>    3.494</td> <td>    3.647</td>\n",
       "</tr>\n",
       "<tr>\n",
       "  <th>AgeCategory[T.80 or older]</th> <td>    3.6289</td> <td>    0.039</td> <td>   93.100</td> <td> 0.000</td> <td>    3.553</td> <td>    3.705</td>\n",
       "</tr>\n",
       "<tr>\n",
       "  <th>Race[T.Asian]</th>              <td>   -0.8642</td> <td>    0.046</td> <td>  -18.615</td> <td> 0.000</td> <td>   -0.955</td> <td>   -0.773</td>\n",
       "</tr>\n",
       "<tr>\n",
       "  <th>Race[T.Black]</th>              <td>   -1.3906</td> <td>    0.037</td> <td>  -37.164</td> <td> 0.000</td> <td>   -1.464</td> <td>   -1.317</td>\n",
       "</tr>\n",
       "<tr>\n",
       "  <th>Race[T.Hispanic]</th>           <td>   -0.5094</td> <td>    0.035</td> <td>  -14.484</td> <td> 0.000</td> <td>   -0.578</td> <td>   -0.440</td>\n",
       "</tr>\n",
       "<tr>\n",
       "  <th>Race[T.Other]</th>              <td>   -0.9225</td> <td>    0.042</td> <td>  -21.950</td> <td> 0.000</td> <td>   -1.005</td> <td>   -0.840</td>\n",
       "</tr>\n",
       "<tr>\n",
       "  <th>Race[T.White]</th>              <td>   -0.1433</td> <td>    0.032</td> <td>   -4.532</td> <td> 0.000</td> <td>   -0.205</td> <td>   -0.081</td>\n",
       "</tr>\n",
       "<tr>\n",
       "  <th>GenHealth[T.Fair]</th>          <td>    3.1335</td> <td>    0.020</td> <td>  156.260</td> <td> 0.000</td> <td>    3.094</td> <td>    3.173</td>\n",
       "</tr>\n",
       "<tr>\n",
       "  <th>GenHealth[T.Good]</th>          <td>    2.1023</td> <td>    0.017</td> <td>  122.511</td> <td> 0.000</td> <td>    2.069</td> <td>    2.136</td>\n",
       "</tr>\n",
       "<tr>\n",
       "  <th>GenHealth[T.Poor]</th>          <td>    4.1127</td> <td>    0.028</td> <td>  145.442</td> <td> 0.000</td> <td>    4.057</td> <td>    4.168</td>\n",
       "</tr>\n",
       "<tr>\n",
       "  <th>GenHealth[T.Very good]</th>     <td>    1.1085</td> <td>    0.017</td> <td>   64.345</td> <td> 0.000</td> <td>    1.075</td> <td>    1.142</td>\n",
       "</tr>\n",
       "<tr>\n",
       "  <th>BMI</th>                        <td>    0.0073</td> <td>    0.001</td> <td>   10.161</td> <td> 0.000</td> <td>    0.006</td> <td>    0.009</td>\n",
       "</tr>\n",
       "<tr>\n",
       "  <th>Smoking</th>                    <td>   -0.1815</td> <td>    0.009</td> <td>  -21.048</td> <td> 0.000</td> <td>   -0.198</td> <td>   -0.165</td>\n",
       "</tr>\n",
       "<tr>\n",
       "  <th>AlcoholDrinking</th>            <td>   -1.8877</td> <td>    0.031</td> <td>  -61.329</td> <td> 0.000</td> <td>   -1.948</td> <td>   -1.827</td>\n",
       "</tr>\n",
       "<tr>\n",
       "  <th>Stroke</th>                     <td>    0.0534</td> <td>    0.027</td> <td>    2.002</td> <td> 0.045</td> <td>    0.001</td> <td>    0.106</td>\n",
       "</tr>\n",
       "<tr>\n",
       "  <th>PhysicalHealth</th>             <td>   -0.0052</td> <td>    0.001</td> <td>   -8.470</td> <td> 0.000</td> <td>   -0.006</td> <td>   -0.004</td>\n",
       "</tr>\n",
       "<tr>\n",
       "  <th>MentalHealth</th>               <td>    0.0074</td> <td>    0.001</td> <td>   12.873</td> <td> 0.000</td> <td>    0.006</td> <td>    0.009</td>\n",
       "</tr>\n",
       "<tr>\n",
       "  <th>DiffWalking</th>                <td>   -0.4581</td> <td>    0.013</td> <td>  -34.784</td> <td> 0.000</td> <td>   -0.484</td> <td>   -0.432</td>\n",
       "</tr>\n",
       "<tr>\n",
       "  <th>Sex</th>                        <td>   -1.3718</td> <td>    0.009</td> <td> -152.900</td> <td> 0.000</td> <td>   -1.389</td> <td>   -1.354</td>\n",
       "</tr>\n",
       "<tr>\n",
       "  <th>Diabetic</th>                   <td>   -0.2334</td> <td>    0.012</td> <td>  -19.918</td> <td> 0.000</td> <td>   -0.256</td> <td>   -0.210</td>\n",
       "</tr>\n",
       "<tr>\n",
       "  <th>PhysicalActivity</th>           <td>   -0.5538</td> <td>    0.010</td> <td>  -56.596</td> <td> 0.000</td> <td>   -0.573</td> <td>   -0.535</td>\n",
       "</tr>\n",
       "<tr>\n",
       "  <th>SleepTime</th>                  <td>   -0.0310</td> <td>    0.003</td> <td>  -10.560</td> <td> 0.000</td> <td>   -0.037</td> <td>   -0.025</td>\n",
       "</tr>\n",
       "<tr>\n",
       "  <th>Asthma</th>                     <td>   -0.6794</td> <td>    0.015</td> <td>  -46.163</td> <td> 0.000</td> <td>   -0.708</td> <td>   -0.651</td>\n",
       "</tr>\n",
       "<tr>\n",
       "  <th>KidneyDisease</th>              <td>   -0.5223</td> <td>    0.022</td> <td>  -23.429</td> <td> 0.000</td> <td>   -0.566</td> <td>   -0.479</td>\n",
       "</tr>\n",
       "<tr>\n",
       "  <th>SkinCancer</th>                 <td>   -0.5996</td> <td>    0.014</td> <td>  -42.320</td> <td> 0.000</td> <td>   -0.627</td> <td>   -0.572</td>\n",
       "</tr>\n",
       "</table>"
      ],
      "text/plain": [
       "<class 'statsmodels.iolib.summary.Summary'>\n",
       "\"\"\"\n",
       "                           Logit Regression Results                           \n",
       "==============================================================================\n",
       "Dep. Variable:           HeartDisease   No. Observations:               401898\n",
       "Model:                          Logit   Df Residuals:                   401862\n",
       "Method:                           MLE   Df Model:                           35\n",
       "Date:                Sun, 05 Mar 2023   Pseudo R-squ.:                  0.3612\n",
       "Time:                        12:36:33   Log-Likelihood:            -1.7795e+05\n",
       "converged:                       True   LL-Null:                   -2.7856e+05\n",
       "Covariance Type:            nonrobust   LLR p-value:                     0.000\n",
       "==============================================================================================\n",
       "                                 coef    std err          z      P>|z|      [0.025      0.975]\n",
       "----------------------------------------------------------------------------------------------\n",
       "Intercept                     -2.9351      0.058    -50.708      0.000      -3.049      -2.822\n",
       "AgeCategory[T.25-29]           0.3023      0.050      5.994      0.000       0.203       0.401\n",
       "AgeCategory[T.30-34]           0.6012      0.047     12.867      0.000       0.510       0.693\n",
       "AgeCategory[T.35-39]           0.8588      0.044     19.445      0.000       0.772       0.945\n",
       "AgeCategory[T.40-44]           1.1929      0.042     28.263      0.000       1.110       1.276\n",
       "AgeCategory[T.45-49]           1.5374      0.041     37.661      0.000       1.457       1.617\n",
       "AgeCategory[T.50-54]           1.9834      0.039     50.396      0.000       1.906       2.061\n",
       "AgeCategory[T.55-59]           2.3064      0.039     59.710      0.000       2.231       2.382\n",
       "AgeCategory[T.60-64]           2.6246      0.038     68.685      0.000       2.550       2.700\n",
       "AgeCategory[T.65-69]           2.9199      0.038     76.593      0.000       2.845       2.995\n",
       "AgeCategory[T.70-74]           3.2669      0.038     85.345      0.000       3.192       3.342\n",
       "AgeCategory[T.75-79]           3.5706      0.039     91.689      0.000       3.494       3.647\n",
       "AgeCategory[T.80 or older]     3.6289      0.039     93.100      0.000       3.553       3.705\n",
       "Race[T.Asian]                 -0.8642      0.046    -18.615      0.000      -0.955      -0.773\n",
       "Race[T.Black]                 -1.3906      0.037    -37.164      0.000      -1.464      -1.317\n",
       "Race[T.Hispanic]              -0.5094      0.035    -14.484      0.000      -0.578      -0.440\n",
       "Race[T.Other]                 -0.9225      0.042    -21.950      0.000      -1.005      -0.840\n",
       "Race[T.White]                 -0.1433      0.032     -4.532      0.000      -0.205      -0.081\n",
       "GenHealth[T.Fair]              3.1335      0.020    156.260      0.000       3.094       3.173\n",
       "GenHealth[T.Good]              2.1023      0.017    122.511      0.000       2.069       2.136\n",
       "GenHealth[T.Poor]              4.1127      0.028    145.442      0.000       4.057       4.168\n",
       "GenHealth[T.Very good]         1.1085      0.017     64.345      0.000       1.075       1.142\n",
       "BMI                            0.0073      0.001     10.161      0.000       0.006       0.009\n",
       "Smoking                       -0.1815      0.009    -21.048      0.000      -0.198      -0.165\n",
       "AlcoholDrinking               -1.8877      0.031    -61.329      0.000      -1.948      -1.827\n",
       "Stroke                         0.0534      0.027      2.002      0.045       0.001       0.106\n",
       "PhysicalHealth                -0.0052      0.001     -8.470      0.000      -0.006      -0.004\n",
       "MentalHealth                   0.0074      0.001     12.873      0.000       0.006       0.009\n",
       "DiffWalking                   -0.4581      0.013    -34.784      0.000      -0.484      -0.432\n",
       "Sex                           -1.3718      0.009   -152.900      0.000      -1.389      -1.354\n",
       "Diabetic                      -0.2334      0.012    -19.918      0.000      -0.256      -0.210\n",
       "PhysicalActivity              -0.5538      0.010    -56.596      0.000      -0.573      -0.535\n",
       "SleepTime                     -0.0310      0.003    -10.560      0.000      -0.037      -0.025\n",
       "Asthma                        -0.6794      0.015    -46.163      0.000      -0.708      -0.651\n",
       "KidneyDisease                 -0.5223      0.022    -23.429      0.000      -0.566      -0.479\n",
       "SkinCancer                    -0.5996      0.014    -42.320      0.000      -0.627      -0.572\n",
       "==============================================================================================\n",
       "\"\"\""
      ]
     },
     "execution_count": 248,
     "metadata": {},
     "output_type": "execute_result"
    }
   ],
   "source": [
    "model2.summary()"
   ]
  },
  {
   "cell_type": "code",
   "execution_count": null,
   "id": "4665efdf",
   "metadata": {},
   "outputs": [],
   "source": []
  }
 ],
 "metadata": {
  "kernelspec": {
   "display_name": "Python 3 (ipykernel)",
   "language": "python",
   "name": "python3"
  },
  "language_info": {
   "codemirror_mode": {
    "name": "ipython",
    "version": 3
   },
   "file_extension": ".py",
   "mimetype": "text/x-python",
   "name": "python",
   "nbconvert_exporter": "python",
   "pygments_lexer": "ipython3",
   "version": "3.9.12"
  }
 },
 "nbformat": 4,
 "nbformat_minor": 5
}
