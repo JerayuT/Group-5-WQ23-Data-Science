{
 "cells": [
  {
   "cell_type": "raw",
   "id": "d2b38d77",
   "metadata": {},
   "source": [
    "---\n",
    "title: \"Heart Disease Project Code\"\n",
    "subtitle: Group 5\n",
    "author: Anna Xiao, Annika Le, Nayada Tantichirasakul (Candy), and Jerayu (Tom) Tiamraj\n",
    "date: 02/27/2023\n",
    "number-sections: true\n",
    "abstract: _This file contains the code for the project on <>, as part of the STAT303-2 course in Winter 2023_.\n",
    "format: \n",
    "  html:\n",
    "    toc: true\n",
    "    toc-title: Contents\n",
    "    self-contained: true\n",
    "    font-size: 100%\n",
    "    toc-depth: 4\n",
    "    mainfont: serif\n",
    "jupyter: python3\n",
    "---"
   ]
  },
  {
   "cell_type": "code",
   "execution_count": 1,
   "id": "26a12f9a",
   "metadata": {},
   "outputs": [],
   "source": [
    "import pandas as pd\n",
    "import numpy as np\n",
    "import statsmodels.formula.api as sm\n",
    "import seaborn as sns\n",
    "import matplotlib.pyplot as plt\n",
    "import itertools\n",
    "import time"
   ]
  },
  {
   "cell_type": "code",
   "execution_count": 2,
   "id": "72f2e27d",
   "metadata": {},
   "outputs": [],
   "source": [
    "data = pd.read_csv(\"heart_2020_cleaned.csv\")"
   ]
  },
  {
   "cell_type": "markdown",
   "id": "e273c304",
   "metadata": {},
   "source": [
    "## Data quality check / cleaning / preparation \n",
    "\n",
    "Put code with comments. The comments should explain the code such that it can be easily understood. You may put text *(in a markdown cell)* before a large chunk of code to explain the overall purpose of the code, if it is not intuitive. **Put the name of the person / persons who contributed to each code chunk / set of code chunks.**"
   ]
  },
  {
   "cell_type": "markdown",
   "id": "f395386c",
   "metadata": {},
   "source": [
    "The code below visualizes the distribution of all the variables in the dataset, and their association with the response.\n",
    "\n",
    "*by Annika Le*"
   ]
  },
  {
   "cell_type": "code",
   "execution_count": 3,
   "id": "676386aa",
   "metadata": {},
   "outputs": [
    {
     "data": {
      "text/html": [
       "<div>\n",
       "<style scoped>\n",
       "    .dataframe tbody tr th:only-of-type {\n",
       "        vertical-align: middle;\n",
       "    }\n",
       "\n",
       "    .dataframe tbody tr th {\n",
       "        vertical-align: top;\n",
       "    }\n",
       "\n",
       "    .dataframe thead th {\n",
       "        text-align: right;\n",
       "    }\n",
       "</style>\n",
       "<table border=\"1\" class=\"dataframe\">\n",
       "  <thead>\n",
       "    <tr style=\"text-align: right;\">\n",
       "      <th></th>\n",
       "      <th>HeartDisease</th>\n",
       "      <th>BMI</th>\n",
       "      <th>Smoking</th>\n",
       "      <th>AlcoholDrinking</th>\n",
       "      <th>Stroke</th>\n",
       "      <th>PhysicalHealth</th>\n",
       "      <th>MentalHealth</th>\n",
       "      <th>DiffWalking</th>\n",
       "      <th>Sex</th>\n",
       "      <th>AgeCategory</th>\n",
       "      <th>Race</th>\n",
       "      <th>Diabetic</th>\n",
       "      <th>PhysicalActivity</th>\n",
       "      <th>GenHealth</th>\n",
       "      <th>SleepTime</th>\n",
       "      <th>Asthma</th>\n",
       "      <th>KidneyDisease</th>\n",
       "      <th>SkinCancer</th>\n",
       "    </tr>\n",
       "  </thead>\n",
       "  <tbody>\n",
       "    <tr>\n",
       "      <th>0</th>\n",
       "      <td>No</td>\n",
       "      <td>16.60</td>\n",
       "      <td>Yes</td>\n",
       "      <td>No</td>\n",
       "      <td>No</td>\n",
       "      <td>3.0</td>\n",
       "      <td>30.0</td>\n",
       "      <td>No</td>\n",
       "      <td>Female</td>\n",
       "      <td>55-59</td>\n",
       "      <td>White</td>\n",
       "      <td>Yes</td>\n",
       "      <td>Yes</td>\n",
       "      <td>Very good</td>\n",
       "      <td>5.0</td>\n",
       "      <td>Yes</td>\n",
       "      <td>No</td>\n",
       "      <td>Yes</td>\n",
       "    </tr>\n",
       "    <tr>\n",
       "      <th>1</th>\n",
       "      <td>No</td>\n",
       "      <td>20.34</td>\n",
       "      <td>No</td>\n",
       "      <td>No</td>\n",
       "      <td>Yes</td>\n",
       "      <td>0.0</td>\n",
       "      <td>0.0</td>\n",
       "      <td>No</td>\n",
       "      <td>Female</td>\n",
       "      <td>80 or older</td>\n",
       "      <td>White</td>\n",
       "      <td>No</td>\n",
       "      <td>Yes</td>\n",
       "      <td>Very good</td>\n",
       "      <td>7.0</td>\n",
       "      <td>No</td>\n",
       "      <td>No</td>\n",
       "      <td>No</td>\n",
       "    </tr>\n",
       "    <tr>\n",
       "      <th>2</th>\n",
       "      <td>No</td>\n",
       "      <td>26.58</td>\n",
       "      <td>Yes</td>\n",
       "      <td>No</td>\n",
       "      <td>No</td>\n",
       "      <td>20.0</td>\n",
       "      <td>30.0</td>\n",
       "      <td>No</td>\n",
       "      <td>Male</td>\n",
       "      <td>65-69</td>\n",
       "      <td>White</td>\n",
       "      <td>Yes</td>\n",
       "      <td>Yes</td>\n",
       "      <td>Fair</td>\n",
       "      <td>8.0</td>\n",
       "      <td>Yes</td>\n",
       "      <td>No</td>\n",
       "      <td>No</td>\n",
       "    </tr>\n",
       "    <tr>\n",
       "      <th>3</th>\n",
       "      <td>No</td>\n",
       "      <td>24.21</td>\n",
       "      <td>No</td>\n",
       "      <td>No</td>\n",
       "      <td>No</td>\n",
       "      <td>0.0</td>\n",
       "      <td>0.0</td>\n",
       "      <td>No</td>\n",
       "      <td>Female</td>\n",
       "      <td>75-79</td>\n",
       "      <td>White</td>\n",
       "      <td>No</td>\n",
       "      <td>No</td>\n",
       "      <td>Good</td>\n",
       "      <td>6.0</td>\n",
       "      <td>No</td>\n",
       "      <td>No</td>\n",
       "      <td>Yes</td>\n",
       "    </tr>\n",
       "    <tr>\n",
       "      <th>4</th>\n",
       "      <td>No</td>\n",
       "      <td>23.71</td>\n",
       "      <td>No</td>\n",
       "      <td>No</td>\n",
       "      <td>No</td>\n",
       "      <td>28.0</td>\n",
       "      <td>0.0</td>\n",
       "      <td>Yes</td>\n",
       "      <td>Female</td>\n",
       "      <td>40-44</td>\n",
       "      <td>White</td>\n",
       "      <td>No</td>\n",
       "      <td>Yes</td>\n",
       "      <td>Very good</td>\n",
       "      <td>8.0</td>\n",
       "      <td>No</td>\n",
       "      <td>No</td>\n",
       "      <td>No</td>\n",
       "    </tr>\n",
       "  </tbody>\n",
       "</table>\n",
       "</div>"
      ],
      "text/plain": [
       "  HeartDisease    BMI Smoking AlcoholDrinking Stroke  PhysicalHealth  \\\n",
       "0           No  16.60     Yes              No     No             3.0   \n",
       "1           No  20.34      No              No    Yes             0.0   \n",
       "2           No  26.58     Yes              No     No            20.0   \n",
       "3           No  24.21      No              No     No             0.0   \n",
       "4           No  23.71      No              No     No            28.0   \n",
       "\n",
       "   MentalHealth DiffWalking     Sex  AgeCategory   Race Diabetic  \\\n",
       "0          30.0          No  Female        55-59  White      Yes   \n",
       "1           0.0          No  Female  80 or older  White       No   \n",
       "2          30.0          No    Male        65-69  White      Yes   \n",
       "3           0.0          No  Female        75-79  White       No   \n",
       "4           0.0         Yes  Female        40-44  White       No   \n",
       "\n",
       "  PhysicalActivity  GenHealth  SleepTime Asthma KidneyDisease SkinCancer  \n",
       "0              Yes  Very good        5.0    Yes            No        Yes  \n",
       "1              Yes  Very good        7.0     No            No         No  \n",
       "2              Yes       Fair        8.0    Yes            No         No  \n",
       "3               No       Good        6.0     No            No        Yes  \n",
       "4              Yes  Very good        8.0     No            No         No  "
      ]
     },
     "execution_count": 3,
     "metadata": {},
     "output_type": "execute_result"
    }
   ],
   "source": [
    "data.head()"
   ]
  },
  {
   "cell_type": "code",
   "execution_count": 4,
   "id": "7da9af9a",
   "metadata": {},
   "outputs": [
    {
     "data": {
      "text/plain": [
       "(319795, 18)"
      ]
     },
     "execution_count": 4,
     "metadata": {},
     "output_type": "execute_result"
    }
   ],
   "source": [
    "data.shape"
   ]
  },
  {
   "cell_type": "code",
   "execution_count": 5,
   "id": "f3fd36e8",
   "metadata": {},
   "outputs": [
    {
     "data": {
      "text/plain": [
       "HeartDisease        0\n",
       "BMI                 0\n",
       "Smoking             0\n",
       "AlcoholDrinking     0\n",
       "Stroke              0\n",
       "PhysicalHealth      0\n",
       "MentalHealth        0\n",
       "DiffWalking         0\n",
       "Sex                 0\n",
       "AgeCategory         0\n",
       "Race                0\n",
       "Diabetic            0\n",
       "PhysicalActivity    0\n",
       "GenHealth           0\n",
       "SleepTime           0\n",
       "Asthma              0\n",
       "KidneyDisease       0\n",
       "SkinCancer          0\n",
       "dtype: int64"
      ]
     },
     "execution_count": 5,
     "metadata": {},
     "output_type": "execute_result"
    }
   ],
   "source": [
    "data.isna().sum()"
   ]
  },
  {
   "cell_type": "code",
   "execution_count": 6,
   "id": "75da03e7",
   "metadata": {},
   "outputs": [],
   "source": [
    "#...Distribution of continuous variables...#\n"
   ]
  },
  {
   "cell_type": "code",
   "execution_count": 7,
   "id": "169949ff",
   "metadata": {},
   "outputs": [
    {
     "data": {
      "text/plain": [
       "2"
      ]
     },
     "execution_count": 7,
     "metadata": {},
     "output_type": "execute_result"
    }
   ],
   "source": [
    "#...Distribution of categorical variables...#\n",
    "len(pd.unique(data['Smoking']))"
   ]
  },
  {
   "cell_type": "code",
   "execution_count": 8,
   "id": "f5dc09dd",
   "metadata": {},
   "outputs": [
    {
     "data": {
      "text/plain": [
       "No     187887\n",
       "Yes    131908\n",
       "Name: Smoking, dtype: int64"
      ]
     },
     "execution_count": 8,
     "metadata": {},
     "output_type": "execute_result"
    }
   ],
   "source": [
    "data.Smoking.value_counts()"
   ]
  },
  {
   "cell_type": "code",
   "execution_count": 9,
   "id": "38d89c2d",
   "metadata": {},
   "outputs": [
    {
     "data": {
      "text/plain": [
       "2"
      ]
     },
     "execution_count": 9,
     "metadata": {},
     "output_type": "execute_result"
    }
   ],
   "source": [
    "len(pd.unique(data['AlcoholDrinking']))"
   ]
  },
  {
   "cell_type": "code",
   "execution_count": 10,
   "id": "b2722424",
   "metadata": {},
   "outputs": [
    {
     "data": {
      "text/plain": [
       "No     298018\n",
       "Yes     21777\n",
       "Name: AlcoholDrinking, dtype: int64"
      ]
     },
     "execution_count": 10,
     "metadata": {},
     "output_type": "execute_result"
    }
   ],
   "source": [
    "data.AlcoholDrinking.value_counts()"
   ]
  },
  {
   "cell_type": "code",
   "execution_count": 11,
   "id": "924c7fd7",
   "metadata": {},
   "outputs": [
    {
     "data": {
      "text/plain": [
       "2"
      ]
     },
     "execution_count": 11,
     "metadata": {},
     "output_type": "execute_result"
    }
   ],
   "source": [
    "len(pd.unique(data['Stroke']))"
   ]
  },
  {
   "cell_type": "code",
   "execution_count": 12,
   "id": "d19f6fc7",
   "metadata": {},
   "outputs": [
    {
     "data": {
      "text/plain": [
       "No     307726\n",
       "Yes     12069\n",
       "Name: Stroke, dtype: int64"
      ]
     },
     "execution_count": 12,
     "metadata": {},
     "output_type": "execute_result"
    }
   ],
   "source": [
    "data.Stroke.value_counts()"
   ]
  },
  {
   "cell_type": "code",
   "execution_count": 13,
   "id": "93a973c7",
   "metadata": {},
   "outputs": [
    {
     "data": {
      "text/plain": [
       "2"
      ]
     },
     "execution_count": 13,
     "metadata": {},
     "output_type": "execute_result"
    }
   ],
   "source": [
    "len(pd.unique(data['DiffWalking']))"
   ]
  },
  {
   "cell_type": "code",
   "execution_count": 14,
   "id": "d72ec0f9",
   "metadata": {},
   "outputs": [
    {
     "data": {
      "text/plain": [
       "No     275385\n",
       "Yes     44410\n",
       "Name: DiffWalking, dtype: int64"
      ]
     },
     "execution_count": 14,
     "metadata": {},
     "output_type": "execute_result"
    }
   ],
   "source": [
    "data.DiffWalking.value_counts()"
   ]
  },
  {
   "cell_type": "code",
   "execution_count": 15,
   "id": "39f888b9",
   "metadata": {},
   "outputs": [
    {
     "data": {
      "text/plain": [
       "2"
      ]
     },
     "execution_count": 15,
     "metadata": {},
     "output_type": "execute_result"
    }
   ],
   "source": [
    "len(pd.unique(data['Sex']))"
   ]
  },
  {
   "cell_type": "code",
   "execution_count": 16,
   "id": "a459b140",
   "metadata": {},
   "outputs": [
    {
     "data": {
      "text/plain": [
       "Female    167805\n",
       "Male      151990\n",
       "Name: Sex, dtype: int64"
      ]
     },
     "execution_count": 16,
     "metadata": {},
     "output_type": "execute_result"
    }
   ],
   "source": [
    "data.Sex.value_counts()"
   ]
  },
  {
   "cell_type": "code",
   "execution_count": 17,
   "id": "0232a104",
   "metadata": {},
   "outputs": [
    {
     "data": {
      "text/plain": [
       "13"
      ]
     },
     "execution_count": 17,
     "metadata": {},
     "output_type": "execute_result"
    }
   ],
   "source": [
    "len(pd.unique(data['AgeCategory']))"
   ]
  },
  {
   "cell_type": "code",
   "execution_count": 18,
   "id": "a942da17",
   "metadata": {},
   "outputs": [
    {
     "data": {
      "text/plain": [
       "65-69          34151\n",
       "60-64          33686\n",
       "70-74          31065\n",
       "55-59          29757\n",
       "50-54          25382\n",
       "80 or older    24153\n",
       "45-49          21791\n",
       "75-79          21482\n",
       "18-24          21064\n",
       "40-44          21006\n",
       "35-39          20550\n",
       "30-34          18753\n",
       "25-29          16955\n",
       "Name: AgeCategory, dtype: int64"
      ]
     },
     "execution_count": 18,
     "metadata": {},
     "output_type": "execute_result"
    }
   ],
   "source": [
    "data.AgeCategory.value_counts()"
   ]
  },
  {
   "cell_type": "code",
   "execution_count": 19,
   "id": "ce3d2a7f",
   "metadata": {},
   "outputs": [
    {
     "data": {
      "text/plain": [
       "6"
      ]
     },
     "execution_count": 19,
     "metadata": {},
     "output_type": "execute_result"
    }
   ],
   "source": [
    "len(pd.unique(data['Race']))"
   ]
  },
  {
   "cell_type": "code",
   "execution_count": 20,
   "id": "642747e8",
   "metadata": {},
   "outputs": [
    {
     "data": {
      "text/plain": [
       "White                             245212\n",
       "Hispanic                           27446\n",
       "Black                              22939\n",
       "Other                              10928\n",
       "Asian                               8068\n",
       "American Indian/Alaskan Native      5202\n",
       "Name: Race, dtype: int64"
      ]
     },
     "execution_count": 20,
     "metadata": {},
     "output_type": "execute_result"
    }
   ],
   "source": [
    "data.Race.value_counts()"
   ]
  },
  {
   "cell_type": "code",
   "execution_count": 21,
   "id": "c7d05379",
   "metadata": {},
   "outputs": [
    {
     "data": {
      "text/plain": [
       "4"
      ]
     },
     "execution_count": 21,
     "metadata": {},
     "output_type": "execute_result"
    }
   ],
   "source": [
    "len(pd.unique(data['Diabetic']))"
   ]
  },
  {
   "cell_type": "code",
   "execution_count": 22,
   "id": "f1da9d7a",
   "metadata": {},
   "outputs": [
    {
     "data": {
      "text/plain": [
       "No                         269653\n",
       "Yes                         40802\n",
       "No, borderline diabetes      6781\n",
       "Yes (during pregnancy)       2559\n",
       "Name: Diabetic, dtype: int64"
      ]
     },
     "execution_count": 22,
     "metadata": {},
     "output_type": "execute_result"
    }
   ],
   "source": [
    "data.Diabetic.value_counts()"
   ]
  },
  {
   "cell_type": "code",
   "execution_count": 23,
   "id": "f04c0fc8",
   "metadata": {},
   "outputs": [
    {
     "data": {
      "text/plain": [
       "2"
      ]
     },
     "execution_count": 23,
     "metadata": {},
     "output_type": "execute_result"
    }
   ],
   "source": [
    "len(pd.unique(data['PhysicalActivity']))"
   ]
  },
  {
   "cell_type": "code",
   "execution_count": 24,
   "id": "4d9d4f01",
   "metadata": {},
   "outputs": [
    {
     "data": {
      "text/plain": [
       "Yes    247957\n",
       "No      71838\n",
       "Name: PhysicalActivity, dtype: int64"
      ]
     },
     "execution_count": 24,
     "metadata": {},
     "output_type": "execute_result"
    }
   ],
   "source": [
    "data.PhysicalActivity.value_counts()"
   ]
  },
  {
   "cell_type": "code",
   "execution_count": 25,
   "id": "c7cf42e6",
   "metadata": {},
   "outputs": [
    {
     "data": {
      "text/plain": [
       "5"
      ]
     },
     "execution_count": 25,
     "metadata": {},
     "output_type": "execute_result"
    }
   ],
   "source": [
    "len(pd.unique(data['GenHealth']))"
   ]
  },
  {
   "cell_type": "code",
   "execution_count": 26,
   "id": "a3272504",
   "metadata": {},
   "outputs": [
    {
     "data": {
      "text/plain": [
       "Very good    113858\n",
       "Good          93129\n",
       "Excellent     66842\n",
       "Fair          34677\n",
       "Poor          11289\n",
       "Name: GenHealth, dtype: int64"
      ]
     },
     "execution_count": 26,
     "metadata": {},
     "output_type": "execute_result"
    }
   ],
   "source": [
    "data.GenHealth.value_counts()"
   ]
  },
  {
   "cell_type": "code",
   "execution_count": 27,
   "id": "5923135d",
   "metadata": {},
   "outputs": [
    {
     "data": {
      "text/plain": [
       "2"
      ]
     },
     "execution_count": 27,
     "metadata": {},
     "output_type": "execute_result"
    }
   ],
   "source": [
    "len(pd.unique(data['Asthma']))"
   ]
  },
  {
   "cell_type": "code",
   "execution_count": 28,
   "id": "b9ad421e",
   "metadata": {},
   "outputs": [
    {
     "data": {
      "text/plain": [
       "No     276923\n",
       "Yes     42872\n",
       "Name: Asthma, dtype: int64"
      ]
     },
     "execution_count": 28,
     "metadata": {},
     "output_type": "execute_result"
    }
   ],
   "source": [
    "data.Asthma.value_counts()"
   ]
  },
  {
   "cell_type": "code",
   "execution_count": 29,
   "id": "52500fa6",
   "metadata": {},
   "outputs": [
    {
     "data": {
      "text/plain": [
       "2"
      ]
     },
     "execution_count": 29,
     "metadata": {},
     "output_type": "execute_result"
    }
   ],
   "source": [
    "len(pd.unique(data['KidneyDisease']))"
   ]
  },
  {
   "cell_type": "code",
   "execution_count": 30,
   "id": "00f87b5a",
   "metadata": {},
   "outputs": [
    {
     "data": {
      "text/plain": [
       "No     308016\n",
       "Yes     11779\n",
       "Name: KidneyDisease, dtype: int64"
      ]
     },
     "execution_count": 30,
     "metadata": {},
     "output_type": "execute_result"
    }
   ],
   "source": [
    "data.KidneyDisease.value_counts()"
   ]
  },
  {
   "cell_type": "code",
   "execution_count": 31,
   "id": "eae43e86",
   "metadata": {},
   "outputs": [
    {
     "data": {
      "text/plain": [
       "2"
      ]
     },
     "execution_count": 31,
     "metadata": {},
     "output_type": "execute_result"
    }
   ],
   "source": [
    "len(pd.unique(data['SkinCancer']))"
   ]
  },
  {
   "cell_type": "code",
   "execution_count": 32,
   "id": "2082b15c",
   "metadata": {},
   "outputs": [
    {
     "data": {
      "text/plain": [
       "No     289976\n",
       "Yes     29819\n",
       "Name: SkinCancer, dtype: int64"
      ]
     },
     "execution_count": 32,
     "metadata": {},
     "output_type": "execute_result"
    }
   ],
   "source": [
    "data.SkinCancer.value_counts()"
   ]
  },
  {
   "cell_type": "code",
   "execution_count": 33,
   "id": "76b5d6e4",
   "metadata": {},
   "outputs": [],
   "source": [
    "#...Association of the response with the predictors...#\n",
    "# corrwith?"
   ]
  },
  {
   "cell_type": "markdown",
   "id": "7a3f550a",
   "metadata": {},
   "source": [
    "### Data cleaning\n",
    "*by Candy Tantichirasakul and Annika Le*\n",
    "\n",
    "From the data quality check we realized that:\n",
    "\n",
    "1. Diabetes has four unique values, but the \"Yes (during pregnancy)\" values can be combined with the \"Yes\" values, and the \"No, borderline diabetes\" values can be combined with the \"No\" values.\n",
    "\n",
    "2. All the categorical variables are given in qualitative form, but we need to convert them to quantitative form to create models. We changed all the \"Yes\" values to 1, and all the \"No\" values to 0. We also changed the \"Female\" values to 1 and the \"Male\" values to 0.\n",
    "\n",
    "3. We also have categorical variables with more than two levels. It would not make sense to replace with numbers because that would create unreasonable constraints in our model and provide unrealistic results. As a result, we converted each level into a dummy variable.\n",
    "\n",
    "The code below implements the above cleaning."
   ]
  },
  {
   "cell_type": "code",
   "execution_count": 34,
   "id": "ce26f7aa",
   "metadata": {},
   "outputs": [],
   "source": [
    "#...Code with comments...#"
   ]
  },
  {
   "cell_type": "code",
   "execution_count": 35,
   "id": "79eb3d32",
   "metadata": {},
   "outputs": [
    {
     "data": {
      "text/html": [
       "<div>\n",
       "<style scoped>\n",
       "    .dataframe tbody tr th:only-of-type {\n",
       "        vertical-align: middle;\n",
       "    }\n",
       "\n",
       "    .dataframe tbody tr th {\n",
       "        vertical-align: top;\n",
       "    }\n",
       "\n",
       "    .dataframe thead th {\n",
       "        text-align: right;\n",
       "    }\n",
       "</style>\n",
       "<table border=\"1\" class=\"dataframe\">\n",
       "  <thead>\n",
       "    <tr style=\"text-align: right;\">\n",
       "      <th></th>\n",
       "      <th>HeartDisease</th>\n",
       "      <th>BMI</th>\n",
       "      <th>Smoking</th>\n",
       "      <th>AlcoholDrinking</th>\n",
       "      <th>Stroke</th>\n",
       "      <th>PhysicalHealth</th>\n",
       "      <th>MentalHealth</th>\n",
       "      <th>DiffWalking</th>\n",
       "      <th>Sex</th>\n",
       "      <th>AgeCategory</th>\n",
       "      <th>Race</th>\n",
       "      <th>Diabetic</th>\n",
       "      <th>PhysicalActivity</th>\n",
       "      <th>GenHealth</th>\n",
       "      <th>SleepTime</th>\n",
       "      <th>Asthma</th>\n",
       "      <th>KidneyDisease</th>\n",
       "      <th>SkinCancer</th>\n",
       "    </tr>\n",
       "  </thead>\n",
       "  <tbody>\n",
       "    <tr>\n",
       "      <th>0</th>\n",
       "      <td>0</td>\n",
       "      <td>16.60</td>\n",
       "      <td>1</td>\n",
       "      <td>0</td>\n",
       "      <td>0</td>\n",
       "      <td>3.0</td>\n",
       "      <td>30.0</td>\n",
       "      <td>0</td>\n",
       "      <td>Female</td>\n",
       "      <td>55-59</td>\n",
       "      <td>White</td>\n",
       "      <td>1</td>\n",
       "      <td>1</td>\n",
       "      <td>Very good</td>\n",
       "      <td>5.0</td>\n",
       "      <td>1</td>\n",
       "      <td>0</td>\n",
       "      <td>1</td>\n",
       "    </tr>\n",
       "    <tr>\n",
       "      <th>1</th>\n",
       "      <td>0</td>\n",
       "      <td>20.34</td>\n",
       "      <td>0</td>\n",
       "      <td>0</td>\n",
       "      <td>1</td>\n",
       "      <td>0.0</td>\n",
       "      <td>0.0</td>\n",
       "      <td>0</td>\n",
       "      <td>Female</td>\n",
       "      <td>80 or older</td>\n",
       "      <td>White</td>\n",
       "      <td>0</td>\n",
       "      <td>1</td>\n",
       "      <td>Very good</td>\n",
       "      <td>7.0</td>\n",
       "      <td>0</td>\n",
       "      <td>0</td>\n",
       "      <td>0</td>\n",
       "    </tr>\n",
       "    <tr>\n",
       "      <th>2</th>\n",
       "      <td>0</td>\n",
       "      <td>26.58</td>\n",
       "      <td>1</td>\n",
       "      <td>0</td>\n",
       "      <td>0</td>\n",
       "      <td>20.0</td>\n",
       "      <td>30.0</td>\n",
       "      <td>0</td>\n",
       "      <td>Male</td>\n",
       "      <td>65-69</td>\n",
       "      <td>White</td>\n",
       "      <td>1</td>\n",
       "      <td>1</td>\n",
       "      <td>Fair</td>\n",
       "      <td>8.0</td>\n",
       "      <td>1</td>\n",
       "      <td>0</td>\n",
       "      <td>0</td>\n",
       "    </tr>\n",
       "    <tr>\n",
       "      <th>3</th>\n",
       "      <td>0</td>\n",
       "      <td>24.21</td>\n",
       "      <td>0</td>\n",
       "      <td>0</td>\n",
       "      <td>0</td>\n",
       "      <td>0.0</td>\n",
       "      <td>0.0</td>\n",
       "      <td>0</td>\n",
       "      <td>Female</td>\n",
       "      <td>75-79</td>\n",
       "      <td>White</td>\n",
       "      <td>0</td>\n",
       "      <td>0</td>\n",
       "      <td>Good</td>\n",
       "      <td>6.0</td>\n",
       "      <td>0</td>\n",
       "      <td>0</td>\n",
       "      <td>1</td>\n",
       "    </tr>\n",
       "    <tr>\n",
       "      <th>4</th>\n",
       "      <td>0</td>\n",
       "      <td>23.71</td>\n",
       "      <td>0</td>\n",
       "      <td>0</td>\n",
       "      <td>0</td>\n",
       "      <td>28.0</td>\n",
       "      <td>0.0</td>\n",
       "      <td>1</td>\n",
       "      <td>Female</td>\n",
       "      <td>40-44</td>\n",
       "      <td>White</td>\n",
       "      <td>0</td>\n",
       "      <td>1</td>\n",
       "      <td>Very good</td>\n",
       "      <td>8.0</td>\n",
       "      <td>0</td>\n",
       "      <td>0</td>\n",
       "      <td>0</td>\n",
       "    </tr>\n",
       "  </tbody>\n",
       "</table>\n",
       "</div>"
      ],
      "text/plain": [
       "   HeartDisease    BMI  Smoking  AlcoholDrinking  Stroke  PhysicalHealth  \\\n",
       "0             0  16.60        1                0       0             3.0   \n",
       "1             0  20.34        0                0       1             0.0   \n",
       "2             0  26.58        1                0       0            20.0   \n",
       "3             0  24.21        0                0       0             0.0   \n",
       "4             0  23.71        0                0       0            28.0   \n",
       "\n",
       "   MentalHealth  DiffWalking     Sex  AgeCategory   Race Diabetic  \\\n",
       "0          30.0            0  Female        55-59  White        1   \n",
       "1           0.0            0  Female  80 or older  White        0   \n",
       "2          30.0            0    Male        65-69  White        1   \n",
       "3           0.0            0  Female        75-79  White        0   \n",
       "4           0.0            1  Female        40-44  White        0   \n",
       "\n",
       "   PhysicalActivity  GenHealth  SleepTime  Asthma  KidneyDisease  SkinCancer  \n",
       "0                 1  Very good        5.0       1              0           1  \n",
       "1                 1  Very good        7.0       0              0           0  \n",
       "2                 1       Fair        8.0       1              0           0  \n",
       "3                 0       Good        6.0       0              0           1  \n",
       "4                 1  Very good        8.0       0              0           0  "
      ]
     },
     "execution_count": 35,
     "metadata": {},
     "output_type": "execute_result"
    }
   ],
   "source": [
    "data.replace(\"Yes\", 1, inplace = True)\n",
    "data.replace(\"No\", 0, inplace = True)\n",
    "data.head()"
   ]
  },
  {
   "cell_type": "code",
   "execution_count": 36,
   "id": "707db775",
   "metadata": {},
   "outputs": [
    {
     "data": {
      "text/plain": [
       "array([1, 0, 'No, borderline diabetes', 'Yes (during pregnancy)'],\n",
       "      dtype=object)"
      ]
     },
     "execution_count": 36,
     "metadata": {},
     "output_type": "execute_result"
    }
   ],
   "source": [
    "data['Diabetic'].unique()"
   ]
  },
  {
   "cell_type": "code",
   "execution_count": 37,
   "id": "8560dadc",
   "metadata": {},
   "outputs": [],
   "source": [
    "data.replace(\"Yes (during pregnancy)\", 1, inplace = True)\n",
    "data.replace(\"No, borderline diabetes\", 0, inplace = True)"
   ]
  },
  {
   "cell_type": "code",
   "execution_count": 38,
   "id": "ce80e46a",
   "metadata": {},
   "outputs": [
    {
     "data": {
      "text/plain": [
       "array(['Female', 'Male'], dtype=object)"
      ]
     },
     "execution_count": 38,
     "metadata": {},
     "output_type": "execute_result"
    }
   ],
   "source": [
    "data[\"Sex\"].unique()"
   ]
  },
  {
   "cell_type": "code",
   "execution_count": 39,
   "id": "85412de0",
   "metadata": {},
   "outputs": [],
   "source": [
    "data.replace(\"Female\", 1, inplace = True)\n",
    "data.replace(\"Male\", 0, inplace = True)"
   ]
  },
  {
   "cell_type": "code",
   "execution_count": 40,
   "id": "b95be6fc",
   "metadata": {},
   "outputs": [],
   "source": [
    "# Make dummies for categorical variables\n",
    "# Replace columns with special characters \"-\", \"/\" or \" \"\n",
    "\n",
    "def makeDummies(data):\n",
    "    data = pd.concat([data, pd.get_dummies(data['Race'])], axis=1)\n",
    "    data = pd.concat([data, pd.get_dummies(data['AgeCategory'])], axis=1)\n",
    "    data = pd.concat([data, pd.get_dummies(data['GenHealth'])], axis=1)\n",
    "    #remove last category to avoid multicollinearity\n",
    "    data = data.drop(columns=['Race', 'Other','AgeCategory','80 or older', 'GenHealth', \"Excellent\"])\n",
    "    data.rename(columns={\"18-24\": \"Age1\", \"25-29\": \"Age2\", \"30-34\": \"Age3\",\"35-39\": \"Age4\",\"40-44\": \"Age5\",\"45-49\": \"Age6\",\"50-54\": \"Age7\",\"55-59\": \"Age8\",\"60-64\": \"Age9\",\"65-69\": \"Age10\",\"70-74\": \"Age11\",\"75-79\": \"Age12\"}, inplace = True)\n",
    "    data.rename(columns={\"Very good\": \"Verygood\", \"American Indian/Alaskan Native\": \"AmericanIndianAlaskanNative\"}, inplace = True)\n",
    "    return data"
   ]
  },
  {
   "cell_type": "code",
   "execution_count": 41,
   "id": "ddc961d9",
   "metadata": {},
   "outputs": [
    {
     "data": {
      "text/html": [
       "<div>\n",
       "<style scoped>\n",
       "    .dataframe tbody tr th:only-of-type {\n",
       "        vertical-align: middle;\n",
       "    }\n",
       "\n",
       "    .dataframe tbody tr th {\n",
       "        vertical-align: top;\n",
       "    }\n",
       "\n",
       "    .dataframe thead th {\n",
       "        text-align: right;\n",
       "    }\n",
       "</style>\n",
       "<table border=\"1\" class=\"dataframe\">\n",
       "  <thead>\n",
       "    <tr style=\"text-align: right;\">\n",
       "      <th></th>\n",
       "      <th>HeartDisease</th>\n",
       "      <th>BMI</th>\n",
       "      <th>Smoking</th>\n",
       "      <th>AlcoholDrinking</th>\n",
       "      <th>Stroke</th>\n",
       "      <th>PhysicalHealth</th>\n",
       "      <th>MentalHealth</th>\n",
       "      <th>DiffWalking</th>\n",
       "      <th>Sex</th>\n",
       "      <th>Diabetic</th>\n",
       "      <th>...</th>\n",
       "      <th>Age7</th>\n",
       "      <th>Age8</th>\n",
       "      <th>Age9</th>\n",
       "      <th>Age10</th>\n",
       "      <th>Age11</th>\n",
       "      <th>Age12</th>\n",
       "      <th>Fair</th>\n",
       "      <th>Good</th>\n",
       "      <th>Poor</th>\n",
       "      <th>Verygood</th>\n",
       "    </tr>\n",
       "  </thead>\n",
       "  <tbody>\n",
       "    <tr>\n",
       "      <th>0</th>\n",
       "      <td>0</td>\n",
       "      <td>16.60</td>\n",
       "      <td>1</td>\n",
       "      <td>0</td>\n",
       "      <td>0</td>\n",
       "      <td>3.0</td>\n",
       "      <td>30.0</td>\n",
       "      <td>0</td>\n",
       "      <td>1</td>\n",
       "      <td>1</td>\n",
       "      <td>...</td>\n",
       "      <td>0</td>\n",
       "      <td>1</td>\n",
       "      <td>0</td>\n",
       "      <td>0</td>\n",
       "      <td>0</td>\n",
       "      <td>0</td>\n",
       "      <td>0</td>\n",
       "      <td>0</td>\n",
       "      <td>0</td>\n",
       "      <td>1</td>\n",
       "    </tr>\n",
       "    <tr>\n",
       "      <th>1</th>\n",
       "      <td>0</td>\n",
       "      <td>20.34</td>\n",
       "      <td>0</td>\n",
       "      <td>0</td>\n",
       "      <td>1</td>\n",
       "      <td>0.0</td>\n",
       "      <td>0.0</td>\n",
       "      <td>0</td>\n",
       "      <td>1</td>\n",
       "      <td>0</td>\n",
       "      <td>...</td>\n",
       "      <td>0</td>\n",
       "      <td>0</td>\n",
       "      <td>0</td>\n",
       "      <td>0</td>\n",
       "      <td>0</td>\n",
       "      <td>0</td>\n",
       "      <td>0</td>\n",
       "      <td>0</td>\n",
       "      <td>0</td>\n",
       "      <td>1</td>\n",
       "    </tr>\n",
       "    <tr>\n",
       "      <th>2</th>\n",
       "      <td>0</td>\n",
       "      <td>26.58</td>\n",
       "      <td>1</td>\n",
       "      <td>0</td>\n",
       "      <td>0</td>\n",
       "      <td>20.0</td>\n",
       "      <td>30.0</td>\n",
       "      <td>0</td>\n",
       "      <td>0</td>\n",
       "      <td>1</td>\n",
       "      <td>...</td>\n",
       "      <td>0</td>\n",
       "      <td>0</td>\n",
       "      <td>0</td>\n",
       "      <td>1</td>\n",
       "      <td>0</td>\n",
       "      <td>0</td>\n",
       "      <td>1</td>\n",
       "      <td>0</td>\n",
       "      <td>0</td>\n",
       "      <td>0</td>\n",
       "    </tr>\n",
       "    <tr>\n",
       "      <th>3</th>\n",
       "      <td>0</td>\n",
       "      <td>24.21</td>\n",
       "      <td>0</td>\n",
       "      <td>0</td>\n",
       "      <td>0</td>\n",
       "      <td>0.0</td>\n",
       "      <td>0.0</td>\n",
       "      <td>0</td>\n",
       "      <td>1</td>\n",
       "      <td>0</td>\n",
       "      <td>...</td>\n",
       "      <td>0</td>\n",
       "      <td>0</td>\n",
       "      <td>0</td>\n",
       "      <td>0</td>\n",
       "      <td>0</td>\n",
       "      <td>1</td>\n",
       "      <td>0</td>\n",
       "      <td>1</td>\n",
       "      <td>0</td>\n",
       "      <td>0</td>\n",
       "    </tr>\n",
       "    <tr>\n",
       "      <th>4</th>\n",
       "      <td>0</td>\n",
       "      <td>23.71</td>\n",
       "      <td>0</td>\n",
       "      <td>0</td>\n",
       "      <td>0</td>\n",
       "      <td>28.0</td>\n",
       "      <td>0.0</td>\n",
       "      <td>1</td>\n",
       "      <td>1</td>\n",
       "      <td>0</td>\n",
       "      <td>...</td>\n",
       "      <td>0</td>\n",
       "      <td>0</td>\n",
       "      <td>0</td>\n",
       "      <td>0</td>\n",
       "      <td>0</td>\n",
       "      <td>0</td>\n",
       "      <td>0</td>\n",
       "      <td>0</td>\n",
       "      <td>0</td>\n",
       "      <td>1</td>\n",
       "    </tr>\n",
       "  </tbody>\n",
       "</table>\n",
       "<p>5 rows × 36 columns</p>\n",
       "</div>"
      ],
      "text/plain": [
       "   HeartDisease    BMI  Smoking  AlcoholDrinking  Stroke  PhysicalHealth  \\\n",
       "0             0  16.60        1                0       0             3.0   \n",
       "1             0  20.34        0                0       1             0.0   \n",
       "2             0  26.58        1                0       0            20.0   \n",
       "3             0  24.21        0                0       0             0.0   \n",
       "4             0  23.71        0                0       0            28.0   \n",
       "\n",
       "   MentalHealth  DiffWalking  Sex  Diabetic  ...  Age7  Age8  Age9  Age10  \\\n",
       "0          30.0            0    1         1  ...     0     1     0      0   \n",
       "1           0.0            0    1         0  ...     0     0     0      0   \n",
       "2          30.0            0    0         1  ...     0     0     0      1   \n",
       "3           0.0            0    1         0  ...     0     0     0      0   \n",
       "4           0.0            1    1         0  ...     0     0     0      0   \n",
       "\n",
       "   Age11  Age12  Fair  Good  Poor  Verygood  \n",
       "0      0      0     0     0     0         1  \n",
       "1      0      0     0     0     0         1  \n",
       "2      0      0     1     0     0         0  \n",
       "3      0      1     0     1     0         0  \n",
       "4      0      0     0     0     0         1  \n",
       "\n",
       "[5 rows x 36 columns]"
      ]
     },
     "execution_count": 41,
     "metadata": {},
     "output_type": "execute_result"
    }
   ],
   "source": [
    "data = makeDummies(data)\n",
    "data.head()"
   ]
  },
  {
   "cell_type": "markdown",
   "id": "5ebd308c",
   "metadata": {},
   "source": [
    "### Data preparation\n",
    "*By Annika Le*\n",
    "\n",
    "The following data preparation steps helped us to prepare our data for implementing various modeling / validation techniques:\n",
    "\n",
    "1. Since our dataset was very unbalanced with approximately 91% of observations without heart disease and 9% of observations with heart disease, we used SMOTE to balance our dataset. We will use this to develop all of our models."
   ]
  },
  {
   "cell_type": "code",
   "execution_count": 42,
   "id": "3ba38bb0",
   "metadata": {},
   "outputs": [],
   "source": [
    "X = data[['BMI', 'Smoking', 'AlcoholDrinking','MentalHealth', \"Stroke\", \"Sex\",'PhysicalHealth', \"DiffWalking\", \"Diabetic\", \"PhysicalActivity\", \"SleepTime\", \"Asthma\", \"KidneyDisease\", \"SkinCancer\", \"Age1\", \"Age2\", \"Age3\", \"Age4\", \"Age5\", \"Age6\", \"Age7\", \"Age8\", \"Age9\", \"Age10\", \"Age11\", \"Age12\", \"White\", \"Black\", \"Asian\", \"AmericanIndianAlaskanNative\", \"Hispanic\", \"Poor\", \"Fair\", \"Good\", \"Verygood\"]]\n",
    "y = data.HeartDisease"
   ]
  },
  {
   "cell_type": "code",
   "execution_count": 43,
   "id": "81f0ac5c",
   "metadata": {},
   "outputs": [],
   "source": [
    "from sklearn.model_selection import train_test_split\n",
    "X_train, X_test, y_train, y_test = train_test_split(X, y, \n",
    "                                                    test_size=0.3, \n",
    "                                                    random_state=0, \n",
    "                                                    shuffle=True, \n",
    "                                                    stratify=y)"
   ]
  },
  {
   "cell_type": "code",
   "execution_count": 44,
   "id": "16141122",
   "metadata": {},
   "outputs": [],
   "source": [
    "from imblearn.over_sampling import SMOTE\n",
    "from imblearn.over_sampling import BorderlineSMOTE\n",
    "from imblearn.under_sampling import RandomUnderSampler\n",
    "oversampled = SMOTE(random_state=0)\n",
    "X_train_smote, y_train_smote = oversampled.fit_resample(X_train, y_train)"
   ]
  },
  {
   "cell_type": "code",
   "execution_count": 45,
   "id": "d9af3b6c",
   "metadata": {},
   "outputs": [],
   "source": [
    "train_smote = pd.concat([X_train_smote, y_train_smote], axis=1)"
   ]
  },
  {
   "cell_type": "code",
   "execution_count": 46,
   "id": "16954266",
   "metadata": {},
   "outputs": [
    {
     "data": {
      "text/plain": [
       "204695"
      ]
     },
     "execution_count": 46,
     "metadata": {},
     "output_type": "execute_result"
    }
   ],
   "source": [
    "train_smote[train_smote.HeartDisease == 1].count()[0]"
   ]
  },
  {
   "cell_type": "code",
   "execution_count": 47,
   "id": "770b030b",
   "metadata": {},
   "outputs": [
    {
     "data": {
      "text/plain": [
       "204695"
      ]
     },
     "execution_count": 47,
     "metadata": {},
     "output_type": "execute_result"
    }
   ],
   "source": [
    "train_smote[train_smote.HeartDisease == 1].count()[1]"
   ]
  },
  {
   "cell_type": "markdown",
   "id": "3975980c",
   "metadata": {},
   "source": [
    "## Exploratory data analysis\n"
   ]
  },
  {
   "cell_type": "markdown",
   "id": "817d7e2b",
   "metadata": {},
   "source": [
    "Put code with comments. The comments should explain the code such that it can be easily understood. You may put text *(in a markdown cell)* before a large chunk of code to explain the overall purpose of the code, if it is not intuitive. **Put the name of the person / persons who contributed to each code chunk / set of code chunks.**"
   ]
  },
  {
   "cell_type": "markdown",
   "id": "0c43de72-c5c7-49d4-a10b-e6a8c9344b27",
   "metadata": {},
   "source": [
    "The code below explores the distribution of all the variables in the dataset, and their association with the response through visualization on graphs.\n",
    "\n",
    "*by Tom Tiamraj*"
   ]
  },
  {
   "cell_type": "markdown",
   "id": "a6f6ab89-8281-448e-89ac-0e4c6d7e719c",
   "metadata": {},
   "source": [
    "Here we are making a copy of the original datasset to perform exploratory data analysis. Since the other dataset has been cleaned and prepared by making dummy variables and removing some categorical predictors, it is not as great "
   ]
  },
  {
   "cell_type": "code",
   "execution_count": 48,
   "id": "001369e1-50d7-4ca2-9abb-d2b90eda107b",
   "metadata": {},
   "outputs": [],
   "source": [
    "heart_dataset = pd.read_csv('heart_2020_cleaned.csv')"
   ]
  },
  {
   "cell_type": "code",
   "execution_count": 49,
   "id": "629ea0b7-0a45-4aab-a382-349e2c5a6d07",
   "metadata": {},
   "outputs": [
    {
     "name": "stdout",
     "output_type": "stream",
     "text": [
      "(319795, 18)\n",
      "Index(['HeartDisease', 'BMI', 'Smoking', 'AlcoholDrinking', 'Stroke',\n",
      "       'PhysicalHealth', 'MentalHealth', 'DiffWalking', 'Sex', 'AgeCategory',\n",
      "       'Race', 'Diabetic', 'PhysicalActivity', 'GenHealth', 'SleepTime',\n",
      "       'Asthma', 'KidneyDisease', 'SkinCancer'],\n",
      "      dtype='object')\n"
     ]
    }
   ],
   "source": [
    "print(heart_dataset.shape)\n",
    "print(heart_dataset.columns)"
   ]
  },
  {
   "cell_type": "code",
   "execution_count": 50,
   "id": "aeec9f38-9f82-44e8-8c6f-e764ad1b2211",
   "metadata": {},
   "outputs": [
    {
     "name": "stdout",
     "output_type": "stream",
     "text": [
      "(301717, 18)\n"
     ]
    }
   ],
   "source": [
    "heart_dataset.drop_duplicates(inplace=True)\n",
    "print(heart_dataset.shape)"
   ]
  },
  {
   "cell_type": "markdown",
   "id": "840b56c8-410a-4951-9bd2-c585a96f4b18",
   "metadata": {},
   "source": [
    "#### BMI\n",
    "\n",
    " Distribution of BMI and those who have heart disease"
   ]
  },
  {
   "cell_type": "code",
   "execution_count": 52,
   "id": "d99bce86-fb85-4476-9184-b2c6c1b9b930",
   "metadata": {},
   "outputs": [
    {
     "name": "stdout",
     "output_type": "stream",
     "text": [
      "Minimum BMI: 12.02\n",
      "Maximum BMI: 94.85\n"
     ]
    },
    {
     "data": {
      "text/plain": [
       "<AxesSubplot:xlabel='BMI', ylabel='Count'>"
      ]
     },
     "execution_count": 52,
     "metadata": {},
     "output_type": "execute_result"
    },
    {
     "data": {
      "image/png": "[encoded data removed]",
      "text/plain": [
       "<Figure size 432x288 with 1 Axes>"
      ]
     },
     "metadata": {
      "needs_background": "light"
     },
     "output_type": "display_data"
    }
   ],
   "source": [
    "print('Minimum BMI:', heart_dataset.BMI.min())\n",
    "print('Maximum BMI:', heart_dataset.BMI.max())\n",
    "sns.histplot(x = 'BMI',hue = 'HeartDisease', data = heart_dataset, bins= 50)"
   ]
  },
  {
   "cell_type": "markdown",
   "id": "69682f06-74fe-4409-a10b-a860e0997e57",
   "metadata": {
    "tags": []
   },
   "source": [
    "#### Smoking\n",
    "\n",
    "Distribution of smokers and those who have heart disease"
   ]
  },
  {
   "cell_type": "code",
   "execution_count": 57,
   "id": "32ec240f-2e34-4453-9064-5f35dca17761",
   "metadata": {},
   "outputs": [
    {
     "name": "stdout",
     "output_type": "stream",
     "text": [
      "Total Number of Smokers: 127405\n",
      "Total Number of Non-Smokers: 174312\n",
      "Total Number of Smokers that have heart disease: 15977\n",
      "Total Number of Smokers that don't have heart disease: 111428\n",
      "Total Number of Non-Smokers that have heart disease: 11284\n",
      "Total Number of Non-Smokers that don't have heart disease: 163028\n"
     ]
    }
   ],
   "source": [
    "print(\"Total Number of Smokers:\", (heart_dataset['Smoking'] == 'Yes').sum())\n",
    "print(\"Total Number of Non-Smokers:\", heart_dataset.shape[0] - (heart_dataset['Smoking'] == 'Yes').sum())\n",
    "print(\"Total Number of Smokers that have heart disease:\", heart_dataset.loc[((heart_dataset['Smoking'] == 'Yes') & (heart_dataset['HeartDisease'] == 'Yes'))].shape[0])\n",
    "print(\"Total Number of Smokers that don't have heart disease:\", heart_dataset.loc[((heart_dataset['Smoking'] == 'Yes') & (heart_dataset['HeartDisease'] == 'No'))].shape[0])\n",
    "print(\"Total Number of Non-Smokers that have heart disease:\", heart_dataset.loc[((heart_dataset['Smoking'] == 'No') & (heart_dataset['HeartDisease'] == 'Yes'))].shape[0])\n",
    "print(\"Total Number of Non-Smokers that don't have heart disease:\", heart_dataset.loc[((heart_dataset['Smoking'] == 'No') & (heart_dataset['HeartDisease'] == 'No'))].shape[0])"
   ]
  },
  {
   "cell_type": "code",
   "execution_count": 58,
   "id": "ed797af3-1d2c-49dd-a02f-9d12c4f00055",
   "metadata": {},
   "outputs": [
    {
     "data": {
      "text/plain": [
       "<AxesSubplot:xlabel='Smoking', ylabel='count'>"
      ]
     },
     "execution_count": 58,
     "metadata": {},
     "output_type": "execute_result"
    },
    {
     "data": {
      "image/png": "[encoded data removed]",
      "text/plain": [
       "<Figure size 432x288 with 1 Axes>"
      ]
     },
     "metadata": {
      "needs_background": "light"
     },
     "output_type": "display_data"
    }
   ],
   "source": [
    "sns.countplot(x = 'Smoking',hue = 'HeartDisease', data = heart_dataset)"
   ]
  },
  {
   "cell_type": "code",
   "execution_count": 59,
   "id": "41166eba-55ea-43c2-a8e4-c2e6967291f6",
   "metadata": {},
   "outputs": [
    {
     "data": {
      "text/plain": [
       "<matplotlib.legend.Legend at 0x16a1c651430>"
      ]
     },
     "execution_count": 59,
     "metadata": {},
     "output_type": "execute_result"
    },
    {
     "data": {
      "image/png": "[encoded data removed]",
      "text/plain": [
       "<Figure size 432x288 with 1 Axes>"
      ]
     },
     "metadata": {},
     "output_type": "display_data"
    }
   ],
   "source": [
    "smoke_heart_disease = heart_dataset.loc[heart_dataset['Smoking'] == 'Yes']\n",
    "plt.pie(smoke_heart_disease['HeartDisease'].value_counts(), autopct='%1.1f%%')\n",
    "plt.title('Percentage of smokers with Heart Disease',weight = 'bold')\n",
    "plt.legend(bbox_to_anchor=(1, 1), labels = ['No', 'Yes'])"
   ]
  },
  {
   "cell_type": "code",
   "execution_count": 60,
   "id": "27d36e0e-d447-472b-827a-7a0808d5525d",
   "metadata": {},
   "outputs": [
    {
     "data": {
      "text/plain": [
       "<matplotlib.legend.Legend at 0x16a11a1bbb0>"
      ]
     },
     "execution_count": 60,
     "metadata": {},
     "output_type": "execute_result"
    },
    {
     "data": {
      "image/png": "[encoded data removed]",
      "text/plain": [
       "<Figure size 432x288 with 1 Axes>"
      ]
     },
     "metadata": {},
     "output_type": "display_data"
    }
   ],
   "source": [
    "no_smoke_heart_disease = heart_dataset.loc[heart_dataset['Smoking'] == 'No']\n",
    "plt.pie(no_smoke_heart_disease['HeartDisease'].value_counts(), autopct='%1.1f%%')\n",
    "plt.title('Percentage of non-smokers with Heart Disease',weight = 'bold')\n",
    "plt.legend(bbox_to_anchor=(1, 1), labels = ['No', 'Yes'])"
   ]
  },
  {
   "cell_type": "markdown",
   "id": "9d23eafb-a6ec-4e68-b653-7a1160e15d9e",
   "metadata": {},
   "source": [
    "#### Alcohol Drinking\n",
    "\n",
    "Distribution of alcohol drinkers and those who have heart disease"
   ]
  },
  {
   "cell_type": "code",
   "execution_count": 61,
   "id": "281bf355-2378-4551-a501-faa67fcb670b",
   "metadata": {},
   "outputs": [
    {
     "name": "stdout",
     "output_type": "stream",
     "text": [
      "Total Number of Alcohol Drinkers: 21581\n",
      "Total Number of Alcohol Drinkers: 280136\n",
      "Total Number of Alcohol Drinkers that have heart disease: 1141\n",
      "Total Number of Alcohol Drinkers that don't have heart disease: 20440\n",
      "Total Number of Non-Alcohol Drinkers that have heart disease: 26120\n",
      "Total Number of Non-Alcohol Drinkers that don't have heart disease: 254016\n"
     ]
    }
   ],
   "source": [
    "print(\"Total Number of Alcohol Drinkers:\", (heart_dataset['AlcoholDrinking'] == 'Yes').sum())\n",
    "print(\"Total Number of Alcohol Drinkers:\", heart_dataset.shape[0] - (heart_dataset['AlcoholDrinking'] == 'Yes').sum())\n",
    "print(\"Total Number of Alcohol Drinkers that have heart disease:\", heart_dataset.loc[((heart_dataset['AlcoholDrinking'] == 'Yes') & (heart_dataset['HeartDisease'] == 'Yes'))].shape[0])\n",
    "print(\"Total Number of Alcohol Drinkers that don't have heart disease:\", heart_dataset.loc[((heart_dataset['AlcoholDrinking'] == 'Yes') & (heart_dataset['HeartDisease'] == 'No'))].shape[0])\n",
    "print(\"Total Number of Non-Alcohol Drinkers that have heart disease:\", heart_dataset.loc[((heart_dataset['AlcoholDrinking'] == 'No') & (heart_dataset['HeartDisease'] == 'Yes'))].shape[0])\n",
    "print(\"Total Number of Non-Alcohol Drinkers that don't have heart disease:\", heart_dataset.loc[((heart_dataset['AlcoholDrinking'] == 'No') & (heart_dataset['HeartDisease'] == 'No'))].shape[0])"
   ]
  },
  {
   "cell_type": "code",
   "execution_count": 62,
   "id": "c610f4da-54ad-4cb1-91c8-d298d3ee9c08",
   "metadata": {},
   "outputs": [
    {
     "data": {
      "text/plain": [
       "<AxesSubplot:xlabel='AlcoholDrinking', ylabel='count'>"
      ]
     },
     "execution_count": 62,
     "metadata": {},
     "output_type": "execute_result"
    },
    {
     "data": {
      "image/png": "[encoded data removed]",
      "text/plain": [
       "<Figure size 432x288 with 1 Axes>"
      ]
     },
     "metadata": {
      "needs_background": "light"
     },
     "output_type": "display_data"
    }
   ],
   "source": [
    "sns.countplot(x = 'AlcoholDrinking',hue = 'HeartDisease', data = heart_dataset)"
   ]
  },
  {
   "cell_type": "code",
   "execution_count": 63,
   "id": "dc146abf-8c1f-4987-8f23-3f4d5475e630",
   "metadata": {},
   "outputs": [
    {
     "data": {
      "text/plain": [
       "<matplotlib.legend.Legend at 0x16a119f8100>"
      ]
     },
     "execution_count": 63,
     "metadata": {},
     "output_type": "execute_result"
    },
    {
     "data": {
      "image/png": "[encoded data removed]",
      "text/plain": [
       "<Figure size 432x288 with 1 Axes>"
      ]
     },
     "metadata": {},
     "output_type": "display_data"
    }
   ],
   "source": [
    "drink_heart_disease = heart_dataset.loc[heart_dataset['AlcoholDrinking'] == 'Yes']\n",
    "plt.pie(drink_heart_disease['HeartDisease'].value_counts(), autopct='%1.1f%%')\n",
    "plt.title('Percentage of Alcohol Drinking with Heart Disease',weight = 'bold')\n",
    "plt.legend(bbox_to_anchor=(1, 1), labels = ['No', 'Yes'])"
   ]
  },
  {
   "cell_type": "code",
   "execution_count": 64,
   "id": "5c8f9baa-33bc-4d9d-a9da-683bc74ac23f",
   "metadata": {},
   "outputs": [
    {
     "data": {
      "text/plain": [
       "<matplotlib.legend.Legend at 0x16a11be83d0>"
      ]
     },
     "execution_count": 64,
     "metadata": {},
     "output_type": "execute_result"
    },
    {
     "data": {
      "image/png": "[encoded data removed]",
      "text/plain": [
       "<Figure size 432x288 with 1 Axes>"
      ]
     },
     "metadata": {},
     "output_type": "display_data"
    }
   ],
   "source": [
    "no_drink_heart_disease = heart_dataset.loc[heart_dataset['AlcoholDrinking'] == 'No']\n",
    "plt.pie(no_drink_heart_disease['HeartDisease'].value_counts(), autopct='%1.1f%%')\n",
    "plt.title('Percentage of Non-Alcohol Drinking with Heart Disease',weight = 'bold')\n",
    "plt.legend(bbox_to_anchor=(1, 1), labels = ['No', 'Yes'])"
   ]
  },
  {
   "cell_type": "markdown",
   "id": "1da448fd-38f2-4579-9308-b6ddc934bf07",
   "metadata": {},
   "source": [
    "#### Stroke\n",
    "\n",
    "Distribution of individuals with strokes and those who have heart disease"
   ]
  },
  {
   "cell_type": "code",
   "execution_count": 66,
   "id": "888aed54-626d-4c8e-bab8-700c373f0e0b",
   "metadata": {},
   "outputs": [
    {
     "name": "stdout",
     "output_type": "stream",
     "text": [
      "Total Number of Individuals that experienced a stroke: 12064\n",
      "Total Number of Individuals that have not experienced a stroke: 289653\n",
      "Total Number of Individuals that experienced a stroke that have heart disease: 4389\n",
      "Total Number of Individuals that experienced a stroke that don't have heart disease: 7675\n",
      "Total Number of Individuals that have not experienced a stroke that have heart disease: 22872\n",
      "Total Number of Individuals that have not experienced a stroke that don't have heart disease: 266781\n"
     ]
    }
   ],
   "source": [
    "print(\"Total Number of Individuals that experienced a stroke:\", (heart_dataset['Stroke'] == 'Yes').sum())\n",
    "print(\"Total Number of Individuals that have not experienced a stroke:\", heart_dataset.shape[0] - (heart_dataset['Stroke'] == 'Yes').sum())\n",
    "print(\"Total Number of Individuals that experienced a stroke that have heart disease:\", heart_dataset.loc[((heart_dataset['Stroke'] == 'Yes') & (heart_dataset['HeartDisease'] == 'Yes'))].shape[0])\n",
    "print(\"Total Number of Individuals that experienced a stroke that don't have heart disease:\", heart_dataset.loc[((heart_dataset['Stroke'] == 'Yes') & (heart_dataset['HeartDisease'] == 'No'))].shape[0])\n",
    "print(\"Total Number of Individuals that have not experienced a stroke that have heart disease:\", heart_dataset.loc[((heart_dataset['Stroke'] == 'No') & (heart_dataset['HeartDisease'] == 'Yes'))].shape[0])\n",
    "print(\"Total Number of Individuals that have not experienced a stroke that don't have heart disease:\", heart_dataset.loc[((heart_dataset['Stroke'] == 'No') & (heart_dataset['HeartDisease'] == 'No'))].shape[0])"
   ]
  },
  {
   "cell_type": "code",
   "execution_count": 65,
   "id": "d9484560-d3e5-45e0-855f-b19aa5a6be1a",
   "metadata": {},
   "outputs": [
    {
     "data": {
      "text/plain": [
       "<AxesSubplot:xlabel='Stroke', ylabel='count'>"
      ]
     },
     "execution_count": 65,
     "metadata": {},
     "output_type": "execute_result"
    },
    {
     "data": {
      "image/png": "[encoded data removed]",
      "text/plain": [
       "<Figure size 432x288 with 1 Axes>"
      ]
     },
     "metadata": {
      "needs_background": "light"
     },
     "output_type": "display_data"
    }
   ],
   "source": [
    "sns.countplot(x = 'Stroke',hue = 'HeartDisease', data = heart_dataset)"
   ]
  },
  {
   "cell_type": "code",
   "execution_count": 67,
   "id": "1a2ad52e-8e64-463e-b816-14872d2ae54b",
   "metadata": {},
   "outputs": [
    {
     "data": {
      "text/plain": [
       "<matplotlib.legend.Legend at 0x16a11c8d190>"
      ]
     },
     "execution_count": 67,
     "metadata": {},
     "output_type": "execute_result"
    },
    {
     "data": {
      "image/png": "[encoded data removed]",
      "text/plain": [
       "<Figure size 432x288 with 1 Axes>"
      ]
     },
     "metadata": {},
     "output_type": "display_data"
    }
   ],
   "source": [
    "stroke_heart_disease = heart_dataset.loc[heart_dataset['Stroke'] == 'Yes']\n",
    "plt.pie(stroke_heart_disease['HeartDisease'].value_counts(), autopct='%1.1f%%')\n",
    "plt.title('Percentage of Individuals that have experienced a stroke with Heart Disease',weight = 'bold')\n",
    "plt.legend(bbox_to_anchor=(1, 1), labels = ['No', 'Yes'])"
   ]
  },
  {
   "cell_type": "code",
   "execution_count": 68,
   "id": "272e0393-e0c7-4108-a2ae-c92444ffe81d",
   "metadata": {},
   "outputs": [
    {
     "data": {
      "text/plain": [
       "<matplotlib.legend.Legend at 0x16a14f1c850>"
      ]
     },
     "execution_count": 68,
     "metadata": {},
     "output_type": "execute_result"
    },
    {
     "data": {
      "image/png": "[encoded data removed]",
      "text/plain": [
       "<Figure size 432x288 with 1 Axes>"
      ]
     },
     "metadata": {},
     "output_type": "display_data"
    }
   ],
   "source": [
    "nostroke_heart_disease = heart_dataset.loc[heart_dataset['Stroke'] == 'No']\n",
    "plt.pie(nostroke_heart_disease['HeartDisease'].value_counts(), autopct='%1.1f%%')\n",
    "plt.title('Percentage of Individuals that have not experienced a stroke with Heart Disease',weight = 'bold')\n",
    "plt.legend(bbox_to_anchor=(1, 1), labels = ['No', 'Yes'])"
   ]
  },
  {
   "cell_type": "markdown",
   "id": "5349d60d-e4a6-425e-897b-23d161d570ef",
   "metadata": {},
   "source": [
    "#### Physical Health\n",
    "\n",
    "Distribution of Physical Health and those who have heart disease"
   ]
  },
  {
   "cell_type": "code",
   "execution_count": 70,
   "id": "bab67413-a846-494a-9f7e-03ce543b25e3",
   "metadata": {},
   "outputs": [
    {
     "name": "stdout",
     "output_type": "stream",
     "text": [
      "Minimum days of physical activity in the past 30 days: 0.0\n",
      "Maximum days of physical activity in the past 30 days: 30.0\n"
     ]
    },
    {
     "data": {
      "text/plain": [
       "<AxesSubplot:xlabel='PhysicalHealth', ylabel='Count'>"
      ]
     },
     "execution_count": 70,
     "metadata": {},
     "output_type": "execute_result"
    },
    {
     "data": {
      "image/png": "[encoded data removed]",
      "text/plain": [
       "<Figure size 432x288 with 1 Axes>"
      ]
     },
     "metadata": {
      "needs_background": "light"
     },
     "output_type": "display_data"
    }
   ],
   "source": [
    "print('Minimum days of physical activity in the past 30 days:', heart_dataset.PhysicalHealth.min())\n",
    "print('Maximum days of physical activity in the past 30 days:', heart_dataset.PhysicalHealth.max())\n",
    "sns.histplot(x = 'PhysicalHealth', hue = 'HeartDisease', data = heart_dataset, bins= 30)"
   ]
  },
  {
   "cell_type": "markdown",
   "id": "42a023cf-6066-446e-83de-b3876fce613c",
   "metadata": {},
   "source": [
    "#### Mental Health\n",
    "\n",
    "Distribution of Mental Health and those who have heart disease"
   ]
  },
  {
   "cell_type": "code",
   "execution_count": 71,
   "id": "53349f39-2252-4ad2-ae8b-4b12bea02039",
   "metadata": {},
   "outputs": [
    {
     "name": "stdout",
     "output_type": "stream",
     "text": [
      "Minimum days where mental health of individaul was not good in the past 30 days: 0.0\n",
      "Maximum days where mental health of individaul was not good in the past 30 days: 30.0\n"
     ]
    },
    {
     "data": {
      "text/plain": [
       "<AxesSubplot:xlabel='MentalHealth', ylabel='Count'>"
      ]
     },
     "execution_count": 71,
     "metadata": {},
     "output_type": "execute_result"
    },
    {
     "data": {
      "image/png": "[encoded data removed]",
      "text/plain": [
       "<Figure size 432x288 with 1 Axes>"
      ]
     },
     "metadata": {
      "needs_background": "light"
     },
     "output_type": "display_data"
    }
   ],
   "source": [
    "print('Minimum days where mental health of individaul was not good in the past 30 days:', heart_dataset.MentalHealth.min())\n",
    "print('Maximum days where mental health of individaul was not good in the past 30 days:', heart_dataset.MentalHealth.max())\n",
    "sns.histplot(x = 'MentalHealth', hue = 'HeartDisease', data = heart_dataset, bins= 30)"
   ]
  },
  {
   "cell_type": "markdown",
   "id": "251811c3-c3b4-4c3b-9e0d-f96485159c21",
   "metadata": {},
   "source": [
    "#### Difficulty Walking or Climbing Stairs\n",
    "\n",
    "Distribution of those having difficulting walking or climbing stairs and those who have heart disease"
   ]
  },
  {
   "cell_type": "code",
   "execution_count": 72,
   "id": "9ab9bc9a-db76-442e-83be-521327c572ff",
   "metadata": {},
   "outputs": [
    {
     "name": "stdout",
     "output_type": "stream",
     "text": [
      "Total Number of Individuals that have difficulty walking/climbing stairs: 44355\n",
      "Total Number of Individuals that don't have difficulty walking/climbing stairs: 257362\n",
      "Total Number of Individuals that have difficulty walking/climbing stairs that have heart disease: 10024\n",
      "Total Number of Individuals that have difficulty walking/climbing stairs that don't have heart disease: 34331\n",
      "Total Number of Individuals that don't have difficulty walking/climbing stairs that have heart disease: 17237\n",
      "Total Number of Individuals that don't have difficulty walking/climbing stairs that don't have heart disease: 240125\n"
     ]
    }
   ],
   "source": [
    "print(\"Total Number of Individuals that have difficulty walking/climbing stairs:\", (heart_dataset['DiffWalking'] == 'Yes').sum())\n",
    "print(\"Total Number of Individuals that don't have difficulty walking/climbing stairs:\", heart_dataset.shape[0] - (heart_dataset['DiffWalking'] == 'Yes').sum())\n",
    "print(\"Total Number of Individuals that have difficulty walking/climbing stairs that have heart disease:\", heart_dataset.loc[((heart_dataset['DiffWalking'] == 'Yes') & (heart_dataset['HeartDisease'] == 'Yes'))].shape[0])\n",
    "print(\"Total Number of Individuals that have difficulty walking/climbing stairs that don't have heart disease:\", heart_dataset.loc[((heart_dataset['DiffWalking'] == 'Yes') & (heart_dataset['HeartDisease'] == 'No'))].shape[0])\n",
    "print(\"Total Number of Individuals that don't have difficulty walking/climbing stairs that have heart disease:\", heart_dataset.loc[((heart_dataset['DiffWalking'] == 'No') & (heart_dataset['HeartDisease'] == 'Yes'))].shape[0])\n",
    "print(\"Total Number of Individuals that don't have difficulty walking/climbing stairs that don't have heart disease:\", heart_dataset.loc[((heart_dataset['DiffWalking'] == 'No') & (heart_dataset['HeartDisease'] == 'No'))].shape[0])"
   ]
  },
  {
   "cell_type": "code",
   "execution_count": 73,
   "id": "a315d10a-0f6c-4638-b232-05ac5912993c",
   "metadata": {},
   "outputs": [
    {
     "data": {
      "text/plain": [
       "<matplotlib.legend.Legend at 0x16a270aa220>"
      ]
     },
     "execution_count": 73,
     "metadata": {},
     "output_type": "execute_result"
    },
    {
     "data": {
      "image/png": "[encoded data removed]",
      "text/plain": [
       "<Figure size 432x288 with 1 Axes>"
      ]
     },
     "metadata": {},
     "output_type": "display_data"
    }
   ],
   "source": [
    "diffwalking_heart_disease = heart_dataset.loc[heart_dataset['DiffWalking'] == 'Yes']\n",
    "plt.pie(diffwalking_heart_disease['HeartDisease'].value_counts(), autopct='%1.1f%%')\n",
    "plt.title('Percentage of Individuals that difficulty walking/climbing stairs with Heart Disease',weight = 'bold')\n",
    "plt.legend(bbox_to_anchor=(1, 1), labels = ['No', 'Yes'])"
   ]
  },
  {
   "cell_type": "code",
   "execution_count": 74,
   "id": "00c2f7a5-f6f8-403a-a3f6-92998dbd7fb2",
   "metadata": {},
   "outputs": [
    {
     "data": {
      "text/plain": [
       "<matplotlib.legend.Legend at 0x16a27004340>"
      ]
     },
     "execution_count": 74,
     "metadata": {},
     "output_type": "execute_result"
    },
    {
     "data": {
      "image/png": "[encoded data removed]",
      "text/plain": [
       "<Figure size 432x288 with 1 Axes>"
      ]
     },
     "metadata": {},
     "output_type": "display_data"
    }
   ],
   "source": [
    "no_diffwalking_heart_disease = heart_dataset.loc[heart_dataset['DiffWalking'] == 'No']\n",
    "plt.pie(no_diffwalking_heart_disease['HeartDisease'].value_counts(), autopct='%1.1f%%')\n",
    "plt.title(\"Percentage of Individuals that don't difficulty walking/climbing stairs with Heart Disease\",weight = 'bold')\n",
    "plt.legend(bbox_to_anchor=(1, 1), labels = ['No', 'Yes'])"
   ]
  },
  {
   "cell_type": "markdown",
   "id": "b092b830-53d3-49aa-be3c-2c1b3558b225",
   "metadata": {},
   "source": [
    "#### Sex\n",
    "\n",
    "Distribution of sex and those who have heart disease"
   ]
  },
  {
   "cell_type": "code",
   "execution_count": 76,
   "id": "b8c3d79d-548d-4e17-9d43-d956e094512f",
   "metadata": {},
   "outputs": [
    {
     "name": "stdout",
     "output_type": "stream",
     "text": [
      "Total Number of Males: 142046\n",
      "Total Number of Females: 159671\n",
      "Total Number of Males that have heart disease: 16048\n",
      "Total Number of Males that don't have heart disease: 125998\n",
      "Total Number of Females that have heart disease: 11213\n",
      "Total Number of Females that don't have heart disease: 148458\n"
     ]
    }
   ],
   "source": [
    "print(\"Total Number of Males:\", (heart_dataset['Sex'] == 'Male').sum())\n",
    "print(\"Total Number of Females:\", heart_dataset.shape[0] - (heart_dataset['Sex'] == 'Male').sum())\n",
    "print(\"Total Number of Males that have heart disease:\", heart_dataset.loc[((heart_dataset['Sex'] == 'Male') & (heart_dataset['HeartDisease'] == 'Yes'))].shape[0])\n",
    "print(\"Total Number of Males that don't have heart disease:\", heart_dataset.loc[((heart_dataset['Sex'] == 'Male') & (heart_dataset['HeartDisease'] == 'No'))].shape[0])\n",
    "print(\"Total Number of Females that have heart disease:\", heart_dataset.loc[((heart_dataset['Sex'] == 'Female') & (heart_dataset['HeartDisease'] == 'Yes'))].shape[0])\n",
    "print(\"Total Number of Females that don't have heart disease:\", heart_dataset.loc[((heart_dataset['Sex'] == 'Female') & (heart_dataset['HeartDisease'] == 'No'))].shape[0])"
   ]
  },
  {
   "cell_type": "code",
   "execution_count": 75,
   "id": "1aab1bff-daa8-48dc-8787-d180008fdbb0",
   "metadata": {},
   "outputs": [
    {
     "data": {
      "text/plain": [
       "<AxesSubplot:xlabel='Sex', ylabel='count'>"
      ]
     },
     "execution_count": 75,
     "metadata": {},
     "output_type": "execute_result"
    },
    {
     "data": {
      "image/png": "[encoded data removed]",
      "text/plain": [
       "<Figure size 432x288 with 1 Axes>"
      ]
     },
     "metadata": {
      "needs_background": "light"
     },
     "output_type": "display_data"
    }
   ],
   "source": [
    "sns.countplot(x = 'Sex',hue = 'HeartDisease', data = heart_dataset)"
   ]
  },
  {
   "cell_type": "code",
   "execution_count": 77,
   "id": "ab3ea0ae-5844-4d50-b96e-0efb9d387325",
   "metadata": {},
   "outputs": [
    {
     "data": {
      "text/plain": [
       "<matplotlib.legend.Legend at 0x16a11c7ea00>"
      ]
     },
     "execution_count": 77,
     "metadata": {},
     "output_type": "execute_result"
    },
    {
     "data": {
      "image/png": "[encoded data removed]",
      "text/plain": [
       "<Figure size 432x288 with 1 Axes>"
      ]
     },
     "metadata": {},
     "output_type": "display_data"
    }
   ],
   "source": [
    "male_heart_disease = heart_dataset.loc[heart_dataset['Sex'] == 'Male']\n",
    "plt.pie(male_heart_disease['HeartDisease'].value_counts(), autopct='%1.1f%%')\n",
    "plt.title('Percentage of Males with Heart Disease',weight = 'bold')\n",
    "plt.legend(bbox_to_anchor=(1, 1), labels = ['No', 'Yes'])"
   ]
  },
  {
   "cell_type": "code",
   "execution_count": 78,
   "id": "28b3f685-a0c2-4542-b138-f1da7e2c7483",
   "metadata": {},
   "outputs": [
    {
     "data": {
      "text/plain": [
       "<matplotlib.legend.Legend at 0x16a27251e80>"
      ]
     },
     "execution_count": 78,
     "metadata": {},
     "output_type": "execute_result"
    },
    {
     "data": {
      "image/png": "[encoded data removed]",
      "text/plain": [
       "<Figure size 432x288 with 1 Axes>"
      ]
     },
     "metadata": {},
     "output_type": "display_data"
    }
   ],
   "source": [
    "female_heart_disease = heart_dataset.loc[heart_dataset['Sex'] == 'Female']\n",
    "plt.pie(female_heart_disease['HeartDisease'].value_counts(), autopct='%1.1f%%')\n",
    "plt.title('Percentage of Females with Heart Disease',weight = 'bold')\n",
    "plt.legend(bbox_to_anchor=(1, 1), labels = ['No', 'Yes'])"
   ]
  },
  {
   "cell_type": "markdown",
   "id": "ca807f67-536b-40e0-b2ed-f199496e2f6c",
   "metadata": {},
   "source": [
    "#### Age\n",
    "\n",
    "Distribution of Age Groups and those who have heart disease"
   ]
  },
  {
   "cell_type": "code",
   "execution_count": 79,
   "id": "a54a62a7-c36a-4abb-a63a-370b9aa62a23",
   "metadata": {},
   "outputs": [
    {
     "name": "stdout",
     "output_type": "stream",
     "text": [
      "Minimum Age: 18-24\n",
      "Maximum Age: 80 or older\n"
     ]
    }
   ],
   "source": [
    "print(\"Minimum Age:\", heart_dataset.AgeCategory.min())\n",
    "print(\"Maximum Age:\", heart_dataset.AgeCategory.max())"
   ]
  },
  {
   "cell_type": "code",
   "execution_count": 80,
   "id": "2c941cd3-e81c-4ef8-aba4-b3e2041c428a",
   "metadata": {},
   "outputs": [
    {
     "data": {
      "text/plain": [
       "<AxesSubplot:xlabel='AgeCategory', ylabel='count'>"
      ]
     },
     "execution_count": 80,
     "metadata": {},
     "output_type": "execute_result"
    },
    {
     "data": {
      "image/png": "[encoded data removed]",
      "text/plain": [
       "<Figure size 1080x504 with 1 Axes>"
      ]
     },
     "metadata": {
      "needs_background": "light"
     },
     "output_type": "display_data"
    }
   ],
   "source": [
    "plt.figure(figsize=(15,7))\n",
    "age_order = ['18-24', '25-29', '30-34','35-39','40-44','45-49','50-54','55-59','60-64','65-69','70-74','75-79','80 or older']\n",
    "sns.countplot(x = 'AgeCategory', hue = 'HeartDisease', data = heart_dataset, order = age_order)"
   ]
  },
  {
   "cell_type": "markdown",
   "id": "e879e4ca-fad7-4be1-83a8-59c7374bdc0e",
   "metadata": {},
   "source": [
    "#### Race\n",
    "\n",
    "Distribution of Race and those who have heart disease"
   ]
  },
  {
   "cell_type": "code",
   "execution_count": 81,
   "id": "8ee221f0-c329-4935-9587-aa4243d4692a",
   "metadata": {},
   "outputs": [
    {
     "data": {
      "text/plain": [
       "<AxesSubplot:xlabel='Race', ylabel='count'>"
      ]
     },
     "execution_count": 81,
     "metadata": {},
     "output_type": "execute_result"
    },
    {
     "data": {
      "image/png": "[encoded data removed]",
      "text/plain": [
       "<Figure size 432x288 with 1 Axes>"
      ]
     },
     "metadata": {
      "needs_background": "light"
     },
     "output_type": "display_data"
    }
   ],
   "source": [
    "sns.countplot(x = 'Race', data = heart_dataset)"
   ]
  },
  {
   "cell_type": "code",
   "execution_count": 82,
   "id": "4ab2ff95-88a9-4034-9afb-b1ce0dcebf9e",
   "metadata": {},
   "outputs": [
    {
     "data": {
      "text/plain": [
       "<AxesSubplot:xlabel='Race', ylabel='count'>"
      ]
     },
     "execution_count": 82,
     "metadata": {},
     "output_type": "execute_result"
    },
    {
     "data": {
      "image/png": "[encoded data removed]",
      "text/plain": [
       "<Figure size 432x288 with 1 Axes>"
      ]
     },
     "metadata": {
      "needs_background": "light"
     },
     "output_type": "display_data"
    }
   ],
   "source": [
    "sns.countplot(x = 'Race', hue = 'HeartDisease', data = heart_dataset)"
   ]
  },
  {
   "cell_type": "markdown",
   "id": "0ed92cab-fabb-4645-8d1d-3ca52d79968f",
   "metadata": {},
   "source": [
    "#### Diabetic\n",
    "\n",
    "Distribution of diabetics and those who have heart disease"
   ]
  },
  {
   "cell_type": "code",
   "execution_count": 83,
   "id": "989581cb-9846-4f16-837c-04a6ad1411ac",
   "metadata": {},
   "outputs": [
    {
     "data": {
      "text/plain": [
       "<AxesSubplot:xlabel='Diabetic', ylabel='count'>"
      ]
     },
     "execution_count": 83,
     "metadata": {},
     "output_type": "execute_result"
    },
    {
     "data": {
      "image/png": "[encoded data removed]",
      "text/plain": [
       "<Figure size 720x360 with 1 Axes>"
      ]
     },
     "metadata": {
      "needs_background": "light"
     },
     "output_type": "display_data"
    }
   ],
   "source": [
    "plt.figure(figsize=(10,5))\n",
    "sns.countplot(x = 'Diabetic',hue = 'HeartDisease', data = heart_dataset)"
   ]
  },
  {
   "cell_type": "markdown",
   "id": "8d73e905-8e85-4c94-96cb-e2628411f7f1",
   "metadata": {},
   "source": [
    "#### Physical Activity\n",
    "\n",
    "Distribution of those involved in physical activity and those who have heart disease"
   ]
  },
  {
   "cell_type": "code",
   "execution_count": 85,
   "id": "8823f6d4-85b5-4e2c-8fdc-d37ffdfef77b",
   "metadata": {},
   "outputs": [
    {
     "name": "stdout",
     "output_type": "stream",
     "text": [
      "Total Number of Individuals are involved in Physical Activity: 230412\n",
      "Total Number of Individuals are involved in Physical Activity: 71305\n",
      "Total Number of Individuals are involved in Physical Activity that have heart disease: 17379\n",
      "Total Number of Individuals are involved in Physical Activity that don't have heart disease: 213033\n",
      "Total Number of Individuals are not involved in Physical Activity that have heart disease: 9882\n",
      "Total Number of Individuals are not involved in Physical Activity that don't have heart disease: 61423\n"
     ]
    }
   ],
   "source": [
    "print(\"Total Number of Individuals are involved in Physical Activity:\", (heart_dataset['PhysicalActivity'] == 'Yes').sum())\n",
    "print(\"Total Number of Individuals are involved in Physical Activity:\", heart_dataset.shape[0] - (heart_dataset['PhysicalActivity'] == 'Yes').sum())\n",
    "print(\"Total Number of Individuals are involved in Physical Activity that have heart disease:\", heart_dataset.loc[((heart_dataset['PhysicalActivity'] == 'Yes') & (heart_dataset['HeartDisease'] == 'Yes'))].shape[0])\n",
    "print(\"Total Number of Individuals are involved in Physical Activity that don't have heart disease:\", heart_dataset.loc[((heart_dataset['PhysicalActivity'] == 'Yes') & (heart_dataset['HeartDisease'] == 'No'))].shape[0])\n",
    "print(\"Total Number of Individuals are not involved in Physical Activity that have heart disease:\", heart_dataset.loc[((heart_dataset['PhysicalActivity'] == 'No') & (heart_dataset['HeartDisease'] == 'Yes'))].shape[0])\n",
    "print(\"Total Number of Individuals are not involved in Physical Activity that don't have heart disease:\", heart_dataset.loc[((heart_dataset['PhysicalActivity'] == 'No') & (heart_dataset['HeartDisease'] == 'No'))].shape[0])"
   ]
  },
  {
   "cell_type": "code",
   "execution_count": 84,
   "id": "78278238-8542-4c77-ad86-b7e7d575e7bc",
   "metadata": {},
   "outputs": [
    {
     "data": {
      "text/plain": [
       "<AxesSubplot:xlabel='PhysicalActivity', ylabel='count'>"
      ]
     },
     "execution_count": 84,
     "metadata": {},
     "output_type": "execute_result"
    },
    {
     "data": {
      "image/png": "[encoded data removed]",
      "text/plain": [
       "<Figure size 432x288 with 1 Axes>"
      ]
     },
     "metadata": {
      "needs_background": "light"
     },
     "output_type": "display_data"
    }
   ],
   "source": [
    "sns.countplot(x = 'PhysicalActivity',hue = 'HeartDisease', data = heart_dataset)"
   ]
  },
  {
   "cell_type": "code",
   "execution_count": 86,
   "id": "58db30ed-4277-41a0-a1b2-92d26fea854c",
   "metadata": {},
   "outputs": [
    {
     "data": {
      "text/plain": [
       "<matplotlib.legend.Legend at 0x16a1fc74370>"
      ]
     },
     "execution_count": 86,
     "metadata": {},
     "output_type": "execute_result"
    },
    {
     "data": {
      "image/png": "[encoded data removed]",
      "text/plain": [
       "<Figure size 432x288 with 1 Axes>"
      ]
     },
     "metadata": {},
     "output_type": "display_data"
    }
   ],
   "source": [
    "physact_heart_disease = heart_dataset.loc[heart_dataset['PhysicalActivity'] == 'Yes']\n",
    "plt.pie(physact_heart_disease['HeartDisease'].value_counts(), autopct='%1.1f%%')\n",
    "plt.title('Percentage of Individuals are involved in Physical Activity with Heart Disease',weight = 'bold')\n",
    "plt.legend(bbox_to_anchor=(1, 1), labels = ['No', 'Yes'])"
   ]
  },
  {
   "cell_type": "code",
   "execution_count": 87,
   "id": "9517c4d5-a084-45e7-b894-880a6a727524",
   "metadata": {},
   "outputs": [
    {
     "data": {
      "text/plain": [
       "<matplotlib.legend.Legend at 0x16a1fd613d0>"
      ]
     },
     "execution_count": 87,
     "metadata": {},
     "output_type": "execute_result"
    },
    {
     "data": {
      "image/png": "[encoded data removed]",
      "text/plain": [
       "<Figure size 432x288 with 1 Axes>"
      ]
     },
     "metadata": {},
     "output_type": "display_data"
    }
   ],
   "source": [
    "no_physact_heart_disease = heart_dataset.loc[heart_dataset['PhysicalActivity'] == 'No']\n",
    "plt.pie(no_physact_heart_disease['HeartDisease'].value_counts(), autopct='%1.1f%%')\n",
    "plt.title('Percentage of Individuals are not involved in Physical Activity with Heart Disease',weight = 'bold')\n",
    "plt.legend(bbox_to_anchor=(1, 1), labels = ['No', 'Yes'])"
   ]
  },
  {
   "cell_type": "markdown",
   "id": "29583e47-8350-4fd2-b0ba-75c277467c8c",
   "metadata": {},
   "source": [
    "#### General Health\n",
    "\n",
    "Distribution of General Health and those who have heart disease"
   ]
  },
  {
   "cell_type": "code",
   "execution_count": 88,
   "id": "8c5f31d2-1bc7-409b-84c7-2d19eae23e15",
   "metadata": {},
   "outputs": [
    {
     "data": {
      "text/plain": [
       "<AxesSubplot:xlabel='GenHealth', ylabel='count'>"
      ]
     },
     "execution_count": 88,
     "metadata": {},
     "output_type": "execute_result"
    },
    {
     "data": {
      "image/png": "[encoded data removed]",
      "text/plain": [
       "<Figure size 432x288 with 1 Axes>"
      ]
     },
     "metadata": {
      "needs_background": "light"
     },
     "output_type": "display_data"
    }
   ],
   "source": [
    "genhealth_order = ['Poor', 'Fair', 'Good', 'Very good', 'Excellent']\n",
    "sns.countplot(x = 'GenHealth', hue = 'HeartDisease', data = heart_dataset, order = genhealth_order)"
   ]
  },
  {
   "cell_type": "markdown",
   "id": "a0fe156f-e1a8-40e3-b07d-38abccb656eb",
   "metadata": {},
   "source": [
    "#### Sleep Time\n",
    "\n",
    "Distribution of an Individual's Amount of Sleep (hours) per night and those who have heart disease"
   ]
  },
  {
   "cell_type": "code",
   "execution_count": 92,
   "id": "768cba5a-2a20-4cf6-9509-552b025e3d05",
   "metadata": {},
   "outputs": [
    {
     "name": "stdout",
     "output_type": "stream",
     "text": [
      "Minimum Sleep Time (hours): 1.0\n",
      "Maximum Sleep Time (hours): 24.0\n"
     ]
    }
   ],
   "source": [
    "print(\"Minimum Sleep Time (hours):\", heart_dataset.SleepTime.min())\n",
    "print(\"Maximum Sleep Time (hours):\", heart_dataset.SleepTime.max())"
   ]
  },
  {
   "cell_type": "code",
   "execution_count": 93,
   "id": "26006f29-d1f6-4bb4-ad45-2c2c45ab74a7",
   "metadata": {},
   "outputs": [
    {
     "data": {
      "text/plain": [
       "<AxesSubplot:xlabel='SleepTime', ylabel='count'>"
      ]
     },
     "execution_count": 93,
     "metadata": {},
     "output_type": "execute_result"
    },
    {
     "data": {
      "image/png": "[encoded data removed]",
      "text/plain": [
       "<Figure size 1080x360 with 1 Axes>"
      ]
     },
     "metadata": {
      "needs_background": "light"
     },
     "output_type": "display_data"
    }
   ],
   "source": [
    "plt.figure(figsize = (15, 5))\n",
    "sns.countplot(x = 'SleepTime',hue = 'HeartDisease', data = heart_dataset)"
   ]
  },
  {
   "cell_type": "markdown",
   "id": "878a3792-3f0c-4807-bd8e-d095e6c4a25c",
   "metadata": {},
   "source": [
    "#### Asthma\n",
    "\n",
    "Distribution of Individuals with Asthma and those who have heart disease"
   ]
  },
  {
   "cell_type": "code",
   "execution_count": 94,
   "id": "aea4be10-64b6-49ce-ae6b-9c08dfec7658",
   "metadata": {},
   "outputs": [
    {
     "name": "stdout",
     "output_type": "stream",
     "text": [
      "Total Number of Individuals with Asthma: 42651\n",
      "Total Number of Individuals without Asthma: 259066\n",
      "Total Number of Individuals with Asthma that have heart disease: 4932\n",
      "Total Number of Individuals with Asthma that don't have heart disease: 37719\n",
      "Total Number of Individuals without Asthma that have heart disease: 22329\n",
      "Total Number of Individuals without Asthma that don't have heart disease: 236737\n"
     ]
    }
   ],
   "source": [
    "print(\"Total Number of Individuals with Asthma:\", (heart_dataset['Asthma'] == 'Yes').sum())\n",
    "print(\"Total Number of Individuals without Asthma:\", heart_dataset.shape[0] - (heart_dataset['Asthma'] == 'Yes').sum())\n",
    "print(\"Total Number of Individuals with Asthma that have heart disease:\", heart_dataset.loc[((heart_dataset['Asthma'] == 'Yes') & (heart_dataset['HeartDisease'] == 'Yes'))].shape[0])\n",
    "print(\"Total Number of Individuals with Asthma that don't have heart disease:\", heart_dataset.loc[((heart_dataset['Asthma'] == 'Yes') & (heart_dataset['HeartDisease'] == 'No'))].shape[0])\n",
    "print(\"Total Number of Individuals without Asthma that have heart disease:\", heart_dataset.loc[((heart_dataset['Asthma'] == 'No') & (heart_dataset['HeartDisease'] == 'Yes'))].shape[0])\n",
    "print(\"Total Number of Individuals without Asthma that don't have heart disease:\", heart_dataset.loc[((heart_dataset['Asthma'] == 'No') & (heart_dataset['HeartDisease'] == 'No'))].shape[0])"
   ]
  },
  {
   "cell_type": "code",
   "execution_count": 95,
   "id": "b851d0d0-1a78-4e98-a8e0-5e017e7205eb",
   "metadata": {},
   "outputs": [
    {
     "data": {
      "text/plain": [
       "<AxesSubplot:xlabel='Asthma', ylabel='count'>"
      ]
     },
     "execution_count": 95,
     "metadata": {},
     "output_type": "execute_result"
    },
    {
     "data": {
      "image/png": "[encoded data removed]",
      "text/plain": [
       "<Figure size 432x288 with 1 Axes>"
      ]
     },
     "metadata": {
      "needs_background": "light"
     },
     "output_type": "display_data"
    }
   ],
   "source": [
    "sns.countplot(x = 'Asthma',hue = 'HeartDisease', data = heart_dataset)"
   ]
  },
  {
   "cell_type": "code",
   "execution_count": 96,
   "id": "05ccbfe8-70a2-4bd5-9f66-77c65928acfd",
   "metadata": {},
   "outputs": [
    {
     "data": {
      "text/plain": [
       "<matplotlib.legend.Legend at 0x16a20027c10>"
      ]
     },
     "execution_count": 96,
     "metadata": {},
     "output_type": "execute_result"
    },
    {
     "data": {
      "image/png": "[encoded data removed]",
      "text/plain": [
       "<Figure size 432x288 with 1 Axes>"
      ]
     },
     "metadata": {},
     "output_type": "display_data"
    }
   ],
   "source": [
    "asthma_heart_disease = heart_dataset.loc[heart_dataset['Asthma'] == 'Yes']\n",
    "plt.pie(asthma_heart_disease['HeartDisease'].value_counts(), autopct='%1.1f%%')\n",
    "plt.title('Percentage of Individuals with Asthma that have Heart Disease',weight = 'bold')\n",
    "plt.legend(bbox_to_anchor=(1, 1), labels = ['No', 'Yes'])"
   ]
  },
  {
   "cell_type": "code",
   "execution_count": 97,
   "id": "88242fbc-2215-4880-bcae-7b59f95d50a2",
   "metadata": {},
   "outputs": [
    {
     "data": {
      "text/plain": [
       "<matplotlib.legend.Legend at 0x16a281d2eb0>"
      ]
     },
     "execution_count": 97,
     "metadata": {},
     "output_type": "execute_result"
    },
    {
     "data": {
      "image/png": "[encoded data removed]",
      "text/plain": [
       "<Figure size 432x288 with 1 Axes>"
      ]
     },
     "metadata": {},
     "output_type": "display_data"
    }
   ],
   "source": [
    "no_asthma_heart_disease = heart_dataset.loc[heart_dataset['Asthma'] == 'No']\n",
    "plt.pie(no_asthma_heart_disease['HeartDisease'].value_counts(), autopct='%1.1f%%')\n",
    "plt.title('Percentage of Individuals with Asthma that have Heart Disease',weight = 'bold')\n",
    "plt.legend(bbox_to_anchor=(1, 1), labels = ['No', 'Yes'])"
   ]
  },
  {
   "cell_type": "markdown",
   "id": "820ae80b-0435-4652-bf1c-2fde2e7375eb",
   "metadata": {},
   "source": [
    "#### Kidney Disease\n",
    "\n",
    "Distribution of Individuals with Kidney Disease and those who have heart disease"
   ]
  },
  {
   "cell_type": "code",
   "execution_count": 99,
   "id": "87c75309-2974-4da4-a9cf-0b5f821fbf33",
   "metadata": {},
   "outputs": [
    {
     "name": "stdout",
     "output_type": "stream",
     "text": [
      "Total Number of Individuals with Kidney Disease: 11776\n",
      "Total Number of Individuals without Kidney Disease: 289941\n",
      "Total Number of Individuals with Kidney Disease that have heart disease: 3454\n",
      "Total Number of Individuals with Kidney Disease that don't have heart disease: 8322\n",
      "Total Number of Individuals without Kidney Disease that have heart disease: 23807\n",
      "Total Number of Individuals without Kidney Disease that don't have heart disease: 266134\n"
     ]
    }
   ],
   "source": [
    "print(\"Total Number of Individuals with Kidney Disease:\", (heart_dataset['KidneyDisease'] == 'Yes').sum())\n",
    "print(\"Total Number of Individuals without Kidney Disease:\", heart_dataset.shape[0] - (heart_dataset['KidneyDisease'] == 'Yes').sum())\n",
    "print(\"Total Number of Individuals with Kidney Disease that have heart disease:\", heart_dataset.loc[((heart_dataset['KidneyDisease'] == 'Yes') & (heart_dataset['HeartDisease'] == 'Yes'))].shape[0])\n",
    "print(\"Total Number of Individuals with Kidney Disease that don't have heart disease:\", heart_dataset.loc[((heart_dataset['KidneyDisease'] == 'Yes') & (heart_dataset['HeartDisease'] == 'No'))].shape[0])\n",
    "print(\"Total Number of Individuals without Kidney Disease that have heart disease:\", heart_dataset.loc[((heart_dataset['KidneyDisease'] == 'No') & (heart_dataset['HeartDisease'] == 'Yes'))].shape[0])\n",
    "print(\"Total Number of Individuals without Kidney Disease that don't have heart disease:\", heart_dataset.loc[((heart_dataset['KidneyDisease'] == 'No') & (heart_dataset['HeartDisease'] == 'No'))].shape[0])"
   ]
  },
  {
   "cell_type": "code",
   "execution_count": 98,
   "id": "6d173b97-fb0f-4189-a66d-19aa1553523f",
   "metadata": {},
   "outputs": [
    {
     "data": {
      "text/plain": [
       "<AxesSubplot:xlabel='KidneyDisease', ylabel='count'>"
      ]
     },
     "execution_count": 98,
     "metadata": {},
     "output_type": "execute_result"
    },
    {
     "data": {
      "image/png": "[encoded data removed]",
      "text/plain": [
       "<Figure size 432x288 with 1 Axes>"
      ]
     },
     "metadata": {
      "needs_background": "light"
     },
     "output_type": "display_data"
    }
   ],
   "source": [
    "sns.countplot(x = 'KidneyDisease',hue = 'HeartDisease', data = heart_dataset)"
   ]
  },
  {
   "cell_type": "code",
   "execution_count": 100,
   "id": "51aa34cc-0867-4547-a2c2-a3b0533100ee",
   "metadata": {},
   "outputs": [
    {
     "data": {
      "text/plain": [
       "<matplotlib.legend.Legend at 0x16a1fc74430>"
      ]
     },
     "execution_count": 100,
     "metadata": {},
     "output_type": "execute_result"
    },
    {
     "data": {
      "image/png": "[encoded data removed]",
      "text/plain": [
       "<Figure size 432x288 with 1 Axes>"
      ]
     },
     "metadata": {},
     "output_type": "display_data"
    }
   ],
   "source": [
    "kidney_disease_heart_disease = heart_dataset.loc[heart_dataset['KidneyDisease'] == 'Yes']\n",
    "plt.pie(kidney_disease_heart_disease['HeartDisease'].value_counts(), autopct='%1.1f%%')\n",
    "plt.title('Percentage of Individuals with Kidney Disease that have Heart Disease',weight = 'bold')\n",
    "plt.legend(bbox_to_anchor=(1, 1), labels = ['No', 'Yes'])"
   ]
  },
  {
   "cell_type": "code",
   "execution_count": 101,
   "id": "2abac200-d91e-4245-acfe-b348332a4a72",
   "metadata": {},
   "outputs": [
    {
     "data": {
      "text/plain": [
       "<matplotlib.legend.Legend at 0x16a1ff94d30>"
      ]
     },
     "execution_count": 101,
     "metadata": {},
     "output_type": "execute_result"
    },
    {
     "data": {
      "image/png": "[encoded data removed]",
      "text/plain": [
       "<Figure size 432x288 with 1 Axes>"
      ]
     },
     "metadata": {},
     "output_type": "display_data"
    }
   ],
   "source": [
    "no_kidney_disease_heart_disease = heart_dataset.loc[heart_dataset['KidneyDisease'] == 'No']\n",
    "plt.pie(no_kidney_disease_heart_disease['HeartDisease'].value_counts(), autopct='%1.1f%%')\n",
    "plt.title('Percentage of Individuals with Kidney Disease that have Heart Disease',weight = 'bold')\n",
    "plt.legend(bbox_to_anchor=(1, 1), labels = ['No', 'Yes'])"
   ]
  },
  {
   "cell_type": "markdown",
   "id": "dc2c7429-2d55-404e-9744-b178ed85bfc9",
   "metadata": {},
   "source": [
    "#### Skin Cancer\n",
    "\n",
    "Distribution of Individuals with Skin Cancer and those who have heart disease"
   ]
  },
  {
   "cell_type": "code",
   "execution_count": 103,
   "id": "f573b4a5-41da-4ba2-b706-ddf42d83d0ce",
   "metadata": {},
   "outputs": [
    {
     "name": "stdout",
     "output_type": "stream",
     "text": [
      "Total Number of Individuals with Skin Cancer: 29292\n",
      "Total Number of Individuals without Skin Cancer: 272425\n",
      "Total Number of Individuals with Skin Cancer that have heart disease: 4968\n",
      "Total Number of Individuals with Skin Cancer that don't have heart disease: 24324\n",
      "Total Number of Individuals without Skin Cancer that have heart disease: 22293\n",
      "Total Number of Individuals without Skin Cancer that don't have heart disease: 250132\n"
     ]
    }
   ],
   "source": [
    "print(\"Total Number of Individuals with Skin Cancer:\", (heart_dataset['SkinCancer'] == 'Yes').sum())\n",
    "print(\"Total Number of Individuals without Skin Cancer:\", heart_dataset.shape[0] - (heart_dataset['SkinCancer'] == 'Yes').sum())\n",
    "print(\"Total Number of Individuals with Skin Cancer that have heart disease:\", heart_dataset.loc[((heart_dataset['SkinCancer'] == 'Yes') & (heart_dataset['HeartDisease'] == 'Yes'))].shape[0])\n",
    "print(\"Total Number of Individuals with Skin Cancer that don't have heart disease:\", heart_dataset.loc[((heart_dataset['SkinCancer'] == 'Yes') & (heart_dataset['HeartDisease'] == 'No'))].shape[0])\n",
    "print(\"Total Number of Individuals without Skin Cancer that have heart disease:\", heart_dataset.loc[((heart_dataset['SkinCancer'] == 'No') & (heart_dataset['HeartDisease'] == 'Yes'))].shape[0])\n",
    "print(\"Total Number of Individuals without Skin Cancer that don't have heart disease:\", heart_dataset.loc[((heart_dataset['SkinCancer'] == 'No') & (heart_dataset['HeartDisease'] == 'No'))].shape[0])"
   ]
  },
  {
   "cell_type": "code",
   "execution_count": 102,
   "id": "8cea5b13-1baa-438f-8145-8195486684af",
   "metadata": {},
   "outputs": [
    {
     "data": {
      "text/plain": [
       "<AxesSubplot:xlabel='SkinCancer', ylabel='count'>"
      ]
     },
     "execution_count": 102,
     "metadata": {},
     "output_type": "execute_result"
    },
    {
     "data": {
      "image/png": "[encoded data removed]",
      "text/plain": [
       "<Figure size 432x288 with 1 Axes>"
      ]
     },
     "metadata": {
      "needs_background": "light"
     },
     "output_type": "display_data"
    }
   ],
   "source": [
    "sns.countplot(x = 'SkinCancer',hue = 'HeartDisease', data = heart_dataset)"
   ]
  },
  {
   "cell_type": "code",
   "execution_count": 104,
   "id": "cf1ccb1c-aa05-4a4b-99cf-9f6b869313c9",
   "metadata": {},
   "outputs": [
    {
     "data": {
      "text/plain": [
       "<matplotlib.legend.Legend at 0x16a282120d0>"
      ]
     },
     "execution_count": 104,
     "metadata": {},
     "output_type": "execute_result"
    },
    {
     "data": {
      "image/png": "[encoded data removed]",
      "text/plain": [
       "<Figure size 432x288 with 1 Axes>"
      ]
     },
     "metadata": {},
     "output_type": "display_data"
    }
   ],
   "source": [
    "skin_cancer_heart_disease = heart_dataset.loc[heart_dataset['SkinCancer'] == 'Yes']\n",
    "plt.pie(skin_cancer_heart_disease['HeartDisease'].value_counts(), autopct='%1.1f%%')\n",
    "plt.title('Percentage of Individuals with Skin Cancer that have Heart Disease',weight = 'bold')\n",
    "plt.legend(bbox_to_anchor=(1, 1), labels = ['No', 'Yes'])"
   ]
  },
  {
   "cell_type": "code",
   "execution_count": 105,
   "id": "7d13ab03-2ecb-498d-a8db-e80814eb1fcc",
   "metadata": {},
   "outputs": [
    {
     "data": {
      "text/plain": [
       "<matplotlib.legend.Legend at 0x16a31f47400>"
      ]
     },
     "execution_count": 105,
     "metadata": {},
     "output_type": "execute_result"
    },
    {
     "data": {
      "image/png": "[encoded data removed]",
      "text/plain": [
       "<Figure size 432x288 with 1 Axes>"
      ]
     },
     "metadata": {},
     "output_type": "display_data"
    }
   ],
   "source": [
    "no_skin_cancer_heart_disease = heart_dataset.loc[heart_dataset['SkinCancer'] == 'No']\n",
    "plt.pie(no_skin_cancer_heart_disease['HeartDisease'].value_counts(), autopct='%1.1f%%')\n",
    "plt.title('Percentage of Individuals with Skin Cancer that have Heart Disease',weight = 'bold')\n",
    "plt.legend(bbox_to_anchor=(1, 1), labels = ['No', 'Yes'])"
   ]
  },
  {
   "cell_type": "markdown",
   "id": "032322bb-b457-4f87-b3f3-701c6aac3691",
   "metadata": {
    "tags": []
   },
   "source": [
    "#### Further Exploration\n",
    "\n",
    "Here we read in an article that those who have experienced a stroke might also show signs of difficulty walking and we decided to create a subset of data for those that exhibit behaviors of both those predictors\n",
    "\n",
    "#### Stroke and Difficulty Walking"
   ]
  },
  {
   "cell_type": "code",
   "execution_count": 106,
   "id": "846a39f6-fcf9-4757-b62e-dd454c1da7a0",
   "metadata": {},
   "outputs": [
    {
     "data": {
      "text/plain": [
       "<matplotlib.legend.Legend at 0x16a31f78f10>"
      ]
     },
     "execution_count": 106,
     "metadata": {},
     "output_type": "execute_result"
    },
    {
     "data": {
      "image/png": "[encoded data removed]",
      "text/plain": [
       "<Figure size 432x288 with 1 Axes>"
      ]
     },
     "metadata": {},
     "output_type": "display_data"
    }
   ],
   "source": [
    "stroke_diff_walk = heart_dataset.loc[((heart_dataset['DiffWalking'] == 'Yes') & (heart_dataset['Stroke'] == 'Yes'))]\n",
    "plt.pie(stroke_diff_walk['HeartDisease'].value_counts(), autopct='%1.1f%%')\n",
    "plt.title('Percentage of Individuals with Difficulty Walking and have had a stroke that have Heart Disease',weight = 'bold')\n",
    "plt.legend(bbox_to_anchor=(1, 1), labels = ['No', 'Yes'])"
   ]
  },
  {
   "cell_type": "code",
   "execution_count": 107,
   "id": "be195be1-8581-4aa2-aa31-4a66211be185",
   "metadata": {},
   "outputs": [
    {
     "data": {
      "text/plain": [
       "<matplotlib.legend.Legend at 0x16a2826d550>"
      ]
     },
     "execution_count": 107,
     "metadata": {},
     "output_type": "execute_result"
    },
    {
     "data": {
      "image/png": "[encoded data removed]",
      "text/plain": [
       "<Figure size 432x288 with 1 Axes>"
      ]
     },
     "metadata": {},
     "output_type": "display_data"
    }
   ],
   "source": [
    "stroke_diff_walk = heart_dataset.loc[((heart_dataset['DiffWalking'] == 'No') & (heart_dataset['Stroke'] == 'No'))]\n",
    "plt.pie(stroke_diff_walk['HeartDisease'].value_counts(), autopct='%1.1f%%')\n",
    "plt.title('Percentage of Individuals with Difficulty Walking and have had a stroke that have Heart Disease',weight = 'bold')\n",
    "plt.legend(bbox_to_anchor=(1, 1), labels = ['No', 'Yes'])"
   ]
  },
  {
   "cell_type": "code",
   "execution_count": 108,
   "id": "e399a41b-c526-4e92-93d8-f672d73ed2dd",
   "metadata": {},
   "outputs": [
    {
     "data": {
      "text/plain": [
       "<matplotlib.legend.Legend at 0x16a31ff75b0>"
      ]
     },
     "execution_count": 108,
     "metadata": {},
     "output_type": "execute_result"
    },
    {
     "data": {
      "image/png": "[encoded data removed]",
      "text/plain": [
       "<Figure size 432x288 with 1 Axes>"
      ]
     },
     "metadata": {},
     "output_type": "display_data"
    }
   ],
   "source": [
    "diffwal_stroke = heart_dataset.loc[(heart_dataset['Stroke'] == 'Yes')]\n",
    "plt.pie(diffwal_stroke['DiffWalking'].value_counts(), autopct='%1.1f%%')\n",
    "plt.title('Percentage of Individuals who have had a stoke and then have Difficulty Walking',weight = 'bold')\n",
    "plt.legend(bbox_to_anchor=(1, 1), labels = ['No', 'Yes'])"
   ]
  },
  {
   "cell_type": "markdown",
   "id": "975e28bb",
   "metadata": {},
   "source": [
    "## Developing the model"
   ]
  },
  {
   "cell_type": "markdown",
   "id": "a14ee0b2",
   "metadata": {},
   "source": [
    "Put code with comments. The comments should explain the code such that it can be easily understood. You may put text *(in a markdown cell)* before a large chunk of code to explain the overall purpose of the code, if it is not intuitive. **Put the name of the person / persons who contributed to each code chunk / set of code chunks.**"
   ]
  },
  {
   "cell_type": "markdown",
   "id": "30ef3bd4",
   "metadata": {},
   "source": [
    "Baseline Model"
   ]
  },
  {
   "cell_type": "code",
   "execution_count": 90,
   "id": "e3359849",
   "metadata": {},
   "outputs": [
    {
     "name": "stdout",
     "output_type": "stream",
     "text": [
      "Optimization terminated successfully.\n",
      "         Current function value: 0.353175\n",
      "         Iterations 9\n"
     ]
    }
   ],
   "source": [
    "model = sm.logit(formula = 'HeartDisease~(Age1+Age2+Age3+Age4+Age5+Age6+Age7+Age8+Age9+Age10+Age11+Age12)+(Verygood+Fair+Good+Poor)+Asthma+Smoking+Diabetic+KidneyDisease+Stroke+Sex+AlcoholDrinking+DiffWalking+BMI+SkinCancer+MentalHealth+(White+Black+Asian+AmericanIndianAlaskanNative+Hispanic)+SleepTime+PhysicalActivity+PhysicalHealth', data = train_smote).fit()"
   ]
  },
  {
   "cell_type": "code",
   "execution_count": 91,
   "id": "26ae8753",
   "metadata": {},
   "outputs": [
    {
     "data": {
      "text/html": [
       "<table class=\"simpletable\">\n",
       "<caption>Logit Regression Results</caption>\n",
       "<tr>\n",
       "  <th>Dep. Variable:</th>     <td>HeartDisease</td>   <th>  No. Observations:  </th>   <td>409390</td>   \n",
       "</tr>\n",
       "<tr>\n",
       "  <th>Model:</th>                 <td>Logit</td>      <th>  Df Residuals:      </th>   <td>409354</td>   \n",
       "</tr>\n",
       "<tr>\n",
       "  <th>Method:</th>                 <td>MLE</td>       <th>  Df Model:          </th>   <td>    35</td>   \n",
       "</tr>\n",
       "<tr>\n",
       "  <th>Date:</th>            <td>Mon, 13 Mar 2023</td> <th>  Pseudo R-squ.:     </th>   <td>0.4905</td>   \n",
       "</tr>\n",
       "<tr>\n",
       "  <th>Time:</th>                <td>23:48:50</td>     <th>  Log-Likelihood:    </th> <td>-1.4459e+05</td>\n",
       "</tr>\n",
       "<tr>\n",
       "  <th>converged:</th>             <td>True</td>       <th>  LL-Null:           </th> <td>-2.8377e+05</td>\n",
       "</tr>\n",
       "<tr>\n",
       "  <th>Covariance Type:</th>     <td>nonrobust</td>    <th>  LLR p-value:       </th>   <td> 0.000</td>   \n",
       "</tr>\n",
       "</table>\n",
       "<table class=\"simpletable\">\n",
       "<tr>\n",
       "               <td></td>                  <th>coef</th>     <th>std err</th>      <th>z</th>      <th>P>|z|</th>  <th>[0.025</th>    <th>0.975]</th>  \n",
       "</tr>\n",
       "<tr>\n",
       "  <th>Intercept</th>                   <td>    4.5626</td> <td>    0.043</td> <td>  105.123</td> <td> 0.000</td> <td>    4.478</td> <td>    4.648</td>\n",
       "</tr>\n",
       "<tr>\n",
       "  <th>Age1</th>                        <td>   -7.1262</td> <td>    0.093</td> <td>  -76.407</td> <td> 0.000</td> <td>   -7.309</td> <td>   -6.943</td>\n",
       "</tr>\n",
       "<tr>\n",
       "  <th>Age2</th>                        <td>   -6.8080</td> <td>    0.088</td> <td>  -77.668</td> <td> 0.000</td> <td>   -6.980</td> <td>   -6.636</td>\n",
       "</tr>\n",
       "<tr>\n",
       "  <th>Age3</th>                        <td>   -6.4686</td> <td>    0.070</td> <td>  -92.071</td> <td> 0.000</td> <td>   -6.606</td> <td>   -6.331</td>\n",
       "</tr>\n",
       "<tr>\n",
       "  <th>Age4</th>                        <td>   -6.0390</td> <td>    0.056</td> <td> -108.221</td> <td> 0.000</td> <td>   -6.148</td> <td>   -5.930</td>\n",
       "</tr>\n",
       "<tr>\n",
       "  <th>Age5</th>                        <td>   -5.4319</td> <td>    0.042</td> <td> -128.010</td> <td> 0.000</td> <td>   -5.515</td> <td>   -5.349</td>\n",
       "</tr>\n",
       "<tr>\n",
       "  <th>Age6</th>                        <td>   -4.9088</td> <td>    0.034</td> <td> -143.413</td> <td> 0.000</td> <td>   -4.976</td> <td>   -4.842</td>\n",
       "</tr>\n",
       "<tr>\n",
       "  <th>Age7</th>                        <td>   -4.1399</td> <td>    0.025</td> <td> -165.345</td> <td> 0.000</td> <td>   -4.189</td> <td>   -4.091</td>\n",
       "</tr>\n",
       "<tr>\n",
       "  <th>Age8</th>                        <td>   -3.4751</td> <td>    0.020</td> <td> -175.136</td> <td> 0.000</td> <td>   -3.514</td> <td>   -3.436</td>\n",
       "</tr>\n",
       "<tr>\n",
       "  <th>Age9</th>                        <td>   -2.8900</td> <td>    0.017</td> <td> -169.774</td> <td> 0.000</td> <td>   -2.923</td> <td>   -2.857</td>\n",
       "</tr>\n",
       "<tr>\n",
       "  <th>Age10</th>                       <td>   -2.4087</td> <td>    0.016</td> <td> -151.847</td> <td> 0.000</td> <td>   -2.440</td> <td>   -2.378</td>\n",
       "</tr>\n",
       "<tr>\n",
       "  <th>Age11</th>                       <td>   -1.8997</td> <td>    0.015</td> <td> -123.754</td> <td> 0.000</td> <td>   -1.930</td> <td>   -1.870</td>\n",
       "</tr>\n",
       "<tr>\n",
       "  <th>Age12</th>                       <td>   -1.6150</td> <td>    0.017</td> <td>  -96.828</td> <td> 0.000</td> <td>   -1.648</td> <td>   -1.582</td>\n",
       "</tr>\n",
       "<tr>\n",
       "  <th>Verygood</th>                    <td>   -0.8791</td> <td>    0.014</td> <td>  -64.115</td> <td> 0.000</td> <td>   -0.906</td> <td>   -0.852</td>\n",
       "</tr>\n",
       "<tr>\n",
       "  <th>Fair</th>                        <td>   -0.0736</td> <td>    0.017</td> <td>   -4.245</td> <td> 0.000</td> <td>   -0.108</td> <td>   -0.040</td>\n",
       "</tr>\n",
       "<tr>\n",
       "  <th>Good</th>                        <td>   -0.2952</td> <td>    0.013</td> <td>  -22.356</td> <td> 0.000</td> <td>   -0.321</td> <td>   -0.269</td>\n",
       "</tr>\n",
       "<tr>\n",
       "  <th>Poor</th>                        <td>    0.2587</td> <td>    0.028</td> <td>    9.200</td> <td> 0.000</td> <td>    0.204</td> <td>    0.314</td>\n",
       "</tr>\n",
       "<tr>\n",
       "  <th>Asthma</th>                      <td>   -0.3493</td> <td>    0.017</td> <td>  -20.890</td> <td> 0.000</td> <td>   -0.382</td> <td>   -0.317</td>\n",
       "</tr>\n",
       "<tr>\n",
       "  <th>Smoking</th>                     <td>    0.0802</td> <td>    0.010</td> <td>    8.343</td> <td> 0.000</td> <td>    0.061</td> <td>    0.099</td>\n",
       "</tr>\n",
       "<tr>\n",
       "  <th>Diabetic</th>                    <td>    0.0264</td> <td>    0.013</td> <td>    2.051</td> <td> 0.040</td> <td>    0.001</td> <td>    0.052</td>\n",
       "</tr>\n",
       "<tr>\n",
       "  <th>KidneyDisease</th>               <td>   -0.1929</td> <td>    0.024</td> <td>   -8.178</td> <td> 0.000</td> <td>   -0.239</td> <td>   -0.147</td>\n",
       "</tr>\n",
       "<tr>\n",
       "  <th>Stroke</th>                      <td>    0.2416</td> <td>    0.023</td> <td>   10.683</td> <td> 0.000</td> <td>    0.197</td> <td>    0.286</td>\n",
       "</tr>\n",
       "<tr>\n",
       "  <th>Sex</th>                         <td>   -1.4589</td> <td>    0.010</td> <td> -142.904</td> <td> 0.000</td> <td>   -1.479</td> <td>   -1.439</td>\n",
       "</tr>\n",
       "<tr>\n",
       "  <th>AlcoholDrinking</th>             <td>   -1.5426</td> <td>    0.033</td> <td>  -47.322</td> <td> 0.000</td> <td>   -1.606</td> <td>   -1.479</td>\n",
       "</tr>\n",
       "<tr>\n",
       "  <th>DiffWalking</th>                 <td>   -0.3588</td> <td>    0.014</td> <td>  -25.122</td> <td> 0.000</td> <td>   -0.387</td> <td>   -0.331</td>\n",
       "</tr>\n",
       "<tr>\n",
       "  <th>BMI</th>                         <td>    0.0369</td> <td>    0.001</td> <td>   43.582</td> <td> 0.000</td> <td>    0.035</td> <td>    0.039</td>\n",
       "</tr>\n",
       "<tr>\n",
       "  <th>SkinCancer</th>                  <td>   -0.7063</td> <td>    0.015</td> <td>  -48.459</td> <td> 0.000</td> <td>   -0.735</td> <td>   -0.678</td>\n",
       "</tr>\n",
       "<tr>\n",
       "  <th>MentalHealth</th>                <td>    0.0105</td> <td>    0.001</td> <td>   15.279</td> <td> 0.000</td> <td>    0.009</td> <td>    0.012</td>\n",
       "</tr>\n",
       "<tr>\n",
       "  <th>White</th>                       <td>   -1.5909</td> <td>    0.021</td> <td>  -76.651</td> <td> 0.000</td> <td>   -1.632</td> <td>   -1.550</td>\n",
       "</tr>\n",
       "<tr>\n",
       "  <th>Black</th>                       <td>   -2.5804</td> <td>    0.031</td> <td>  -83.419</td> <td> 0.000</td> <td>   -2.641</td> <td>   -2.520</td>\n",
       "</tr>\n",
       "<tr>\n",
       "  <th>Asian</th>                       <td>   -3.3798</td> <td>    0.067</td> <td>  -50.122</td> <td> 0.000</td> <td>   -3.512</td> <td>   -3.248</td>\n",
       "</tr>\n",
       "<tr>\n",
       "  <th>AmericanIndianAlaskanNative</th> <td>   -2.5793</td> <td>    0.059</td> <td>  -44.005</td> <td> 0.000</td> <td>   -2.694</td> <td>   -2.464</td>\n",
       "</tr>\n",
       "<tr>\n",
       "  <th>Hispanic</th>                    <td>   -2.4217</td> <td>    0.032</td> <td>  -74.896</td> <td> 0.000</td> <td>   -2.485</td> <td>   -2.358</td>\n",
       "</tr>\n",
       "<tr>\n",
       "  <th>SleepTime</th>                   <td>   -0.0726</td> <td>    0.003</td> <td>  -21.529</td> <td> 0.000</td> <td>   -0.079</td> <td>   -0.066</td>\n",
       "</tr>\n",
       "<tr>\n",
       "  <th>PhysicalActivity</th>            <td>   -0.4341</td> <td>    0.011</td> <td>  -39.125</td> <td> 0.000</td> <td>   -0.456</td> <td>   -0.412</td>\n",
       "</tr>\n",
       "<tr>\n",
       "  <th>PhysicalHealth</th>              <td>    0.0158</td> <td>    0.001</td> <td>   23.560</td> <td> 0.000</td> <td>    0.014</td> <td>    0.017</td>\n",
       "</tr>\n",
       "</table>"
      ],
      "text/plain": [
       "<class 'statsmodels.iolib.summary.Summary'>\n",
       "\"\"\"\n",
       "                           Logit Regression Results                           \n",
       "==============================================================================\n",
       "Dep. Variable:           HeartDisease   No. Observations:               409390\n",
       "Model:                          Logit   Df Residuals:                   409354\n",
       "Method:                           MLE   Df Model:                           35\n",
       "Date:                Mon, 13 Mar 2023   Pseudo R-squ.:                  0.4905\n",
       "Time:                        23:48:50   Log-Likelihood:            -1.4459e+05\n",
       "converged:                       True   LL-Null:                   -2.8377e+05\n",
       "Covariance Type:            nonrobust   LLR p-value:                     0.000\n",
       "===============================================================================================\n",
       "                                  coef    std err          z      P>|z|      [0.025      0.975]\n",
       "-----------------------------------------------------------------------------------------------\n",
       "Intercept                       4.5626      0.043    105.123      0.000       4.478       4.648\n",
       "Age1                           -7.1262      0.093    -76.407      0.000      -7.309      -6.943\n",
       "Age2                           -6.8080      0.088    -77.668      0.000      -6.980      -6.636\n",
       "Age3                           -6.4686      0.070    -92.071      0.000      -6.606      -6.331\n",
       "Age4                           -6.0390      0.056   -108.221      0.000      -6.148      -5.930\n",
       "Age5                           -5.4319      0.042   -128.010      0.000      -5.515      -5.349\n",
       "Age6                           -4.9088      0.034   -143.413      0.000      -4.976      -4.842\n",
       "Age7                           -4.1399      0.025   -165.345      0.000      -4.189      -4.091\n",
       "Age8                           -3.4751      0.020   -175.136      0.000      -3.514      -3.436\n",
       "Age9                           -2.8900      0.017   -169.774      0.000      -2.923      -2.857\n",
       "Age10                          -2.4087      0.016   -151.847      0.000      -2.440      -2.378\n",
       "Age11                          -1.8997      0.015   -123.754      0.000      -1.930      -1.870\n",
       "Age12                          -1.6150      0.017    -96.828      0.000      -1.648      -1.582\n",
       "Verygood                       -0.8791      0.014    -64.115      0.000      -0.906      -0.852\n",
       "Fair                           -0.0736      0.017     -4.245      0.000      -0.108      -0.040\n",
       "Good                           -0.2952      0.013    -22.356      0.000      -0.321      -0.269\n",
       "Poor                            0.2587      0.028      9.200      0.000       0.204       0.314\n",
       "Asthma                         -0.3493      0.017    -20.890      0.000      -0.382      -0.317\n",
       "Smoking                         0.0802      0.010      8.343      0.000       0.061       0.099\n",
       "Diabetic                        0.0264      0.013      2.051      0.040       0.001       0.052\n",
       "KidneyDisease                  -0.1929      0.024     -8.178      0.000      -0.239      -0.147\n",
       "Stroke                          0.2416      0.023     10.683      0.000       0.197       0.286\n",
       "Sex                            -1.4589      0.010   -142.904      0.000      -1.479      -1.439\n",
       "AlcoholDrinking                -1.5426      0.033    -47.322      0.000      -1.606      -1.479\n",
       "DiffWalking                    -0.3588      0.014    -25.122      0.000      -0.387      -0.331\n",
       "BMI                             0.0369      0.001     43.582      0.000       0.035       0.039\n",
       "SkinCancer                     -0.7063      0.015    -48.459      0.000      -0.735      -0.678\n",
       "MentalHealth                    0.0105      0.001     15.279      0.000       0.009       0.012\n",
       "White                          -1.5909      0.021    -76.651      0.000      -1.632      -1.550\n",
       "Black                          -2.5804      0.031    -83.419      0.000      -2.641      -2.520\n",
       "Asian                          -3.3798      0.067    -50.122      0.000      -3.512      -3.248\n",
       "AmericanIndianAlaskanNative    -2.5793      0.059    -44.005      0.000      -2.694      -2.464\n",
       "Hispanic                       -2.4217      0.032    -74.896      0.000      -2.485      -2.358\n",
       "SleepTime                      -0.0726      0.003    -21.529      0.000      -0.079      -0.066\n",
       "PhysicalActivity               -0.4341      0.011    -39.125      0.000      -0.456      -0.412\n",
       "PhysicalHealth                  0.0158      0.001     23.560      0.000       0.014       0.017\n",
       "===============================================================================================\n",
       "\"\"\""
      ]
     },
     "execution_count": 91,
     "metadata": {},
     "output_type": "execute_result"
    }
   ],
   "source": [
    "model.summary()"
   ]
  },
  {
   "cell_type": "code",
   "execution_count": 92,
   "id": "9c71bd93",
   "metadata": {},
   "outputs": [],
   "source": [
    "from sklearn.metrics import roc_curve, auc\n",
    "#Function to compute confusion matrix and prediction accuracy on test/train data\n",
    "def confusion_matrix_data(data,actual_values,model,cutoff=0.5):\n",
    "#Predict the values using the Logit model\n",
    "    pred_values = model.predict(data)\n",
    "# Specify the bins\n",
    "    bins=np.array([0,cutoff,1])\n",
    "#Confusion matrix\n",
    "    cm = np.histogram2d(actual_values, pred_values, bins=bins)[0]\n",
    "    cm_df = pd.DataFrame(cm)\n",
    "    cm_df.columns = ['Predicted 0','Predicted 1']\n",
    "    cm_df = cm_df.rename(index={0: 'Actual 0',1:'Actual 1'})\n",
    "# Calculate the accuracy\n",
    "    accuracy = (cm[0,0]+cm[1,1])/cm.sum()\n",
    "    fnr = (cm[1,0])/(cm[1,0]+cm[1,1])\n",
    "    precision = (cm[1,1])/(cm[0,1]+cm[1,1])\n",
    "    fpr = (cm[0,1])/(cm[0,0]+cm[0,1])\n",
    "    tpr = (cm[1,1])/(cm[1,0]+cm[1,1])\n",
    "    fpr_roc, tpr_roc, auc_thresholds = roc_curve(actual_values, pred_values)\n",
    "    auc_value = (auc(fpr_roc, tpr_roc))# AUC of ROC\n",
    "    sns.heatmap(cm_df, annot=True, cmap='Blues', fmt='g')\n",
    "    plt.ylabel(\"Actual Values\")\n",
    "    plt.xlabel(\"Predicted Values\")\n",
    "    print(\"Classification accuracy = {:.1%}\".format(accuracy))\n",
    "    print(\"Precision = {:.1%}\".format(precision))\n",
    "    print(\"TPR or Recall = {:.1%}\".format(tpr))\n",
    "    print(\"FNR = {:.1%}\".format(fnr))\n",
    "    print(\"FPR = {:.1%}\".format(fpr))\n",
    "    print(\"ROC-AUC = {:.1%}\".format(auc_value))\n",
    "    return pred_values"
   ]
  },
  {
   "cell_type": "code",
   "execution_count": 93,
   "id": "accc2b30",
   "metadata": {},
   "outputs": [
    {
     "name": "stdout",
     "output_type": "stream",
     "text": [
      "Classification accuracy = 83.6%\n",
      "Precision = 24.2%\n",
      "TPR or Recall = 43.3%\n",
      "FNR = 56.7%\n",
      "FPR = 12.7%\n",
      "ROC-AUC = 77.8%\n"
     ]
    },
    {
     "data": {
      "text/plain": [
       "0         0.026237\n",
       "1         0.664478\n",
       "2         0.698770\n",
       "3         0.343817\n",
       "4         0.007722\n",
       "            ...   \n",
       "319790    0.323386\n",
       "319791    0.008643\n",
       "319792    0.011014\n",
       "319793    0.002278\n",
       "319794    0.748316\n",
       "Length: 319795, dtype: float64"
      ]
     },
     "execution_count": 93,
     "metadata": {},
     "output_type": "execute_result"
    },
    {
     "data": {
      "image/png": "[encoded data removed]",
      "text/plain": [
       "<Figure size 432x288 with 2 Axes>"
      ]
     },
     "metadata": {
      "needs_background": "light"
     },
     "output_type": "display_data"
    }
   ],
   "source": [
    "confusion_matrix_data(data,data.HeartDisease,model,0.6)"
   ]
  },
  {
   "cell_type": "markdown",
   "id": "8eeddfee",
   "metadata": {},
   "source": [
    "Forward Stepwise Selection \n",
    "\n",
    "*by Candy Tantichirasakul*"
   ]
  },
  {
   "cell_type": "code",
   "execution_count": 94,
   "id": "17bfc225",
   "metadata": {},
   "outputs": [],
   "source": [
    "X = train_smote[['BMI', 'Smoking', 'AlcoholDrinking',\"MentalHealth\", \"Stroke\", \"Sex\",'PhysicalHealth', \"DiffWalking\", \"Diabetic\", \"PhysicalActivity\", \"SleepTime\", \"Asthma\", \"KidneyDisease\", \"SkinCancer\", \"Age1\", \"Age2\", \"Age3\", \"Age4\", \"Age5\", \"Age6\", \"Age7\", \"Age8\", \"Age9\", \"Age10\", \"Age11\", \"Age12\", \"White\", \"Black\", \"Asian\", \"AmericanIndianAlaskanNative\", \"Hispanic\", \"Poor\", \"Fair\", \"Good\", \"Verygood\"]]\n"
   ]
  },
  {
   "cell_type": "code",
   "execution_count": 30,
   "id": "6e3cb247",
   "metadata": {},
   "outputs": [],
   "source": [
    "#Function to develop a model based on all predictors in predictor_subset\n",
    "def processSubset(predictor_subset):\n",
    "    # Fit model on feature_set and calculate R-squared\n",
    "    model = sm.logit('HeartDisease~' + '+'.join(predictor_subset),data = train_smote).fit()\n",
    "    llr_pvalue = model.llr_pvalue\n",
    "    return {\"model\":model, \"llr_pvalue\":llr_pvalue}\n",
    "#Function to select the best model amongst all models with 'k' predictors\n",
    "def getBest_model(k):\n",
    "    tic = time.time()\n",
    "    results = []\n",
    "    for combo in itertools.combinations(X.columns, k):\n",
    "        results.append(processSubset((list(combo))))\n",
    "\n",
    "    # Wrap everything up in a dataframe\n",
    "    models = pd.DataFrame(results)\n",
    "\n",
    "    # Choose the model with the highest RSS\n",
    "    best_model = models.loc[models['llr_pvalue'].argmin()]\n",
    "    \n",
    "    toc = time.time()\n",
    "    print(\"Processed\", models.shape[0], \"models on\", k, \"predictors in\", (toc-tic), \"seconds.\")\n",
    "    return best_model"
   ]
  },
  {
   "cell_type": "code",
   "execution_count": 31,
   "id": "f49e2bdc",
   "metadata": {},
   "outputs": [],
   "source": [
    "#Function to find the best predictor out of p-k predictors and add it to the model containing the k predictors\n",
    "def forward(predictors):\n",
    "\n",
    "    # Pull out predictors we still need to process\n",
    "    remaining_predictors = [p for p in X.columns if p not in predictors]\n",
    "    \n",
    "    tic = time.time()\n",
    "    \n",
    "    results = []\n",
    "    \n",
    "    for p in remaining_predictors:\n",
    "        results.append(processSubset(predictors+[p]))\n",
    "    \n",
    "    # Wrap everything up in a nice dataframe\n",
    "    models = pd.DataFrame(results)\n",
    "    \n",
    "    # Choose the model with the highest RSS\n",
    "    best_model = models.loc[models['llr_pvalue'].argmin()]\n",
    "    \n",
    "    toc = time.time()\n",
    "    print(\"Processed \", models.shape[0], \"models on\", len(predictors)+1, \"predictors in\", (toc-tic), \"seconds.\")\n",
    "    \n",
    "    # Return the best model, along with some other useful information about the model\n",
    "    return best_model"
   ]
  },
  {
   "cell_type": "code",
   "execution_count": 32,
   "id": "e64e07cd",
   "metadata": {},
   "outputs": [],
   "source": [
    "def forward_selection():\n",
    "    models_best = pd.DataFrame(columns=[\"llr_pvalue\", \"model\"])\n",
    "\n",
    "    tic = time.time()\n",
    "    predictors = []\n",
    "\n",
    "    for i in range(1,len(X.columns)+1):    \n",
    "        models_best.loc[i] = forward(predictors)\n",
    "        predictors = list(models_best.loc[i][\"model\"].params.index[1:])\n",
    "\n",
    "    toc = time.time()\n",
    "    print(\"Total elapsed time:\", (toc-tic), \"seconds.\")\n",
    "    return models_best"
   ]
  },
  {
   "cell_type": "code",
   "execution_count": 91,
   "id": "7ad0561f",
   "metadata": {},
   "outputs": [
    {
     "name": "stdout",
     "output_type": "stream",
     "text": [
      "Optimization terminated successfully.\n",
      "         Current function value: 0.688846\n",
      "         Iterations 4\n",
      "Optimization terminated successfully.\n",
      "         Current function value: 0.689335\n",
      "         Iterations 4\n",
      "Optimization terminated successfully.\n",
      "         Current function value: 0.678992\n",
      "         Iterations 6\n",
      "Optimization terminated successfully.\n",
      "         Current function value: 0.692087\n",
      "         Iterations 3\n",
      "Optimization terminated successfully.\n",
      "         Current function value: 0.689310\n",
      "         Iterations 5\n",
      "Optimization terminated successfully.\n",
      "         Current function value: 0.661930\n",
      "         Iterations 4\n",
      "Optimization terminated successfully.\n",
      "         Current function value: 0.662006\n",
      "         Iterations 5\n",
      "Optimization terminated successfully.\n",
      "         Current function value: 0.674587\n",
      "         Iterations 5\n",
      "Optimization terminated successfully.\n",
      "         Current function value: 0.684970\n",
      "         Iterations 4\n",
      "Optimization terminated successfully.\n",
      "         Current function value: 0.660807\n",
      "         Iterations 4\n",
      "Optimization terminated successfully.\n",
      "         Current function value: 0.693070\n",
      "         Iterations 3\n",
      "Optimization terminated successfully.\n",
      "         Current function value: 0.688984\n",
      "         Iterations 4\n",
      "Optimization terminated successfully.\n",
      "         Current function value: 0.691872\n",
      "         Iterations 4\n",
      "Optimization terminated successfully.\n",
      "         Current function value: 0.692851\n",
      "         Iterations 3\n",
      "Optimization terminated successfully.\n",
      "         Current function value: 0.669035\n",
      "         Iterations 9\n",
      "Optimization terminated successfully.\n",
      "         Current function value: 0.674504\n",
      "         Iterations 8\n",
      "Optimization terminated successfully.\n",
      "         Current function value: 0.673173\n",
      "         Iterations 8\n",
      "Optimization terminated successfully.\n",
      "         Current function value: 0.672103\n",
      "         Iterations 8\n",
      "Optimization terminated successfully.\n",
      "         Current function value: 0.674056\n",
      "         Iterations 7\n",
      "Optimization terminated successfully.\n",
      "         Current function value: 0.676168\n",
      "         Iterations 6\n",
      "Optimization terminated successfully.\n",
      "         Current function value: 0.679753\n",
      "         Iterations 6\n",
      "Optimization terminated successfully.\n",
      "         Current function value: 0.684966\n",
      "         Iterations 5\n",
      "Optimization terminated successfully.\n",
      "         Current function value: 0.690360\n",
      "         Iterations 4\n",
      "Optimization terminated successfully.\n",
      "         Current function value: 0.692887\n",
      "         Iterations 3\n",
      "Optimization terminated successfully.\n",
      "         Current function value: 0.692299\n",
      "         Iterations 4\n",
      "Optimization terminated successfully.\n",
      "         Current function value: 0.691394\n",
      "         Iterations 4\n",
      "Optimization terminated successfully.\n",
      "         Current function value: 0.692592\n",
      "         Iterations 3\n",
      "Optimization terminated successfully.\n",
      "         Current function value: 0.685554\n",
      "         Iterations 5\n",
      "Optimization terminated successfully.\n",
      "         Current function value: 0.686802\n",
      "         Iterations 7\n",
      "Optimization terminated successfully.\n",
      "         Current function value: 0.690838\n",
      "         Iterations 5\n",
      "Optimization terminated successfully.\n",
      "         Current function value: 0.680031\n",
      "         Iterations 5\n",
      "Optimization terminated successfully.\n",
      "         Current function value: 0.681182\n",
      "         Iterations 5\n",
      "Optimization terminated successfully.\n",
      "         Current function value: 0.684805\n",
      "         Iterations 4\n",
      "Optimization terminated successfully.\n",
      "         Current function value: 0.693083\n",
      "         Iterations 3\n",
      "Optimization terminated successfully.\n",
      "         Current function value: 0.663948\n",
      "         Iterations 5\n",
      "Processed  35 models on 1 predictors in 15.857404947280884 seconds.\n",
      "Optimization terminated successfully.\n",
      "         Current function value: 0.684907\n",
      "         Iterations 4\n",
      "Optimization terminated successfully.\n",
      "         Current function value: 0.675240\n",
      "         Iterations 6\n",
      "Optimization terminated successfully.\n",
      "         Current function value: 0.688058\n",
      "         Iterations 4\n",
      "Optimization terminated successfully.\n",
      "         Current function value: 0.684987\n",
      "         Iterations 5\n",
      "Optimization terminated successfully.\n",
      "         Current function value: 0.658593\n",
      "         Iterations 5\n",
      "Optimization terminated successfully.\n",
      "         Current function value: 0.659888\n",
      "         Iterations 5\n",
      "Optimization terminated successfully.\n",
      "         Current function value: 0.673014\n",
      "         Iterations 5\n",
      "Optimization terminated successfully.\n",
      "         Current function value: 0.682735\n",
      "         Iterations 4\n",
      "Optimization terminated successfully.\n",
      "         Current function value: 0.659669\n",
      "         Iterations 5\n",
      "Optimization terminated successfully.\n",
      "         Current function value: 0.688705\n",
      "         Iterations 4\n",
      "Optimization terminated successfully.\n",
      "         Current function value: 0.683916\n",
      "         Iterations 4\n",
      "Optimization terminated successfully.\n",
      "         Current function value: 0.687780\n",
      "         Iterations 4\n",
      "Optimization terminated successfully.\n",
      "         Current function value: 0.688397\n",
      "         Iterations 4\n",
      "Optimization terminated successfully.\n",
      "         Current function value: 0.666084\n",
      "         Iterations 9\n",
      "Optimization terminated successfully.\n",
      "         Current function value: 0.670546\n",
      "         Iterations 8\n",
      "Optimization terminated successfully.\n",
      "         Current function value: 0.668944\n",
      "         Iterations 8\n",
      "Optimization terminated successfully.\n",
      "         Current function value: 0.667636\n",
      "         Iterations 8\n",
      "Optimization terminated successfully.\n",
      "         Current function value: 0.669344\n",
      "         Iterations 7\n",
      "Optimization terminated successfully.\n",
      "         Current function value: 0.671291\n",
      "         Iterations 6\n",
      "Optimization terminated successfully.\n",
      "         Current function value: 0.674868\n",
      "         Iterations 6\n",
      "Optimization terminated successfully.\n",
      "         Current function value: 0.680237\n",
      "         Iterations 5\n",
      "Optimization terminated successfully.\n",
      "         Current function value: 0.685828\n",
      "         Iterations 4\n",
      "Optimization terminated successfully.\n",
      "         Current function value: 0.688541\n",
      "         Iterations 4\n",
      "Optimization terminated successfully.\n",
      "         Current function value: 0.687951\n",
      "         Iterations 4\n",
      "Optimization terminated successfully.\n",
      "         Current function value: 0.686825\n",
      "         Iterations 4\n",
      "Optimization terminated successfully.\n",
      "         Current function value: 0.688038\n",
      "         Iterations 4\n",
      "Optimization terminated successfully.\n",
      "         Current function value: 0.680504\n",
      "         Iterations 5\n",
      "Optimization terminated successfully.\n",
      "         Current function value: 0.683074\n",
      "         Iterations 7\n",
      "Optimization terminated successfully.\n",
      "         Current function value: 0.686442\n",
      "         Iterations 5\n",
      "Optimization terminated successfully.\n",
      "         Current function value: 0.675558\n",
      "         Iterations 5\n",
      "Optimization terminated successfully.\n",
      "         Current function value: 0.677675\n",
      "         Iterations 5\n",
      "Optimization terminated successfully.\n",
      "         Current function value: 0.681497\n",
      "         Iterations 4\n",
      "Optimization terminated successfully.\n",
      "         Current function value: 0.688823\n",
      "         Iterations 4\n",
      "Optimization terminated successfully.\n",
      "         Current function value: 0.661477\n",
      "         Iterations 5\n",
      "Processed  34 models on 2 predictors in 16.581189155578613 seconds.\n",
      "Optimization terminated successfully.\n",
      "         Current function value: 0.670065\n",
      "         Iterations 6\n",
      "Optimization terminated successfully.\n",
      "         Current function value: 0.684312\n",
      "         Iterations 4\n",
      "Optimization terminated successfully.\n",
      "         Current function value: 0.681304\n",
      "         Iterations 5\n",
      "Optimization terminated successfully.\n",
      "         Current function value: 0.656710\n",
      "         Iterations 5\n",
      "Optimization terminated successfully.\n",
      "         Current function value: 0.657379\n",
      "         Iterations 5\n",
      "Optimization terminated successfully.\n",
      "         Current function value: 0.670077\n",
      "         Iterations 5\n",
      "Optimization terminated successfully.\n",
      "         Current function value: 0.679083\n",
      "         Iterations 4\n",
      "Optimization terminated successfully.\n",
      "         Current function value: 0.657216\n",
      "         Iterations 5\n",
      "Optimization terminated successfully.\n",
      "         Current function value: 0.684725\n",
      "         Iterations 4\n",
      "Optimization terminated successfully.\n",
      "         Current function value: 0.679885\n",
      "         Iterations 4\n",
      "Optimization terminated successfully.\n",
      "         Current function value: 0.683880\n",
      "         Iterations 4\n",
      "Optimization terminated successfully.\n",
      "         Current function value: 0.684494\n",
      "         Iterations 4\n",
      "Optimization terminated successfully.\n",
      "         Current function value: 0.663689\n",
      "         Iterations 9\n",
      "Optimization terminated successfully.\n",
      "         Current function value: 0.667164\n",
      "         Iterations 8\n",
      "Optimization terminated successfully.\n",
      "         Current function value: 0.665230\n",
      "         Iterations 8\n",
      "Optimization terminated successfully.\n",
      "         Current function value: 0.663658\n",
      "         Iterations 8\n",
      "Optimization terminated successfully.\n",
      "         Current function value: 0.665281\n",
      "         Iterations 7\n",
      "Optimization terminated successfully.\n",
      "         Current function value: 0.667442\n",
      "         Iterations 6\n",
      "Optimization terminated successfully.\n",
      "         Current function value: 0.671142\n",
      "         Iterations 6\n",
      "Optimization terminated successfully.\n",
      "         Current function value: 0.676263\n",
      "         Iterations 5\n",
      "Optimization terminated successfully.\n",
      "         Current function value: 0.681769\n",
      "         Iterations 4\n",
      "Optimization terminated successfully.\n",
      "         Current function value: 0.684551\n",
      "         Iterations 4\n",
      "Optimization terminated successfully.\n",
      "         Current function value: 0.684157\n",
      "         Iterations 4\n",
      "Optimization terminated successfully.\n",
      "         Current function value: 0.683089\n",
      "         Iterations 4\n",
      "Optimization terminated successfully.\n",
      "         Current function value: 0.684311\n",
      "         Iterations 4\n",
      "Optimization terminated successfully.\n",
      "         Current function value: 0.676995\n",
      "         Iterations 5\n",
      "Optimization terminated successfully.\n",
      "         Current function value: 0.679537\n",
      "         Iterations 7\n",
      "Optimization terminated successfully.\n",
      "         Current function value: 0.682351\n",
      "         Iterations 5\n",
      "Optimization terminated successfully.\n",
      "         Current function value: 0.672391\n",
      "         Iterations 5\n",
      "Optimization terminated successfully.\n",
      "         Current function value: 0.674502\n",
      "         Iterations 5\n",
      "Optimization terminated successfully.\n",
      "         Current function value: 0.678197\n",
      "         Iterations 4\n",
      "Optimization terminated successfully.\n",
      "         Current function value: 0.684900\n",
      "         Iterations 4\n",
      "Optimization terminated successfully.\n",
      "         Current function value: 0.658533\n",
      "         Iterations 5\n",
      "Processed  33 models on 3 predictors in 16.55005693435669 seconds.\n",
      "Optimization terminated successfully.\n",
      "         Current function value: 0.669271\n",
      "         Iterations 6\n",
      "Optimization terminated successfully.\n",
      "         Current function value: 0.666668\n",
      "         Iterations 6\n",
      "Optimization terminated successfully.\n",
      "         Current function value: 0.642760\n",
      "         Iterations 6\n",
      "Optimization terminated successfully.\n",
      "         Current function value: 0.643863\n",
      "         Iterations 6\n",
      "Optimization terminated successfully.\n",
      "         Current function value: 0.656278\n",
      "         Iterations 6\n",
      "Optimization terminated successfully.\n",
      "         Current function value: 0.665004\n",
      "         Iterations 6\n",
      "Optimization terminated successfully.\n",
      "         Current function value: 0.643677\n",
      "         Iterations 6\n",
      "Optimization terminated successfully.\n",
      "         Current function value: 0.669894\n",
      "         Iterations 6\n",
      "Optimization terminated successfully.\n",
      "         Current function value: 0.665220\n",
      "         Iterations 6\n",
      "Optimization terminated successfully.\n",
      "         Current function value: 0.669176\n",
      "         Iterations 6\n",
      "Optimization terminated successfully.\n",
      "         Current function value: 0.669681\n",
      "         Iterations 6\n",
      "Optimization terminated successfully.\n",
      "         Current function value: 0.649449\n",
      "         Iterations 9\n",
      "Optimization terminated successfully.\n",
      "         Current function value: 0.653091\n",
      "         Iterations 8\n",
      "Optimization terminated successfully.\n",
      "         Current function value: 0.651109\n",
      "         Iterations 8\n",
      "Optimization terminated successfully.\n",
      "         Current function value: 0.649702\n",
      "         Iterations 8\n",
      "Optimization terminated successfully.\n",
      "         Current function value: 0.651137\n",
      "         Iterations 7\n",
      "Optimization terminated successfully.\n",
      "         Current function value: 0.653154\n",
      "         Iterations 6\n",
      "Optimization terminated successfully.\n",
      "         Current function value: 0.656842\n",
      "         Iterations 6\n",
      "Optimization terminated successfully.\n",
      "         Current function value: 0.661793\n",
      "         Iterations 6\n",
      "Optimization terminated successfully.\n",
      "         Current function value: 0.667035\n",
      "         Iterations 6\n",
      "Optimization terminated successfully.\n",
      "         Current function value: 0.669696\n",
      "         Iterations 6\n",
      "Optimization terminated successfully.\n",
      "         Current function value: 0.669443\n",
      "         Iterations 6\n",
      "Optimization terminated successfully.\n",
      "         Current function value: 0.668514\n",
      "         Iterations 6\n",
      "Optimization terminated successfully.\n",
      "         Current function value: 0.669393\n",
      "         Iterations 6\n",
      "Optimization terminated successfully.\n",
      "         Current function value: 0.662092\n",
      "         Iterations 6\n",
      "Optimization terminated successfully.\n",
      "         Current function value: 0.664585\n",
      "         Iterations 7\n",
      "Optimization terminated successfully.\n",
      "         Current function value: 0.667522\n",
      "         Iterations 6\n",
      "Optimization terminated successfully.\n",
      "         Current function value: 0.657706\n",
      "         Iterations 6\n",
      "Optimization terminated successfully.\n",
      "         Current function value: 0.660202\n",
      "         Iterations 6\n",
      "Optimization terminated successfully.\n",
      "         Current function value: 0.663768\n",
      "         Iterations 6\n",
      "Optimization terminated successfully.\n",
      "         Current function value: 0.670060\n",
      "         Iterations 6\n",
      "Optimization terminated successfully.\n",
      "         Current function value: 0.644692\n",
      "         Iterations 6\n",
      "Processed  32 models on 4 predictors in 18.773310899734497 seconds.\n",
      "Optimization terminated successfully.\n",
      "         Current function value: 0.666024\n",
      "         Iterations 6\n",
      "Optimization terminated successfully.\n",
      "         Current function value: 0.640699\n",
      "         Iterations 6\n",
      "Optimization terminated successfully.\n",
      "         Current function value: 0.643233\n",
      "         Iterations 6\n",
      "Optimization terminated successfully.\n",
      "         Current function value: 0.656208\n",
      "         Iterations 6\n",
      "Optimization terminated successfully.\n",
      "         Current function value: 0.664177\n",
      "         Iterations 6\n",
      "Optimization terminated successfully.\n",
      "         Current function value: 0.643657\n",
      "         Iterations 6\n",
      "Optimization terminated successfully.\n",
      "         Current function value: 0.668988\n",
      "         Iterations 6\n",
      "Optimization terminated successfully.\n",
      "         Current function value: 0.664011\n",
      "         Iterations 6\n",
      "Optimization terminated successfully.\n",
      "         Current function value: 0.668425\n",
      "         Iterations 6\n",
      "Optimization terminated successfully.\n",
      "         Current function value: 0.668818\n",
      "         Iterations 6\n",
      "Optimization terminated successfully.\n",
      "         Current function value: 0.648167\n",
      "         Iterations 9\n",
      "Optimization terminated successfully.\n",
      "         Current function value: 0.652041\n",
      "         Iterations 8\n",
      "Optimization terminated successfully.\n",
      "         Current function value: 0.650114\n",
      "         Iterations 8\n",
      "Optimization terminated successfully.\n",
      "         Current function value: 0.648726\n",
      "         Iterations 8\n",
      "Optimization terminated successfully.\n",
      "         Current function value: 0.650228\n",
      "         Iterations 7\n",
      "Optimization terminated successfully.\n",
      "         Current function value: 0.652269\n",
      "         Iterations 6\n",
      "Optimization terminated successfully.\n",
      "         Current function value: 0.655947\n",
      "         Iterations 6\n",
      "Optimization terminated successfully.\n",
      "         Current function value: 0.660982\n",
      "         Iterations 6\n",
      "Optimization terminated successfully.\n",
      "         Current function value: 0.666306\n",
      "         Iterations 6\n",
      "Optimization terminated successfully.\n",
      "         Current function value: 0.668968\n",
      "         Iterations 6\n",
      "Optimization terminated successfully.\n",
      "         Current function value: 0.668526\n",
      "         Iterations 6\n",
      "Optimization terminated successfully.\n",
      "         Current function value: 0.667522\n",
      "         Iterations 6\n",
      "Optimization terminated successfully.\n",
      "         Current function value: 0.668463\n",
      "         Iterations 6\n",
      "Optimization terminated successfully.\n",
      "         Current function value: 0.661315\n",
      "         Iterations 6\n",
      "Optimization terminated successfully.\n",
      "         Current function value: 0.663838\n",
      "         Iterations 7\n",
      "Optimization terminated successfully.\n",
      "         Current function value: 0.666704\n",
      "         Iterations 6\n",
      "Optimization terminated successfully.\n",
      "         Current function value: 0.656867\n",
      "         Iterations 6\n",
      "Optimization terminated successfully.\n",
      "         Current function value: 0.660160\n",
      "         Iterations 6\n",
      "Optimization terminated successfully.\n",
      "         Current function value: 0.663251\n",
      "         Iterations 6\n",
      "Optimization terminated successfully.\n",
      "         Current function value: 0.669249\n",
      "         Iterations 6\n",
      "Optimization terminated successfully.\n",
      "         Current function value: 0.644610\n",
      "         Iterations 6\n",
      "Processed  31 models on 5 predictors in 18.28137516975403 seconds.\n",
      "Optimization terminated successfully.\n",
      "         Current function value: 0.637225\n",
      "         Iterations 6\n",
      "Optimization terminated successfully.\n",
      "         Current function value: 0.641526\n",
      "         Iterations 6\n",
      "Optimization terminated successfully.\n",
      "         Current function value: 0.654248\n",
      "         Iterations 6\n",
      "Optimization terminated successfully.\n",
      "         Current function value: 0.661429\n",
      "         Iterations 6\n",
      "Optimization terminated successfully.\n",
      "         Current function value: 0.641483\n",
      "         Iterations 6\n",
      "Optimization terminated successfully.\n",
      "         Current function value: 0.665771\n",
      "         Iterations 6\n",
      "Optimization terminated successfully.\n",
      "         Current function value: 0.660530\n",
      "         Iterations 6\n",
      "Optimization terminated successfully.\n",
      "         Current function value: 0.665369\n",
      "         Iterations 6\n",
      "Optimization terminated successfully.\n",
      "         Current function value: 0.665622\n",
      "         Iterations 6\n",
      "Optimization terminated successfully.\n",
      "         Current function value: 0.645438\n",
      "         Iterations 9\n",
      "Optimization terminated successfully.\n",
      "         Current function value: 0.649188\n",
      "         Iterations 8\n",
      "Optimization terminated successfully.\n",
      "         Current function value: 0.647295\n",
      "         Iterations 8\n",
      "Optimization terminated successfully.\n",
      "         Current function value: 0.645900\n",
      "         Iterations 8\n",
      "Optimization terminated successfully.\n",
      "         Current function value: 0.647330\n",
      "         Iterations 7\n",
      "Optimization terminated successfully.\n",
      "         Current function value: 0.649261\n",
      "         Iterations 7\n",
      "Optimization terminated successfully.\n",
      "         Current function value: 0.652871\n",
      "         Iterations 6\n",
      "Optimization terminated successfully.\n",
      "         Current function value: 0.657782\n",
      "         Iterations 6\n",
      "Optimization terminated successfully.\n",
      "         Current function value: 0.663040\n",
      "         Iterations 6\n",
      "Optimization terminated successfully.\n",
      "         Current function value: 0.665722\n",
      "         Iterations 6\n",
      "Optimization terminated successfully.\n",
      "         Current function value: 0.665305\n",
      "         Iterations 6\n",
      "Optimization terminated successfully.\n",
      "         Current function value: 0.664377\n",
      "         Iterations 6\n",
      "Optimization terminated successfully.\n",
      "         Current function value: 0.665158\n",
      "         Iterations 6\n",
      "Optimization terminated successfully.\n",
      "         Current function value: 0.657822\n",
      "         Iterations 6\n",
      "Optimization terminated successfully.\n",
      "         Current function value: 0.660673\n",
      "         Iterations 7\n",
      "Optimization terminated successfully.\n",
      "         Current function value: 0.663379\n",
      "         Iterations 6\n",
      "Optimization terminated successfully.\n",
      "         Current function value: 0.653846\n",
      "         Iterations 6\n",
      "Optimization terminated successfully.\n",
      "         Current function value: 0.657831\n",
      "         Iterations 6\n",
      "Optimization terminated successfully.\n",
      "         Current function value: 0.660484\n",
      "         Iterations 6\n",
      "Optimization terminated successfully.\n",
      "         Current function value: 0.665995\n",
      "         Iterations 6\n",
      "Optimization terminated successfully.\n",
      "         Current function value: 0.642340\n",
      "         Iterations 6\n",
      "Processed  30 models on 6 predictors in 21.600706100463867 seconds.\n",
      "Optimization terminated successfully.\n",
      "         Current function value: 0.612856\n",
      "         Iterations 6\n",
      "Optimization terminated successfully.\n",
      "         Current function value: 0.622153\n",
      "         Iterations 6\n",
      "Optimization terminated successfully.\n",
      "         Current function value: 0.632745\n",
      "         Iterations 6\n",
      "Optimization terminated successfully.\n",
      "         Current function value: 0.609844\n",
      "         Iterations 6\n",
      "Optimization terminated successfully.\n",
      "         Current function value: 0.636959\n",
      "         Iterations 6\n",
      "Optimization terminated successfully.\n",
      "         Current function value: 0.633769\n",
      "         Iterations 6\n",
      "Optimization terminated successfully.\n",
      "         Current function value: 0.636406\n",
      "         Iterations 6\n",
      "Optimization terminated successfully.\n",
      "         Current function value: 0.637009\n",
      "         Iterations 6\n",
      "Optimization terminated successfully.\n",
      "         Current function value: 0.615304\n",
      "         Iterations 9\n",
      "Optimization terminated successfully.\n",
      "         Current function value: 0.619997\n",
      "         Iterations 9\n",
      "Optimization terminated successfully.\n",
      "         Current function value: 0.618568\n",
      "         Iterations 8\n",
      "Optimization terminated successfully.\n",
      "         Current function value: 0.617671\n",
      "         Iterations 8\n",
      "Optimization terminated successfully.\n",
      "         Current function value: 0.619321\n",
      "         Iterations 7\n",
      "Optimization terminated successfully.\n",
      "         Current function value: 0.621270\n",
      "         Iterations 7\n",
      "Optimization terminated successfully.\n",
      "         Current function value: 0.624587\n",
      "         Iterations 6\n",
      "Optimization terminated successfully.\n",
      "         Current function value: 0.629131\n",
      "         Iterations 6\n",
      "Optimization terminated successfully.\n",
      "         Current function value: 0.634200\n",
      "         Iterations 6\n",
      "Optimization terminated successfully.\n",
      "         Current function value: 0.636840\n",
      "         Iterations 6\n",
      "Optimization terminated successfully.\n",
      "         Current function value: 0.636525\n",
      "         Iterations 6\n",
      "Optimization terminated successfully.\n",
      "         Current function value: 0.635536\n",
      "         Iterations 6\n",
      "Optimization terminated successfully.\n",
      "         Current function value: 0.636636\n",
      "         Iterations 6\n",
      "Optimization terminated successfully.\n",
      "         Current function value: 0.630578\n",
      "         Iterations 6\n",
      "Optimization terminated successfully.\n",
      "         Current function value: 0.631707\n",
      "         Iterations 7\n",
      "Optimization terminated successfully.\n",
      "         Current function value: 0.634879\n",
      "         Iterations 6\n",
      "Optimization terminated successfully.\n",
      "         Current function value: 0.625788\n",
      "         Iterations 6\n",
      "Optimization terminated successfully.\n",
      "         Current function value: 0.629354\n",
      "         Iterations 6\n",
      "Optimization terminated successfully.\n",
      "         Current function value: 0.631390\n",
      "         Iterations 6\n",
      "Optimization terminated successfully.\n",
      "         Current function value: 0.637189\n",
      "         Iterations 6\n",
      "Optimization terminated successfully.\n",
      "         Current function value: 0.614210\n",
      "         Iterations 6\n",
      "Processed  29 models on 7 predictors in 21.220927000045776 seconds.\n",
      "Optimization terminated successfully.\n",
      "         Current function value: 0.608298\n",
      "         Iterations 6\n",
      "Optimization terminated successfully.\n",
      "         Current function value: 0.610105\n",
      "         Iterations 6\n",
      "Optimization terminated successfully.\n",
      "         Current function value: 0.596052\n",
      "         Iterations 6\n",
      "Optimization terminated successfully.\n",
      "         Current function value: 0.612365\n",
      "         Iterations 6\n",
      "Optimization terminated successfully.\n",
      "         Current function value: 0.608194\n",
      "         Iterations 6\n",
      "Optimization terminated successfully.\n",
      "         Current function value: 0.612693\n",
      "         Iterations 6\n",
      "Optimization terminated successfully.\n",
      "         Current function value: 0.612647\n",
      "         Iterations 6\n",
      "Optimization terminated successfully.\n",
      "         Current function value: 0.593393\n",
      "         Iterations 9\n",
      "Optimization terminated successfully.\n",
      "         Current function value: 0.597618\n",
      "         Iterations 9\n",
      "Optimization terminated successfully.\n",
      "         Current function value: 0.596288\n",
      "         Iterations 8\n",
      "Optimization terminated successfully.\n",
      "         Current function value: 0.595355\n",
      "         Iterations 8\n",
      "Optimization terminated successfully.\n",
      "         Current function value: 0.596601\n",
      "         Iterations 7\n",
      "Optimization terminated successfully.\n",
      "         Current function value: 0.598073\n",
      "         Iterations 7\n",
      "Optimization terminated successfully.\n",
      "         Current function value: 0.600968\n",
      "         Iterations 6\n",
      "Optimization terminated successfully.\n",
      "         Current function value: 0.605117\n",
      "         Iterations 6\n",
      "Optimization terminated successfully.\n",
      "         Current function value: 0.609798\n",
      "         Iterations 6\n",
      "Optimization terminated successfully.\n",
      "         Current function value: 0.612610\n",
      "         Iterations 6\n",
      "Optimization terminated successfully.\n",
      "         Current function value: 0.611929\n",
      "         Iterations 6\n",
      "Optimization terminated successfully.\n",
      "         Current function value: 0.610990\n",
      "         Iterations 6\n",
      "Optimization terminated successfully.\n",
      "         Current function value: 0.612124\n",
      "         Iterations 6\n",
      "Optimization terminated successfully.\n",
      "         Current function value: 0.606734\n",
      "         Iterations 6\n",
      "Optimization terminated successfully.\n",
      "         Current function value: 0.607906\n",
      "         Iterations 7\n",
      "Optimization terminated successfully.\n",
      "         Current function value: 0.610516\n",
      "         Iterations 6\n",
      "Optimization terminated successfully.\n",
      "         Current function value: 0.602225\n",
      "         Iterations 6\n",
      "Optimization terminated successfully.\n",
      "         Current function value: 0.612554\n",
      "         Iterations 6\n",
      "Optimization terminated successfully.\n",
      "         Current function value: 0.610515\n",
      "         Iterations 6\n",
      "Optimization terminated successfully.\n",
      "         Current function value: 0.611704\n",
      "         Iterations 6\n",
      "Optimization terminated successfully.\n",
      "         Current function value: 0.597930\n",
      "         Iterations 6\n",
      "Processed  28 models on 8 predictors in 25.950757026672363 seconds.\n",
      "Optimization terminated successfully.\n",
      "         Current function value: 0.606188\n",
      "         Iterations 6\n",
      "Optimization terminated successfully.\n",
      "         Current function value: 0.594158\n",
      "         Iterations 6\n",
      "Optimization terminated successfully.\n",
      "         Current function value: 0.607815\n",
      "         Iterations 6\n",
      "Optimization terminated successfully.\n",
      "         Current function value: 0.603274\n",
      "         Iterations 6\n",
      "Optimization terminated successfully.\n",
      "         Current function value: 0.608237\n",
      "         Iterations 6\n",
      "Optimization terminated successfully.\n",
      "         Current function value: 0.608149\n",
      "         Iterations 6\n",
      "Optimization terminated successfully.\n",
      "         Current function value: 0.589513\n",
      "         Iterations 9\n",
      "Optimization terminated successfully.\n",
      "         Current function value: 0.593717\n",
      "         Iterations 9\n",
      "Optimization terminated successfully.\n",
      "         Current function value: 0.592487\n",
      "         Iterations 8\n",
      "Optimization terminated successfully.\n",
      "         Current function value: 0.591559\n",
      "         Iterations 8\n",
      "Optimization terminated successfully.\n",
      "         Current function value: 0.592774\n",
      "         Iterations 7\n",
      "Optimization terminated successfully.\n",
      "         Current function value: 0.594086\n",
      "         Iterations 7\n",
      "Optimization terminated successfully.\n",
      "         Current function value: 0.596751\n",
      "         Iterations 6\n",
      "Optimization terminated successfully.\n",
      "         Current function value: 0.600688\n",
      "         Iterations 6\n",
      "Optimization terminated successfully.\n",
      "         Current function value: 0.605296\n",
      "         Iterations 6\n",
      "Optimization terminated successfully.\n",
      "         Current function value: 0.608070\n",
      "         Iterations 6\n",
      "Optimization terminated successfully.\n",
      "         Current function value: 0.607381\n",
      "         Iterations 6\n",
      "Optimization terminated successfully.\n",
      "         Current function value: 0.606564\n",
      "         Iterations 6\n",
      "Optimization terminated successfully.\n",
      "         Current function value: 0.607496\n",
      "         Iterations 6\n",
      "Optimization terminated successfully.\n",
      "         Current function value: 0.602008\n",
      "         Iterations 6\n",
      "Optimization terminated successfully.\n",
      "         Current function value: 0.603443\n",
      "         Iterations 7\n",
      "Optimization terminated successfully.\n",
      "         Current function value: 0.605927\n",
      "         Iterations 6\n",
      "Optimization terminated successfully.\n",
      "         Current function value: 0.597733\n",
      "         Iterations 6\n",
      "Optimization terminated successfully.\n",
      "         Current function value: 0.608183\n",
      "         Iterations 6\n",
      "Optimization terminated successfully.\n",
      "         Current function value: 0.606690\n",
      "         Iterations 6\n",
      "Optimization terminated successfully.\n",
      "         Current function value: 0.607110\n",
      "         Iterations 6\n",
      "Optimization terminated successfully.\n",
      "         Current function value: 0.594846\n",
      "         Iterations 6\n",
      "Processed  27 models on 9 predictors in 26.296409130096436 seconds.\n",
      "Optimization terminated successfully.\n",
      "         Current function value: 0.592665\n",
      "         Iterations 6\n",
      "Optimization terminated successfully.\n",
      "         Current function value: 0.605741\n",
      "         Iterations 6\n",
      "Optimization terminated successfully.\n",
      "         Current function value: 0.601104\n",
      "         Iterations 6\n",
      "Optimization terminated successfully.\n",
      "         Current function value: 0.606178\n",
      "         Iterations 6\n",
      "Optimization terminated successfully.\n",
      "         Current function value: 0.606048\n",
      "         Iterations 6\n",
      "Optimization terminated successfully.\n",
      "         Current function value: 0.587860\n",
      "         Iterations 9\n",
      "Optimization terminated successfully.\n",
      "         Current function value: 0.592042\n",
      "         Iterations 9\n",
      "Optimization terminated successfully.\n",
      "         Current function value: 0.590823\n",
      "         Iterations 8\n",
      "Optimization terminated successfully.\n",
      "         Current function value: 0.589888\n",
      "         Iterations 8\n",
      "Optimization terminated successfully.\n",
      "         Current function value: 0.591013\n",
      "         Iterations 7\n",
      "Optimization terminated successfully.\n",
      "         Current function value: 0.592206\n",
      "         Iterations 7\n",
      "Optimization terminated successfully.\n",
      "         Current function value: 0.594760\n",
      "         Iterations 6\n",
      "Optimization terminated successfully.\n",
      "         Current function value: 0.598591\n",
      "         Iterations 6\n",
      "Optimization terminated successfully.\n",
      "         Current function value: 0.603133\n",
      "         Iterations 6\n",
      "Optimization terminated successfully.\n",
      "         Current function value: 0.605908\n",
      "         Iterations 6\n",
      "Optimization terminated successfully.\n",
      "         Current function value: 0.605401\n",
      "         Iterations 6\n",
      "Optimization terminated successfully.\n",
      "         Current function value: 0.604617\n",
      "         Iterations 6\n",
      "Optimization terminated successfully.\n",
      "         Current function value: 0.605291\n",
      "         Iterations 6\n",
      "Optimization terminated successfully.\n",
      "         Current function value: 0.599681\n",
      "         Iterations 6\n",
      "Optimization terminated successfully.\n",
      "         Current function value: 0.601295\n",
      "         Iterations 7\n",
      "Optimization terminated successfully.\n",
      "         Current function value: 0.603754\n",
      "         Iterations 6\n",
      "Optimization terminated successfully.\n",
      "         Current function value: 0.595579\n",
      "         Iterations 6\n",
      "Optimization terminated successfully.\n",
      "         Current function value: 0.606107\n",
      "         Iterations 6\n",
      "Optimization terminated successfully.\n",
      "         Current function value: 0.604864\n",
      "         Iterations 6\n",
      "Optimization terminated successfully.\n",
      "         Current function value: 0.605138\n",
      "         Iterations 6\n",
      "Optimization terminated successfully.\n",
      "         Current function value: 0.593433\n",
      "         Iterations 6\n",
      "Processed  26 models on 10 predictors in 27.389694929122925 seconds.\n",
      "Optimization terminated successfully.\n",
      "         Current function value: 0.592275\n",
      "         Iterations 6\n",
      "Optimization terminated successfully.\n",
      "         Current function value: 0.587856\n",
      "         Iterations 6\n",
      "Optimization terminated successfully.\n",
      "         Current function value: 0.592663\n",
      "         Iterations 6\n",
      "Optimization terminated successfully.\n",
      "         Current function value: 0.592440\n",
      "         Iterations 6\n",
      "Optimization terminated successfully.\n",
      "         Current function value: 0.574834\n",
      "         Iterations 9\n",
      "Optimization terminated successfully.\n",
      "         Current function value: 0.579016\n",
      "         Iterations 9\n",
      "Optimization terminated successfully.\n",
      "         Current function value: 0.577968\n",
      "         Iterations 8\n",
      "Optimization terminated successfully.\n",
      "         Current function value: 0.577023\n",
      "         Iterations 8\n",
      "Optimization terminated successfully.\n",
      "         Current function value: 0.578145\n",
      "         Iterations 7\n",
      "Optimization terminated successfully.\n",
      "         Current function value: 0.579191\n",
      "         Iterations 7\n",
      "Optimization terminated successfully.\n",
      "         Current function value: 0.581727\n",
      "         Iterations 6\n",
      "Optimization terminated successfully.\n",
      "         Current function value: 0.585558\n",
      "         Iterations 6\n",
      "Optimization terminated successfully.\n",
      "         Current function value: 0.589955\n",
      "         Iterations 6\n",
      "Optimization terminated successfully.\n",
      "         Current function value: 0.592481\n",
      "         Iterations 6\n",
      "Optimization terminated successfully.\n",
      "         Current function value: 0.591761\n",
      "         Iterations 6\n",
      "Optimization terminated successfully.\n",
      "         Current function value: 0.591092\n",
      "         Iterations 6\n",
      "Optimization terminated successfully.\n",
      "         Current function value: 0.591385\n",
      "         Iterations 6\n",
      "Optimization terminated successfully.\n",
      "         Current function value: 0.586117\n",
      "         Iterations 6\n",
      "Optimization terminated successfully.\n",
      "         Current function value: 0.587818\n",
      "         Iterations 7\n",
      "Optimization terminated successfully.\n",
      "         Current function value: 0.590313\n",
      "         Iterations 6\n",
      "Optimization terminated successfully.\n",
      "         Current function value: 0.581238\n",
      "         Iterations 6\n",
      "Optimization terminated successfully.\n",
      "         Current function value: 0.592645\n",
      "         Iterations 6\n",
      "Optimization terminated successfully.\n",
      "         Current function value: 0.591800\n",
      "         Iterations 6\n",
      "Optimization terminated successfully.\n",
      "         Current function value: 0.591827\n",
      "         Iterations 6\n",
      "Optimization terminated successfully.\n",
      "         Current function value: 0.582166\n",
      "         Iterations 6\n",
      "Processed  25 models on 11 predictors in 27.269288063049316 seconds.\n",
      "Optimization terminated successfully.\n",
      "         Current function value: 0.587558\n",
      "         Iterations 6\n",
      "Optimization terminated successfully.\n",
      "         Current function value: 0.592274\n",
      "         Iterations 6\n",
      "Optimization terminated successfully.\n",
      "         Current function value: 0.592073\n",
      "         Iterations 6\n",
      "Optimization terminated successfully.\n",
      "         Current function value: 0.574389\n",
      "         Iterations 9\n",
      "Optimization terminated successfully.\n",
      "         Current function value: 0.578684\n",
      "         Iterations 9\n",
      "Optimization terminated successfully.\n",
      "         Current function value: 0.577691\n",
      "         Iterations 8\n",
      "Optimization terminated successfully.\n",
      "         Current function value: 0.576769\n",
      "         Iterations 8\n",
      "Optimization terminated successfully.\n",
      "         Current function value: 0.577892\n",
      "         Iterations 7\n",
      "Optimization terminated successfully.\n",
      "         Current function value: 0.578924\n",
      "         Iterations 7\n",
      "Optimization terminated successfully.\n",
      "         Current function value: 0.581460\n",
      "         Iterations 6\n",
      "Optimization terminated successfully.\n",
      "         Current function value: 0.585277\n",
      "         Iterations 6\n",
      "Optimization terminated successfully.\n",
      "         Current function value: 0.589614\n",
      "         Iterations 6\n",
      "Optimization terminated successfully.\n",
      "         Current function value: 0.592087\n",
      "         Iterations 6\n",
      "Optimization terminated successfully.\n",
      "         Current function value: 0.591407\n",
      "         Iterations 6\n",
      "Optimization terminated successfully.\n",
      "         Current function value: 0.590770\n",
      "         Iterations 6\n",
      "Optimization terminated successfully.\n",
      "         Current function value: 0.591067\n",
      "         Iterations 6\n",
      "Optimization terminated successfully.\n",
      "         Current function value: 0.585780\n",
      "         Iterations 6\n",
      "Optimization terminated successfully.\n",
      "         Current function value: 0.587489\n",
      "         Iterations 7\n",
      "Optimization terminated successfully.\n",
      "         Current function value: 0.589930\n",
      "         Iterations 6\n",
      "Optimization terminated successfully.\n",
      "         Current function value: 0.580915\n",
      "         Iterations 6\n",
      "Optimization terminated successfully.\n",
      "         Current function value: 0.592254\n",
      "         Iterations 6\n",
      "Optimization terminated successfully.\n",
      "         Current function value: 0.591395\n",
      "         Iterations 6\n",
      "Optimization terminated successfully.\n",
      "         Current function value: 0.591438\n",
      "         Iterations 6\n",
      "Optimization terminated successfully.\n",
      "         Current function value: 0.581752\n",
      "         Iterations 6\n",
      "Processed  24 models on 12 predictors in 27.31661081314087 seconds.\n",
      "Optimization terminated successfully.\n",
      "         Current function value: 0.587552\n",
      "         Iterations 6\n",
      "Optimization terminated successfully.\n",
      "         Current function value: 0.587351\n",
      "         Iterations 6\n",
      "Optimization terminated successfully.\n",
      "         Current function value: 0.570404\n",
      "         Iterations 9\n",
      "Optimization terminated successfully.\n",
      "         Current function value: 0.574401\n",
      "         Iterations 9\n",
      "Optimization terminated successfully.\n",
      "         Current function value: 0.573319\n",
      "         Iterations 8\n",
      "Optimization terminated successfully.\n",
      "         Current function value: 0.572353\n",
      "         Iterations 8\n",
      "Optimization terminated successfully.\n",
      "         Current function value: 0.573409\n",
      "         Iterations 7\n",
      "Optimization terminated successfully.\n",
      "         Current function value: 0.574460\n",
      "         Iterations 7\n",
      "Optimization terminated successfully.\n",
      "         Current function value: 0.576898\n",
      "         Iterations 6\n",
      "Optimization terminated successfully.\n",
      "         Current function value: 0.580655\n",
      "         Iterations 6\n",
      "Optimization terminated successfully.\n",
      "         Current function value: 0.584955\n",
      "         Iterations 6\n",
      "Optimization terminated successfully.\n",
      "         Current function value: 0.587357\n",
      "         Iterations 6\n",
      "Optimization terminated successfully.\n",
      "         Current function value: 0.586729\n",
      "         Iterations 6\n",
      "Optimization terminated successfully.\n",
      "         Current function value: 0.586134\n",
      "         Iterations 6\n",
      "Optimization terminated successfully.\n",
      "         Current function value: 0.586463\n",
      "         Iterations 6\n",
      "Optimization terminated successfully.\n",
      "         Current function value: 0.581225\n",
      "         Iterations 6\n",
      "Optimization terminated successfully.\n",
      "         Current function value: 0.582801\n",
      "         Iterations 7\n",
      "Optimization terminated successfully.\n",
      "         Current function value: 0.585299\n",
      "         Iterations 6\n",
      "Optimization terminated successfully.\n",
      "         Current function value: 0.576420\n",
      "         Iterations 6\n",
      "Optimization terminated successfully.\n",
      "         Current function value: 0.587519\n",
      "         Iterations 6\n",
      "Optimization terminated successfully.\n",
      "         Current function value: 0.586555\n",
      "         Iterations 6\n",
      "Optimization terminated successfully.\n",
      "         Current function value: 0.586708\n",
      "         Iterations 6\n",
      "Optimization terminated successfully.\n",
      "         Current function value: 0.576987\n",
      "         Iterations 6\n",
      "Processed  23 models on 13 predictors in 29.928521156311035 seconds.\n",
      "Optimization terminated successfully.\n",
      "         Current function value: 0.587348\n",
      "         Iterations 6\n",
      "Optimization terminated successfully.\n",
      "         Current function value: 0.570403\n",
      "         Iterations 9\n",
      "Optimization terminated successfully.\n",
      "         Current function value: 0.574400\n",
      "         Iterations 9\n",
      "Optimization terminated successfully.\n",
      "         Current function value: 0.573318\n",
      "         Iterations 8\n",
      "Optimization terminated successfully.\n",
      "         Current function value: 0.572352\n",
      "         Iterations 8\n",
      "Optimization terminated successfully.\n",
      "         Current function value: 0.573407\n",
      "         Iterations 7\n",
      "Optimization terminated successfully.\n",
      "         Current function value: 0.574457\n",
      "         Iterations 7\n",
      "Optimization terminated successfully.\n",
      "         Current function value: 0.576895\n",
      "         Iterations 6\n",
      "Optimization terminated successfully.\n",
      "         Current function value: 0.580652\n",
      "         Iterations 6\n",
      "Optimization terminated successfully.\n",
      "         Current function value: 0.584951\n",
      "         Iterations 6\n",
      "Optimization terminated successfully.\n",
      "         Current function value: 0.587351\n",
      "         Iterations 6\n",
      "Optimization terminated successfully.\n",
      "         Current function value: 0.586725\n",
      "         Iterations 6\n",
      "Optimization terminated successfully.\n",
      "         Current function value: 0.586133\n",
      "         Iterations 6\n",
      "Optimization terminated successfully.\n",
      "         Current function value: 0.586459\n",
      "         Iterations 6\n",
      "Optimization terminated successfully.\n",
      "         Current function value: 0.581218\n",
      "         Iterations 6\n",
      "Optimization terminated successfully.\n",
      "         Current function value: 0.582797\n",
      "         Iterations 7\n",
      "Optimization terminated successfully.\n",
      "         Current function value: 0.585293\n",
      "         Iterations 6\n",
      "Optimization terminated successfully.\n",
      "         Current function value: 0.576417\n",
      "         Iterations 6\n",
      "Optimization terminated successfully.\n",
      "         Current function value: 0.587515\n",
      "         Iterations 6\n",
      "Optimization terminated successfully.\n",
      "         Current function value: 0.586552\n",
      "         Iterations 6\n",
      "Optimization terminated successfully.\n",
      "         Current function value: 0.586704\n",
      "         Iterations 6\n",
      "Optimization terminated successfully.\n",
      "         Current function value: 0.576987\n",
      "         Iterations 6\n",
      "Processed  22 models on 14 predictors in 29.693702220916748 seconds.\n",
      "Optimization terminated successfully.\n",
      "         Current function value: 0.570347\n",
      "         Iterations 9\n",
      "Optimization terminated successfully.\n",
      "         Current function value: 0.574311\n",
      "         Iterations 9\n",
      "Optimization terminated successfully.\n",
      "         Current function value: 0.573232\n",
      "         Iterations 8\n",
      "Optimization terminated successfully.\n",
      "         Current function value: 0.572269\n",
      "         Iterations 8\n",
      "Optimization terminated successfully.\n",
      "         Current function value: 0.573317\n",
      "         Iterations 7\n",
      "Optimization terminated successfully.\n",
      "         Current function value: 0.574348\n",
      "         Iterations 7\n",
      "Optimization terminated successfully.\n",
      "         Current function value: 0.576771\n",
      "         Iterations 6\n",
      "Optimization terminated successfully.\n",
      "         Current function value: 0.580509\n",
      "         Iterations 6\n",
      "Optimization terminated successfully.\n",
      "         Current function value: 0.584772\n",
      "         Iterations 6\n",
      "Optimization terminated successfully.\n",
      "         Current function value: 0.587143\n",
      "         Iterations 6\n",
      "Optimization terminated successfully.\n",
      "         Current function value: 0.586558\n",
      "         Iterations 6\n",
      "Optimization terminated successfully.\n",
      "         Current function value: 0.586019\n",
      "         Iterations 6\n",
      "Optimization terminated successfully.\n",
      "         Current function value: 0.586358\n",
      "         Iterations 6\n",
      "Optimization terminated successfully.\n",
      "         Current function value: 0.581130\n",
      "         Iterations 6\n",
      "Optimization terminated successfully.\n",
      "         Current function value: 0.582658\n",
      "         Iterations 7\n",
      "Optimization terminated successfully.\n",
      "         Current function value: 0.585114\n",
      "         Iterations 6\n",
      "Optimization terminated successfully.\n",
      "         Current function value: 0.576352\n",
      "         Iterations 6\n",
      "Optimization terminated successfully.\n",
      "         Current function value: 0.587311\n",
      "         Iterations 6\n",
      "Optimization terminated successfully.\n",
      "         Current function value: 0.586348\n",
      "         Iterations 6\n",
      "Optimization terminated successfully.\n",
      "         Current function value: 0.586516\n",
      "         Iterations 6\n",
      "Optimization terminated successfully.\n",
      "         Current function value: 0.576747\n",
      "         Iterations 6\n",
      "Processed  21 models on 15 predictors in 30.47779679298401 seconds.\n",
      "Optimization terminated successfully.\n",
      "         Current function value: 0.556039\n",
      "         Iterations 9\n",
      "Optimization terminated successfully.\n",
      "         Current function value: 0.555004\n",
      "         Iterations 9\n",
      "Optimization terminated successfully.\n",
      "         Current function value: 0.554070\n",
      "         Iterations 9\n",
      "Optimization terminated successfully.\n",
      "         Current function value: 0.555234\n",
      "         Iterations 9\n",
      "Optimization terminated successfully.\n",
      "         Current function value: 0.556321\n",
      "         Iterations 9\n",
      "Optimization terminated successfully.\n",
      "         Current function value: 0.558712\n",
      "         Iterations 9\n",
      "Optimization terminated successfully.\n",
      "         Current function value: 0.562574\n",
      "         Iterations 9\n",
      "Optimization terminated successfully.\n",
      "         Current function value: 0.567128\n",
      "         Iterations 9\n",
      "Optimization terminated successfully.\n",
      "         Current function value: 0.569922\n",
      "         Iterations 9\n",
      "Optimization terminated successfully.\n",
      "         Current function value: 0.569863\n",
      "         Iterations 9\n",
      "Optimization terminated successfully.\n",
      "         Current function value: 0.569343\n",
      "         Iterations 9\n",
      "Optimization terminated successfully.\n",
      "         Current function value: 0.569728\n",
      "         Iterations 9\n",
      "Optimization terminated successfully.\n",
      "         Current function value: 0.564312\n",
      "         Iterations 9\n",
      "Optimization terminated successfully.\n",
      "         Current function value: 0.566097\n",
      "         Iterations 9\n",
      "Optimization terminated successfully.\n",
      "         Current function value: 0.568224\n",
      "         Iterations 9\n",
      "Optimization terminated successfully.\n",
      "         Current function value: 0.560659\n",
      "         Iterations 9\n",
      "Optimization terminated successfully.\n",
      "         Current function value: 0.570317\n",
      "         Iterations 9\n",
      "Optimization terminated successfully.\n",
      "         Current function value: 0.569410\n",
      "         Iterations 9\n",
      "Optimization terminated successfully.\n",
      "         Current function value: 0.569601\n",
      "         Iterations 9\n",
      "Optimization terminated successfully.\n",
      "         Current function value: 0.559851\n",
      "         Iterations 9\n",
      "Processed  20 models on 16 predictors in 34.551517963409424 seconds.\n",
      "Optimization terminated successfully.\n",
      "         Current function value: 0.539562\n",
      "         Iterations 9\n",
      "Optimization terminated successfully.\n",
      "         Current function value: 0.538603\n",
      "         Iterations 9\n",
      "Optimization terminated successfully.\n",
      "         Current function value: 0.539843\n",
      "         Iterations 9\n",
      "Optimization terminated successfully.\n",
      "         Current function value: 0.540985\n",
      "         Iterations 9\n",
      "Optimization terminated successfully.\n",
      "         Current function value: 0.543359\n",
      "         Iterations 9\n",
      "Optimization terminated successfully.\n",
      "         Current function value: 0.547322\n",
      "         Iterations 9\n",
      "Optimization terminated successfully.\n",
      "         Current function value: 0.552145\n",
      "         Iterations 9\n",
      "Optimization terminated successfully.\n",
      "         Current function value: 0.555339\n",
      "         Iterations 9\n",
      "Optimization terminated successfully.\n",
      "         Current function value: 0.555768\n",
      "         Iterations 9\n",
      "Optimization terminated successfully.\n",
      "         Current function value: 0.555278\n",
      "         Iterations 9\n",
      "Optimization terminated successfully.\n",
      "         Current function value: 0.555672\n",
      "         Iterations 9\n",
      "Optimization terminated successfully.\n",
      "         Current function value: 0.550238\n",
      "         Iterations 9\n",
      "Optimization terminated successfully.\n",
      "         Current function value: 0.552218\n",
      "         Iterations 9\n",
      "Optimization terminated successfully.\n",
      "         Current function value: 0.554002\n",
      "         Iterations 9\n",
      "Optimization terminated successfully.\n",
      "         Current function value: 0.547434\n",
      "         Iterations 9\n",
      "Optimization terminated successfully.\n",
      "         Current function value: 0.556012\n",
      "         Iterations 9\n",
      "Optimization terminated successfully.\n",
      "         Current function value: 0.555171\n",
      "         Iterations 9\n",
      "Optimization terminated successfully.\n",
      "         Current function value: 0.555366\n",
      "         Iterations 9\n",
      "Optimization terminated successfully.\n",
      "         Current function value: 0.545663\n",
      "         Iterations 9\n",
      "Processed  19 models on 17 predictors in 33.58481526374817 seconds.\n",
      "Optimization terminated successfully.\n",
      "         Current function value: 0.520641\n",
      "         Iterations 9\n",
      "Optimization terminated successfully.\n",
      "         Current function value: 0.521956\n",
      "         Iterations 9\n",
      "Optimization terminated successfully.\n",
      "         Current function value: 0.523167\n",
      "         Iterations 9\n",
      "Optimization terminated successfully.\n",
      "         Current function value: 0.525517\n",
      "         Iterations 9\n",
      "Optimization terminated successfully.\n",
      "         Current function value: 0.529587\n",
      "         Iterations 9\n",
      "Optimization terminated successfully.\n",
      "         Current function value: 0.534732\n",
      "         Iterations 9\n",
      "Optimization terminated successfully.\n",
      "         Current function value: 0.538425\n",
      "         Iterations 9\n",
      "Optimization terminated successfully.\n",
      "         Current function value: 0.539469\n",
      "         Iterations 9\n",
      "Optimization terminated successfully.\n",
      "         Current function value: 0.539052\n",
      "         Iterations 9\n",
      "Optimization terminated successfully.\n",
      "         Current function value: 0.539394\n",
      "         Iterations 9\n",
      "Optimization terminated successfully.\n",
      "         Current function value: 0.534048\n",
      "         Iterations 9\n",
      "Optimization terminated successfully.\n",
      "         Current function value: 0.536174\n",
      "         Iterations 9\n",
      "Optimization terminated successfully.\n",
      "         Current function value: 0.537664\n",
      "         Iterations 9\n",
      "Optimization terminated successfully.\n",
      "         Current function value: 0.532051\n",
      "         Iterations 9\n",
      "Optimization terminated successfully.\n",
      "         Current function value: 0.539537\n",
      "         Iterations 9\n",
      "Optimization terminated successfully.\n",
      "         Current function value: 0.538779\n",
      "         Iterations 9\n",
      "Optimization terminated successfully.\n",
      "         Current function value: 0.538963\n",
      "         Iterations 9\n",
      "Optimization terminated successfully.\n",
      "         Current function value: 0.529371\n",
      "         Iterations 9\n",
      "Processed  18 models on 18 predictors in 31.93960690498352 seconds.\n",
      "Optimization terminated successfully.\n",
      "         Current function value: 0.501197\n",
      "         Iterations 9\n",
      "Optimization terminated successfully.\n",
      "         Current function value: 0.502490\n",
      "         Iterations 9\n",
      "Optimization terminated successfully.\n",
      "         Current function value: 0.504798\n",
      "         Iterations 9\n",
      "Optimization terminated successfully.\n",
      "         Current function value: 0.508979\n",
      "         Iterations 9\n",
      "Optimization terminated successfully.\n",
      "         Current function value: 0.514506\n",
      "         Iterations 9\n",
      "Optimization terminated successfully.\n",
      "         Current function value: 0.518821\n",
      "         Iterations 9\n",
      "Optimization terminated successfully.\n",
      "         Current function value: 0.520639\n",
      "         Iterations 9\n",
      "Optimization terminated successfully.\n",
      "         Current function value: 0.520367\n",
      "         Iterations 9\n",
      "Optimization terminated successfully.\n",
      "         Current function value: 0.520593\n",
      "         Iterations 9\n",
      "Optimization terminated successfully.\n",
      "         Current function value: 0.515395\n",
      "         Iterations 9\n",
      "Optimization terminated successfully.\n",
      "         Current function value: 0.517706\n",
      "         Iterations 9\n",
      "Optimization terminated successfully.\n",
      "         Current function value: 0.518901\n",
      "         Iterations 9\n",
      "Optimization terminated successfully.\n",
      "         Current function value: 0.514358\n",
      "         Iterations 9\n",
      "Optimization terminated successfully.\n",
      "         Current function value: 0.520619\n",
      "         Iterations 9\n",
      "Optimization terminated successfully.\n",
      "         Current function value: 0.519928\n",
      "         Iterations 9\n",
      "Optimization terminated successfully.\n",
      "         Current function value: 0.520139\n",
      "         Iterations 9\n",
      "Optimization terminated successfully.\n",
      "         Current function value: 0.510680\n",
      "         Iterations 9\n",
      "Processed  17 models on 19 predictors in 29.958289861679077 seconds.\n",
      "Optimization terminated successfully.\n",
      "         Current function value: 0.480886\n",
      "         Iterations 9\n",
      "Optimization terminated successfully.\n",
      "         Current function value: 0.483122\n",
      "         Iterations 9\n",
      "Optimization terminated successfully.\n",
      "         Current function value: 0.487403\n",
      "         Iterations 9\n",
      "Optimization terminated successfully.\n",
      "         Current function value: 0.493346\n",
      "         Iterations 9\n",
      "Optimization terminated successfully.\n",
      "         Current function value: 0.498387\n",
      "         Iterations 9\n",
      "Optimization terminated successfully.\n",
      "         Current function value: 0.501129\n",
      "         Iterations 9\n",
      "Optimization terminated successfully.\n",
      "         Current function value: 0.501103\n",
      "         Iterations 9\n",
      "Optimization terminated successfully.\n",
      "         Current function value: 0.501197\n",
      "         Iterations 9\n",
      "Optimization terminated successfully.\n",
      "         Current function value: 0.496311\n",
      "         Iterations 9\n",
      "Optimization terminated successfully.\n",
      "         Current function value: 0.498633\n",
      "         Iterations 9\n",
      "Optimization terminated successfully.\n",
      "         Current function value: 0.499625\n",
      "         Iterations 9\n",
      "Optimization terminated successfully.\n",
      "         Current function value: 0.496269\n",
      "         Iterations 9\n",
      "Optimization terminated successfully.\n",
      "         Current function value: 0.501174\n",
      "         Iterations 9\n",
      "Optimization terminated successfully.\n",
      "         Current function value: 0.500542\n",
      "         Iterations 9\n",
      "Optimization terminated successfully.\n",
      "         Current function value: 0.500786\n",
      "         Iterations 9\n",
      "Optimization terminated successfully.\n",
      "         Current function value: 0.491494\n",
      "         Iterations 9\n",
      "Processed  16 models on 20 predictors in 31.989365100860596 seconds.\n",
      "Optimization terminated successfully.\n",
      "         Current function value: 0.459961\n",
      "         Iterations 9\n",
      "Optimization terminated successfully.\n",
      "         Current function value: 0.464328\n",
      "         Iterations 9\n",
      "Optimization terminated successfully.\n",
      "         Current function value: 0.470733\n",
      "         Iterations 9\n",
      "Optimization terminated successfully.\n",
      "         Current function value: 0.476640\n",
      "         Iterations 9\n",
      "Optimization terminated successfully.\n",
      "         Current function value: 0.480510\n",
      "         Iterations 9\n",
      "Optimization terminated successfully.\n",
      "         Current function value: 0.480883\n",
      "         Iterations 9\n",
      "Optimization terminated successfully.\n",
      "         Current function value: 0.480832\n",
      "         Iterations 9\n",
      "Optimization terminated successfully.\n",
      "         Current function value: 0.476484\n",
      "         Iterations 9\n",
      "Optimization terminated successfully.\n",
      "         Current function value: 0.478678\n",
      "         Iterations 9\n",
      "Optimization terminated successfully.\n",
      "         Current function value: 0.479516\n",
      "         Iterations 9\n",
      "Optimization terminated successfully.\n",
      "         Current function value: 0.477168\n",
      "         Iterations 9\n",
      "Optimization terminated successfully.\n",
      "         Current function value: 0.480856\n",
      "         Iterations 9\n",
      "Optimization terminated successfully.\n",
      "         Current function value: 0.480284\n",
      "         Iterations 9\n",
      "Optimization terminated successfully.\n",
      "         Current function value: 0.480565\n",
      "         Iterations 9\n",
      "Optimization terminated successfully.\n",
      "         Current function value: 0.471543\n",
      "         Iterations 9\n",
      "Processed  15 models on 21 predictors in 30.535918951034546 seconds.\n",
      "Optimization terminated successfully.\n",
      "         Current function value: 0.439377\n",
      "         Iterations 9\n",
      "Optimization terminated successfully.\n",
      "         Current function value: 0.446338\n",
      "         Iterations 9\n",
      "Optimization terminated successfully.\n",
      "         Current function value: 0.453397\n",
      "         Iterations 9\n",
      "Optimization terminated successfully.\n",
      "         Current function value: 0.458818\n",
      "         Iterations 9\n",
      "Optimization terminated successfully.\n",
      "         Current function value: 0.459884\n",
      "         Iterations 9\n",
      "Optimization terminated successfully.\n",
      "         Current function value: 0.459746\n",
      "         Iterations 9\n",
      "Optimization terminated successfully.\n",
      "         Current function value: 0.456091\n",
      "         Iterations 9\n",
      "Optimization terminated successfully.\n",
      "         Current function value: 0.458097\n",
      "         Iterations 9\n",
      "Optimization terminated successfully.\n",
      "         Current function value: 0.458855\n",
      "         Iterations 9\n",
      "Optimization terminated successfully.\n",
      "         Current function value: 0.457295\n",
      "         Iterations 9\n",
      "Optimization terminated successfully.\n",
      "         Current function value: 0.459919\n",
      "         Iterations 9\n",
      "Optimization terminated successfully.\n",
      "         Current function value: 0.459470\n",
      "         Iterations 9\n",
      "Optimization terminated successfully.\n",
      "         Current function value: 0.459697\n",
      "         Iterations 9\n",
      "Optimization terminated successfully.\n",
      "         Current function value: 0.451026\n",
      "         Iterations 9\n",
      "Processed  14 models on 22 predictors in 30.72126007080078 seconds.\n",
      "Optimization terminated successfully.\n",
      "         Current function value: 0.420254\n",
      "         Iterations 9\n",
      "Optimization terminated successfully.\n",
      "         Current function value: 0.428860\n",
      "         Iterations 9\n",
      "Optimization terminated successfully.\n",
      "         Current function value: 0.436523\n",
      "         Iterations 9\n",
      "Optimization terminated successfully.\n",
      "         Current function value: 0.438843\n",
      "         Iterations 9\n",
      "Optimization terminated successfully.\n",
      "         Current function value: 0.439020\n",
      "         Iterations 9\n",
      "Optimization terminated successfully.\n",
      "         Current function value: 0.435906\n",
      "         Iterations 9\n",
      "Optimization terminated successfully.\n",
      "         Current function value: 0.437709\n",
      "         Iterations 9\n",
      "Optimization terminated successfully.\n",
      "         Current function value: 0.438508\n",
      "         Iterations 9\n",
      "Optimization terminated successfully.\n",
      "         Current function value: 0.437379\n",
      "         Iterations 9\n",
      "Optimization terminated successfully.\n",
      "         Current function value: 0.439312\n",
      "         Iterations 9\n",
      "Optimization terminated successfully.\n",
      "         Current function value: 0.438969\n",
      "         Iterations 9\n",
      "Optimization terminated successfully.\n",
      "         Current function value: 0.439202\n",
      "         Iterations 9\n",
      "Optimization terminated successfully.\n",
      "         Current function value: 0.431038\n",
      "         Iterations 9\n",
      "Processed  13 models on 23 predictors in 28.738128185272217 seconds.\n",
      "Optimization terminated successfully.\n",
      "         Current function value: 0.402649\n",
      "         Iterations 9\n",
      "Optimization terminated successfully.\n",
      "         Current function value: 0.413714\n",
      "         Iterations 9\n",
      "Optimization terminated successfully.\n",
      "         Current function value: 0.418375\n",
      "         Iterations 9\n",
      "Optimization terminated successfully.\n",
      "         Current function value: 0.419778\n",
      "         Iterations 9\n",
      "Optimization terminated successfully.\n",
      "         Current function value: 0.417311\n",
      "         Iterations 9\n",
      "Optimization terminated successfully.\n",
      "         Current function value: 0.418768\n",
      "         Iterations 9\n",
      "Optimization terminated successfully.\n",
      "         Current function value: 0.419540\n",
      "         Iterations 9\n",
      "Optimization terminated successfully.\n",
      "         Current function value: 0.418633\n",
      "         Iterations 9\n",
      "Optimization terminated successfully.\n",
      "         Current function value: 0.420151\n",
      "         Iterations 9\n",
      "Optimization terminated successfully.\n",
      "         Current function value: 0.419927\n",
      "         Iterations 9\n",
      "Optimization terminated successfully.\n",
      "         Current function value: 0.420109\n",
      "         Iterations 9\n",
      "Optimization terminated successfully.\n",
      "         Current function value: 0.412138\n",
      "         Iterations 9\n",
      "Processed  12 models on 24 predictors in 27.985695123672485 seconds.\n",
      "Optimization terminated successfully.\n",
      "         Current function value: 0.387997\n",
      "         Iterations 9\n",
      "Optimization terminated successfully.\n",
      "         Current function value: 0.397388\n",
      "         Iterations 9\n",
      "Optimization terminated successfully.\n",
      "         Current function value: 0.402153\n",
      "         Iterations 9\n",
      "Optimization terminated successfully.\n",
      "         Current function value: 0.400057\n",
      "         Iterations 9\n",
      "Optimization terminated successfully.\n",
      "         Current function value: 0.401269\n",
      "         Iterations 9\n",
      "Optimization terminated successfully.\n",
      "         Current function value: 0.402063\n",
      "         Iterations 9\n",
      "Optimization terminated successfully.\n",
      "         Current function value: 0.401210\n",
      "         Iterations 9\n",
      "Optimization terminated successfully.\n",
      "         Current function value: 0.402522\n",
      "         Iterations 9\n",
      "Optimization terminated successfully.\n",
      "         Current function value: 0.402375\n",
      "         Iterations 9\n",
      "Optimization terminated successfully.\n",
      "         Current function value: 0.402548\n",
      "         Iterations 9\n",
      "Optimization terminated successfully.\n",
      "         Current function value: 0.395452\n",
      "         Iterations 9\n",
      "Processed  11 models on 25 predictors in 26.280538082122803 seconds.\n",
      "Optimization terminated successfully.\n",
      "         Current function value: 0.374576\n",
      "         Iterations 9\n",
      "Optimization terminated successfully.\n",
      "         Current function value: 0.387620\n",
      "         Iterations 9\n",
      "Optimization terminated successfully.\n",
      "         Current function value: 0.385549\n",
      "         Iterations 9\n",
      "Optimization terminated successfully.\n",
      "         Current function value: 0.386726\n",
      "         Iterations 9\n",
      "Optimization terminated successfully.\n",
      "         Current function value: 0.387505\n",
      "         Iterations 9\n",
      "Optimization terminated successfully.\n",
      "         Current function value: 0.386623\n",
      "         Iterations 9\n",
      "Optimization terminated successfully.\n",
      "         Current function value: 0.387818\n",
      "         Iterations 9\n",
      "Optimization terminated successfully.\n",
      "         Current function value: 0.387784\n",
      "         Iterations 9\n",
      "Optimization terminated successfully.\n",
      "         Current function value: 0.387916\n",
      "         Iterations 9\n",
      "Optimization terminated successfully.\n",
      "         Current function value: 0.381720\n",
      "         Iterations 9\n",
      "Processed  10 models on 26 predictors in 25.10571026802063 seconds.\n",
      "Optimization terminated successfully.\n",
      "         Current function value: 0.374328\n",
      "         Iterations 9\n",
      "Optimization terminated successfully.\n",
      "         Current function value: 0.372181\n",
      "         Iterations 9\n",
      "Optimization terminated successfully.\n",
      "         Current function value: 0.373360\n",
      "         Iterations 9\n",
      "Optimization terminated successfully.\n",
      "         Current function value: 0.374136\n",
      "         Iterations 9\n",
      "Optimization terminated successfully.\n",
      "         Current function value: 0.373282\n",
      "         Iterations 9\n",
      "Optimization terminated successfully.\n",
      "         Current function value: 0.374358\n",
      "         Iterations 9\n",
      "Optimization terminated successfully.\n",
      "         Current function value: 0.374409\n",
      "         Iterations 9\n",
      "Optimization terminated successfully.\n",
      "         Current function value: 0.374491\n",
      "         Iterations 9\n",
      "Optimization terminated successfully.\n",
      "         Current function value: 0.369107\n",
      "         Iterations 9\n",
      "Processed  9 models on 27 predictors in 25.102771043777466 seconds.\n",
      "Optimization terminated successfully.\n",
      "         Current function value: 0.370485\n",
      "         Iterations 9\n",
      "Optimization terminated successfully.\n",
      "         Current function value: 0.372844\n",
      "         Iterations 9\n",
      "Optimization terminated successfully.\n",
      "         Current function value: 0.373737\n",
      "         Iterations 9\n",
      "Optimization terminated successfully.\n",
      "         Current function value: 0.372218\n",
      "         Iterations 9\n",
      "Optimization terminated successfully.\n",
      "         Current function value: 0.374108\n",
      "         Iterations 9\n",
      "Optimization terminated successfully.\n",
      "         Current function value: 0.374182\n",
      "         Iterations 9\n",
      "Optimization terminated successfully.\n",
      "         Current function value: 0.374247\n",
      "         Iterations 9\n",
      "Optimization terminated successfully.\n",
      "         Current function value: 0.368998\n",
      "         Iterations 9\n",
      "Processed  8 models on 28 predictors in 24.525389909744263 seconds.\n",
      "Optimization terminated successfully.\n",
      "         Current function value: 0.368319\n",
      "         Iterations 9\n",
      "Optimization terminated successfully.\n",
      "         Current function value: 0.369439\n",
      "         Iterations 9\n",
      "Optimization terminated successfully.\n",
      "         Current function value: 0.365962\n",
      "         Iterations 9\n",
      "Optimization terminated successfully.\n",
      "         Current function value: 0.370261\n",
      "         Iterations 9\n",
      "Optimization terminated successfully.\n",
      "         Current function value: 0.370330\n",
      "         Iterations 9\n",
      "Optimization terminated successfully.\n",
      "         Current function value: 0.370377\n",
      "         Iterations 9\n",
      "Optimization terminated successfully.\n",
      "         Current function value: 0.365204\n",
      "         Iterations 9\n",
      "Processed  7 models on 29 predictors in 19.87393093109131 seconds.\n",
      "Optimization terminated successfully.\n",
      "         Current function value: 0.367045\n",
      "         Iterations 9\n",
      "Optimization terminated successfully.\n",
      "         Current function value: 0.362313\n",
      "         Iterations 9\n",
      "Optimization terminated successfully.\n",
      "         Current function value: 0.368089\n",
      "         Iterations 9\n",
      "Optimization terminated successfully.\n",
      "         Current function value: 0.368179\n",
      "         Iterations 9\n",
      "Optimization terminated successfully.\n",
      "         Current function value: 0.368201\n",
      "         Iterations 9\n",
      "Optimization terminated successfully.\n",
      "         Current function value: 0.363090\n",
      "         Iterations 9\n",
      "Processed  6 models on 30 predictors in 15.954126119613647 seconds.\n",
      "Optimization terminated successfully.\n",
      "         Current function value: 0.359368\n",
      "         Iterations 9\n",
      "Optimization terminated successfully.\n",
      "         Current function value: 0.366803\n",
      "         Iterations 9\n",
      "Optimization terminated successfully.\n",
      "         Current function value: 0.366912\n",
      "         Iterations 9\n",
      "Optimization terminated successfully.\n",
      "         Current function value: 0.366920\n",
      "         Iterations 9\n",
      "Optimization terminated successfully.\n",
      "         Current function value: 0.361866\n",
      "         Iterations 9\n",
      "Processed  5 models on 31 predictors in 13.276355028152466 seconds.\n",
      "Optimization terminated successfully.\n",
      "         Current function value: 0.359113\n",
      "         Iterations 9\n",
      "Optimization terminated successfully.\n",
      "         Current function value: 0.359147\n",
      "         Iterations 9\n",
      "Optimization terminated successfully.\n",
      "         Current function value: 0.359227\n",
      "         Iterations 9\n",
      "Optimization terminated successfully.\n",
      "         Current function value: 0.354096\n",
      "         Iterations 9\n",
      "Processed  4 models on 32 predictors in 10.072052001953125 seconds.\n",
      "Optimization terminated successfully.\n",
      "         Current function value: 0.358701\n",
      "         Iterations 9\n",
      "Optimization terminated successfully.\n",
      "         Current function value: 0.358933\n",
      "         Iterations 9\n",
      "Optimization terminated successfully.\n",
      "         Current function value: 0.353847\n",
      "         Iterations 9\n",
      "Processed  3 models on 33 predictors in 8.121160745620728 seconds.\n",
      "Optimization terminated successfully.\n",
      "         Current function value: 0.358275\n",
      "         Iterations 9\n",
      "Optimization terminated successfully.\n",
      "         Current function value: 0.353789\n",
      "         Iterations 9\n",
      "Processed  2 models on 34 predictors in 6.10196590423584 seconds.\n",
      "Optimization terminated successfully.\n",
      "         Current function value: 0.353175\n",
      "         Iterations 9\n",
      "Processed  1 models on 35 predictors in 3.079514980316162 seconds.\n",
      "Total elapsed time: 814.853551864624 seconds.\n"
     ]
    }
   ],
   "source": [
    "models_best = forward_selection()\n"
   ]
  },
  {
   "cell_type": "code",
   "execution_count": 93,
   "id": "9b678d4d",
   "metadata": {},
   "outputs": [
    {
     "data": {
      "image/png": "[encoded data removed]",
      "text/plain": [
       "<Figure size 1440x720 with 2 Axes>"
      ]
     },
     "metadata": {
      "needs_background": "light"
     },
     "output_type": "display_data"
    }
   ],
   "source": [
    "def best_sub_plots():\n",
    "    plt.figure(figsize=(20,10))\n",
    "    plt.rcParams.update({'font.size': 18, 'lines.markersize': 10})\n",
    "\n",
    "    # We will now plot a red dot to indicate the model with the largest adjusted R^2 statistic.\n",
    "    # The argmax() function can be used to identify the location of the maximum point of a vector\n",
    "\n",
    "    llr_pvalue = models_best.apply(lambda row: row[1].llr_pvalue, axis=1)\n",
    "\n",
    "    # We'll do the same for AIC and BIC, this time looking for the models with the SMALLEST statistic\n",
    "    aic = models_best.apply(lambda row: row[1].aic, axis=1)\n",
    "\n",
    "    plt.subplot(2, 2, 1)\n",
    "    plt.plot(aic)\n",
    "    plt.plot(1+aic.argmin(), aic.min(), \"or\")\n",
    "    plt.xlabel('# Predictors')\n",
    "    plt.ylabel('AIC')\n",
    "\n",
    "    bic = models_best.apply(lambda row: row[1].bic, axis=1)\n",
    "\n",
    "    plt.subplot(2, 2, 2)\n",
    "    plt.plot(bic)\n",
    "    plt.plot(1+bic.argmin(), bic.min(), \"or\")\n",
    "    plt.xlabel('# Predictors')\n",
    "    plt.ylabel('BIC')\n",
    "best_sub_plots()"
   ]
  },
  {
   "cell_type": "code",
   "execution_count": 60,
   "id": "87413766",
   "metadata": {},
   "outputs": [],
   "source": [
    "#Same as baseline model"
   ]
  },
  {
   "cell_type": "markdown",
   "id": "11f301e2",
   "metadata": {},
   "source": [
    "Multicollinearity Analysis (VIF)\n",
    "\n",
    "*by Candy Tantichirasakul*"
   ]
  },
  {
   "cell_type": "code",
   "execution_count": 20,
   "id": "8959796e",
   "metadata": {},
   "outputs": [],
   "source": [
    "X = train_smote[['BMI', 'Smoking', 'AlcoholDrinking','MentalHealth', \"Stroke\", \"Sex\",'PhysicalHealth', \"DiffWalking\", \"Diabetic\", \"PhysicalActivity\", \"SleepTime\", \"Asthma\", \"KidneyDisease\", \"SkinCancer\", \"Age1\", \"Age2\", \"Age3\", \"Age4\", \"Age5\", \"Age6\", \"Age7\", \"Age8\", \"Age9\", \"Age10\", \"Age11\", \"Age12\", \"White\", \"Black\", \"Asian\", \"AmericanIndianAlaskanNative\", \"Hispanic\", \"Poor\", \"Fair\", \"Good\", \"Verygood\"]]\n"
   ]
  },
  {
   "cell_type": "code",
   "execution_count": 21,
   "id": "3a91861a",
   "metadata": {},
   "outputs": [
    {
     "name": "stdout",
     "output_type": "stream",
     "text": [
      "                        feature        VIF\n",
      "0                         const  66.723617\n",
      "1                           BMI   1.153133\n",
      "2                       Smoking   1.072095\n",
      "3               AlcoholDrinking   1.036172\n",
      "4                  MentalHealth   1.203340\n",
      "5                        Stroke   1.039240\n",
      "6                           Sex   1.065219\n",
      "7                PhysicalHealth   1.881152\n",
      "8                   DiffWalking   1.454292\n",
      "9                      Diabetic   1.129705\n",
      "10             PhysicalActivity   1.275750\n",
      "11                    SleepTime   1.037361\n",
      "12                       Asthma   1.047647\n",
      "13                KidneyDisease   1.045073\n",
      "14                   SkinCancer   1.059394\n",
      "15                         Age1   1.187666\n",
      "16                         Age2   1.140319\n",
      "17                         Age3   1.146100\n",
      "18                         Age4   1.154453\n",
      "19                         Age5   1.151902\n",
      "20                         Age6   1.147418\n",
      "21                         Age7   1.161316\n",
      "22                         Age8   1.179698\n",
      "23                         Age9   1.206892\n",
      "24                        Age10   1.233004\n",
      "25                        Age11   1.240340\n",
      "26                        Age12   1.188325\n",
      "27                        White   2.093818\n",
      "28                        Black   1.464347\n",
      "29                        Asian   1.172874\n",
      "30  AmericanIndianAlaskanNative   1.103970\n",
      "31                     Hispanic   1.566297\n",
      "32                         Poor   1.671803\n",
      "33                         Fair   1.496240\n",
      "34                         Good   1.623203\n",
      "35                     Verygood   1.637452\n"
     ]
    }
   ],
   "source": [
    "from statsmodels.stats.outliers_influence import variance_inflation_factor\n",
    "from statsmodels.tools.tools import add_constant\n",
    "X = add_constant(X)\n",
    "vif_data = pd.DataFrame()\n",
    "vif_data[\"feature\"] = X.columns\n",
    "\n",
    "for i in range(len(X.columns)):\n",
    "    vif_data.loc[i,'VIF'] = variance_inflation_factor(X.values, i)\n",
    "\n",
    "print(vif_data)"
   ]
  },
  {
   "cell_type": "markdown",
   "id": "46a46d28",
   "metadata": {},
   "source": [
    "Interactions\n",
    "\n",
    "*by Candy Tantichirasakul*"
   ]
  },
  {
   "cell_type": "code",
   "execution_count": 36,
   "id": "403718f1",
   "metadata": {
    "scrolled": true
   },
   "outputs": [
    {
     "name": "stdout",
     "output_type": "stream",
     "text": [
      "Optimization terminated successfully.\n",
      "         Current function value: 0.353174\n",
      "         Iterations 9\n"
     ]
    }
   ],
   "source": [
    "#Interaction between Asthma and Smoking\n",
    "model2 = sm.logit(formula = 'HeartDisease~(Age1+Age2+Age3+Age4+Age5+Age6+Age7+Age8+Age9+Age10+Age11+Age12)+(Verygood+Fair+Good+Poor)+Asthma*Smoking+Diabetic+KidneyDisease+Stroke+Sex+AlcoholDrinking+DiffWalking+BMI+SkinCancer+MentalHealth+(White+Black+Asian+AmericanIndianAlaskanNative+Hispanic)+SleepTime+PhysicalActivity+PhysicalHealth', data = train_smote).fit()\n",
    "\n"
   ]
  },
  {
   "cell_type": "code",
   "execution_count": 37,
   "id": "c06d6d43",
   "metadata": {},
   "outputs": [
    {
     "name": "stdout",
     "output_type": "stream",
     "text": [
      "Classification accuracy = 83.6%\n",
      "Precision = 24.3%\n",
      "TPR or Recall = 43.3%\n",
      "FNR = 56.7%\n",
      "FPR = 12.7%\n",
      "ROC-AUC = 77.8%\n"
     ]
    },
    {
     "data": {
      "text/plain": [
       "0         0.025794\n",
       "1         0.664184\n",
       "2         0.695004\n",
       "3         0.343466\n",
       "4         0.007715\n",
       "            ...   \n",
       "319790    0.319479\n",
       "319791    0.008490\n",
       "319792    0.010996\n",
       "319793    0.002273\n",
       "319794    0.747911\n",
       "Length: 319795, dtype: float64"
      ]
     },
     "execution_count": 37,
     "metadata": {},
     "output_type": "execute_result"
    },
    {
     "data": {
      "image/png": "[encoded data removed]",
      "text/plain": [
       "<Figure size 432x288 with 2 Axes>"
      ]
     },
     "metadata": {
      "needs_background": "light"
     },
     "output_type": "display_data"
    }
   ],
   "source": [
    "confusion_matrix_data(data,data.HeartDisease,model2,0.6)"
   ]
  },
  {
   "cell_type": "code",
   "execution_count": 38,
   "id": "876d4da5",
   "metadata": {},
   "outputs": [
    {
     "name": "stdout",
     "output_type": "stream",
     "text": [
      "Optimization terminated successfully.\n",
      "         Current function value: 0.353077\n",
      "         Iterations 9\n"
     ]
    }
   ],
   "source": [
    "#Interaction between Diabetic and Kidney\n",
    "model3 = sm.logit(formula = 'HeartDisease~(Age1+Age2+Age3+Age4+Age5+Age6+Age7+Age8+Age9+Age10+Age11+Age12)+(Verygood+Fair+Good+Poor)+Asthma+Smoking+Diabetic*KidneyDisease+Stroke+Sex+AlcoholDrinking+DiffWalking+BMI+SkinCancer+MentalHealth+(White+Black+Asian+AmericanIndianAlaskanNative+Hispanic)+SleepTime+PhysicalActivity+PhysicalHealth', data = train_smote).fit()\n"
   ]
  },
  {
   "cell_type": "code",
   "execution_count": 39,
   "id": "a4736cf0",
   "metadata": {},
   "outputs": [
    {
     "name": "stdout",
     "output_type": "stream",
     "text": [
      "Classification accuracy = 83.6%\n",
      "Precision = 24.2%\n",
      "TPR or Recall = 43.3%\n",
      "FNR = 56.7%\n",
      "FPR = 12.7%\n",
      "ROC-AUC = 77.9%\n"
     ]
    },
    {
     "data": {
      "text/plain": [
       "0         0.025571\n",
       "1         0.665195\n",
       "2         0.693589\n",
       "3         0.345723\n",
       "4         0.007737\n",
       "            ...   \n",
       "319790    0.318036\n",
       "319791    0.008662\n",
       "319792    0.011061\n",
       "319793    0.002280\n",
       "319794    0.749544\n",
       "Length: 319795, dtype: float64"
      ]
     },
     "execution_count": 39,
     "metadata": {},
     "output_type": "execute_result"
    },
    {
     "data": {
      "image/png": "[encoded data removed]",
      "text/plain": [
       "<Figure size 432x288 with 2 Axes>"
      ]
     },
     "metadata": {
      "needs_background": "light"
     },
     "output_type": "display_data"
    }
   ],
   "source": [
    "confusion_matrix_data(data,data.HeartDisease,model3,0.6)"
   ]
  },
  {
   "cell_type": "code",
   "execution_count": 40,
   "id": "0f33acc3",
   "metadata": {},
   "outputs": [
    {
     "name": "stdout",
     "output_type": "stream",
     "text": [
      "Optimization terminated successfully.\n",
      "         Current function value: 0.353075\n",
      "         Iterations 9\n"
     ]
    }
   ],
   "source": [
    "#Interaction between both\n",
    "model4 = sm.logit(formula = 'HeartDisease~(Age1+Age2+Age3+Age4+Age5+Age6+Age7+Age8+Age9+Age10+Age11+Age12)+(Verygood+Fair+Good+Poor)+Asthma*Smoking+Diabetic*KidneyDisease+Stroke+Sex+AlcoholDrinking+DiffWalking+BMI+SkinCancer+MentalHealth+(White+Black+Asian+AmericanIndianAlaskanNative+Hispanic)+SleepTime+PhysicalActivity+PhysicalHealth', data = train_smote).fit()\n"
   ]
  },
  {
   "cell_type": "code",
   "execution_count": 41,
   "id": "feab8218",
   "metadata": {},
   "outputs": [
    {
     "name": "stdout",
     "output_type": "stream",
     "text": [
      "Classification accuracy = 83.6%\n",
      "Precision = 24.2%\n",
      "TPR or Recall = 43.3%\n",
      "FNR = 56.7%\n",
      "FPR = 12.7%\n",
      "ROC-AUC = 77.9%\n"
     ]
    },
    {
     "data": {
      "text/plain": [
       "0         0.025165\n",
       "1         0.664917\n",
       "2         0.690009\n",
       "3         0.345388\n",
       "4         0.007730\n",
       "            ...   \n",
       "319790    0.314388\n",
       "319791    0.008517\n",
       "319792    0.011044\n",
       "319793    0.002276\n",
       "319794    0.749161\n",
       "Length: 319795, dtype: float64"
      ]
     },
     "execution_count": 41,
     "metadata": {},
     "output_type": "execute_result"
    },
    {
     "data": {
      "image/png": "[encoded data removed]",
      "text/plain": [
       "<Figure size 432x288 with 2 Axes>"
      ]
     },
     "metadata": {
      "needs_background": "light"
     },
     "output_type": "display_data"
    }
   ],
   "source": [
    "confusion_matrix_data(data,data.HeartDisease,model4,0.6)"
   ]
  },
  {
   "cell_type": "code",
   "execution_count": 42,
   "id": "0c2ce942",
   "metadata": {},
   "outputs": [
    {
     "name": "stdout",
     "output_type": "stream",
     "text": [
      "Optimization terminated successfully.\n",
      "         Current function value: 0.351447\n",
      "         Iterations 9\n"
     ]
    }
   ],
   "source": [
    "#AgeCategory * GenHealth\n",
    "model5 = sm.logit(formula = 'HeartDisease~(Age1+Age2+Age3+Age4+Age5+Age6+Age7+Age8+Age9+Age10+Age11+Age12)*(Verygood+Fair+Good+Poor)+Asthma+Smoking+Diabetic+KidneyDisease+Stroke+Sex+AlcoholDrinking+DiffWalking+BMI+SkinCancer+MentalHealth+(White+Black+Asian+AmericanIndianAlaskanNative+Hispanic)+SleepTime+PhysicalActivity+PhysicalHealth', data = train_smote).fit()\n"
   ]
  },
  {
   "cell_type": "code",
   "execution_count": 43,
   "id": "40cbf176",
   "metadata": {},
   "outputs": [
    {
     "name": "stdout",
     "output_type": "stream",
     "text": [
      "Classification accuracy = 83.7%\n",
      "Precision = 24.4%\n",
      "TPR or Recall = 43.1%\n",
      "FNR = 56.9%\n",
      "FPR = 12.5%\n",
      "ROC-AUC = 78.1%\n"
     ]
    },
    {
     "data": {
      "text/plain": [
       "0         0.023748\n",
       "1         0.621006\n",
       "2         0.665515\n",
       "3         0.352514\n",
       "4         0.005789\n",
       "            ...   \n",
       "319790    0.313019\n",
       "319791    0.010676\n",
       "319792    0.011606\n",
       "319793    0.002057\n",
       "319794    0.726488\n",
       "Length: 319795, dtype: float64"
      ]
     },
     "execution_count": 43,
     "metadata": {},
     "output_type": "execute_result"
    },
    {
     "data": {
      "image/png": "[encoded data removed]",
      "text/plain": [
       "<Figure size 432x288 with 2 Axes>"
      ]
     },
     "metadata": {
      "needs_background": "light"
     },
     "output_type": "display_data"
    }
   ],
   "source": [
    "confusion_matrix_data(data,data.HeartDisease,model5,0.6)"
   ]
  },
  {
   "cell_type": "code",
   "execution_count": 44,
   "id": "3bfbd78f",
   "metadata": {},
   "outputs": [
    {
     "name": "stdout",
     "output_type": "stream",
     "text": [
      "Optimization terminated successfully.\n",
      "         Current function value: 0.353114\n",
      "         Iterations 9\n"
     ]
    }
   ],
   "source": [
    "#Stroke * Difficulty Walking\n",
    "model6 = sm.logit(formula = 'HeartDisease~(Age1+Age2+Age3+Age4+Age5+Age6+Age7+Age8+Age9+Age10+Age11+Age12)+(Verygood+Fair+Good+Poor)+Asthma+Smoking+Diabetic+KidneyDisease+Sex+AlcoholDrinking+Stroke*DiffWalking+BMI+SkinCancer+MentalHealth+(White+Black+Asian+AmericanIndianAlaskanNative+Hispanic)+SleepTime+PhysicalActivity+PhysicalHealth', data = train_smote).fit()\n"
   ]
  },
  {
   "cell_type": "code",
   "execution_count": 45,
   "id": "5e3bf037",
   "metadata": {
    "scrolled": true
   },
   "outputs": [
    {
     "name": "stdout",
     "output_type": "stream",
     "text": [
      "Classification accuracy = 83.6%\n",
      "Precision = 24.3%\n",
      "TPR or Recall = 43.3%\n",
      "FNR = 56.7%\n",
      "FPR = 12.7%\n",
      "ROC-AUC = 77.9%\n"
     ]
    },
    {
     "data": {
      "text/plain": [
       "0         0.026171\n",
       "1         0.636488\n",
       "2         0.699539\n",
       "3         0.345168\n",
       "4         0.007537\n",
       "            ...   \n",
       "319790    0.319094\n",
       "319791    0.008650\n",
       "319792    0.011036\n",
       "319793    0.002284\n",
       "319794    0.750241\n",
       "Length: 319795, dtype: float64"
      ]
     },
     "execution_count": 45,
     "metadata": {},
     "output_type": "execute_result"
    },
    {
     "data": {
      "image/png": "[encoded data removed]",
      "text/plain": [
       "<Figure size 432x288 with 2 Axes>"
      ]
     },
     "metadata": {
      "needs_background": "light"
     },
     "output_type": "display_data"
    }
   ],
   "source": [
    "confusion_matrix_data(data,data.HeartDisease,model6,0.6)"
   ]
  },
  {
   "cell_type": "markdown",
   "id": "4f1beeeb",
   "metadata": {},
   "source": [
    "Subset based on alcohol insight\n",
    "\n",
    "*by Annika Le*"
   ]
  },
  {
   "cell_type": "code",
   "execution_count": 95,
   "id": "0d0a1755",
   "metadata": {},
   "outputs": [],
   "source": [
    "alcohol_yes = train_smote[train_smote.AlcoholDrinking == 1]\n",
    "data_alc_yes = data[data.AlcoholDrinking == 1]\n",
    "alcohol_no = train_smote[train_smote.AlcoholDrinking == 0]\n",
    "data_alc_no = data[data.AlcoholDrinking == 0]"
   ]
  },
  {
   "cell_type": "code",
   "execution_count": 96,
   "id": "8e0b3a6d",
   "metadata": {},
   "outputs": [
    {
     "name": "stdout",
     "output_type": "stream",
     "text": [
      "Optimization terminated successfully.\n",
      "         Current function value: 0.347617\n",
      "         Iterations 6\n",
      "Classification accuracy = 88.9%\n",
      "Precision = nan%\n",
      "TPR or Recall = 0.0%\n",
      "FNR = 100.0%\n",
      "FPR = 0.0%\n",
      "ROC-AUC = 50.0%\n"
     ]
    },
    {
     "name": "stderr",
     "output_type": "stream",
     "text": [
      "C:\\Users\\annik\\AppData\\Local\\Temp\\ipykernel_21972\\1691262903.py:16: RuntimeWarning: invalid value encountered in double_scalars\n",
      "  precision = (cm[1,1])/(cm[0,1]+cm[1,1])\n"
     ]
    },
    {
     "data": {
      "text/plain": [
       "8         0.110528\n",
       "12        0.110528\n",
       "37        0.110528\n",
       "41        0.110528\n",
       "76        0.110528\n",
       "            ...   \n",
       "408888    0.110528\n",
       "408957    0.110528\n",
       "409144    0.110528\n",
       "409277    0.110528\n",
       "409324    0.110528\n",
       "Length: 16186, dtype: float64"
      ]
     },
     "execution_count": 96,
     "metadata": {},
     "output_type": "execute_result"
    },
    {
     "data": {
      "image/png": "[encoded data removed]",
      "text/plain": [
       "<Figure size 432x288 with 2 Axes>"
      ]
     },
     "metadata": {
      "needs_background": "light"
     },
     "output_type": "display_data"
    }
   ],
   "source": [
    "model_alc_yes = sm.logit(formula = 'HeartDisease~1', data = alcohol_yes).fit()\n",
    "confusion_matrix_data(alcohol_yes,alcohol_yes.HeartDisease,model_alc_yes,0.6)"
   ]
  },
  {
   "cell_type": "code",
   "execution_count": 99,
   "id": "7c031356",
   "metadata": {},
   "outputs": [
    {
     "name": "stdout",
     "output_type": "stream",
     "text": [
      "Optimization terminated successfully.\n",
      "         Current function value: 0.358127\n",
      "         Iterations 9\n",
      "Classification accuracy = 82.8%\n",
      "Precision = 24.1%\n",
      "TPR or Recall = 44.7%\n",
      "FNR = 55.3%\n",
      "FPR = 13.6%\n",
      "ROC-AUC = 77.7%\n"
     ]
    },
    {
     "data": {
      "text/plain": [
       "0         0.025263\n",
       "1         0.657866\n",
       "2         0.693264\n",
       "3         0.344952\n",
       "4         0.007575\n",
       "            ...   \n",
       "319790    0.319683\n",
       "319791    0.007895\n",
       "319792    0.010754\n",
       "319793    0.002052\n",
       "319794    0.746262\n",
       "Length: 298018, dtype: float64"
      ]
     },
     "execution_count": 99,
     "metadata": {},
     "output_type": "execute_result"
    },
    {
     "data": {
      "image/png": "[encoded data removed]",
      "text/plain": [
       "<Figure size 432x288 with 2 Axes>"
      ]
     },
     "metadata": {
      "needs_background": "light"
     },
     "output_type": "display_data"
    }
   ],
   "source": [
    "model_alc_no = sm.logit(formula = 'HeartDisease~(Age1+Age2+Age3+Age4+Age5+Age6+Age7+Age8+Age9+Age10+Age11+Age12)+(Verygood+Fair+Good+Poor)+Asthma+Smoking+Diabetic+KidneyDisease+Stroke+Sex+DiffWalking+BMI+SkinCancer+MentalHealth+(White+Black+Asian+AmericanIndianAlaskanNative+Hispanic)+SleepTime+PhysicalActivity+PhysicalHealth', data = alcohol_no).fit()\n",
    "confusion_matrix_data(data_alc_no,data_alc_no.HeartDisease,model_alc_no,0.6)"
   ]
  },
  {
   "cell_type": "markdown",
   "id": "b69010a5",
   "metadata": {},
   "source": [
    "Combine metrics from two subsets to calculate metrics for final model:"
   ]
  },
  {
   "cell_type": "code",
   "execution_count": 101,
   "id": "a6a4337c",
   "metadata": {},
   "outputs": [],
   "source": [
    "tn = 14397 + 234883\n",
    "fn = 1789 + 14505\n",
    "fp = 36903\n",
    "tp = 11727"
   ]
  },
  {
   "cell_type": "code",
   "execution_count": 102,
   "id": "d5af4819",
   "metadata": {},
   "outputs": [
    {
     "data": {
      "text/plain": [
       "0.8306927983093786"
      ]
     },
     "execution_count": 102,
     "metadata": {},
     "output_type": "execute_result"
    }
   ],
   "source": [
    "# accuracy = TN+TP/(TN+FN+FP+TP)\n",
    "accuracy = (tn+tp)/(tn+fn+fp+tp)\n",
    "accuracy"
   ]
  },
  {
   "cell_type": "code",
   "execution_count": 103,
   "id": "71feaa61",
   "metadata": {},
   "outputs": [
    {
     "data": {
      "text/plain": [
       "0.5814924520895043"
      ]
     },
     "execution_count": 103,
     "metadata": {},
     "output_type": "execute_result"
    }
   ],
   "source": [
    "# FNR = FN/(FN+TP)\n",
    "FNR = fn/(fn+tp)\n",
    "FNR"
   ]
  },
  {
   "cell_type": "code",
   "execution_count": 104,
   "id": "4189168a",
   "metadata": {},
   "outputs": [
    {
     "data": {
      "text/plain": [
       "0.24114743985194326"
      ]
     },
     "execution_count": 104,
     "metadata": {},
     "output_type": "execute_result"
    }
   ],
   "source": [
    "# precision = TP/(FP+TP)\n",
    "precision = tp/(fp+tp)\n",
    "precision"
   ]
  },
  {
   "cell_type": "markdown",
   "id": "35d3a9a5",
   "metadata": {},
   "source": [
    "### Code fitting the final model"
   ]
  },
  {
   "cell_type": "markdown",
   "id": "12a547a5",
   "metadata": {},
   "source": [
    "Put the code(s) that fit the final model(s) in separate cell(s), i.e., the code with the `.ols()` or `.logit()` functions."
   ]
  },
  {
   "cell_type": "markdown",
   "id": "37e31c83",
   "metadata": {},
   "source": [
    "Subsetting stroke & difficulty walking\n",
    "\n",
    "by Anna Xiao"
   ]
  },
  {
   "cell_type": "code",
   "execution_count": 49,
   "id": "4e8374ee",
   "metadata": {},
   "outputs": [
    {
     "name": "stdout",
     "output_type": "stream",
     "text": [
      "Optimization terminated successfully.\n",
      "         Current function value: 0.577320\n",
      "         Iterations 5\n"
     ]
    }
   ],
   "source": [
    "subset_smote1 = train_smote.loc[((train_smote['Stroke'] == 1) & (train_smote['DiffWalking'] == 1))]\n",
    "subset1 = data.loc[((data['Stroke'] == 1) & (data['DiffWalking'] == 1))]\n",
    "model_subset1 = sm.logit(formula = 'HeartDisease~1', data = subset_smote1).fit() "
   ]
  },
  {
   "cell_type": "code",
   "execution_count": 50,
   "id": "0071dcd4",
   "metadata": {},
   "outputs": [
    {
     "name": "stdout",
     "output_type": "stream",
     "text": [
      "Classification accuracy = 44.4%\n",
      "Precision = 44.4%\n",
      "TPR or Recall = 100.0%\n",
      "FNR = 0.0%\n",
      "FPR = 100.0%\n",
      "ROC-AUC = 50.0%\n"
     ]
    },
    {
     "data": {
      "text/plain": [
       "35        0.735883\n",
       "135       0.735883\n",
       "142       0.735883\n",
       "270       0.735883\n",
       "279       0.735883\n",
       "            ...   \n",
       "319565    0.735883\n",
       "319588    0.735883\n",
       "319619    0.735883\n",
       "319620    0.735883\n",
       "319765    0.735883\n",
       "Length: 5346, dtype: float64"
      ]
     },
     "execution_count": 50,
     "metadata": {},
     "output_type": "execute_result"
    },
    {
     "data": {
      "image/png": "[encoded data removed]",
      "text/plain": [
       "<Figure size 432x288 with 2 Axes>"
      ]
     },
     "metadata": {
      "needs_background": "light"
     },
     "output_type": "display_data"
    }
   ],
   "source": [
    "confusion_matrix_data(subset1, subset1.HeartDisease, model_subset1, 0.6)"
   ]
  },
  {
   "cell_type": "code",
   "execution_count": 56,
   "id": "75d89a91",
   "metadata": {},
   "outputs": [
    {
     "name": "stdout",
     "output_type": "stream",
     "text": [
      "Optimization terminated successfully.\n",
      "         Current function value: 0.350502\n",
      "         Iterations 9\n"
     ]
    }
   ],
   "source": [
    "subset_smote2 = train_smote.loc[((train_smote['Stroke'] == 0) | (train_smote['DiffWalking'] == 0))]\n",
    "subset2 = data.loc[((data['Stroke'] == 0) | (data['DiffWalking'] == 0))]\n",
    "model_subset2 = sm.logit(formula = 'HeartDisease~BMI+Smoking+AlcoholDrinking+MentalHealth+Stroke+Sex+PhysicalHealth+DiffWalking+Diabetic+PhysicalActivity+SleepTime+Asthma+KidneyDisease+SkinCancer+Age1+Age2+Age3+Age4+Age5+Age6+Age7+Age8+Age9+Age10+Age11+Age12+White+Black+Asian+AmericanIndianAlaskanNative+Hispanic+Poor+Fair+Good+Verygood', data = subset_smote2).fit()"
   ]
  },
  {
   "cell_type": "code",
   "execution_count": 64,
   "id": "9c304874",
   "metadata": {},
   "outputs": [
    {
     "name": "stdout",
     "output_type": "stream",
     "text": [
      "Classification accuracy = 81.7%\n",
      "Precision = 19.2%\n",
      "TPR or Recall = 40.6%\n",
      "FNR = 59.4%\n",
      "FPR = 14.8%\n",
      "ROC-AUC = 69.9%\n"
     ]
    },
    {
     "data": {
      "text/plain": [
       "0         0.198849\n",
       "1         0.379411\n",
       "2         0.592706\n",
       "3         0.427956\n",
       "4         0.580264\n",
       "            ...   \n",
       "319790    0.763587\n",
       "319791    0.317100\n",
       "319792    0.216450\n",
       "319793    0.453194\n",
       "319794    0.245228\n",
       "Length: 314449, dtype: float64"
      ]
     },
     "execution_count": 64,
     "metadata": {},
     "output_type": "execute_result"
    },
    {
     "data": {
      "image/png": "[encoded data removed]",
      "text/plain": [
       "<Figure size 432x288 with 2 Axes>"
      ]
     },
     "metadata": {
      "needs_background": "light"
     },
     "output_type": "display_data"
    }
   ],
   "source": [
    "confusion_matrix_data(subset2, subset2.HeartDisease, model_subset2, 0.6)"
   ]
  },
  {
   "cell_type": "markdown",
   "id": "06964ea3",
   "metadata": {},
   "source": [
    "Combine and calculate metrics for final model:\n",
    "\n",
    "TN:246678, FN:14857, FP:45744, TP:12516"
   ]
  },
  {
   "cell_type": "code",
   "execution_count": 68,
   "id": "88d7aabc",
   "metadata": {},
   "outputs": [
    {
     "data": {
      "text/plain": [
       "0.8105004768679935"
      ]
     },
     "execution_count": 68,
     "metadata": {},
     "output_type": "execute_result"
    }
   ],
   "source": [
    "# calculated accuracy = TP+TN/(TP+TN+FP+FN)\n",
    "(12516+246678)/(12516+246678+45744+14857)"
   ]
  },
  {
   "cell_type": "code",
   "execution_count": 66,
   "id": "40069e6e",
   "metadata": {},
   "outputs": [
    {
     "data": {
      "text/plain": [
       "0.2148300720906282"
      ]
     },
     "execution_count": 66,
     "metadata": {},
     "output_type": "execute_result"
    }
   ],
   "source": [
    "# calculated precision = TP/(TP+FP)\n",
    "12516/(12516+45744)"
   ]
  },
  {
   "cell_type": "code",
   "execution_count": 67,
   "id": "7f322663",
   "metadata": {},
   "outputs": [
    {
     "data": {
      "text/plain": [
       "0.5427611149673035"
      ]
     },
     "execution_count": 67,
     "metadata": {},
     "output_type": "execute_result"
    }
   ],
   "source": [
    "# calculated FNR = FN/(TP+FN)\n",
    "14857/(12516+14857)"
   ]
  },
  {
   "cell_type": "markdown",
   "id": "690724cf",
   "metadata": {},
   "source": [
    "Accuracy ~ 81.1%\n",
    "\n",
    "Precision ~ 21.5%\n",
    "\n",
    "FNR ~ 54.3 %"
   ]
  },
  {
   "cell_type": "markdown",
   "id": "cfd45e22",
   "metadata": {},
   "source": [
    "## Conclusions and Recommendations to stakeholder(s)"
   ]
  },
  {
   "cell_type": "markdown",
   "id": "efe14f90",
   "metadata": {},
   "source": [
    "Odds Analysis\n",
    "\n",
    "*by Candy Tantichirasakul*"
   ]
  },
  {
   "cell_type": "code",
   "execution_count": 98,
   "id": "c3edebc1",
   "metadata": {},
   "outputs": [
    {
     "data": {
      "text/plain": [
       "-0.07006289186190962"
      ]
     },
     "execution_count": 98,
     "metadata": {},
     "output_type": "execute_result"
    }
   ],
   "source": [
    "# Odds with unit increase in SleepTime\n",
    "np.exp(model.params.SleepTime) - 1"
   ]
  },
  {
   "cell_type": "code",
   "execution_count": 100,
   "id": "79cbeca9",
   "metadata": {},
   "outputs": [
    {
     "data": {
      "text/plain": [
       "-0.3521210784057902"
      ]
     },
     "execution_count": 100,
     "metadata": {},
     "output_type": "execute_result"
    }
   ],
   "source": [
    "# Odds with PhysicalActivity\n",
    "np.exp(model.params.PhysicalActivity) - 1"
   ]
  },
  {
   "cell_type": "code",
   "execution_count": null,
   "id": "48b7d1ec",
   "metadata": {},
   "outputs": [],
   "source": []
  },
  {
   "cell_type": "code",
   "execution_count": null,
   "id": "f25c27b6",
   "metadata": {},
   "outputs": [],
   "source": []
  }
 ],
 "metadata": {
  "kernelspec": {
   "display_name": "Python 3 (ipykernel)",
   "language": "python",
   "name": "python3"
  },
  "language_info": {
   "codemirror_mode": {
    "name": "ipython",
    "version": 3
   },
   "file_extension": ".py",
   "mimetype": "text/x-python",
   "name": "python",
   "nbconvert_exporter": "python",
   "pygments_lexer": "ipython3",
   "version": "3.9.7"
  }
 },
 "nbformat": 4,
 "nbformat_minor": 5
}
