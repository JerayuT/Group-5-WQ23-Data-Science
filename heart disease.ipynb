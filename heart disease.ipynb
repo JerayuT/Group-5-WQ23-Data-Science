{
 "cells": [
  {
   "cell_type": "code",
   "execution_count": 2,
   "id": "26a12f9a",
   "metadata": {},
   "outputs": [],
   "source": [
    "import pandas as pd\n",
    "import numpy as np\n",
    "import statsmodels.formula.api as sm\n",
    "import seaborn as sns\n",
    "import matplotlib.pyplot as plt\n",
    "import itertools\n",
    "import time"
   ]
  },
  {
   "cell_type": "code",
   "execution_count": 2,
   "id": "72f2e27d",
   "metadata": {},
   "outputs": [
    {
     "ename": "NameError",
     "evalue": "name 'pd' is not defined",
     "output_type": "error",
     "traceback": [
      "\u001b[1;31m---------------------------------------------------------------------------\u001b[0m",
      "\u001b[1;31mNameError\u001b[0m                                 Traceback (most recent call last)",
      "Input \u001b[1;32mIn [2]\u001b[0m, in \u001b[0;36m<cell line: 1>\u001b[1;34m()\u001b[0m\n\u001b[1;32m----> 1\u001b[0m data \u001b[38;5;241m=\u001b[39m \u001b[43mpd\u001b[49m\u001b[38;5;241m.\u001b[39mread_csv(\u001b[38;5;124m\"\u001b[39m\u001b[38;5;124mheart_2020_cleaned.csv\u001b[39m\u001b[38;5;124m\"\u001b[39m)\n\u001b[0;32m      2\u001b[0m data\u001b[38;5;241m.\u001b[39mhead()\n",
      "\u001b[1;31mNameError\u001b[0m: name 'pd' is not defined"
     ]
    }
   ],
   "source": [
    "data = pd.read_csv(\"heart_2020_cleaned.csv\")\n",
    "data.head()"
   ]
  },
  {
   "cell_type": "markdown",
   "id": "3c7bce6d",
   "metadata": {},
   "source": [
    "# Data Cleaning"
   ]
  },
  {
   "cell_type": "code",
   "execution_count": 3,
   "id": "79eb3d32",
   "metadata": {},
   "outputs": [
    {
     "ename": "NameError",
     "evalue": "name 'data' is not defined",
     "output_type": "error",
     "traceback": [
      "\u001b[1;31m---------------------------------------------------------------------------\u001b[0m",
      "\u001b[1;31mNameError\u001b[0m                                 Traceback (most recent call last)",
      "Input \u001b[1;32mIn [3]\u001b[0m, in \u001b[0;36m<cell line: 1>\u001b[1;34m()\u001b[0m\n\u001b[1;32m----> 1\u001b[0m \u001b[43mdata\u001b[49m\u001b[38;5;241m.\u001b[39mreplace(\u001b[38;5;124m\"\u001b[39m\u001b[38;5;124mYes\u001b[39m\u001b[38;5;124m\"\u001b[39m, \u001b[38;5;241m1\u001b[39m, inplace \u001b[38;5;241m=\u001b[39m \u001b[38;5;28;01mTrue\u001b[39;00m)\n\u001b[0;32m      2\u001b[0m data\u001b[38;5;241m.\u001b[39mreplace(\u001b[38;5;124m\"\u001b[39m\u001b[38;5;124mNo\u001b[39m\u001b[38;5;124m\"\u001b[39m, \u001b[38;5;241m0\u001b[39m, inplace \u001b[38;5;241m=\u001b[39m \u001b[38;5;28;01mTrue\u001b[39;00m)\n\u001b[0;32m      3\u001b[0m data\u001b[38;5;241m.\u001b[39mhead()\n",
      "\u001b[1;31mNameError\u001b[0m: name 'data' is not defined"
     ]
    }
   ],
   "source": [
    "data.replace(\"Yes\", 1, inplace = True)\n",
    "data.replace(\"No\", 0, inplace = True)\n",
    "data.head()"
   ]
  },
  {
   "cell_type": "code",
   "execution_count": 4,
   "id": "39bbf4d3",
   "metadata": {},
   "outputs": [
    {
     "ename": "NameError",
     "evalue": "name 'data' is not defined",
     "output_type": "error",
     "traceback": [
      "\u001b[1;31m---------------------------------------------------------------------------\u001b[0m",
      "\u001b[1;31mNameError\u001b[0m                                 Traceback (most recent call last)",
      "Input \u001b[1;32mIn [4]\u001b[0m, in \u001b[0;36m<cell line: 1>\u001b[1;34m()\u001b[0m\n\u001b[1;32m----> 1\u001b[0m \u001b[43mdata\u001b[49m[\u001b[38;5;124m'\u001b[39m\u001b[38;5;124mDiabetic\u001b[39m\u001b[38;5;124m'\u001b[39m]\u001b[38;5;241m.\u001b[39munique()\n",
      "\u001b[1;31mNameError\u001b[0m: name 'data' is not defined"
     ]
    }
   ],
   "source": [
    "data['Diabetic'].unique()"
   ]
  },
  {
   "cell_type": "code",
   "execution_count": 5,
   "id": "b3b89a9c",
   "metadata": {},
   "outputs": [
    {
     "ename": "NameError",
     "evalue": "name 'data' is not defined",
     "output_type": "error",
     "traceback": [
      "\u001b[1;31m---------------------------------------------------------------------------\u001b[0m",
      "\u001b[1;31mNameError\u001b[0m                                 Traceback (most recent call last)",
      "Input \u001b[1;32mIn [5]\u001b[0m, in \u001b[0;36m<cell line: 1>\u001b[1;34m()\u001b[0m\n\u001b[1;32m----> 1\u001b[0m \u001b[43mdata\u001b[49m\u001b[38;5;241m.\u001b[39mreplace(\u001b[38;5;124m\"\u001b[39m\u001b[38;5;124mYes (during pregnancy)\u001b[39m\u001b[38;5;124m\"\u001b[39m, \u001b[38;5;241m1\u001b[39m, inplace \u001b[38;5;241m=\u001b[39m \u001b[38;5;28;01mTrue\u001b[39;00m)\n\u001b[0;32m      2\u001b[0m data\u001b[38;5;241m.\u001b[39mreplace(\u001b[38;5;124m\"\u001b[39m\u001b[38;5;124mNo, borderline diabetes\u001b[39m\u001b[38;5;124m\"\u001b[39m, \u001b[38;5;241m0\u001b[39m, inplace \u001b[38;5;241m=\u001b[39m \u001b[38;5;28;01mTrue\u001b[39;00m)\n",
      "\u001b[1;31mNameError\u001b[0m: name 'data' is not defined"
     ]
    }
   ],
   "source": [
    "data.replace(\"Yes (during pregnancy)\", 1, inplace = True)\n",
    "data.replace(\"No, borderline diabetes\", 0, inplace = True)"
   ]
  },
  {
   "cell_type": "code",
   "execution_count": 6,
   "id": "efab0328",
   "metadata": {},
   "outputs": [
    {
     "ename": "NameError",
     "evalue": "name 'data' is not defined",
     "output_type": "error",
     "traceback": [
      "\u001b[1;31m---------------------------------------------------------------------------\u001b[0m",
      "\u001b[1;31mNameError\u001b[0m                                 Traceback (most recent call last)",
      "Input \u001b[1;32mIn [6]\u001b[0m, in \u001b[0;36m<cell line: 1>\u001b[1;34m()\u001b[0m\n\u001b[1;32m----> 1\u001b[0m \u001b[43mdata\u001b[49m[\u001b[38;5;124m\"\u001b[39m\u001b[38;5;124mSex\u001b[39m\u001b[38;5;124m\"\u001b[39m]\u001b[38;5;241m.\u001b[39munique()\n",
      "\u001b[1;31mNameError\u001b[0m: name 'data' is not defined"
     ]
    }
   ],
   "source": [
    "data[\"Sex\"].unique()"
   ]
  },
  {
   "cell_type": "code",
   "execution_count": 7,
   "id": "73892744",
   "metadata": {},
   "outputs": [
    {
     "ename": "NameError",
     "evalue": "name 'data' is not defined",
     "output_type": "error",
     "traceback": [
      "\u001b[1;31m---------------------------------------------------------------------------\u001b[0m",
      "\u001b[1;31mNameError\u001b[0m                                 Traceback (most recent call last)",
      "Input \u001b[1;32mIn [7]\u001b[0m, in \u001b[0;36m<cell line: 1>\u001b[1;34m()\u001b[0m\n\u001b[1;32m----> 1\u001b[0m \u001b[43mdata\u001b[49m\u001b[38;5;241m.\u001b[39mreplace(\u001b[38;5;124m\"\u001b[39m\u001b[38;5;124mFemale\u001b[39m\u001b[38;5;124m\"\u001b[39m, \u001b[38;5;241m1\u001b[39m, inplace \u001b[38;5;241m=\u001b[39m \u001b[38;5;28;01mTrue\u001b[39;00m)\n\u001b[0;32m      2\u001b[0m data\u001b[38;5;241m.\u001b[39mreplace(\u001b[38;5;124m\"\u001b[39m\u001b[38;5;124mMale\u001b[39m\u001b[38;5;124m\"\u001b[39m, \u001b[38;5;241m0\u001b[39m, inplace \u001b[38;5;241m=\u001b[39m \u001b[38;5;28;01mTrue\u001b[39;00m)\n",
      "\u001b[1;31mNameError\u001b[0m: name 'data' is not defined"
     ]
    }
   ],
   "source": [
    "data.replace(\"Female\", 1, inplace = True)\n",
    "data.replace(\"Male\", 0, inplace = True)"
   ]
  },
  {
   "cell_type": "code",
   "execution_count": 8,
   "id": "b5d88d3e",
   "metadata": {},
   "outputs": [
    {
     "ename": "NameError",
     "evalue": "name 'data' is not defined",
     "output_type": "error",
     "traceback": [
      "\u001b[1;31m---------------------------------------------------------------------------\u001b[0m",
      "\u001b[1;31mNameError\u001b[0m                                 Traceback (most recent call last)",
      "Input \u001b[1;32mIn [8]\u001b[0m, in \u001b[0;36m<cell line: 1>\u001b[1;34m()\u001b[0m\n\u001b[1;32m----> 1\u001b[0m \u001b[43mdata\u001b[49m[\u001b[38;5;124m\"\u001b[39m\u001b[38;5;124mAgeCategory\u001b[39m\u001b[38;5;124m\"\u001b[39m]\u001b[38;5;241m.\u001b[39munique()\n",
      "\u001b[1;31mNameError\u001b[0m: name 'data' is not defined"
     ]
    }
   ],
   "source": [
    "data[\"AgeCategory\"].unique()"
   ]
  },
  {
   "cell_type": "code",
   "execution_count": 80,
   "id": "910fae12",
   "metadata": {},
   "outputs": [],
   "source": [
    "data.replace(\"18-24\", 0, inplace = True)\n",
    "data.replace(\"25-29\", 1, inplace = True)\n",
    "data.replace(\"30-34\", 2, inplace = True)\n",
    "data.replace(\"35-39\", 3, inplace = True)\n",
    "data.replace(\"40-44\", 4, inplace = True)\n",
    "data.replace(\"45-49\", 5, inplace = True)\n",
    "data.replace(\"50-54\", 6, inplace = True)\n",
    "data.replace(\"55-59\", 7, inplace = True)\n",
    "data.replace(\"60-64\", 8, inplace = True)\n",
    "data.replace(\"65-69\", 9, inplace = True)\n",
    "data.replace(\"70-74\", 10, inplace = True)\n",
    "data.replace(\"75-79\", 11, inplace = True)\n",
    "data.replace(\"80 or older\", 12, inplace = True)"
   ]
  },
  {
   "cell_type": "code",
   "execution_count": 81,
   "id": "d7446b19",
   "metadata": {},
   "outputs": [
    {
     "data": {
      "text/plain": [
       "array(['White', 'Black', 'Asian', 'American Indian/Alaskan Native',\n",
       "       'Other', 'Hispanic'], dtype=object)"
      ]
     },
     "execution_count": 81,
     "metadata": {},
     "output_type": "execute_result"
    }
   ],
   "source": [
    "data[\"Race\"].unique()"
   ]
  },
  {
   "cell_type": "code",
   "execution_count": 82,
   "id": "e74665ab",
   "metadata": {},
   "outputs": [],
   "source": [
    "data.replace(\"White\", 0, inplace = True)\n",
    "data.replace(\"Black\", 1, inplace = True)\n",
    "data.replace(\"Asian\", 2, inplace = True)\n",
    "data.replace(\"American Indian/Alaskan Native\", 3, inplace = True)\n",
    "data.replace(\"Hispanic\", 4, inplace = True)\n",
    "data.replace(\"Other\", 5, inplace = True)"
   ]
  },
  {
   "cell_type": "code",
   "execution_count": 83,
   "id": "d7cb70f4",
   "metadata": {},
   "outputs": [
    {
     "data": {
      "text/plain": [
       "array(['Very good', 'Fair', 'Good', 'Poor', 'Excellent'], dtype=object)"
      ]
     },
     "execution_count": 83,
     "metadata": {},
     "output_type": "execute_result"
    }
   ],
   "source": [
    "data[\"GenHealth\"].unique()"
   ]
  },
  {
   "cell_type": "code",
   "execution_count": 84,
   "id": "c29b6242",
   "metadata": {},
   "outputs": [],
   "source": [
    "data.replace(\"Poor\", 0, inplace = True)\n",
    "data.replace(\"Fair\", 1, inplace = True)\n",
    "data.replace(\"Good\", 2, inplace = True)\n",
    "data.replace(\"Very good\", 3, inplace = True)\n",
    "data.replace(\"Excellent\", 4, inplace = True)"
   ]
  },
  {
   "cell_type": "markdown",
   "id": "329f7f6b",
   "metadata": {},
   "source": [
    "# Naive Method"
   ]
  },
  {
   "cell_type": "code",
   "execution_count": 85,
   "id": "72813b41",
   "metadata": {},
   "outputs": [
    {
     "data": {
      "text/plain": [
       "292422"
      ]
     },
     "execution_count": 85,
     "metadata": {},
     "output_type": "execute_result"
    }
   ],
   "source": [
    "data['HeartDisease'].value_counts()[0]"
   ]
  },
  {
   "cell_type": "code",
   "execution_count": 86,
   "id": "8e4eeac0",
   "metadata": {},
   "outputs": [
    {
     "data": {
      "text/plain": [
       "27373"
      ]
     },
     "execution_count": 86,
     "metadata": {},
     "output_type": "execute_result"
    }
   ],
   "source": [
    "data['HeartDisease'].value_counts()[1]"
   ]
  },
  {
   "cell_type": "markdown",
   "id": "f0973501",
   "metadata": {},
   "source": [
    "### Predict all 0's"
   ]
  },
  {
   "cell_type": "code",
   "execution_count": 87,
   "id": "3a1c247c",
   "metadata": {},
   "outputs": [
    {
     "data": {
      "text/plain": [
       "0.9144045404086993"
      ]
     },
     "execution_count": 87,
     "metadata": {},
     "output_type": "execute_result"
    }
   ],
   "source": [
    "accuracy = 292422/(292422+27373)\n",
    "accuracy"
   ]
  },
  {
   "cell_type": "markdown",
   "id": "06e12da3",
   "metadata": {},
   "source": [
    "# Split Test and Train"
   ]
  },
  {
   "cell_type": "code",
   "execution_count": 88,
   "id": "303a2909",
   "metadata": {},
   "outputs": [
    {
     "data": {
      "text/plain": [
       "(319795, 18)"
      ]
     },
     "execution_count": 88,
     "metadata": {},
     "output_type": "execute_result"
    }
   ],
   "source": [
    "data.shape"
   ]
  },
  {
   "cell_type": "markdown",
   "id": "9552fe1c",
   "metadata": {},
   "source": [
    "## Manually split"
   ]
  },
  {
   "cell_type": "code",
   "execution_count": 89,
   "id": "350df765",
   "metadata": {},
   "outputs": [
    {
     "data": {
      "text/plain": [
       "223856.5"
      ]
     },
     "execution_count": 89,
     "metadata": {},
     "output_type": "execute_result"
    }
   ],
   "source": [
    "#70% train, 30% test\n",
    "\n",
    "319795 * 0.7"
   ]
  },
  {
   "cell_type": "code",
   "execution_count": 90,
   "id": "bdbb109f",
   "metadata": {},
   "outputs": [],
   "source": [
    "train = data.iloc[:223856, :]\n",
    "test = data.iloc[223856:, :]"
   ]
  },
  {
   "cell_type": "code",
   "execution_count": 91,
   "id": "ec906c3f",
   "metadata": {},
   "outputs": [
    {
     "data": {
      "text/html": [
       "<div>\n",
       "<style scoped>\n",
       "    .dataframe tbody tr th:only-of-type {\n",
       "        vertical-align: middle;\n",
       "    }\n",
       "\n",
       "    .dataframe tbody tr th {\n",
       "        vertical-align: top;\n",
       "    }\n",
       "\n",
       "    .dataframe thead th {\n",
       "        text-align: right;\n",
       "    }\n",
       "</style>\n",
       "<table border=\"1\" class=\"dataframe\">\n",
       "  <thead>\n",
       "    <tr style=\"text-align: right;\">\n",
       "      <th></th>\n",
       "      <th>HeartDisease</th>\n",
       "      <th>BMI</th>\n",
       "      <th>Smoking</th>\n",
       "      <th>AlcoholDrinking</th>\n",
       "      <th>Stroke</th>\n",
       "      <th>PhysicalHealth</th>\n",
       "      <th>MentalHealth</th>\n",
       "      <th>DiffWalking</th>\n",
       "      <th>Sex</th>\n",
       "      <th>AgeCategory</th>\n",
       "      <th>Race</th>\n",
       "      <th>Diabetic</th>\n",
       "      <th>PhysicalActivity</th>\n",
       "      <th>GenHealth</th>\n",
       "      <th>SleepTime</th>\n",
       "      <th>Asthma</th>\n",
       "      <th>KidneyDisease</th>\n",
       "      <th>SkinCancer</th>\n",
       "    </tr>\n",
       "  </thead>\n",
       "  <tbody>\n",
       "    <tr>\n",
       "      <th>0</th>\n",
       "      <td>0</td>\n",
       "      <td>16.60</td>\n",
       "      <td>1</td>\n",
       "      <td>0</td>\n",
       "      <td>0</td>\n",
       "      <td>3.0</td>\n",
       "      <td>30.0</td>\n",
       "      <td>0</td>\n",
       "      <td>1</td>\n",
       "      <td>7</td>\n",
       "      <td>0</td>\n",
       "      <td>1</td>\n",
       "      <td>1</td>\n",
       "      <td>3</td>\n",
       "      <td>5.0</td>\n",
       "      <td>1</td>\n",
       "      <td>0</td>\n",
       "      <td>1</td>\n",
       "    </tr>\n",
       "    <tr>\n",
       "      <th>1</th>\n",
       "      <td>0</td>\n",
       "      <td>20.34</td>\n",
       "      <td>0</td>\n",
       "      <td>0</td>\n",
       "      <td>1</td>\n",
       "      <td>0.0</td>\n",
       "      <td>0.0</td>\n",
       "      <td>0</td>\n",
       "      <td>1</td>\n",
       "      <td>12</td>\n",
       "      <td>0</td>\n",
       "      <td>0</td>\n",
       "      <td>1</td>\n",
       "      <td>3</td>\n",
       "      <td>7.0</td>\n",
       "      <td>0</td>\n",
       "      <td>0</td>\n",
       "      <td>0</td>\n",
       "    </tr>\n",
       "    <tr>\n",
       "      <th>2</th>\n",
       "      <td>0</td>\n",
       "      <td>26.58</td>\n",
       "      <td>1</td>\n",
       "      <td>0</td>\n",
       "      <td>0</td>\n",
       "      <td>20.0</td>\n",
       "      <td>30.0</td>\n",
       "      <td>0</td>\n",
       "      <td>0</td>\n",
       "      <td>9</td>\n",
       "      <td>0</td>\n",
       "      <td>1</td>\n",
       "      <td>1</td>\n",
       "      <td>1</td>\n",
       "      <td>8.0</td>\n",
       "      <td>1</td>\n",
       "      <td>0</td>\n",
       "      <td>0</td>\n",
       "    </tr>\n",
       "    <tr>\n",
       "      <th>3</th>\n",
       "      <td>0</td>\n",
       "      <td>24.21</td>\n",
       "      <td>0</td>\n",
       "      <td>0</td>\n",
       "      <td>0</td>\n",
       "      <td>0.0</td>\n",
       "      <td>0.0</td>\n",
       "      <td>0</td>\n",
       "      <td>1</td>\n",
       "      <td>11</td>\n",
       "      <td>0</td>\n",
       "      <td>0</td>\n",
       "      <td>0</td>\n",
       "      <td>2</td>\n",
       "      <td>6.0</td>\n",
       "      <td>0</td>\n",
       "      <td>0</td>\n",
       "      <td>1</td>\n",
       "    </tr>\n",
       "    <tr>\n",
       "      <th>4</th>\n",
       "      <td>0</td>\n",
       "      <td>23.71</td>\n",
       "      <td>0</td>\n",
       "      <td>0</td>\n",
       "      <td>0</td>\n",
       "      <td>28.0</td>\n",
       "      <td>0.0</td>\n",
       "      <td>1</td>\n",
       "      <td>1</td>\n",
       "      <td>4</td>\n",
       "      <td>0</td>\n",
       "      <td>0</td>\n",
       "      <td>1</td>\n",
       "      <td>3</td>\n",
       "      <td>8.0</td>\n",
       "      <td>0</td>\n",
       "      <td>0</td>\n",
       "      <td>0</td>\n",
       "    </tr>\n",
       "  </tbody>\n",
       "</table>\n",
       "</div>"
      ],
      "text/plain": [
       "   HeartDisease    BMI  Smoking  AlcoholDrinking  Stroke  PhysicalHealth  \\\n",
       "0             0  16.60        1                0       0             3.0   \n",
       "1             0  20.34        0                0       1             0.0   \n",
       "2             0  26.58        1                0       0            20.0   \n",
       "3             0  24.21        0                0       0             0.0   \n",
       "4             0  23.71        0                0       0            28.0   \n",
       "\n",
       "   MentalHealth  DiffWalking  Sex  AgeCategory  Race  Diabetic  \\\n",
       "0          30.0            0    1            7     0         1   \n",
       "1           0.0            0    1           12     0         0   \n",
       "2          30.0            0    0            9     0         1   \n",
       "3           0.0            0    1           11     0         0   \n",
       "4           0.0            1    1            4     0         0   \n",
       "\n",
       "   PhysicalActivity  GenHealth  SleepTime  Asthma  KidneyDisease  SkinCancer  \n",
       "0                 1          3        5.0       1              0           1  \n",
       "1                 1          3        7.0       0              0           0  \n",
       "2                 1          1        8.0       1              0           0  \n",
       "3                 0          2        6.0       0              0           1  \n",
       "4                 1          3        8.0       0              0           0  "
      ]
     },
     "execution_count": 91,
     "metadata": {},
     "output_type": "execute_result"
    }
   ],
   "source": [
    "train.head()"
   ]
  },
  {
   "cell_type": "markdown",
   "id": "c98407be",
   "metadata": {},
   "source": [
    "## Split using sklearn"
   ]
  },
  {
   "cell_type": "code",
   "execution_count": 92,
   "id": "a26b9609",
   "metadata": {},
   "outputs": [],
   "source": [
    "X = data[['BMI', 'Smoking', 'AlcoholDrinking', \"Stroke\", 'PhysicalHealth', \"MentalHealth\", \"DiffWalking\", \"Sex\", \"AgeCategory\", \"Race\", \"Diabetic\", \"PhysicalActivity\", \"GenHealth\", \"SleepTime\", \"Asthma\", \"KidneyDisease\", \"SkinCancer\"]]\n",
    "y = data.HeartDisease"
   ]
  },
  {
   "cell_type": "code",
   "execution_count": 93,
   "id": "a2ab9856",
   "metadata": {},
   "outputs": [],
   "source": [
    "from sklearn.model_selection import train_test_split\n",
    "X_train, X_test, y_train, y_test = train_test_split(X, y, \n",
    "                                                    test_size=0.3, \n",
    "                                                    random_state=0, \n",
    "                                                    shuffle=True, \n",
    "                                                    stratify=y)"
   ]
  },
  {
   "cell_type": "code",
   "execution_count": 94,
   "id": "b6cc4cc7",
   "metadata": {},
   "outputs": [],
   "source": [
    "test = pd.concat([X_test, y_test], axis=1)"
   ]
  },
  {
   "cell_type": "markdown",
   "id": "9e283eeb",
   "metadata": {},
   "source": [
    "## SMOTE"
   ]
  },
  {
   "cell_type": "code",
   "execution_count": 95,
   "id": "b42d163f",
   "metadata": {},
   "outputs": [],
   "source": [
    "from imblearn.over_sampling import SMOTE\n",
    "from imblearn.over_sampling import BorderlineSMOTE\n",
    "from imblearn.under_sampling import RandomUnderSampler\n",
    "oversampled = SMOTE(random_state=0)\n",
    "X_train_smote, y_train_smote = oversampled.fit_resample(X_train, y_train)"
   ]
  },
  {
   "cell_type": "code",
   "execution_count": 96,
   "id": "db4b5e3c",
   "metadata": {},
   "outputs": [
    {
     "data": {
      "text/plain": [
       "0    204695\n",
       "1    204695\n",
       "Name: HeartDisease, dtype: int64"
      ]
     },
     "execution_count": 96,
     "metadata": {},
     "output_type": "execute_result"
    }
   ],
   "source": [
    "y_train_smote.value_counts()"
   ]
  },
  {
   "cell_type": "code",
   "execution_count": 97,
   "id": "9c0668f5",
   "metadata": {},
   "outputs": [
    {
     "data": {
      "text/html": [
       "<div>\n",
       "<style scoped>\n",
       "    .dataframe tbody tr th:only-of-type {\n",
       "        vertical-align: middle;\n",
       "    }\n",
       "\n",
       "    .dataframe tbody tr th {\n",
       "        vertical-align: top;\n",
       "    }\n",
       "\n",
       "    .dataframe thead th {\n",
       "        text-align: right;\n",
       "    }\n",
       "</style>\n",
       "<table border=\"1\" class=\"dataframe\">\n",
       "  <thead>\n",
       "    <tr style=\"text-align: right;\">\n",
       "      <th></th>\n",
       "      <th>BMI</th>\n",
       "      <th>Smoking</th>\n",
       "      <th>AlcoholDrinking</th>\n",
       "      <th>Stroke</th>\n",
       "      <th>PhysicalHealth</th>\n",
       "      <th>MentalHealth</th>\n",
       "      <th>DiffWalking</th>\n",
       "      <th>Sex</th>\n",
       "      <th>AgeCategory</th>\n",
       "      <th>Race</th>\n",
       "      <th>Diabetic</th>\n",
       "      <th>PhysicalActivity</th>\n",
       "      <th>GenHealth</th>\n",
       "      <th>SleepTime</th>\n",
       "      <th>Asthma</th>\n",
       "      <th>KidneyDisease</th>\n",
       "      <th>SkinCancer</th>\n",
       "    </tr>\n",
       "  </thead>\n",
       "  <tbody>\n",
       "    <tr>\n",
       "      <th>0</th>\n",
       "      <td>31.63</td>\n",
       "      <td>0</td>\n",
       "      <td>0</td>\n",
       "      <td>0</td>\n",
       "      <td>0.0</td>\n",
       "      <td>0.0</td>\n",
       "      <td>0</td>\n",
       "      <td>0</td>\n",
       "      <td>4</td>\n",
       "      <td>4</td>\n",
       "      <td>0</td>\n",
       "      <td>1</td>\n",
       "      <td>4</td>\n",
       "      <td>6.0</td>\n",
       "      <td>0</td>\n",
       "      <td>0</td>\n",
       "      <td>0</td>\n",
       "    </tr>\n",
       "    <tr>\n",
       "      <th>1</th>\n",
       "      <td>27.98</td>\n",
       "      <td>1</td>\n",
       "      <td>0</td>\n",
       "      <td>0</td>\n",
       "      <td>0.0</td>\n",
       "      <td>0.0</td>\n",
       "      <td>0</td>\n",
       "      <td>0</td>\n",
       "      <td>10</td>\n",
       "      <td>0</td>\n",
       "      <td>1</td>\n",
       "      <td>1</td>\n",
       "      <td>1</td>\n",
       "      <td>8.0</td>\n",
       "      <td>0</td>\n",
       "      <td>0</td>\n",
       "      <td>0</td>\n",
       "    </tr>\n",
       "    <tr>\n",
       "      <th>2</th>\n",
       "      <td>26.58</td>\n",
       "      <td>1</td>\n",
       "      <td>0</td>\n",
       "      <td>0</td>\n",
       "      <td>0.0</td>\n",
       "      <td>0.0</td>\n",
       "      <td>0</td>\n",
       "      <td>0</td>\n",
       "      <td>5</td>\n",
       "      <td>0</td>\n",
       "      <td>0</td>\n",
       "      <td>1</td>\n",
       "      <td>4</td>\n",
       "      <td>6.0</td>\n",
       "      <td>0</td>\n",
       "      <td>0</td>\n",
       "      <td>0</td>\n",
       "    </tr>\n",
       "    <tr>\n",
       "      <th>3</th>\n",
       "      <td>33.28</td>\n",
       "      <td>1</td>\n",
       "      <td>0</td>\n",
       "      <td>0</td>\n",
       "      <td>0.0</td>\n",
       "      <td>23.0</td>\n",
       "      <td>0</td>\n",
       "      <td>1</td>\n",
       "      <td>10</td>\n",
       "      <td>0</td>\n",
       "      <td>1</td>\n",
       "      <td>1</td>\n",
       "      <td>2</td>\n",
       "      <td>8.0</td>\n",
       "      <td>0</td>\n",
       "      <td>0</td>\n",
       "      <td>0</td>\n",
       "    </tr>\n",
       "    <tr>\n",
       "      <th>4</th>\n",
       "      <td>26.57</td>\n",
       "      <td>0</td>\n",
       "      <td>0</td>\n",
       "      <td>0</td>\n",
       "      <td>0.0</td>\n",
       "      <td>0.0</td>\n",
       "      <td>0</td>\n",
       "      <td>1</td>\n",
       "      <td>0</td>\n",
       "      <td>4</td>\n",
       "      <td>0</td>\n",
       "      <td>0</td>\n",
       "      <td>3</td>\n",
       "      <td>8.0</td>\n",
       "      <td>0</td>\n",
       "      <td>0</td>\n",
       "      <td>0</td>\n",
       "    </tr>\n",
       "  </tbody>\n",
       "</table>\n",
       "</div>"
      ],
      "text/plain": [
       "     BMI  Smoking  AlcoholDrinking  Stroke  PhysicalHealth  MentalHealth  \\\n",
       "0  31.63        0                0       0             0.0           0.0   \n",
       "1  27.98        1                0       0             0.0           0.0   \n",
       "2  26.58        1                0       0             0.0           0.0   \n",
       "3  33.28        1                0       0             0.0          23.0   \n",
       "4  26.57        0                0       0             0.0           0.0   \n",
       "\n",
       "   DiffWalking  Sex  AgeCategory  Race  Diabetic  PhysicalActivity  GenHealth  \\\n",
       "0            0    0            4     4         0                 1          4   \n",
       "1            0    0           10     0         1                 1          1   \n",
       "2            0    0            5     0         0                 1          4   \n",
       "3            0    1           10     0         1                 1          2   \n",
       "4            0    1            0     4         0                 0          3   \n",
       "\n",
       "   SleepTime  Asthma  KidneyDisease  SkinCancer  \n",
       "0        6.0       0              0           0  \n",
       "1        8.0       0              0           0  \n",
       "2        6.0       0              0           0  \n",
       "3        8.0       0              0           0  \n",
       "4        8.0       0              0           0  "
      ]
     },
     "execution_count": 97,
     "metadata": {},
     "output_type": "execute_result"
    }
   ],
   "source": [
    "X_train_smote.head()"
   ]
  },
  {
   "cell_type": "code",
   "execution_count": 98,
   "id": "2e2e85c6",
   "metadata": {},
   "outputs": [
    {
     "data": {
      "text/html": [
       "<div>\n",
       "<style scoped>\n",
       "    .dataframe tbody tr th:only-of-type {\n",
       "        vertical-align: middle;\n",
       "    }\n",
       "\n",
       "    .dataframe tbody tr th {\n",
       "        vertical-align: top;\n",
       "    }\n",
       "\n",
       "    .dataframe thead th {\n",
       "        text-align: right;\n",
       "    }\n",
       "</style>\n",
       "<table border=\"1\" class=\"dataframe\">\n",
       "  <thead>\n",
       "    <tr style=\"text-align: right;\">\n",
       "      <th></th>\n",
       "      <th>BMI</th>\n",
       "      <th>Smoking</th>\n",
       "      <th>AlcoholDrinking</th>\n",
       "      <th>Stroke</th>\n",
       "      <th>PhysicalHealth</th>\n",
       "      <th>MentalHealth</th>\n",
       "      <th>DiffWalking</th>\n",
       "      <th>Sex</th>\n",
       "      <th>AgeCategory</th>\n",
       "      <th>Race</th>\n",
       "      <th>Diabetic</th>\n",
       "      <th>PhysicalActivity</th>\n",
       "      <th>GenHealth</th>\n",
       "      <th>SleepTime</th>\n",
       "      <th>Asthma</th>\n",
       "      <th>KidneyDisease</th>\n",
       "      <th>SkinCancer</th>\n",
       "      <th>HeartDisease</th>\n",
       "    </tr>\n",
       "  </thead>\n",
       "  <tbody>\n",
       "    <tr>\n",
       "      <th>0</th>\n",
       "      <td>31.63</td>\n",
       "      <td>0</td>\n",
       "      <td>0</td>\n",
       "      <td>0</td>\n",
       "      <td>0.0</td>\n",
       "      <td>0.0</td>\n",
       "      <td>0</td>\n",
       "      <td>0</td>\n",
       "      <td>4</td>\n",
       "      <td>4</td>\n",
       "      <td>0</td>\n",
       "      <td>1</td>\n",
       "      <td>4</td>\n",
       "      <td>6.0</td>\n",
       "      <td>0</td>\n",
       "      <td>0</td>\n",
       "      <td>0</td>\n",
       "      <td>0</td>\n",
       "    </tr>\n",
       "    <tr>\n",
       "      <th>1</th>\n",
       "      <td>27.98</td>\n",
       "      <td>1</td>\n",
       "      <td>0</td>\n",
       "      <td>0</td>\n",
       "      <td>0.0</td>\n",
       "      <td>0.0</td>\n",
       "      <td>0</td>\n",
       "      <td>0</td>\n",
       "      <td>10</td>\n",
       "      <td>0</td>\n",
       "      <td>1</td>\n",
       "      <td>1</td>\n",
       "      <td>1</td>\n",
       "      <td>8.0</td>\n",
       "      <td>0</td>\n",
       "      <td>0</td>\n",
       "      <td>0</td>\n",
       "      <td>1</td>\n",
       "    </tr>\n",
       "    <tr>\n",
       "      <th>2</th>\n",
       "      <td>26.58</td>\n",
       "      <td>1</td>\n",
       "      <td>0</td>\n",
       "      <td>0</td>\n",
       "      <td>0.0</td>\n",
       "      <td>0.0</td>\n",
       "      <td>0</td>\n",
       "      <td>0</td>\n",
       "      <td>5</td>\n",
       "      <td>0</td>\n",
       "      <td>0</td>\n",
       "      <td>1</td>\n",
       "      <td>4</td>\n",
       "      <td>6.0</td>\n",
       "      <td>0</td>\n",
       "      <td>0</td>\n",
       "      <td>0</td>\n",
       "      <td>0</td>\n",
       "    </tr>\n",
       "    <tr>\n",
       "      <th>3</th>\n",
       "      <td>33.28</td>\n",
       "      <td>1</td>\n",
       "      <td>0</td>\n",
       "      <td>0</td>\n",
       "      <td>0.0</td>\n",
       "      <td>23.0</td>\n",
       "      <td>0</td>\n",
       "      <td>1</td>\n",
       "      <td>10</td>\n",
       "      <td>0</td>\n",
       "      <td>1</td>\n",
       "      <td>1</td>\n",
       "      <td>2</td>\n",
       "      <td>8.0</td>\n",
       "      <td>0</td>\n",
       "      <td>0</td>\n",
       "      <td>0</td>\n",
       "      <td>0</td>\n",
       "    </tr>\n",
       "    <tr>\n",
       "      <th>4</th>\n",
       "      <td>26.57</td>\n",
       "      <td>0</td>\n",
       "      <td>0</td>\n",
       "      <td>0</td>\n",
       "      <td>0.0</td>\n",
       "      <td>0.0</td>\n",
       "      <td>0</td>\n",
       "      <td>1</td>\n",
       "      <td>0</td>\n",
       "      <td>4</td>\n",
       "      <td>0</td>\n",
       "      <td>0</td>\n",
       "      <td>3</td>\n",
       "      <td>8.0</td>\n",
       "      <td>0</td>\n",
       "      <td>0</td>\n",
       "      <td>0</td>\n",
       "      <td>0</td>\n",
       "    </tr>\n",
       "  </tbody>\n",
       "</table>\n",
       "</div>"
      ],
      "text/plain": [
       "     BMI  Smoking  AlcoholDrinking  Stroke  PhysicalHealth  MentalHealth  \\\n",
       "0  31.63        0                0       0             0.0           0.0   \n",
       "1  27.98        1                0       0             0.0           0.0   \n",
       "2  26.58        1                0       0             0.0           0.0   \n",
       "3  33.28        1                0       0             0.0          23.0   \n",
       "4  26.57        0                0       0             0.0           0.0   \n",
       "\n",
       "   DiffWalking  Sex  AgeCategory  Race  Diabetic  PhysicalActivity  GenHealth  \\\n",
       "0            0    0            4     4         0                 1          4   \n",
       "1            0    0           10     0         1                 1          1   \n",
       "2            0    0            5     0         0                 1          4   \n",
       "3            0    1           10     0         1                 1          2   \n",
       "4            0    1            0     4         0                 0          3   \n",
       "\n",
       "   SleepTime  Asthma  KidneyDisease  SkinCancer  HeartDisease  \n",
       "0        6.0       0              0           0             0  \n",
       "1        8.0       0              0           0             1  \n",
       "2        6.0       0              0           0             0  \n",
       "3        8.0       0              0           0             0  \n",
       "4        8.0       0              0           0             0  "
      ]
     },
     "execution_count": 98,
     "metadata": {},
     "output_type": "execute_result"
    }
   ],
   "source": [
    "train_smote = pd.concat([X_train_smote, y_train_smote], axis=1)\n",
    "train_smote.head()"
   ]
  },
  {
   "cell_type": "code",
   "execution_count": 1,
   "id": "33b08c3f",
   "metadata": {},
   "outputs": [
    {
     "ename": "NameError",
     "evalue": "name 'train_smote' is not defined",
     "output_type": "error",
     "traceback": [
      "\u001b[1;31m---------------------------------------------------------------------------\u001b[0m",
      "\u001b[1;31mNameError\u001b[0m                                 Traceback (most recent call last)",
      "Input \u001b[1;32mIn [1]\u001b[0m, in \u001b[0;36m<cell line: 11>\u001b[1;34m()\u001b[0m\n\u001b[0;32m      8\u001b[0m     data[\u001b[38;5;124m'\u001b[39m\u001b[38;5;124mRace\u001b[39m\u001b[38;5;124m'\u001b[39m]\u001b[38;5;241m.\u001b[39mreplace(replacement_race, inplace \u001b[38;5;241m=\u001b[39m \u001b[38;5;28;01mTrue\u001b[39;00m)\n\u001b[0;32m      9\u001b[0m     data[\u001b[38;5;124m'\u001b[39m\u001b[38;5;124mGenHealth\u001b[39m\u001b[38;5;124m'\u001b[39m]\u001b[38;5;241m.\u001b[39mreplace(replacement_genhealth, inplace \u001b[38;5;241m=\u001b[39m \u001b[38;5;28;01mTrue\u001b[39;00m)\n\u001b[1;32m---> 11\u001b[0m reverse_reformat(\u001b[43mtrain_smote\u001b[49m)\n\u001b[0;32m     12\u001b[0m reverse_reformat(data)\n\u001b[0;32m     13\u001b[0m train_smote\u001b[38;5;241m.\u001b[39mhead()\n",
      "\u001b[1;31mNameError\u001b[0m: name 'train_smote' is not defined"
     ]
    }
   ],
   "source": [
    "def reverse_reformat(data):\n",
    "    replacement_age = {0 : \"18-24\", 1 : \"25-29\", 2 : \"30-34\", 3 : \"35-39\", 4 : \"40-44\", 5 : \"45-49\", 6 : \"50-54\", 7: \"55-59\", 8: \"60-64\", 9: \"65-69\", 10: \"70-74\", 11:  \"75-79\", 12: \"80 or older\"}\n",
    "    replacement_race = { 0: \"White\", 1: \"Black\", 2 : \"Asian\", 3: \"American Indian/Alaskan Native\",  4: \"Hispanic\", 5: \"Other\"}\n",
    "    replacement_genhealth = {0: \"Poor\", 1: \"Fair\", 2: \"Good\", 3: \"Verygood\", 4: \"Excellent\"}\n",
    "    replacement_bmi_cut = {0: '(11.937, 19.55]', 1: '(19.55, 27.08]', 2: '(27.08, 34.61]', 3: '(34.61, 42.14]', 4: '(42.14, 49.67]', 5: '(49.67, 57.2]', 6: '(57.2, 64.73]', 7: '(64.73, 72.26]', 8: '(72.26, 79.79]', 9: '(79.79, 87.32]', 10: '(87.32, 94.85]'}\n",
    "    replacement_bmi_qcut = {0: '(12.019, 21.26]', 1: '(21.26, 23.01]', 2: '(23.01, 24.33]', 3: '(24.33, 25.61]', 4: '(25.61, 26.61]', 5: '(26.61, 27.89]', 6: '(27.89, 29.26]', 7: '(29.26, 31.0]', 8: '(31.0, 33.23]', 9: '(33.23, 36.92]', 10: '(36.92, 94.85]'}\n",
    "    data['AgeCategory'].replace(replacement_age, inplace = True)\n",
    "    data['Race'].replace(replacement_race, inplace = True)\n",
    "    data['GenHealth'].replace(replacement_genhealth, inplace = True)\n",
    "\n",
    "reverse_reformat(train_smote)\n",
    "reverse_reformat(data)\n",
    "train_smote.head()"
   ]
  },
  {
   "cell_type": "markdown",
   "id": "4addf14b",
   "metadata": {},
   "source": [
    "# Baseline Model Using Manually Split Train and Test"
   ]
  },
  {
   "cell_type": "code",
   "execution_count": null,
   "id": "40d2683f",
   "metadata": {},
   "outputs": [],
   "source": [
    "baseline = sm.logit(formula = 'HeartDisease~BMI+Smoking+AlcoholDrinking+Stroke+PhysicalHealth+MentalHealth+DiffWalking+Sex+AgeCategory+Race+Diabetic+PhysicalActivity+GenHealth+SleepTime+Asthma+KidneyDisease+SkinCancer', data = train).fit()\n",
    "baseline.summary()"
   ]
  },
  {
   "cell_type": "markdown",
   "id": "0c1afc62",
   "metadata": {},
   "source": [
    "# Confusion Matrix"
   ]
  },
  {
   "cell_type": "code",
   "execution_count": 101,
   "id": "737ed913",
   "metadata": {},
   "outputs": [],
   "source": [
    "from sklearn.metrics import roc_curve, auc\n",
    "#Function to compute confusion matrix and prediction accuracy on test/train data\n",
    "def confusion_matrix_data(data,actual_values,model,cutoff=0.5):\n",
    "#Predict the values using the Logit model\n",
    "    pred_values = model.predict(data)\n",
    "# Specify the bins\n",
    "    bins=np.array([0,cutoff,1])\n",
    "#Confusion matrix\n",
    "    cm = np.histogram2d(actual_values, pred_values, bins=bins)[0]\n",
    "    cm_df = pd.DataFrame(cm)\n",
    "    cm_df.columns = ['Predicted 0','Predicted 1']\n",
    "    cm_df = cm_df.rename(index={0: 'Actual 0',1:'Actual 1'})\n",
    "# Calculate the accuracy\n",
    "    accuracy = (cm[0,0]+cm[1,1])/cm.sum()\n",
    "    fnr = (cm[1,0])/(cm[1,0]+cm[1,1])\n",
    "    precision = (cm[1,1])/(cm[0,1]+cm[1,1])\n",
    "    fpr = (cm[0,1])/(cm[0,0]+cm[0,1])\n",
    "    tpr = (cm[1,1])/(cm[1,0]+cm[1,1])\n",
    "    fpr_roc, tpr_roc, auc_thresholds = roc_curve(actual_values, pred_values)\n",
    "    auc_value = (auc(fpr_roc, tpr_roc))# AUC of ROC\n",
    "    sns.heatmap(cm_df, annot=True, cmap='Blues', fmt='g')\n",
    "    plt.ylabel(\"Actual Values\")\n",
    "    plt.xlabel(\"Predicted Values\")\n",
    "    print(\"Classification accuracy = {:.1%}\".format(accuracy))\n",
    "    print(\"Precision = {:.1%}\".format(precision))\n",
    "    print(\"TPR or Recall = {:.1%}\".format(tpr))\n",
    "    print(\"FNR = {:.1%}\".format(fnr))\n",
    "    print(\"FPR = {:.1%}\".format(fpr))\n",
    "    print(\"ROC-AUC = {:.1%}\".format(auc_value))\n",
    "    return pred_values"
   ]
  },
  {
   "cell_type": "code",
   "execution_count": 102,
   "id": "158b29a0",
   "metadata": {},
   "outputs": [
    {
     "name": "stdout",
     "output_type": "stream",
     "text": [
      "Classification accuracy = 91.6%\n",
      "Precision = 59.3%\n",
      "TPR or Recall = 6.0%\n",
      "FNR = 94.0%\n",
      "FPR = 0.4%\n",
      "ROC-AUC = 83.9%\n"
     ]
    },
    {
     "data": {
      "text/plain": [
       "171466    0.275964\n",
       "43807     0.071236\n",
       "73864     0.054303\n",
       "72981     0.444771\n",
       "280780    0.009264\n",
       "            ...   \n",
       "31488     0.006810\n",
       "117490    0.294914\n",
       "131937    0.015379\n",
       "80479     0.099238\n",
       "21409     0.001714\n",
       "Length: 95939, dtype: float64"
      ]
     },
     "execution_count": 102,
     "metadata": {},
     "output_type": "execute_result"
    },
    {
     "data": {
      "image/png": "[encoded data removed]",
      "text/plain": [
       "<Figure size 432x288 with 2 Axes>"
      ]
     },
     "metadata": {
      "needs_background": "light"
     },
     "output_type": "display_data"
    }
   ],
   "source": [
    "confusion_matrix_data(test,test.HeartDisease,baseline,0.6)"
   ]
  },
  {
   "cell_type": "markdown",
   "id": "2a05aec4",
   "metadata": {},
   "source": [
    "# Baseline Model Using SMOTE"
   ]
  },
  {
   "cell_type": "code",
   "execution_count": 114,
   "id": "630dfb43",
   "metadata": {},
   "outputs": [
    {
     "name": "stdout",
     "output_type": "stream",
     "text": [
      "Optimization terminated successfully.\n",
      "         Current function value: 0.444383\n",
      "         Iterations 7\n"
     ]
    }
   ],
   "source": [
    "model = sm.logit(formula = 'HeartDisease~BMI+Smoking+AlcoholDrinking+Stroke+PhysicalHealth+MentalHealth+DiffWalking+Sex+AgeCategory+Race+Diabetic+PhysicalActivity+GenHealth+SleepTime+Asthma+KidneyDisease+SkinCancer', data = train_smote).fit()"
   ]
  },
  {
   "cell_type": "code",
   "execution_count": 115,
   "id": "b31c1f16",
   "metadata": {},
   "outputs": [
    {
     "data": {
      "text/html": [
       "<table class=\"simpletable\">\n",
       "<caption>Logit Regression Results</caption>\n",
       "<tr>\n",
       "  <th>Dep. Variable:</th>     <td>HeartDisease</td>   <th>  No. Observations:  </th>   <td>409390</td>   \n",
       "</tr>\n",
       "<tr>\n",
       "  <th>Model:</th>                 <td>Logit</td>      <th>  Df Residuals:      </th>   <td>409354</td>   \n",
       "</tr>\n",
       "<tr>\n",
       "  <th>Method:</th>                 <td>MLE</td>       <th>  Df Model:          </th>   <td>    35</td>   \n",
       "</tr>\n",
       "<tr>\n",
       "  <th>Date:</th>            <td>Sat, 04 Mar 2023</td> <th>  Pseudo R-squ.:     </th>   <td>0.3589</td>   \n",
       "</tr>\n",
       "<tr>\n",
       "  <th>Time:</th>                <td>17:45:33</td>     <th>  Log-Likelihood:    </th> <td>-1.8193e+05</td>\n",
       "</tr>\n",
       "<tr>\n",
       "  <th>converged:</th>             <td>True</td>       <th>  LL-Null:           </th> <td>-2.8377e+05</td>\n",
       "</tr>\n",
       "<tr>\n",
       "  <th>Covariance Type:</th>     <td>nonrobust</td>    <th>  LLR p-value:       </th>   <td> 0.000</td>   \n",
       "</tr>\n",
       "</table>\n",
       "<table class=\"simpletable\">\n",
       "<tr>\n",
       "               <td></td>                 <th>coef</th>     <th>std err</th>      <th>z</th>      <th>P>|z|</th>  <th>[0.025</th>    <th>0.975]</th>  \n",
       "</tr>\n",
       "<tr>\n",
       "  <th>Intercept</th>                  <td>   -2.9293</td> <td>    0.057</td> <td>  -51.167</td> <td> 0.000</td> <td>   -3.042</td> <td>   -2.817</td>\n",
       "</tr>\n",
       "<tr>\n",
       "  <th>AgeCategory[T.25-29]</th>       <td>    0.2979</td> <td>    0.050</td> <td>    5.915</td> <td> 0.000</td> <td>    0.199</td> <td>    0.397</td>\n",
       "</tr>\n",
       "<tr>\n",
       "  <th>AgeCategory[T.30-34]</th>       <td>    0.6011</td> <td>    0.047</td> <td>   12.896</td> <td> 0.000</td> <td>    0.510</td> <td>    0.692</td>\n",
       "</tr>\n",
       "<tr>\n",
       "  <th>AgeCategory[T.35-39]</th>       <td>    0.8569</td> <td>    0.044</td> <td>   19.453</td> <td> 0.000</td> <td>    0.771</td> <td>    0.943</td>\n",
       "</tr>\n",
       "<tr>\n",
       "  <th>AgeCategory[T.40-44]</th>       <td>    1.2022</td> <td>    0.042</td> <td>   28.594</td> <td> 0.000</td> <td>    1.120</td> <td>    1.285</td>\n",
       "</tr>\n",
       "<tr>\n",
       "  <th>AgeCategory[T.45-49]</th>       <td>    1.5427</td> <td>    0.041</td> <td>   37.921</td> <td> 0.000</td> <td>    1.463</td> <td>    1.622</td>\n",
       "</tr>\n",
       "<tr>\n",
       "  <th>AgeCategory[T.50-54]</th>       <td>    1.9871</td> <td>    0.039</td> <td>   50.655</td> <td> 0.000</td> <td>    1.910</td> <td>    2.064</td>\n",
       "</tr>\n",
       "<tr>\n",
       "  <th>AgeCategory[T.55-59]</th>       <td>    2.3104</td> <td>    0.039</td> <td>   60.007</td> <td> 0.000</td> <td>    2.235</td> <td>    2.386</td>\n",
       "</tr>\n",
       "<tr>\n",
       "  <th>AgeCategory[T.60-64]</th>       <td>    2.6257</td> <td>    0.038</td> <td>   68.923</td> <td> 0.000</td> <td>    2.551</td> <td>    2.700</td>\n",
       "</tr>\n",
       "<tr>\n",
       "  <th>AgeCategory[T.65-69]</th>       <td>    2.9110</td> <td>    0.038</td> <td>   76.585</td> <td> 0.000</td> <td>    2.837</td> <td>    2.986</td>\n",
       "</tr>\n",
       "<tr>\n",
       "  <th>AgeCategory[T.70-74]</th>       <td>    3.2515</td> <td>    0.038</td> <td>   85.209</td> <td> 0.000</td> <td>    3.177</td> <td>    3.326</td>\n",
       "</tr>\n",
       "<tr>\n",
       "  <th>AgeCategory[T.75-79]</th>       <td>    3.5531</td> <td>    0.039</td> <td>   91.574</td> <td> 0.000</td> <td>    3.477</td> <td>    3.629</td>\n",
       "</tr>\n",
       "<tr>\n",
       "  <th>AgeCategory[T.80 or older]</th> <td>    3.6044</td> <td>    0.039</td> <td>   92.838</td> <td> 0.000</td> <td>    3.528</td> <td>    3.680</td>\n",
       "</tr>\n",
       "<tr>\n",
       "  <th>Race[T.Asian]</th>              <td>   -0.8495</td> <td>    0.046</td> <td>  -18.556</td> <td> 0.000</td> <td>   -0.939</td> <td>   -0.760</td>\n",
       "</tr>\n",
       "<tr>\n",
       "  <th>Race[T.Black]</th>              <td>   -1.3654</td> <td>    0.037</td> <td>  -37.240</td> <td> 0.000</td> <td>   -1.437</td> <td>   -1.294</td>\n",
       "</tr>\n",
       "<tr>\n",
       "  <th>Race[T.Hispanic]</th>           <td>   -0.5061</td> <td>    0.035</td> <td>  -14.620</td> <td> 0.000</td> <td>   -0.574</td> <td>   -0.438</td>\n",
       "</tr>\n",
       "<tr>\n",
       "  <th>Race[T.Other]</th>              <td>   -0.9137</td> <td>    0.041</td> <td>  -22.124</td> <td> 0.000</td> <td>   -0.995</td> <td>   -0.833</td>\n",
       "</tr>\n",
       "<tr>\n",
       "  <th>Race[T.White]</th>              <td>   -0.1412</td> <td>    0.031</td> <td>   -4.545</td> <td> 0.000</td> <td>   -0.202</td> <td>   -0.080</td>\n",
       "</tr>\n",
       "<tr>\n",
       "  <th>GenHealth[T.Fair]</th>          <td>    3.1064</td> <td>    0.020</td> <td>  156.401</td> <td> 0.000</td> <td>    3.067</td> <td>    3.145</td>\n",
       "</tr>\n",
       "<tr>\n",
       "  <th>GenHealth[T.Good]</th>          <td>    2.0901</td> <td>    0.017</td> <td>  122.426</td> <td> 0.000</td> <td>    2.057</td> <td>    2.124</td>\n",
       "</tr>\n",
       "<tr>\n",
       "  <th>GenHealth[T.Poor]</th>          <td>    4.0816</td> <td>    0.028</td> <td>  147.792</td> <td> 0.000</td> <td>    4.027</td> <td>    4.136</td>\n",
       "</tr>\n",
       "<tr>\n",
       "  <th>GenHealth[T.Verygood]</th>      <td>    1.1017</td> <td>    0.017</td> <td>   64.206</td> <td> 0.000</td> <td>    1.068</td> <td>    1.135</td>\n",
       "</tr>\n",
       "<tr>\n",
       "  <th>BMI</th>                        <td>    0.0073</td> <td>    0.001</td> <td>   10.372</td> <td> 0.000</td> <td>    0.006</td> <td>    0.009</td>\n",
       "</tr>\n",
       "<tr>\n",
       "  <th>Smoking</th>                    <td>   -0.1826</td> <td>    0.009</td> <td>  -21.419</td> <td> 0.000</td> <td>   -0.199</td> <td>   -0.166</td>\n",
       "</tr>\n",
       "<tr>\n",
       "  <th>AlcoholDrinking</th>            <td>   -1.8634</td> <td>    0.030</td> <td>  -61.580</td> <td> 0.000</td> <td>   -1.923</td> <td>   -1.804</td>\n",
       "</tr>\n",
       "<tr>\n",
       "  <th>Stroke</th>                     <td>    0.0755</td> <td>    0.021</td> <td>    3.640</td> <td> 0.000</td> <td>    0.035</td> <td>    0.116</td>\n",
       "</tr>\n",
       "<tr>\n",
       "  <th>PhysicalHealth</th>             <td>   -0.0052</td> <td>    0.001</td> <td>   -8.601</td> <td> 0.000</td> <td>   -0.006</td> <td>   -0.004</td>\n",
       "</tr>\n",
       "<tr>\n",
       "  <th>MentalHealth</th>               <td>    0.0076</td> <td>    0.001</td> <td>   13.410</td> <td> 0.000</td> <td>    0.006</td> <td>    0.009</td>\n",
       "</tr>\n",
       "<tr>\n",
       "  <th>DiffWalking</th>                <td>   -0.4525</td> <td>    0.013</td> <td>  -35.581</td> <td> 0.000</td> <td>   -0.477</td> <td>   -0.428</td>\n",
       "</tr>\n",
       "<tr>\n",
       "  <th>Sex</th>                        <td>   -1.3631</td> <td>    0.009</td> <td> -153.837</td> <td> 0.000</td> <td>   -1.380</td> <td>   -1.346</td>\n",
       "</tr>\n",
       "<tr>\n",
       "  <th>Diabetic</th>                   <td>   -0.2224</td> <td>    0.012</td> <td>  -19.322</td> <td> 0.000</td> <td>   -0.245</td> <td>   -0.200</td>\n",
       "</tr>\n",
       "<tr>\n",
       "  <th>PhysicalActivity</th>           <td>   -0.5547</td> <td>    0.010</td> <td>  -57.454</td> <td> 0.000</td> <td>   -0.574</td> <td>   -0.536</td>\n",
       "</tr>\n",
       "<tr>\n",
       "  <th>SleepTime</th>                  <td>   -0.0312</td> <td>    0.003</td> <td>  -10.867</td> <td> 0.000</td> <td>   -0.037</td> <td>   -0.026</td>\n",
       "</tr>\n",
       "<tr>\n",
       "  <th>Asthma</th>                     <td>   -0.6561</td> <td>    0.014</td> <td>  -45.539</td> <td> 0.000</td> <td>   -0.684</td> <td>   -0.628</td>\n",
       "</tr>\n",
       "<tr>\n",
       "  <th>KidneyDisease</th>              <td>   -0.4820</td> <td>    0.022</td> <td>  -22.319</td> <td> 0.000</td> <td>   -0.524</td> <td>   -0.440</td>\n",
       "</tr>\n",
       "<tr>\n",
       "  <th>SkinCancer</th>                 <td>   -0.5891</td> <td>    0.014</td> <td>  -42.155</td> <td> 0.000</td> <td>   -0.617</td> <td>   -0.562</td>\n",
       "</tr>\n",
       "</table>"
      ],
      "text/plain": [
       "<class 'statsmodels.iolib.summary.Summary'>\n",
       "\"\"\"\n",
       "                           Logit Regression Results                           \n",
       "==============================================================================\n",
       "Dep. Variable:           HeartDisease   No. Observations:               409390\n",
       "Model:                          Logit   Df Residuals:                   409354\n",
       "Method:                           MLE   Df Model:                           35\n",
       "Date:                Sat, 04 Mar 2023   Pseudo R-squ.:                  0.3589\n",
       "Time:                        17:45:33   Log-Likelihood:            -1.8193e+05\n",
       "converged:                       True   LL-Null:                   -2.8377e+05\n",
       "Covariance Type:            nonrobust   LLR p-value:                     0.000\n",
       "==============================================================================================\n",
       "                                 coef    std err          z      P>|z|      [0.025      0.975]\n",
       "----------------------------------------------------------------------------------------------\n",
       "Intercept                     -2.9293      0.057    -51.167      0.000      -3.042      -2.817\n",
       "AgeCategory[T.25-29]           0.2979      0.050      5.915      0.000       0.199       0.397\n",
       "AgeCategory[T.30-34]           0.6011      0.047     12.896      0.000       0.510       0.692\n",
       "AgeCategory[T.35-39]           0.8569      0.044     19.453      0.000       0.771       0.943\n",
       "AgeCategory[T.40-44]           1.2022      0.042     28.594      0.000       1.120       1.285\n",
       "AgeCategory[T.45-49]           1.5427      0.041     37.921      0.000       1.463       1.622\n",
       "AgeCategory[T.50-54]           1.9871      0.039     50.655      0.000       1.910       2.064\n",
       "AgeCategory[T.55-59]           2.3104      0.039     60.007      0.000       2.235       2.386\n",
       "AgeCategory[T.60-64]           2.6257      0.038     68.923      0.000       2.551       2.700\n",
       "AgeCategory[T.65-69]           2.9110      0.038     76.585      0.000       2.837       2.986\n",
       "AgeCategory[T.70-74]           3.2515      0.038     85.209      0.000       3.177       3.326\n",
       "AgeCategory[T.75-79]           3.5531      0.039     91.574      0.000       3.477       3.629\n",
       "AgeCategory[T.80 or older]     3.6044      0.039     92.838      0.000       3.528       3.680\n",
       "Race[T.Asian]                 -0.8495      0.046    -18.556      0.000      -0.939      -0.760\n",
       "Race[T.Black]                 -1.3654      0.037    -37.240      0.000      -1.437      -1.294\n",
       "Race[T.Hispanic]              -0.5061      0.035    -14.620      0.000      -0.574      -0.438\n",
       "Race[T.Other]                 -0.9137      0.041    -22.124      0.000      -0.995      -0.833\n",
       "Race[T.White]                 -0.1412      0.031     -4.545      0.000      -0.202      -0.080\n",
       "GenHealth[T.Fair]              3.1064      0.020    156.401      0.000       3.067       3.145\n",
       "GenHealth[T.Good]              2.0901      0.017    122.426      0.000       2.057       2.124\n",
       "GenHealth[T.Poor]              4.0816      0.028    147.792      0.000       4.027       4.136\n",
       "GenHealth[T.Verygood]          1.1017      0.017     64.206      0.000       1.068       1.135\n",
       "BMI                            0.0073      0.001     10.372      0.000       0.006       0.009\n",
       "Smoking                       -0.1826      0.009    -21.419      0.000      -0.199      -0.166\n",
       "AlcoholDrinking               -1.8634      0.030    -61.580      0.000      -1.923      -1.804\n",
       "Stroke                         0.0755      0.021      3.640      0.000       0.035       0.116\n",
       "PhysicalHealth                -0.0052      0.001     -8.601      0.000      -0.006      -0.004\n",
       "MentalHealth                   0.0076      0.001     13.410      0.000       0.006       0.009\n",
       "DiffWalking                   -0.4525      0.013    -35.581      0.000      -0.477      -0.428\n",
       "Sex                           -1.3631      0.009   -153.837      0.000      -1.380      -1.346\n",
       "Diabetic                      -0.2224      0.012    -19.322      0.000      -0.245      -0.200\n",
       "PhysicalActivity              -0.5547      0.010    -57.454      0.000      -0.574      -0.536\n",
       "SleepTime                     -0.0312      0.003    -10.867      0.000      -0.037      -0.026\n",
       "Asthma                        -0.6561      0.014    -45.539      0.000      -0.684      -0.628\n",
       "KidneyDisease                 -0.4820      0.022    -22.319      0.000      -0.524      -0.440\n",
       "SkinCancer                    -0.5891      0.014    -42.155      0.000      -0.617      -0.562\n",
       "==============================================================================================\n",
       "\"\"\""
      ]
     },
     "execution_count": 115,
     "metadata": {},
     "output_type": "execute_result"
    }
   ],
   "source": [
    "model.summary()"
   ]
  },
  {
   "cell_type": "markdown",
   "id": "55055b34",
   "metadata": {},
   "source": [
    "### Confusion matrix on SMOTE train data"
   ]
  },
  {
   "cell_type": "code",
   "execution_count": 104,
   "id": "46e00d10",
   "metadata": {},
   "outputs": [
    {
     "name": "stdout",
     "output_type": "stream",
     "text": [
      "Classification accuracy = 78.5%\n",
      "Precision = 81.9%\n",
      "TPR or Recall = 73.1%\n",
      "FNR = 26.9%\n",
      "FPR = 16.2%\n",
      "ROC-AUC = 87.4%\n"
     ]
    },
    {
     "data": {
      "text/plain": [
       "0         0.060401\n",
       "1         0.907374\n",
       "2         0.094619\n",
       "3         0.528703\n",
       "4         0.022917\n",
       "            ...   \n",
       "409385    0.977277\n",
       "409386    0.835079\n",
       "409387    0.774414\n",
       "409388    0.739895\n",
       "409389    0.942376\n",
       "Length: 409390, dtype: float64"
      ]
     },
     "execution_count": 104,
     "metadata": {},
     "output_type": "execute_result"
    },
    {
     "data": {
      "image/png": "[encoded data removed]",
      "text/plain": [
       "<Figure size 432x288 with 2 Axes>"
      ]
     },
     "metadata": {
      "needs_background": "light"
     },
     "output_type": "display_data"
    }
   ],
   "source": [
    "confusion_matrix_data(train_smote,train_smote.HeartDisease,model,0.6)"
   ]
  },
  {
   "cell_type": "markdown",
   "id": "51a3f221",
   "metadata": {},
   "source": [
    "### Confusion matrix on entire dataset"
   ]
  },
  {
   "cell_type": "code",
   "execution_count": 121,
   "id": "eb8bf143",
   "metadata": {},
   "outputs": [
    {
     "name": "stdout",
     "output_type": "stream",
     "text": [
      "Classification accuracy = 81.3%\n",
      "Precision = 23.9%\n",
      "TPR or Recall = 54.0%\n",
      "FNR = 46.0%\n",
      "FPR = 16.1%\n",
      "ROC-AUC = 78.7%\n"
     ]
    },
    {
     "data": {
      "text/plain": [
       "0         0.045198\n",
       "1         0.431221\n",
       "2         0.801958\n",
       "3         0.647883\n",
       "4         0.033629\n",
       "            ...   \n",
       "319790    0.681259\n",
       "319791    0.056859\n",
       "319792    0.150476\n",
       "319793    0.072715\n",
       "319794    0.606151\n",
       "Length: 319795, dtype: float64"
      ]
     },
     "execution_count": 121,
     "metadata": {},
     "output_type": "execute_result"
    },
    {
     "data": {
      "image/png": "[encoded data removed]",
      "text/plain": [
       "<Figure size 432x288 with 2 Axes>"
      ]
     },
     "metadata": {
      "needs_background": "light"
     },
     "output_type": "display_data"
    }
   ],
   "source": [
    "confusion_matrix_data(data,data.HeartDisease,model,0.6)"
   ]
  },
  {
   "cell_type": "markdown",
   "id": "9bb805c5",
   "metadata": {},
   "source": [
    "# Forward Stepwise Selection with SMOTE"
   ]
  },
  {
   "cell_type": "code",
   "execution_count": 106,
   "id": "4dcc666c",
   "metadata": {},
   "outputs": [],
   "source": [
    "X = train_smote[['BMI', 'Smoking', 'AlcoholDrinking', \"Stroke\", 'PhysicalHealth', \"MentalHealth\", \"DiffWalking\", \"Sex\", \"AgeCategory\", \"Race\", \"Diabetic\", \"PhysicalActivity\", \"GenHealth\", \"SleepTime\", \"Asthma\", \"KidneyDisease\", \"SkinCancer\"]]\n",
    "#Function to develop a model based on all predictors in predictor_subset\n",
    "def processSubset(predictor_subset):\n",
    "    # Fit model on feature_set and calculate R-squared\n",
    "    model = sm.logit('HeartDisease~' + '+'.join(predictor_subset),data = train_smote).fit()\n",
    "    llr_pvalue = model.llr_pvalue\n",
    "    return {\"model\":model, \"llr_pvalue\":llr_pvalue}\n",
    "#Function to select the best model amongst all models with 'k' predictors\n",
    "def getBest_model(k):\n",
    "    tic = time.time()\n",
    "    results = []\n",
    "    for combo in itertools.combinations(X.columns, k):\n",
    "        results.append(processSubset((list(combo))))\n",
    "\n",
    "    # Wrap everything up in a dataframe\n",
    "    models = pd.DataFrame(results)\n",
    "\n",
    "    # Choose the model with the highest RSS\n",
    "    best_model = models.loc[models['llr_pvalue'].argmin()]\n",
    "    \n",
    "    toc = time.time()\n",
    "    print(\"Processed\", models.shape[0], \"models on\", k, \"predictors in\", (toc-tic), \"seconds.\")\n",
    "    return best_model"
   ]
  },
  {
   "cell_type": "code",
   "execution_count": 56,
   "id": "cb9134a9",
   "metadata": {},
   "outputs": [],
   "source": [
    "#Function to find the best predictor out of p-k predictors and add it to the model containing the k predictors\n",
    "def forward(predictors):\n",
    "\n",
    "    # Pull out predictors we still need to process\n",
    "    remaining_predictors = [p for p in X.columns if p not in predictors]\n",
    "    \n",
    "    tic = time.time()\n",
    "    \n",
    "    results = []\n",
    "    \n",
    "    for p in remaining_predictors:\n",
    "        results.append(processSubset(predictors+[p]))\n",
    "    \n",
    "    # Wrap everything up in a nice dataframe\n",
    "    models = pd.DataFrame(results)\n",
    "    \n",
    "    # Choose the model with the highest RSS\n",
    "    best_model = models.loc[models['llr_pvalue'].argmin()]\n",
    "    \n",
    "    toc = time.time()\n",
    "    print(\"Processed \", models.shape[0], \"models on\", len(predictors)+1, \"predictors in\", (toc-tic), \"seconds.\")\n",
    "    \n",
    "    # Return the best model, along with some other useful information about the model\n",
    "    return best_model"
   ]
  },
  {
   "cell_type": "code",
   "execution_count": 57,
   "id": "91427a18",
   "metadata": {},
   "outputs": [],
   "source": [
    "def forward_selection():\n",
    "    models_best = pd.DataFrame(columns=[\"llr_pvalue\", \"model\"])\n",
    "\n",
    "    tic = time.time()\n",
    "    predictors = []\n",
    "\n",
    "    for i in range(1,len(X.columns)+1):    \n",
    "        models_best.loc[i] = forward(predictors)\n",
    "        predictors = list(models_best.loc[i][\"model\"].params.index[1:])\n",
    "\n",
    "    toc = time.time()\n",
    "    print(\"Total elapsed time:\", (toc-tic), \"seconds.\")\n",
    "    return models_best"
   ]
  },
  {
   "cell_type": "code",
   "execution_count": 58,
   "id": "47ac1ffc",
   "metadata": {},
   "outputs": [
    {
     "name": "stdout",
     "output_type": "stream",
     "text": [
      "Optimization terminated successfully.\n",
      "         Current function value: 0.688789\n",
      "         Iterations 4\n",
      "Optimization terminated successfully.\n",
      "         Current function value: 0.690319\n",
      "         Iterations 3\n",
      "Optimization terminated successfully.\n",
      "         Current function value: 0.678547\n",
      "         Iterations 6\n",
      "Optimization terminated successfully.\n",
      "         Current function value: 0.689890\n",
      "         Iterations 5\n",
      "Optimization terminated successfully.\n",
      "         Current function value: 0.662103\n",
      "         Iterations 5\n",
      "Optimization terminated successfully.\n",
      "         Current function value: 0.692104\n",
      "         Iterations 3\n",
      "Optimization terminated successfully.\n",
      "         Current function value: 0.676878\n",
      "         Iterations 5\n",
      "Optimization terminated successfully.\n",
      "         Current function value: 0.657472\n",
      "         Iterations 4\n",
      "Optimization terminated successfully.\n",
      "         Current function value: 0.596780\n",
      "         Iterations 5\n",
      "Optimization terminated successfully.\n",
      "         Current function value: 0.687098\n",
      "         Iterations 4\n",
      "Optimization terminated successfully.\n",
      "         Current function value: 0.685752\n",
      "         Iterations 4\n",
      "Optimization terminated successfully.\n",
      "         Current function value: 0.657880\n",
      "         Iterations 5\n",
      "Optimization terminated successfully.\n",
      "         Current function value: 0.572950\n",
      "         Iterations 6\n",
      "Optimization terminated successfully.\n",
      "         Current function value: 0.693099\n",
      "         Iterations 3\n",
      "Optimization terminated successfully.\n",
      "         Current function value: 0.688314\n",
      "         Iterations 4\n",
      "Optimization terminated successfully.\n",
      "         Current function value: 0.692307\n",
      "         Iterations 4\n",
      "Optimization terminated successfully.\n",
      "         Current function value: 0.692912\n",
      "         Iterations 3\n",
      "Processed  17 models on 1 predictors in 23.907000303268433 seconds.\n",
      "Optimization terminated successfully.\n",
      "         Current function value: 0.685827\n",
      "         Iterations 4\n",
      "Optimization terminated successfully.\n",
      "         Current function value: 0.674736\n",
      "         Iterations 6\n",
      "Optimization terminated successfully.\n",
      "         Current function value: 0.685528\n",
      "         Iterations 5\n",
      "Optimization terminated successfully.\n",
      "         Current function value: 0.659949\n",
      "         Iterations 5\n",
      "Optimization terminated successfully.\n",
      "         Current function value: 0.688018\n",
      "         Iterations 4\n",
      "Optimization terminated successfully.\n",
      "         Current function value: 0.675106\n",
      "         Iterations 5\n",
      "Optimization terminated successfully.\n",
      "         Current function value: 0.654105\n",
      "         Iterations 5\n",
      "Optimization terminated successfully.\n",
      "         Current function value: 0.588815\n",
      "         Iterations 6\n",
      "Optimization terminated successfully.\n",
      "         Current function value: 0.682471\n",
      "         Iterations 4\n",
      "Optimization terminated successfully.\n",
      "         Current function value: 0.683352\n",
      "         Iterations 4\n",
      "Optimization terminated successfully.\n",
      "         Current function value: 0.656817\n",
      "         Iterations 5\n",
      "Optimization terminated successfully.\n",
      "         Current function value: 0.572836\n",
      "         Iterations 6\n",
      "Optimization terminated successfully.\n",
      "         Current function value: 0.688686\n",
      "         Iterations 4\n",
      "Optimization terminated successfully.\n",
      "         Current function value: 0.683121\n",
      "         Iterations 4\n",
      "Optimization terminated successfully.\n",
      "         Current function value: 0.688119\n",
      "         Iterations 4\n",
      "Optimization terminated successfully.\n",
      "         Current function value: 0.688425\n",
      "         Iterations 4\n",
      "Processed  16 models on 2 predictors in 22.546295166015625 seconds.\n",
      "Optimization terminated successfully.\n",
      "         Current function value: 0.670670\n",
      "         Iterations 6\n",
      "Optimization terminated successfully.\n",
      "         Current function value: 0.682773\n",
      "         Iterations 5\n",
      "Optimization terminated successfully.\n",
      "         Current function value: 0.658194\n",
      "         Iterations 5\n",
      "Optimization terminated successfully.\n",
      "         Current function value: 0.685218\n",
      "         Iterations 4\n",
      "Optimization terminated successfully.\n",
      "         Current function value: 0.672957\n",
      "         Iterations 5\n",
      "Optimization terminated successfully.\n",
      "         Current function value: 0.652899\n",
      "         Iterations 5\n",
      "Optimization terminated successfully.\n",
      "         Current function value: 0.587695\n",
      "         Iterations 6\n",
      "Optimization terminated successfully.\n",
      "         Current function value: 0.680036\n",
      "         Iterations 4\n",
      "Optimization terminated successfully.\n",
      "         Current function value: 0.680641\n",
      "         Iterations 4\n",
      "Optimization terminated successfully.\n",
      "         Current function value: 0.655111\n",
      "         Iterations 5\n",
      "Optimization terminated successfully.\n",
      "         Current function value: 0.572764\n",
      "         Iterations 6\n",
      "Optimization terminated successfully.\n",
      "         Current function value: 0.685696\n",
      "         Iterations 4\n",
      "Optimization terminated successfully.\n",
      "         Current function value: 0.680024\n",
      "         Iterations 4\n",
      "Optimization terminated successfully.\n",
      "         Current function value: 0.685186\n",
      "         Iterations 4\n",
      "Optimization terminated successfully.\n",
      "         Current function value: 0.685499\n",
      "         Iterations 4\n",
      "Processed  15 models on 3 predictors in 23.236239194869995 seconds.\n",
      "Optimization terminated successfully.\n",
      "         Current function value: 0.667779\n",
      "         Iterations 6\n",
      "Optimization terminated successfully.\n",
      "         Current function value: 0.644392\n",
      "         Iterations 6\n",
      "Optimization terminated successfully.\n",
      "         Current function value: 0.669861\n",
      "         Iterations 6\n",
      "Optimization terminated successfully.\n",
      "         Current function value: 0.658739\n",
      "         Iterations 6\n",
      "Optimization terminated successfully.\n",
      "         Current function value: 0.638795\n",
      "         Iterations 6\n",
      "Optimization terminated successfully.\n",
      "         Current function value: 0.578417\n",
      "         Iterations 6\n",
      "Optimization terminated successfully.\n",
      "         Current function value: 0.664888\n",
      "         Iterations 6\n",
      "Optimization terminated successfully.\n",
      "         Current function value: 0.666205\n",
      "         Iterations 6\n",
      "Optimization terminated successfully.\n",
      "         Current function value: 0.641333\n",
      "         Iterations 6\n",
      "Optimization terminated successfully.\n",
      "         Current function value: 0.562260\n",
      "         Iterations 6\n",
      "Optimization terminated successfully.\n",
      "         Current function value: 0.670553\n",
      "         Iterations 6\n",
      "Optimization terminated successfully.\n",
      "         Current function value: 0.665066\n",
      "         Iterations 6\n",
      "Optimization terminated successfully.\n",
      "         Current function value: 0.670129\n",
      "         Iterations 6\n",
      "Optimization terminated successfully.\n",
      "         Current function value: 0.670366\n",
      "         Iterations 6\n",
      "Processed  14 models on 4 predictors in 24.878191232681274 seconds.\n",
      "Optimization terminated successfully.\n",
      "         Current function value: 0.643059\n",
      "         Iterations 6\n",
      "Optimization terminated successfully.\n",
      "         Current function value: 0.667109\n",
      "         Iterations 6\n",
      "Optimization terminated successfully.\n",
      "         Current function value: 0.657074\n",
      "         Iterations 6\n",
      "Optimization terminated successfully.\n",
      "         Current function value: 0.635542\n",
      "         Iterations 6\n",
      "Optimization terminated successfully.\n",
      "         Current function value: 0.577596\n",
      "         Iterations 6\n",
      "Optimization terminated successfully.\n",
      "         Current function value: 0.662011\n",
      "         Iterations 6\n",
      "Optimization terminated successfully.\n",
      "         Current function value: 0.663749\n",
      "         Iterations 6\n",
      "Optimization terminated successfully.\n",
      "         Current function value: 0.639520\n",
      "         Iterations 6\n",
      "Optimization terminated successfully.\n",
      "         Current function value: 0.562160\n",
      "         Iterations 6\n",
      "Optimization terminated successfully.\n",
      "         Current function value: 0.667679\n",
      "         Iterations 6\n",
      "Optimization terminated successfully.\n",
      "         Current function value: 0.661955\n",
      "         Iterations 6\n",
      "Optimization terminated successfully.\n",
      "         Current function value: 0.667379\n",
      "         Iterations 6\n",
      "Optimization terminated successfully.\n",
      "         Current function value: 0.667516\n",
      "         Iterations 6\n",
      "Processed  13 models on 5 predictors in 25.304271459579468 seconds.\n",
      "Optimization terminated successfully.\n",
      "         Current function value: 0.642417\n",
      "         Iterations 6\n",
      "Optimization terminated successfully.\n",
      "         Current function value: 0.641190\n",
      "         Iterations 6\n"
     ]
    },
    {
     "name": "stdout",
     "output_type": "stream",
     "text": [
      "Optimization terminated successfully.\n",
      "         Current function value: 0.609324\n",
      "         Iterations 6\n",
      "Optimization terminated successfully.\n",
      "         Current function value: 0.557792\n",
      "         Iterations 6\n",
      "Optimization terminated successfully.\n",
      "         Current function value: 0.637120\n",
      "         Iterations 6\n",
      "Optimization terminated successfully.\n",
      "         Current function value: 0.640449\n",
      "         Iterations 6\n",
      "Optimization terminated successfully.\n",
      "         Current function value: 0.626692\n",
      "         Iterations 6\n",
      "Optimization terminated successfully.\n",
      "         Current function value: 0.561568\n",
      "         Iterations 6\n",
      "Optimization terminated successfully.\n",
      "         Current function value: 0.642556\n",
      "         Iterations 6\n",
      "Optimization terminated successfully.\n",
      "         Current function value: 0.635049\n",
      "         Iterations 6\n",
      "Optimization terminated successfully.\n",
      "         Current function value: 0.643035\n",
      "         Iterations 6\n",
      "Optimization terminated successfully.\n",
      "         Current function value: 0.642692\n",
      "         Iterations 6\n",
      "Processed  12 models on 6 predictors in 22.459434986114502 seconds.\n",
      "Optimization terminated successfully.\n",
      "         Current function value: 0.640468\n",
      "         Iterations 6\n",
      "Optimization terminated successfully.\n",
      "         Current function value: 0.609264\n",
      "         Iterations 6\n",
      "Optimization terminated successfully.\n",
      "         Current function value: 0.556445\n",
      "         Iterations 6\n",
      "Optimization terminated successfully.\n",
      "         Current function value: 0.636637\n",
      "         Iterations 6\n",
      "Optimization terminated successfully.\n",
      "         Current function value: 0.639902\n",
      "         Iterations 6\n",
      "Optimization terminated successfully.\n",
      "         Current function value: 0.625613\n",
      "         Iterations 6\n",
      "Optimization terminated successfully.\n",
      "         Current function value: 0.557639\n",
      "         Iterations 6\n",
      "Optimization terminated successfully.\n",
      "         Current function value: 0.642032\n",
      "         Iterations 6\n",
      "Optimization terminated successfully.\n",
      "         Current function value: 0.634681\n",
      "         Iterations 6\n",
      "Optimization terminated successfully.\n",
      "         Current function value: 0.642396\n",
      "         Iterations 6\n",
      "Optimization terminated successfully.\n",
      "         Current function value: 0.642102\n",
      "         Iterations 6\n",
      "Processed  11 models on 7 predictors in 21.360575199127197 seconds.\n",
      "Optimization terminated successfully.\n",
      "         Current function value: 0.605533\n",
      "         Iterations 6\n",
      "Optimization terminated successfully.\n",
      "         Current function value: 0.556252\n",
      "         Iterations 6\n",
      "Optimization terminated successfully.\n",
      "         Current function value: 0.634753\n",
      "         Iterations 6\n",
      "Optimization terminated successfully.\n",
      "         Current function value: 0.638348\n",
      "         Iterations 6\n",
      "Optimization terminated successfully.\n",
      "         Current function value: 0.625204\n",
      "         Iterations 6\n",
      "Optimization terminated successfully.\n",
      "         Current function value: 0.557398\n",
      "         Iterations 6\n",
      "Optimization terminated successfully.\n",
      "         Current function value: 0.640090\n",
      "         Iterations 6\n",
      "Optimization terminated successfully.\n",
      "         Current function value: 0.632381\n",
      "         Iterations 6\n",
      "Optimization terminated successfully.\n",
      "         Current function value: 0.640466\n",
      "         Iterations 6\n",
      "Optimization terminated successfully.\n",
      "         Current function value: 0.640204\n",
      "         Iterations 6\n",
      "Processed  10 models on 8 predictors in 20.93112277984619 seconds.\n",
      "Optimization terminated successfully.\n",
      "         Current function value: 0.518060\n",
      "         Iterations 7\n",
      "Optimization terminated successfully.\n",
      "         Current function value: 0.600009\n",
      "         Iterations 6\n",
      "Optimization terminated successfully.\n",
      "         Current function value: 0.603557\n",
      "         Iterations 6\n",
      "Optimization terminated successfully.\n",
      "         Current function value: 0.589030\n",
      "         Iterations 6\n",
      "Optimization terminated successfully.\n",
      "         Current function value: 0.526535\n",
      "         Iterations 6\n",
      "Optimization terminated successfully.\n",
      "         Current function value: 0.605116\n",
      "         Iterations 6\n",
      "Optimization terminated successfully.\n",
      "         Current function value: 0.600072\n",
      "         Iterations 6\n",
      "Optimization terminated successfully.\n",
      "         Current function value: 0.605520\n",
      "         Iterations 6\n",
      "Optimization terminated successfully.\n",
      "         Current function value: 0.605417\n",
      "         Iterations 6\n",
      "Processed  9 models on 9 predictors in 19.751330614089966 seconds.\n",
      "Optimization terminated successfully.\n",
      "         Current function value: 0.517795\n",
      "         Iterations 7\n",
      "Optimization terminated successfully.\n",
      "         Current function value: 0.517993\n",
      "         Iterations 7\n",
      "Optimization terminated successfully.\n",
      "         Current function value: 0.507144\n",
      "         Iterations 7\n",
      "Optimization terminated successfully.\n",
      "         Current function value: 0.461373\n",
      "         Iterations 7\n",
      "Optimization terminated successfully.\n",
      "         Current function value: 0.517652\n",
      "         Iterations 7\n",
      "Optimization terminated successfully.\n",
      "         Current function value: 0.515976\n",
      "         Iterations 7\n",
      "Optimization terminated successfully.\n",
      "         Current function value: 0.517813\n",
      "         Iterations 7\n",
      "Optimization terminated successfully.\n",
      "         Current function value: 0.514970\n",
      "         Iterations 7\n",
      "Processed  8 models on 10 predictors in 20.05707859992981 seconds.\n",
      "Optimization terminated successfully.\n",
      "         Current function value: 0.517718\n",
      "         Iterations 7\n",
      "Optimization terminated successfully.\n",
      "         Current function value: 0.506623\n",
      "         Iterations 7\n",
      "Optimization terminated successfully.\n",
      "         Current function value: 0.460092\n",
      "         Iterations 7\n",
      "Optimization terminated successfully.\n",
      "         Current function value: 0.517370\n",
      "         Iterations 7\n",
      "Optimization terminated successfully.\n",
      "         Current function value: 0.515740\n",
      "         Iterations 7\n",
      "Optimization terminated successfully.\n",
      "         Current function value: 0.517550\n",
      "         Iterations 7\n",
      "Optimization terminated successfully.\n",
      "         Current function value: 0.514572\n",
      "         Iterations 7\n",
      "Processed  7 models on 11 predictors in 17.829060792922974 seconds.\n",
      "Optimization terminated successfully.\n",
      "         Current function value: 0.506607\n",
      "         Iterations 7\n",
      "Optimization terminated successfully.\n",
      "         Current function value: 0.459559\n",
      "         Iterations 7\n",
      "Optimization terminated successfully.\n",
      "         Current function value: 0.517289\n",
      "         Iterations 7\n",
      "Optimization terminated successfully.\n",
      "         Current function value: 0.515644\n",
      "         Iterations 7\n",
      "Optimization terminated successfully.\n",
      "         Current function value: 0.517444\n",
      "         Iterations 7\n",
      "Optimization terminated successfully.\n",
      "         Current function value: 0.514508\n",
      "         Iterations 7\n",
      "Processed  6 models on 12 predictors in 16.375317811965942 seconds.\n",
      "Optimization terminated successfully.\n",
      "         Current function value: 0.455212\n",
      "         Iterations 7\n",
      "Optimization terminated successfully.\n",
      "         Current function value: 0.506169\n",
      "         Iterations 7\n",
      "Optimization terminated successfully.\n",
      "         Current function value: 0.504581\n",
      "         Iterations 7\n",
      "Optimization terminated successfully.\n",
      "         Current function value: 0.506315\n",
      "         Iterations 7\n",
      "Optimization terminated successfully.\n",
      "         Current function value: 0.503881\n",
      "         Iterations 7\n",
      "Processed  5 models on 13 predictors in 13.813856363296509 seconds.\n",
      "Optimization terminated successfully.\n",
      "         Current function value: 0.455081\n",
      "         Iterations 7\n",
      "Optimization terminated successfully.\n",
      "         Current function value: 0.452392\n",
      "         Iterations 7\n",
      "Optimization terminated successfully.\n",
      "         Current function value: 0.454412\n",
      "         Iterations 7\n",
      "Optimization terminated successfully.\n",
      "         Current function value: 0.452973\n",
      "         Iterations 7\n",
      "Processed  4 models on 14 predictors in 11.574999332427979 seconds.\n",
      "Optimization terminated successfully.\n",
      "         Current function value: 0.452233\n",
      "         Iterations 7\n",
      "Optimization terminated successfully.\n",
      "         Current function value: 0.454286\n",
      "         Iterations 7\n",
      "Optimization terminated successfully.\n",
      "         Current function value: 0.452851\n",
      "         Iterations 7\n",
      "Processed  3 models on 15 predictors in 9.89051628112793 seconds.\n",
      "Optimization terminated successfully.\n",
      "         Current function value: 0.451519\n",
      "         Iterations 7\n"
     ]
    },
    {
     "name": "stdout",
     "output_type": "stream",
     "text": [
      "Optimization terminated successfully.\n",
      "         Current function value: 0.450138\n",
      "         Iterations 7\n",
      "Processed  2 models on 16 predictors in 5.971618413925171 seconds.\n",
      "Optimization terminated successfully.\n",
      "         Current function value: 0.449491\n",
      "         Iterations 7\n",
      "Processed  1 models on 17 predictors in 3.617435932159424 seconds.\n",
      "Total elapsed time: 304.41484546661377 seconds.\n"
     ]
    }
   ],
   "source": [
    "models_best = forward_selection()"
   ]
  },
  {
   "cell_type": "code",
   "execution_count": 59,
   "id": "f05d09a7",
   "metadata": {},
   "outputs": [
    {
     "data": {
      "image/png": "[encoded data removed]",
      "text/plain": [
       "<Figure size 1440x720 with 2 Axes>"
      ]
     },
     "metadata": {
      "needs_background": "light"
     },
     "output_type": "display_data"
    }
   ],
   "source": [
    "def best_sub_plots():\n",
    "    plt.figure(figsize=(20,10))\n",
    "    plt.rcParams.update({'font.size': 18, 'lines.markersize': 10})\n",
    "\n",
    "    # We will now plot a red dot to indicate the model with the largest adjusted R^2 statistic.\n",
    "    # The argmax() function can be used to identify the location of the maximum point of a vector\n",
    "\n",
    "    llr_pvalue = models_best.apply(lambda row: row[1].llr_pvalue, axis=1)\n",
    "\n",
    "    # We'll do the same for AIC and BIC, this time looking for the models with the SMALLEST statistic\n",
    "    aic = models_best.apply(lambda row: row[1].aic, axis=1)\n",
    "\n",
    "    plt.subplot(2, 2, 1)\n",
    "    plt.plot(aic)\n",
    "    plt.plot(1+aic.argmin(), aic.min(), \"or\")\n",
    "    plt.xlabel('# Predictors')\n",
    "    plt.ylabel('AIC')\n",
    "\n",
    "    bic = models_best.apply(lambda row: row[1].bic, axis=1)\n",
    "\n",
    "    plt.subplot(2, 2, 2)\n",
    "    plt.plot(bic)\n",
    "    plt.plot(1+bic.argmin(), bic.min(), \"or\")\n",
    "    plt.xlabel('# Predictors')\n",
    "    plt.ylabel('BIC')\n",
    "best_sub_plots()"
   ]
  },
  {
   "cell_type": "code",
   "execution_count": 60,
   "id": "dd8e2984",
   "metadata": {},
   "outputs": [
    {
     "data": {
      "text/html": [
       "<table class=\"simpletable\">\n",
       "<caption>Logit Regression Results</caption>\n",
       "<tr>\n",
       "  <th>Dep. Variable:</th>     <td>HeartDisease</td>   <th>  No. Observations:  </th>   <td>409390</td>   \n",
       "</tr>\n",
       "<tr>\n",
       "  <th>Model:</th>                 <td>Logit</td>      <th>  Df Residuals:      </th>   <td>409372</td>   \n",
       "</tr>\n",
       "<tr>\n",
       "  <th>Method:</th>                 <td>MLE</td>       <th>  Df Model:          </th>   <td>    17</td>   \n",
       "</tr>\n",
       "<tr>\n",
       "  <th>Date:</th>            <td>Wed, 01 Mar 2023</td> <th>  Pseudo R-squ.:     </th>   <td>0.3515</td>   \n",
       "</tr>\n",
       "<tr>\n",
       "  <th>Time:</th>                <td>18:59:10</td>     <th>  Log-Likelihood:    </th> <td>-1.8402e+05</td>\n",
       "</tr>\n",
       "<tr>\n",
       "  <th>converged:</th>             <td>True</td>       <th>  LL-Null:           </th> <td>-2.8377e+05</td>\n",
       "</tr>\n",
       "<tr>\n",
       "  <th>Covariance Type:</th>     <td>nonrobust</td>    <th>  LLR p-value:       </th>   <td> 0.000</td>   \n",
       "</tr>\n",
       "</table>\n",
       "<table class=\"simpletable\">\n",
       "<tr>\n",
       "          <td></td>            <th>coef</th>     <th>std err</th>      <th>z</th>      <th>P>|z|</th>  <th>[0.025</th>    <th>0.975]</th>  \n",
       "</tr>\n",
       "<tr>\n",
       "  <th>Intercept</th>        <td>    0.9685</td> <td>    0.037</td> <td>   26.514</td> <td> 0.000</td> <td>    0.897</td> <td>    1.040</td>\n",
       "</tr>\n",
       "<tr>\n",
       "  <th>BMI</th>              <td>    0.0083</td> <td>    0.001</td> <td>   12.123</td> <td> 0.000</td> <td>    0.007</td> <td>    0.010</td>\n",
       "</tr>\n",
       "<tr>\n",
       "  <th>Smoking</th>          <td>   -0.1579</td> <td>    0.008</td> <td>  -18.764</td> <td> 0.000</td> <td>   -0.174</td> <td>   -0.141</td>\n",
       "</tr>\n",
       "<tr>\n",
       "  <th>AlcoholDrinking</th>  <td>   -1.8456</td> <td>    0.030</td> <td>  -61.161</td> <td> 0.000</td> <td>   -1.905</td> <td>   -1.787</td>\n",
       "</tr>\n",
       "<tr>\n",
       "  <th>Stroke</th>           <td>    0.0383</td> <td>    0.021</td> <td>    1.863</td> <td> 0.062</td> <td>   -0.002</td> <td>    0.079</td>\n",
       "</tr>\n",
       "<tr>\n",
       "  <th>PhysicalHealth</th>   <td>   -0.0042</td> <td>    0.001</td> <td>   -7.571</td> <td> 0.000</td> <td>   -0.005</td> <td>   -0.003</td>\n",
       "</tr>\n",
       "<tr>\n",
       "  <th>MentalHealth</th>     <td>    0.0078</td> <td>    0.001</td> <td>   13.986</td> <td> 0.000</td> <td>    0.007</td> <td>    0.009</td>\n",
       "</tr>\n",
       "<tr>\n",
       "  <th>DiffWalking</th>      <td>   -0.4839</td> <td>    0.013</td> <td>  -38.599</td> <td> 0.000</td> <td>   -0.508</td> <td>   -0.459</td>\n",
       "</tr>\n",
       "<tr>\n",
       "  <th>Sex</th>              <td>   -1.3855</td> <td>    0.009</td> <td> -157.448</td> <td> 0.000</td> <td>   -1.403</td> <td>   -1.368</td>\n",
       "</tr>\n",
       "<tr>\n",
       "  <th>AgeCategory</th>      <td>    0.3179</td> <td>    0.002</td> <td>  191.949</td> <td> 0.000</td> <td>    0.315</td> <td>    0.321</td>\n",
       "</tr>\n",
       "<tr>\n",
       "  <th>Race</th>             <td>   -0.1203</td> <td>    0.003</td> <td>  -36.348</td> <td> 0.000</td> <td>   -0.127</td> <td>   -0.114</td>\n",
       "</tr>\n",
       "<tr>\n",
       "  <th>Diabetic</th>         <td>   -0.2254</td> <td>    0.011</td> <td>  -19.797</td> <td> 0.000</td> <td>   -0.248</td> <td>   -0.203</td>\n",
       "</tr>\n",
       "<tr>\n",
       "  <th>PhysicalActivity</th> <td>   -0.5479</td> <td>    0.010</td> <td>  -57.355</td> <td> 0.000</td> <td>   -0.567</td> <td>   -0.529</td>\n",
       "</tr>\n",
       "<tr>\n",
       "  <th>GenHealth</th>        <td>   -1.0060</td> <td>    0.005</td> <td> -189.411</td> <td> 0.000</td> <td>   -1.016</td> <td>   -0.996</td>\n",
       "</tr>\n",
       "<tr>\n",
       "  <th>SleepTime</th>        <td>   -0.0310</td> <td>    0.003</td> <td>  -10.919</td> <td> 0.000</td> <td>   -0.037</td> <td>   -0.025</td>\n",
       "</tr>\n",
       "<tr>\n",
       "  <th>Asthma</th>           <td>   -0.6575</td> <td>    0.014</td> <td>  -46.034</td> <td> 0.000</td> <td>   -0.685</td> <td>   -0.630</td>\n",
       "</tr>\n",
       "<tr>\n",
       "  <th>KidneyDisease</th>    <td>   -0.4992</td> <td>    0.021</td> <td>  -23.254</td> <td> 0.000</td> <td>   -0.541</td> <td>   -0.457</td>\n",
       "</tr>\n",
       "<tr>\n",
       "  <th>SkinCancer</th>       <td>   -0.5688</td> <td>    0.014</td> <td>  -40.869</td> <td> 0.000</td> <td>   -0.596</td> <td>   -0.542</td>\n",
       "</tr>\n",
       "</table>"
      ],
      "text/plain": [
       "<class 'statsmodels.iolib.summary.Summary'>\n",
       "\"\"\"\n",
       "                           Logit Regression Results                           \n",
       "==============================================================================\n",
       "Dep. Variable:           HeartDisease   No. Observations:               409390\n",
       "Model:                          Logit   Df Residuals:                   409372\n",
       "Method:                           MLE   Df Model:                           17\n",
       "Date:                Wed, 01 Mar 2023   Pseudo R-squ.:                  0.3515\n",
       "Time:                        18:59:10   Log-Likelihood:            -1.8402e+05\n",
       "converged:                       True   LL-Null:                   -2.8377e+05\n",
       "Covariance Type:            nonrobust   LLR p-value:                     0.000\n",
       "====================================================================================\n",
       "                       coef    std err          z      P>|z|      [0.025      0.975]\n",
       "------------------------------------------------------------------------------------\n",
       "Intercept            0.9685      0.037     26.514      0.000       0.897       1.040\n",
       "BMI                  0.0083      0.001     12.123      0.000       0.007       0.010\n",
       "Smoking             -0.1579      0.008    -18.764      0.000      -0.174      -0.141\n",
       "AlcoholDrinking     -1.8456      0.030    -61.161      0.000      -1.905      -1.787\n",
       "Stroke               0.0383      0.021      1.863      0.062      -0.002       0.079\n",
       "PhysicalHealth      -0.0042      0.001     -7.571      0.000      -0.005      -0.003\n",
       "MentalHealth         0.0078      0.001     13.986      0.000       0.007       0.009\n",
       "DiffWalking         -0.4839      0.013    -38.599      0.000      -0.508      -0.459\n",
       "Sex                 -1.3855      0.009   -157.448      0.000      -1.403      -1.368\n",
       "AgeCategory          0.3179      0.002    191.949      0.000       0.315       0.321\n",
       "Race                -0.1203      0.003    -36.348      0.000      -0.127      -0.114\n",
       "Diabetic            -0.2254      0.011    -19.797      0.000      -0.248      -0.203\n",
       "PhysicalActivity    -0.5479      0.010    -57.355      0.000      -0.567      -0.529\n",
       "GenHealth           -1.0060      0.005   -189.411      0.000      -1.016      -0.996\n",
       "SleepTime           -0.0310      0.003    -10.919      0.000      -0.037      -0.025\n",
       "Asthma              -0.6575      0.014    -46.034      0.000      -0.685      -0.630\n",
       "KidneyDisease       -0.4992      0.021    -23.254      0.000      -0.541      -0.457\n",
       "SkinCancer          -0.5688      0.014    -40.869      0.000      -0.596      -0.542\n",
       "====================================================================================\n",
       "\"\"\""
      ]
     },
     "execution_count": 60,
     "metadata": {},
     "output_type": "execute_result"
    }
   ],
   "source": [
    "best_fwd_reg_model = models_best['model'][17]\n",
    "best_fwd_reg_model.summary()"
   ]
  },
  {
   "cell_type": "code",
   "execution_count": 71,
   "id": "12981590",
   "metadata": {},
   "outputs": [
    {
     "data": {
      "text/plain": [
       "199500.91079372313"
      ]
     },
     "execution_count": 71,
     "metadata": {},
     "output_type": "execute_result"
    }
   ],
   "source": [
    "best_fwd_reg_model.llr"
   ]
  },
  {
   "cell_type": "code",
   "execution_count": 107,
   "id": "467843a1",
   "metadata": {},
   "outputs": [
    {
     "name": "stdout",
     "output_type": "stream",
     "text": [
      "Classification accuracy = 81.3%\n",
      "Precision = 23.9%\n",
      "TPR or Recall = 54.3%\n",
      "FNR = 45.7%\n",
      "FPR = 16.2%\n",
      "ROC-AUC = 78.9%\n"
     ]
    },
    {
     "data": {
      "text/plain": [
       "0         0.040546\n",
       "1         0.455574\n",
       "2         0.795124\n",
       "3         0.625702\n",
       "4         0.033423\n",
       "            ...   \n",
       "319790    0.625158\n",
       "319791    0.054809\n",
       "319792    0.135472\n",
       "319793    0.063468\n",
       "319794    0.621256\n",
       "Length: 319795, dtype: float64"
      ]
     },
     "execution_count": 107,
     "metadata": {},
     "output_type": "execute_result"
    },
    {
     "data": {
      "image/png": "[encoded data removed]",
      "text/plain": [
       "<Figure size 432x288 with 2 Axes>"
      ]
     },
     "metadata": {
      "needs_background": "light"
     },
     "output_type": "display_data"
    }
   ],
   "source": [
    "confusion_matrix_data(data,data.HeartDisease,best_fwd_reg_model,0.6)"
   ]
  },
  {
   "cell_type": "markdown",
   "id": "0df9ce7b",
   "metadata": {},
   "source": [
    "# Subset Alcohol and SMOTE"
   ]
  },
  {
   "cell_type": "code",
   "execution_count": 183,
   "id": "4745d193",
   "metadata": {},
   "outputs": [
    {
     "data": {
      "text/plain": [
       "Text(0.5, 1.0, 'Heart Disease Count for Alcohol and Non-Alcohol Drinkers')"
      ]
     },
     "execution_count": 183,
     "metadata": {},
     "output_type": "execute_result"
    },
    {
     "data": {
      "image/png": "[encoded data removed]",
      "text/plain": [
       "<Figure size 432x288 with 1 Axes>"
      ]
     },
     "metadata": {
      "needs_background": "light"
     },
     "output_type": "display_data"
    }
   ],
   "source": [
    "sns.countplot(x = 'AlcoholDrinking',hue = 'HeartDisease', data = data)\n",
    "plt.title(\"Heart Disease Count for Alcohol and Non-Alcohol Drinkers\")"
   ]
  },
  {
   "cell_type": "markdown",
   "id": "deae50cf",
   "metadata": {},
   "source": [
    "## Alcohol Drinking = Yes"
   ]
  },
  {
   "cell_type": "code",
   "execution_count": 63,
   "id": "11fc61a3",
   "metadata": {},
   "outputs": [
    {
     "data": {
      "text/html": [
       "<div>\n",
       "<style scoped>\n",
       "    .dataframe tbody tr th:only-of-type {\n",
       "        vertical-align: middle;\n",
       "    }\n",
       "\n",
       "    .dataframe tbody tr th {\n",
       "        vertical-align: top;\n",
       "    }\n",
       "\n",
       "    .dataframe thead th {\n",
       "        text-align: right;\n",
       "    }\n",
       "</style>\n",
       "<table border=\"1\" class=\"dataframe\">\n",
       "  <thead>\n",
       "    <tr style=\"text-align: right;\">\n",
       "      <th></th>\n",
       "      <th>BMI</th>\n",
       "      <th>Smoking</th>\n",
       "      <th>AlcoholDrinking</th>\n",
       "      <th>Stroke</th>\n",
       "      <th>PhysicalHealth</th>\n",
       "      <th>MentalHealth</th>\n",
       "      <th>DiffWalking</th>\n",
       "      <th>Sex</th>\n",
       "      <th>AgeCategory</th>\n",
       "      <th>Race</th>\n",
       "      <th>Diabetic</th>\n",
       "      <th>PhysicalActivity</th>\n",
       "      <th>GenHealth</th>\n",
       "      <th>SleepTime</th>\n",
       "      <th>Asthma</th>\n",
       "      <th>KidneyDisease</th>\n",
       "      <th>SkinCancer</th>\n",
       "      <th>HeartDisease</th>\n",
       "    </tr>\n",
       "  </thead>\n",
       "  <tbody>\n",
       "    <tr>\n",
       "      <th>8</th>\n",
       "      <td>30.52</td>\n",
       "      <td>0</td>\n",
       "      <td>1</td>\n",
       "      <td>0</td>\n",
       "      <td>5.0</td>\n",
       "      <td>0.0</td>\n",
       "      <td>0</td>\n",
       "      <td>0</td>\n",
       "      <td>65-69</td>\n",
       "      <td>White</td>\n",
       "      <td>0</td>\n",
       "      <td>1</td>\n",
       "      <td>Good</td>\n",
       "      <td>8.0</td>\n",
       "      <td>0</td>\n",
       "      <td>0</td>\n",
       "      <td>0</td>\n",
       "      <td>0</td>\n",
       "    </tr>\n",
       "    <tr>\n",
       "      <th>12</th>\n",
       "      <td>32.92</td>\n",
       "      <td>0</td>\n",
       "      <td>1</td>\n",
       "      <td>0</td>\n",
       "      <td>30.0</td>\n",
       "      <td>5.0</td>\n",
       "      <td>1</td>\n",
       "      <td>1</td>\n",
       "      <td>75-79</td>\n",
       "      <td>White</td>\n",
       "      <td>0</td>\n",
       "      <td>1</td>\n",
       "      <td>Fair</td>\n",
       "      <td>10.0</td>\n",
       "      <td>0</td>\n",
       "      <td>0</td>\n",
       "      <td>0</td>\n",
       "      <td>0</td>\n",
       "    </tr>\n",
       "    <tr>\n",
       "      <th>37</th>\n",
       "      <td>30.54</td>\n",
       "      <td>1</td>\n",
       "      <td>1</td>\n",
       "      <td>0</td>\n",
       "      <td>0.0</td>\n",
       "      <td>0.0</td>\n",
       "      <td>0</td>\n",
       "      <td>0</td>\n",
       "      <td>45-49</td>\n",
       "      <td>AmericanIndianAlaskanNative</td>\n",
       "      <td>1</td>\n",
       "      <td>1</td>\n",
       "      <td>Good</td>\n",
       "      <td>7.0</td>\n",
       "      <td>0</td>\n",
       "      <td>0</td>\n",
       "      <td>0</td>\n",
       "      <td>0</td>\n",
       "    </tr>\n",
       "    <tr>\n",
       "      <th>41</th>\n",
       "      <td>25.68</td>\n",
       "      <td>1</td>\n",
       "      <td>1</td>\n",
       "      <td>0</td>\n",
       "      <td>0.0</td>\n",
       "      <td>0.0</td>\n",
       "      <td>0</td>\n",
       "      <td>0</td>\n",
       "      <td>55-59</td>\n",
       "      <td>White</td>\n",
       "      <td>0</td>\n",
       "      <td>1</td>\n",
       "      <td>Verygood</td>\n",
       "      <td>7.0</td>\n",
       "      <td>0</td>\n",
       "      <td>0</td>\n",
       "      <td>0</td>\n",
       "      <td>0</td>\n",
       "    </tr>\n",
       "    <tr>\n",
       "      <th>76</th>\n",
       "      <td>38.27</td>\n",
       "      <td>0</td>\n",
       "      <td>1</td>\n",
       "      <td>0</td>\n",
       "      <td>0.0</td>\n",
       "      <td>10.0</td>\n",
       "      <td>0</td>\n",
       "      <td>1</td>\n",
       "      <td>30-34</td>\n",
       "      <td>White</td>\n",
       "      <td>0</td>\n",
       "      <td>1</td>\n",
       "      <td>Good</td>\n",
       "      <td>6.0</td>\n",
       "      <td>0</td>\n",
       "      <td>0</td>\n",
       "      <td>0</td>\n",
       "      <td>0</td>\n",
       "    </tr>\n",
       "  </tbody>\n",
       "</table>\n",
       "</div>"
      ],
      "text/plain": [
       "      BMI  Smoking  AlcoholDrinking  Stroke  PhysicalHealth  MentalHealth  \\\n",
       "8   30.52        0                1       0             5.0           0.0   \n",
       "12  32.92        0                1       0            30.0           5.0   \n",
       "37  30.54        1                1       0             0.0           0.0   \n",
       "41  25.68        1                1       0             0.0           0.0   \n",
       "76  38.27        0                1       0             0.0          10.0   \n",
       "\n",
       "    DiffWalking  Sex AgeCategory                         Race  Diabetic  \\\n",
       "8             0    0       65-69                        White         0   \n",
       "12            1    1       75-79                        White         0   \n",
       "37            0    0       45-49  AmericanIndianAlaskanNative         1   \n",
       "41            0    0       55-59                        White         0   \n",
       "76            0    1       30-34                        White         0   \n",
       "\n",
       "    PhysicalActivity GenHealth  SleepTime  Asthma  KidneyDisease  SkinCancer  \\\n",
       "8                  1      Good        8.0       0              0           0   \n",
       "12                 1      Fair       10.0       0              0           0   \n",
       "37                 1      Good        7.0       0              0           0   \n",
       "41                 1  Verygood        7.0       0              0           0   \n",
       "76                 1      Good        6.0       0              0           0   \n",
       "\n",
       "    HeartDisease  \n",
       "8              0  \n",
       "12             0  \n",
       "37             0  \n",
       "41             0  \n",
       "76             0  "
      ]
     },
     "execution_count": 63,
     "metadata": {},
     "output_type": "execute_result"
    }
   ],
   "source": [
    "alcohol_yes = train_smote[train_smote.AlcoholDrinking == 1]\n",
    "alcohol_yes.head()"
   ]
  },
  {
   "cell_type": "code",
   "execution_count": 64,
   "id": "4462ea31",
   "metadata": {},
   "outputs": [
    {
     "data": {
      "text/plain": [
       "14397"
      ]
     },
     "execution_count": 64,
     "metadata": {},
     "output_type": "execute_result"
    }
   ],
   "source": [
    "alcohol_yes['HeartDisease'].value_counts()[0]"
   ]
  },
  {
   "cell_type": "code",
   "execution_count": 65,
   "id": "137f38b5",
   "metadata": {},
   "outputs": [
    {
     "data": {
      "text/plain": [
       "1673"
      ]
     },
     "execution_count": 65,
     "metadata": {},
     "output_type": "execute_result"
    }
   ],
   "source": [
    "alcohol_yes['HeartDisease'].value_counts()[1]"
   ]
  },
  {
   "cell_type": "code",
   "execution_count": 66,
   "id": "89a01f2e",
   "metadata": {},
   "outputs": [
    {
     "data": {
      "text/plain": [
       "0    20636\n",
       "1     1141\n",
       "Name: HeartDisease, dtype: int64"
      ]
     },
     "execution_count": 66,
     "metadata": {},
     "output_type": "execute_result"
    }
   ],
   "source": [
    "data_alc_yes = data[data.AlcoholDrinking == 1]\n",
    "data_alc_yes['HeartDisease'].value_counts()"
   ]
  },
  {
   "cell_type": "code",
   "execution_count": 67,
   "id": "e7ad156d",
   "metadata": {},
   "outputs": [
    {
     "name": "stdout",
     "output_type": "stream",
     "text": [
      "Optimization terminated successfully.\n",
      "         Current function value: 0.334014\n",
      "         Iterations 6\n"
     ]
    },
    {
     "data": {
      "text/html": [
       "<table class=\"simpletable\">\n",
       "<caption>Logit Regression Results</caption>\n",
       "<tr>\n",
       "  <th>Dep. Variable:</th>     <td>HeartDisease</td>   <th>  No. Observations:  </th>  <td> 16070</td>  \n",
       "</tr>\n",
       "<tr>\n",
       "  <th>Model:</th>                 <td>Logit</td>      <th>  Df Residuals:      </th>  <td> 16069</td>  \n",
       "</tr>\n",
       "<tr>\n",
       "  <th>Method:</th>                 <td>MLE</td>       <th>  Df Model:          </th>  <td>     0</td>  \n",
       "</tr>\n",
       "<tr>\n",
       "  <th>Date:</th>            <td>Sat, 04 Mar 2023</td> <th>  Pseudo R-squ.:     </th> <td>9.753e-11</td>\n",
       "</tr>\n",
       "<tr>\n",
       "  <th>Time:</th>                <td>17:38:20</td>     <th>  Log-Likelihood:    </th> <td> -5367.6</td> \n",
       "</tr>\n",
       "<tr>\n",
       "  <th>converged:</th>             <td>True</td>       <th>  LL-Null:           </th> <td> -5367.6</td> \n",
       "</tr>\n",
       "<tr>\n",
       "  <th>Covariance Type:</th>     <td>nonrobust</td>    <th>  LLR p-value:       </th>  <td>   nan</td>  \n",
       "</tr>\n",
       "</table>\n",
       "<table class=\"simpletable\">\n",
       "<tr>\n",
       "      <td></td>         <th>coef</th>     <th>std err</th>      <th>z</th>      <th>P>|z|</th>  <th>[0.025</th>    <th>0.975]</th>  \n",
       "</tr>\n",
       "<tr>\n",
       "  <th>Intercept</th> <td>   -2.1524</td> <td>    0.026</td> <td>  -83.330</td> <td> 0.000</td> <td>   -2.203</td> <td>   -2.102</td>\n",
       "</tr>\n",
       "</table>"
      ],
      "text/plain": [
       "<class 'statsmodels.iolib.summary.Summary'>\n",
       "\"\"\"\n",
       "                           Logit Regression Results                           \n",
       "==============================================================================\n",
       "Dep. Variable:           HeartDisease   No. Observations:                16070\n",
       "Model:                          Logit   Df Residuals:                    16069\n",
       "Method:                           MLE   Df Model:                            0\n",
       "Date:                Sat, 04 Mar 2023   Pseudo R-squ.:               9.753e-11\n",
       "Time:                        17:38:20   Log-Likelihood:                -5367.6\n",
       "converged:                       True   LL-Null:                       -5367.6\n",
       "Covariance Type:            nonrobust   LLR p-value:                       nan\n",
       "==============================================================================\n",
       "                 coef    std err          z      P>|z|      [0.025      0.975]\n",
       "------------------------------------------------------------------------------\n",
       "Intercept     -2.1524      0.026    -83.330      0.000      -2.203      -2.102\n",
       "==============================================================================\n",
       "\"\"\""
      ]
     },
     "execution_count": 67,
     "metadata": {},
     "output_type": "execute_result"
    }
   ],
   "source": [
    "model_alc_yes = sm.logit(formula = 'HeartDisease~1', data = alcohol_yes).fit()\n",
    "model_alc_yes.summary()"
   ]
  },
  {
   "cell_type": "code",
   "execution_count": 68,
   "id": "8b758ca5",
   "metadata": {},
   "outputs": [
    {
     "name": "stdout",
     "output_type": "stream",
     "text": [
      "Classification accuracy = 89.6%\n",
      "Precision = nan%\n",
      "TPR or Recall = 0.0%\n",
      "FNR = 100.0%\n",
      "FPR = 0.0%\n",
      "ROC-AUC = 50.0%\n"
     ]
    },
    {
     "name": "stderr",
     "output_type": "stream",
     "text": [
      "C:\\Users\\annik\\AppData\\Local\\Temp\\ipykernel_23208\\1691262903.py:16: RuntimeWarning: invalid value encountered in double_scalars\n",
      "  precision = (cm[1,1])/(cm[0,1]+cm[1,1])\n"
     ]
    },
    {
     "data": {
      "text/plain": [
       "8         0.104107\n",
       "12        0.104107\n",
       "37        0.104107\n",
       "41        0.104107\n",
       "76        0.104107\n",
       "            ...   \n",
       "408724    0.104107\n",
       "408924    0.104107\n",
       "409144    0.104107\n",
       "409277    0.104107\n",
       "409295    0.104107\n",
       "Length: 16070, dtype: float64"
      ]
     },
     "execution_count": 68,
     "metadata": {},
     "output_type": "execute_result"
    },
    {
     "data": {
      "image/png": "[encoded data removed]",
      "text/plain": [
       "<Figure size 432x288 with 2 Axes>"
      ]
     },
     "metadata": {
      "needs_background": "light"
     },
     "output_type": "display_data"
    }
   ],
   "source": [
    "confusion_matrix_data(alcohol_yes,alcohol_yes.HeartDisease,model_alc_yes,0.6)"
   ]
  },
  {
   "cell_type": "code",
   "execution_count": 120,
   "id": "110e3b7b",
   "metadata": {},
   "outputs": [
    {
     "data": {
      "text/plain": [
       "8         0.104107\n",
       "12        0.104107\n",
       "37        0.104107\n",
       "41        0.104107\n",
       "76        0.104107\n",
       "            ...   \n",
       "408724    0.104107\n",
       "408924    0.104107\n",
       "409144    0.104107\n",
       "409277    0.104107\n",
       "409295    0.104107\n",
       "Length: 16070, dtype: float64"
      ]
     },
     "execution_count": 120,
     "metadata": {},
     "output_type": "execute_result"
    }
   ],
   "source": [
    "pred1 = model_alc_yes.predict(alcohol_yes)\n",
    "pred1"
   ]
  },
  {
   "cell_type": "code",
   "execution_count": 121,
   "id": "df920e79",
   "metadata": {},
   "outputs": [
    {
     "data": {
      "text/html": [
       "<div>\n",
       "<style scoped>\n",
       "    .dataframe tbody tr th:only-of-type {\n",
       "        vertical-align: middle;\n",
       "    }\n",
       "\n",
       "    .dataframe tbody tr th {\n",
       "        vertical-align: top;\n",
       "    }\n",
       "\n",
       "    .dataframe thead th {\n",
       "        text-align: right;\n",
       "    }\n",
       "</style>\n",
       "<table border=\"1\" class=\"dataframe\">\n",
       "  <thead>\n",
       "    <tr style=\"text-align: right;\">\n",
       "      <th></th>\n",
       "      <th>0</th>\n",
       "    </tr>\n",
       "  </thead>\n",
       "  <tbody>\n",
       "    <tr>\n",
       "      <th>8</th>\n",
       "      <td>0</td>\n",
       "    </tr>\n",
       "    <tr>\n",
       "      <th>12</th>\n",
       "      <td>0</td>\n",
       "    </tr>\n",
       "    <tr>\n",
       "      <th>37</th>\n",
       "      <td>0</td>\n",
       "    </tr>\n",
       "    <tr>\n",
       "      <th>41</th>\n",
       "      <td>0</td>\n",
       "    </tr>\n",
       "    <tr>\n",
       "      <th>76</th>\n",
       "      <td>0</td>\n",
       "    </tr>\n",
       "    <tr>\n",
       "      <th>...</th>\n",
       "      <td>...</td>\n",
       "    </tr>\n",
       "    <tr>\n",
       "      <th>408724</th>\n",
       "      <td>0</td>\n",
       "    </tr>\n",
       "    <tr>\n",
       "      <th>408924</th>\n",
       "      <td>0</td>\n",
       "    </tr>\n",
       "    <tr>\n",
       "      <th>409144</th>\n",
       "      <td>0</td>\n",
       "    </tr>\n",
       "    <tr>\n",
       "      <th>409277</th>\n",
       "      <td>0</td>\n",
       "    </tr>\n",
       "    <tr>\n",
       "      <th>409295</th>\n",
       "      <td>0</td>\n",
       "    </tr>\n",
       "  </tbody>\n",
       "</table>\n",
       "<p>16070 rows × 1 columns</p>\n",
       "</div>"
      ],
      "text/plain": [
       "        0\n",
       "8       0\n",
       "12      0\n",
       "37      0\n",
       "41      0\n",
       "76      0\n",
       "...    ..\n",
       "408724  0\n",
       "408924  0\n",
       "409144  0\n",
       "409277  0\n",
       "409295  0\n",
       "\n",
       "[16070 rows x 1 columns]"
      ]
     },
     "execution_count": 121,
     "metadata": {},
     "output_type": "execute_result"
    }
   ],
   "source": [
    "pred1 = pred1.to_frame()\n",
    "pred1['new'] = 0\n",
    "pred1.drop(0, axis=1, inplace=True)\n",
    "pred1.rename(columns={'new': 0}, inplace=True)\n",
    "pred1"
   ]
  },
  {
   "cell_type": "markdown",
   "id": "b9f96a3f",
   "metadata": {},
   "source": [
    "## Alcohol Drinking = No"
   ]
  },
  {
   "cell_type": "code",
   "execution_count": 107,
   "id": "433fe0d7",
   "metadata": {},
   "outputs": [
    {
     "data": {
      "text/html": [
       "<div>\n",
       "<style scoped>\n",
       "    .dataframe tbody tr th:only-of-type {\n",
       "        vertical-align: middle;\n",
       "    }\n",
       "\n",
       "    .dataframe tbody tr th {\n",
       "        vertical-align: top;\n",
       "    }\n",
       "\n",
       "    .dataframe thead th {\n",
       "        text-align: right;\n",
       "    }\n",
       "</style>\n",
       "<table border=\"1\" class=\"dataframe\">\n",
       "  <thead>\n",
       "    <tr style=\"text-align: right;\">\n",
       "      <th></th>\n",
       "      <th>BMI</th>\n",
       "      <th>Smoking</th>\n",
       "      <th>AlcoholDrinking</th>\n",
       "      <th>Stroke</th>\n",
       "      <th>PhysicalHealth</th>\n",
       "      <th>MentalHealth</th>\n",
       "      <th>DiffWalking</th>\n",
       "      <th>Sex</th>\n",
       "      <th>AgeCategory</th>\n",
       "      <th>Race</th>\n",
       "      <th>Diabetic</th>\n",
       "      <th>PhysicalActivity</th>\n",
       "      <th>GenHealth</th>\n",
       "      <th>SleepTime</th>\n",
       "      <th>Asthma</th>\n",
       "      <th>KidneyDisease</th>\n",
       "      <th>SkinCancer</th>\n",
       "      <th>HeartDisease</th>\n",
       "    </tr>\n",
       "  </thead>\n",
       "  <tbody>\n",
       "    <tr>\n",
       "      <th>0</th>\n",
       "      <td>31.630000</td>\n",
       "      <td>0</td>\n",
       "      <td>0</td>\n",
       "      <td>0</td>\n",
       "      <td>0.0</td>\n",
       "      <td>0.000000</td>\n",
       "      <td>0</td>\n",
       "      <td>0</td>\n",
       "      <td>40-44</td>\n",
       "      <td>Hispanic</td>\n",
       "      <td>0</td>\n",
       "      <td>1</td>\n",
       "      <td>Excellent</td>\n",
       "      <td>6.000000</td>\n",
       "      <td>0</td>\n",
       "      <td>0</td>\n",
       "      <td>0</td>\n",
       "      <td>0</td>\n",
       "    </tr>\n",
       "    <tr>\n",
       "      <th>1</th>\n",
       "      <td>27.980000</td>\n",
       "      <td>1</td>\n",
       "      <td>0</td>\n",
       "      <td>0</td>\n",
       "      <td>0.0</td>\n",
       "      <td>0.000000</td>\n",
       "      <td>0</td>\n",
       "      <td>0</td>\n",
       "      <td>70-74</td>\n",
       "      <td>White</td>\n",
       "      <td>1</td>\n",
       "      <td>1</td>\n",
       "      <td>Fair</td>\n",
       "      <td>8.000000</td>\n",
       "      <td>0</td>\n",
       "      <td>0</td>\n",
       "      <td>0</td>\n",
       "      <td>1</td>\n",
       "    </tr>\n",
       "    <tr>\n",
       "      <th>2</th>\n",
       "      <td>26.580000</td>\n",
       "      <td>1</td>\n",
       "      <td>0</td>\n",
       "      <td>0</td>\n",
       "      <td>0.0</td>\n",
       "      <td>0.000000</td>\n",
       "      <td>0</td>\n",
       "      <td>0</td>\n",
       "      <td>45-49</td>\n",
       "      <td>White</td>\n",
       "      <td>0</td>\n",
       "      <td>1</td>\n",
       "      <td>Excellent</td>\n",
       "      <td>6.000000</td>\n",
       "      <td>0</td>\n",
       "      <td>0</td>\n",
       "      <td>0</td>\n",
       "      <td>0</td>\n",
       "    </tr>\n",
       "    <tr>\n",
       "      <th>3</th>\n",
       "      <td>33.280000</td>\n",
       "      <td>1</td>\n",
       "      <td>0</td>\n",
       "      <td>0</td>\n",
       "      <td>0.0</td>\n",
       "      <td>23.000000</td>\n",
       "      <td>0</td>\n",
       "      <td>1</td>\n",
       "      <td>70-74</td>\n",
       "      <td>White</td>\n",
       "      <td>1</td>\n",
       "      <td>1</td>\n",
       "      <td>Good</td>\n",
       "      <td>8.000000</td>\n",
       "      <td>0</td>\n",
       "      <td>0</td>\n",
       "      <td>0</td>\n",
       "      <td>0</td>\n",
       "    </tr>\n",
       "    <tr>\n",
       "      <th>4</th>\n",
       "      <td>26.570000</td>\n",
       "      <td>0</td>\n",
       "      <td>0</td>\n",
       "      <td>0</td>\n",
       "      <td>0.0</td>\n",
       "      <td>0.000000</td>\n",
       "      <td>0</td>\n",
       "      <td>1</td>\n",
       "      <td>18-24</td>\n",
       "      <td>Hispanic</td>\n",
       "      <td>0</td>\n",
       "      <td>0</td>\n",
       "      <td>Verygood</td>\n",
       "      <td>8.000000</td>\n",
       "      <td>0</td>\n",
       "      <td>0</td>\n",
       "      <td>0</td>\n",
       "      <td>0</td>\n",
       "    </tr>\n",
       "    <tr>\n",
       "      <th>...</th>\n",
       "      <td>...</td>\n",
       "      <td>...</td>\n",
       "      <td>...</td>\n",
       "      <td>...</td>\n",
       "      <td>...</td>\n",
       "      <td>...</td>\n",
       "      <td>...</td>\n",
       "      <td>...</td>\n",
       "      <td>...</td>\n",
       "      <td>...</td>\n",
       "      <td>...</td>\n",
       "      <td>...</td>\n",
       "      <td>...</td>\n",
       "      <td>...</td>\n",
       "      <td>...</td>\n",
       "      <td>...</td>\n",
       "      <td>...</td>\n",
       "      <td>...</td>\n",
       "    </tr>\n",
       "    <tr>\n",
       "      <th>409385</th>\n",
       "      <td>23.570000</td>\n",
       "      <td>1</td>\n",
       "      <td>0</td>\n",
       "      <td>0</td>\n",
       "      <td>30.0</td>\n",
       "      <td>0.000000</td>\n",
       "      <td>1</td>\n",
       "      <td>0</td>\n",
       "      <td>75-79</td>\n",
       "      <td>White</td>\n",
       "      <td>0</td>\n",
       "      <td>0</td>\n",
       "      <td>Poor</td>\n",
       "      <td>5.921736</td>\n",
       "      <td>0</td>\n",
       "      <td>0</td>\n",
       "      <td>0</td>\n",
       "      <td>1</td>\n",
       "    </tr>\n",
       "    <tr>\n",
       "      <th>409386</th>\n",
       "      <td>33.841957</td>\n",
       "      <td>1</td>\n",
       "      <td>0</td>\n",
       "      <td>0</td>\n",
       "      <td>0.0</td>\n",
       "      <td>10.000000</td>\n",
       "      <td>1</td>\n",
       "      <td>0</td>\n",
       "      <td>55-59</td>\n",
       "      <td>White</td>\n",
       "      <td>1</td>\n",
       "      <td>0</td>\n",
       "      <td>Fair</td>\n",
       "      <td>6.053981</td>\n",
       "      <td>0</td>\n",
       "      <td>0</td>\n",
       "      <td>0</td>\n",
       "      <td>1</td>\n",
       "    </tr>\n",
       "    <tr>\n",
       "      <th>409387</th>\n",
       "      <td>29.726817</td>\n",
       "      <td>0</td>\n",
       "      <td>0</td>\n",
       "      <td>0</td>\n",
       "      <td>0.0</td>\n",
       "      <td>15.000000</td>\n",
       "      <td>0</td>\n",
       "      <td>0</td>\n",
       "      <td>60-64</td>\n",
       "      <td>White</td>\n",
       "      <td>0</td>\n",
       "      <td>1</td>\n",
       "      <td>Good</td>\n",
       "      <td>6.000000</td>\n",
       "      <td>0</td>\n",
       "      <td>0</td>\n",
       "      <td>0</td>\n",
       "      <td>1</td>\n",
       "    </tr>\n",
       "    <tr>\n",
       "      <th>409388</th>\n",
       "      <td>27.860382</td>\n",
       "      <td>1</td>\n",
       "      <td>0</td>\n",
       "      <td>0</td>\n",
       "      <td>0.0</td>\n",
       "      <td>0.000000</td>\n",
       "      <td>0</td>\n",
       "      <td>0</td>\n",
       "      <td>65-69</td>\n",
       "      <td>White</td>\n",
       "      <td>0</td>\n",
       "      <td>0</td>\n",
       "      <td>Good</td>\n",
       "      <td>8.000000</td>\n",
       "      <td>1</td>\n",
       "      <td>0</td>\n",
       "      <td>0</td>\n",
       "      <td>1</td>\n",
       "    </tr>\n",
       "    <tr>\n",
       "      <th>409389</th>\n",
       "      <td>40.631251</td>\n",
       "      <td>1</td>\n",
       "      <td>0</td>\n",
       "      <td>0</td>\n",
       "      <td>30.0</td>\n",
       "      <td>29.026165</td>\n",
       "      <td>1</td>\n",
       "      <td>0</td>\n",
       "      <td>70-74</td>\n",
       "      <td>White</td>\n",
       "      <td>0</td>\n",
       "      <td>0</td>\n",
       "      <td>Fair</td>\n",
       "      <td>7.000000</td>\n",
       "      <td>0</td>\n",
       "      <td>0</td>\n",
       "      <td>0</td>\n",
       "      <td>1</td>\n",
       "    </tr>\n",
       "  </tbody>\n",
       "</table>\n",
       "<p>393320 rows × 18 columns</p>\n",
       "</div>"
      ],
      "text/plain": [
       "              BMI  Smoking  AlcoholDrinking  Stroke  PhysicalHealth  \\\n",
       "0       31.630000        0                0       0             0.0   \n",
       "1       27.980000        1                0       0             0.0   \n",
       "2       26.580000        1                0       0             0.0   \n",
       "3       33.280000        1                0       0             0.0   \n",
       "4       26.570000        0                0       0             0.0   \n",
       "...           ...      ...              ...     ...             ...   \n",
       "409385  23.570000        1                0       0            30.0   \n",
       "409386  33.841957        1                0       0             0.0   \n",
       "409387  29.726817        0                0       0             0.0   \n",
       "409388  27.860382        1                0       0             0.0   \n",
       "409389  40.631251        1                0       0            30.0   \n",
       "\n",
       "        MentalHealth  DiffWalking  Sex AgeCategory      Race  Diabetic  \\\n",
       "0           0.000000            0    0       40-44  Hispanic         0   \n",
       "1           0.000000            0    0       70-74     White         1   \n",
       "2           0.000000            0    0       45-49     White         0   \n",
       "3          23.000000            0    1       70-74     White         1   \n",
       "4           0.000000            0    1       18-24  Hispanic         0   \n",
       "...              ...          ...  ...         ...       ...       ...   \n",
       "409385      0.000000            1    0       75-79     White         0   \n",
       "409386     10.000000            1    0       55-59     White         1   \n",
       "409387     15.000000            0    0       60-64     White         0   \n",
       "409388      0.000000            0    0       65-69     White         0   \n",
       "409389     29.026165            1    0       70-74     White         0   \n",
       "\n",
       "        PhysicalActivity  GenHealth  SleepTime  Asthma  KidneyDisease  \\\n",
       "0                      1  Excellent   6.000000       0              0   \n",
       "1                      1       Fair   8.000000       0              0   \n",
       "2                      1  Excellent   6.000000       0              0   \n",
       "3                      1       Good   8.000000       0              0   \n",
       "4                      0   Verygood   8.000000       0              0   \n",
       "...                  ...        ...        ...     ...            ...   \n",
       "409385                 0       Poor   5.921736       0              0   \n",
       "409386                 0       Fair   6.053981       0              0   \n",
       "409387                 1       Good   6.000000       0              0   \n",
       "409388                 0       Good   8.000000       1              0   \n",
       "409389                 0       Fair   7.000000       0              0   \n",
       "\n",
       "        SkinCancer  HeartDisease  \n",
       "0                0             0  \n",
       "1                0             1  \n",
       "2                0             0  \n",
       "3                0             0  \n",
       "4                0             0  \n",
       "...            ...           ...  \n",
       "409385           0             1  \n",
       "409386           0             1  \n",
       "409387           0             1  \n",
       "409388           0             1  \n",
       "409389           0             1  \n",
       "\n",
       "[393320 rows x 18 columns]"
      ]
     },
     "execution_count": 107,
     "metadata": {},
     "output_type": "execute_result"
    }
   ],
   "source": [
    "alcohol_no = train_smote[train_smote.AlcoholDrinking == 0]\n",
    "alcohol_no"
   ]
  },
  {
   "cell_type": "code",
   "execution_count": 108,
   "id": "d2edbe4d",
   "metadata": {},
   "outputs": [
    {
     "name": "stdout",
     "output_type": "stream",
     "text": [
      "Optimization terminated successfully.\n",
      "         Current function value: 0.451604\n",
      "         Iterations 7\n"
     ]
    }
   ],
   "source": [
    "model_alc_no = sm.logit(formula = 'HeartDisease~BMI+Smoking+Stroke+PhysicalHealth+MentalHealth+DiffWalking+Sex+AgeCategory+Race+Diabetic+PhysicalActivity+GenHealth+SleepTime+Asthma+KidneyDisease+SkinCancer', data = alcohol_no).fit()"
   ]
  },
  {
   "cell_type": "code",
   "execution_count": 109,
   "id": "29efcf0f",
   "metadata": {},
   "outputs": [
    {
     "name": "stdout",
     "output_type": "stream",
     "text": [
      "Classification accuracy = 78.0%\n",
      "Precision = 81.9%\n",
      "TPR or Recall = 73.6%\n",
      "FNR = 26.4%\n",
      "FPR = 17.3%\n",
      "ROC-AUC = 86.9%\n"
     ]
    },
    {
     "data": {
      "text/plain": [
       "0         0.059658\n",
       "1         0.908514\n",
       "2         0.093998\n",
       "3         0.527446\n",
       "4         0.022708\n",
       "            ...   \n",
       "409385    0.977867\n",
       "409386    0.836335\n",
       "409387    0.776580\n",
       "409388    0.739318\n",
       "409389    0.943171\n",
       "Length: 393320, dtype: float64"
      ]
     },
     "execution_count": 109,
     "metadata": {},
     "output_type": "execute_result"
    },
    {
     "data": {
      "image/png": "[encoded data removed]",
      "text/plain": [
       "<Figure size 432x288 with 2 Axes>"
      ]
     },
     "metadata": {
      "needs_background": "light"
     },
     "output_type": "display_data"
    }
   ],
   "source": [
    "confusion_matrix_data(alcohol_no,alcohol_no.HeartDisease,model_alc_no,0.6)"
   ]
  },
  {
   "cell_type": "code",
   "execution_count": 117,
   "id": "35f5dd16",
   "metadata": {},
   "outputs": [
    {
     "name": "stdout",
     "output_type": "stream",
     "text": [
      "Classification accuracy = 89.9%\n",
      "Precision = 35.1%\n",
      "TPR or Recall = 16.9%\n",
      "FNR = 83.1%\n",
      "FPR = 3.0%\n",
      "ROC-AUC = 78.8%\n"
     ]
    },
    {
     "data": {
      "text/plain": [
       "0         0.043889\n",
       "1         0.423285\n",
       "2         0.802077\n",
       "3         0.648035\n",
       "4         0.033293\n",
       "            ...   \n",
       "319790    0.681462\n",
       "319791    0.055099\n",
       "319792    0.149333\n",
       "319793    0.070590\n",
       "319794    0.604360\n",
       "Length: 298018, dtype: float64"
      ]
     },
     "execution_count": 117,
     "metadata": {},
     "output_type": "execute_result"
    },
    {
     "data": {
      "image/png": "[encoded data removed]",
      "text/plain": [
       "<Figure size 432x288 with 2 Axes>"
      ]
     },
     "metadata": {
      "needs_background": "light"
     },
     "output_type": "display_data"
    }
   ],
   "source": [
    "data_alc_no = data[data.AlcoholDrinking == 0]\n",
    "confusion_matrix_data(data_alc_no,data_alc_no.HeartDisease,model_alc_no,0.87)"
   ]
  },
  {
   "cell_type": "code",
   "execution_count": 111,
   "id": "e0dec518",
   "metadata": {},
   "outputs": [
    {
     "name": "stderr",
     "output_type": "stream",
     "text": [
      "C:\\Users\\annik\\AppData\\Local\\Temp\\ipykernel_23208\\1691262903.py:16: RuntimeWarning: invalid value encountered in double_scalars\n",
      "  precision = (cm[1,1])/(cm[0,1]+cm[1,1])\n"
     ]
    },
    {
     "name": "stdout",
     "output_type": "stream",
     "text": [
      "Classification accuracy = 94.8%\n",
      "Precision = nan%\n",
      "TPR or Recall = 0.0%\n",
      "FNR = 100.0%\n",
      "FPR = 0.0%\n",
      "ROC-AUC = 50.0%\n"
     ]
    },
    {
     "data": {
      "text/plain": [
       "55        0.104107\n",
       "142       0.104107\n",
       "176       0.104107\n",
       "186       0.104107\n",
       "201       0.104107\n",
       "            ...   \n",
       "319699    0.104107\n",
       "319702    0.104107\n",
       "319704    0.104107\n",
       "319732    0.104107\n",
       "319785    0.104107\n",
       "Length: 21777, dtype: float64"
      ]
     },
     "execution_count": 111,
     "metadata": {},
     "output_type": "execute_result"
    },
    {
     "data": {
      "image/png": "[encoded data removed]",
      "text/plain": [
       "<Figure size 432x288 with 2 Axes>"
      ]
     },
     "metadata": {
      "needs_background": "light"
     },
     "output_type": "display_data"
    }
   ],
   "source": [
    "confusion_matrix_data(data_alc_yes,data_alc_yes.HeartDisease,model_alc_yes,0.6)"
   ]
  },
  {
   "cell_type": "code",
   "execution_count": 112,
   "id": "d028132f",
   "metadata": {},
   "outputs": [
    {
     "data": {
      "text/plain": [
       "0.8132428587063587"
      ]
     },
     "execution_count": 112,
     "metadata": {},
     "output_type": "execute_result"
    }
   ],
   "source": [
    "alc_error = (47062+11521+1141) / (224724+47062+11521+14711+20636+1141)\n",
    "1-alc_error"
   ]
  },
  {
   "cell_type": "code",
   "execution_count": null,
   "id": "8d0c040c",
   "metadata": {},
   "outputs": [],
   "source": [
    "pred2 = model.predict(not_zero)\n",
    "pred2 = model.predict(test_not_zero)\n",
    "pred2 = pred2.to_frame()\n",
    "pred2"
   ]
  },
  {
   "cell_type": "code",
   "execution_count": null,
   "id": "328c4f9d",
   "metadata": {},
   "outputs": [],
   "source": [
    "pred2.loc[pred2[0] <= 0.4, 'pred'] = 'false' \n",
    "pred2.loc[pred2[0] > 0.4, 'pred'] = 'true'\n",
    "map = {'false':0, 'true':1}\n",
    "pred2 = pred2.applymap(lambda x: map.get(x) if x in map else x)\n",
    "pred2.drop(0, axis=1, inplace=True)\n",
    "pred2.rename(columns={'pred': 0}, inplace=True)\n",
    "pred2"
   ]
  },
  {
   "cell_type": "code",
   "execution_count": null,
   "id": "41dbba89",
   "metadata": {},
   "outputs": [],
   "source": [
    "pred = pd.concat([pred1, pred2])\n",
    "pred.index.name = \"Id\"\n",
    "pred = pred.sort_values(\"Id\")\n",
    "pred.index = np.arange(1, 319796)\n",
    "pred.index.name = \"Id\"\n",
    "pred.columns=[\"Category\"]\n",
    "pred"
   ]
  },
  {
   "cell_type": "code",
   "execution_count": null,
   "id": "ef162de5",
   "metadata": {},
   "outputs": [],
   "source": [
    "confusion_matrix_data(train,train.HeartDisease,model,0.5)"
   ]
  },
  {
   "cell_type": "code",
   "execution_count": 117,
   "id": "93cb3742",
   "metadata": {},
   "outputs": [
    {
     "name": "stdout",
     "output_type": "stream",
     "text": [
      "Classification accuracy = 36.3%\n",
      "Precision = 36.3%\n",
      "TPR or Recall = 100.0%\n",
      "FNR = 0.0%\n",
      "FPR = 100.0%\n",
      "ROC-AUC = 61.4%\n"
     ]
    },
    {
     "data": {
      "text/plain": [
       "1         0.311703\n",
       "35        0.446752\n",
       "40        0.253910\n",
       "49        0.311785\n",
       "59        0.324539\n",
       "            ...   \n",
       "223739    0.455393\n",
       "223761    0.324085\n",
       "223834    0.433544\n",
       "223842    0.282251\n",
       "223851    0.404752\n",
       "Length: 8507, dtype: float64"
      ]
     },
     "execution_count": 117,
     "metadata": {},
     "output_type": "execute_result"
    },
    {
     "data": {
      "image/png": "[encoded data removed]",
      "text/plain": [
       "<Figure size 432x288 with 2 Axes>"
      ]
     },
     "metadata": {
      "needs_background": "light"
     },
     "output_type": "display_data"
    }
   ],
   "source": [
    "confusion_matrix_data(not_zero,not_zero.HeartDisease,model,0.1)"
   ]
  },
  {
   "cell_type": "code",
   "execution_count": 108,
   "id": "0ab1b09f",
   "metadata": {},
   "outputs": [
    {
     "name": "stdout",
     "output_type": "stream",
     "text": [
      "Optimization terminated successfully.\n",
      "         Current function value: 0.265904\n",
      "         Iterations 6\n"
     ]
    },
    {
     "ename": "LinAlgError",
     "evalue": "Singular matrix",
     "output_type": "error",
     "traceback": [
      "\u001b[1;31m---------------------------------------------------------------------------\u001b[0m",
      "\u001b[1;31mLinAlgError\u001b[0m                               Traceback (most recent call last)",
      "Input \u001b[1;32mIn [108]\u001b[0m, in \u001b[0;36m<cell line: 1>\u001b[1;34m()\u001b[0m\n\u001b[1;32m----> 1\u001b[0m model2 \u001b[38;5;241m=\u001b[39m \u001b[43msm\u001b[49m\u001b[38;5;241;43m.\u001b[39;49m\u001b[43mlogit\u001b[49m\u001b[43m(\u001b[49m\u001b[43mformula\u001b[49m\u001b[43m \u001b[49m\u001b[38;5;241;43m=\u001b[39;49m\u001b[43m \u001b[49m\u001b[38;5;124;43m'\u001b[39;49m\u001b[38;5;124;43mHeartDisease~Stroke\u001b[39;49m\u001b[38;5;124;43m'\u001b[39;49m\u001b[43m,\u001b[49m\u001b[43m \u001b[49m\u001b[43mdata\u001b[49m\u001b[43m \u001b[49m\u001b[38;5;241;43m=\u001b[39;49m\u001b[43m \u001b[49m\u001b[43monly_zero\u001b[49m\u001b[43m)\u001b[49m\u001b[38;5;241;43m.\u001b[39;49m\u001b[43mfit\u001b[49m\u001b[43m(\u001b[49m\u001b[43m)\u001b[49m\n",
      "File \u001b[1;32m~\\anaconda3\\lib\\site-packages\\statsmodels\\discrete\\discrete_model.py:1983\u001b[0m, in \u001b[0;36mLogit.fit\u001b[1;34m(self, start_params, method, maxiter, full_output, disp, callback, **kwargs)\u001b[0m\n\u001b[0;32m   1980\u001b[0m \u001b[38;5;129m@Appender\u001b[39m(DiscreteModel\u001b[38;5;241m.\u001b[39mfit\u001b[38;5;241m.\u001b[39m\u001b[38;5;18m__doc__\u001b[39m)\n\u001b[0;32m   1981\u001b[0m \u001b[38;5;28;01mdef\u001b[39;00m \u001b[38;5;21mfit\u001b[39m(\u001b[38;5;28mself\u001b[39m, start_params\u001b[38;5;241m=\u001b[39m\u001b[38;5;28;01mNone\u001b[39;00m, method\u001b[38;5;241m=\u001b[39m\u001b[38;5;124m'\u001b[39m\u001b[38;5;124mnewton\u001b[39m\u001b[38;5;124m'\u001b[39m, maxiter\u001b[38;5;241m=\u001b[39m\u001b[38;5;241m35\u001b[39m,\n\u001b[0;32m   1982\u001b[0m         full_output\u001b[38;5;241m=\u001b[39m\u001b[38;5;241m1\u001b[39m, disp\u001b[38;5;241m=\u001b[39m\u001b[38;5;241m1\u001b[39m, callback\u001b[38;5;241m=\u001b[39m\u001b[38;5;28;01mNone\u001b[39;00m, \u001b[38;5;241m*\u001b[39m\u001b[38;5;241m*\u001b[39mkwargs):\n\u001b[1;32m-> 1983\u001b[0m     bnryfit \u001b[38;5;241m=\u001b[39m \u001b[38;5;28msuper\u001b[39m()\u001b[38;5;241m.\u001b[39mfit(start_params\u001b[38;5;241m=\u001b[39mstart_params,\n\u001b[0;32m   1984\u001b[0m                           method\u001b[38;5;241m=\u001b[39mmethod,\n\u001b[0;32m   1985\u001b[0m                           maxiter\u001b[38;5;241m=\u001b[39mmaxiter,\n\u001b[0;32m   1986\u001b[0m                           full_output\u001b[38;5;241m=\u001b[39mfull_output,\n\u001b[0;32m   1987\u001b[0m                           disp\u001b[38;5;241m=\u001b[39mdisp,\n\u001b[0;32m   1988\u001b[0m                           callback\u001b[38;5;241m=\u001b[39mcallback,\n\u001b[0;32m   1989\u001b[0m                           \u001b[38;5;241m*\u001b[39m\u001b[38;5;241m*\u001b[39mkwargs)\n\u001b[0;32m   1991\u001b[0m     discretefit \u001b[38;5;241m=\u001b[39m LogitResults(\u001b[38;5;28mself\u001b[39m, bnryfit)\n\u001b[0;32m   1992\u001b[0m     \u001b[38;5;28;01mreturn\u001b[39;00m BinaryResultsWrapper(discretefit)\n",
      "File \u001b[1;32m~\\anaconda3\\lib\\site-packages\\statsmodels\\discrete\\discrete_model.py:230\u001b[0m, in \u001b[0;36mDiscreteModel.fit\u001b[1;34m(self, start_params, method, maxiter, full_output, disp, callback, **kwargs)\u001b[0m\n\u001b[0;32m    227\u001b[0m \u001b[38;5;28;01melse\u001b[39;00m:\n\u001b[0;32m    228\u001b[0m     \u001b[38;5;28;01mpass\u001b[39;00m  \u001b[38;5;66;03m# TODO: make a function factory to have multiple call-backs\u001b[39;00m\n\u001b[1;32m--> 230\u001b[0m mlefit \u001b[38;5;241m=\u001b[39m \u001b[38;5;28msuper\u001b[39m()\u001b[38;5;241m.\u001b[39mfit(start_params\u001b[38;5;241m=\u001b[39mstart_params,\n\u001b[0;32m    231\u001b[0m                      method\u001b[38;5;241m=\u001b[39mmethod,\n\u001b[0;32m    232\u001b[0m                      maxiter\u001b[38;5;241m=\u001b[39mmaxiter,\n\u001b[0;32m    233\u001b[0m                      full_output\u001b[38;5;241m=\u001b[39mfull_output,\n\u001b[0;32m    234\u001b[0m                      disp\u001b[38;5;241m=\u001b[39mdisp,\n\u001b[0;32m    235\u001b[0m                      callback\u001b[38;5;241m=\u001b[39mcallback,\n\u001b[0;32m    236\u001b[0m                      \u001b[38;5;241m*\u001b[39m\u001b[38;5;241m*\u001b[39mkwargs)\n\u001b[0;32m    238\u001b[0m \u001b[38;5;28;01mreturn\u001b[39;00m mlefit\n",
      "File \u001b[1;32m~\\anaconda3\\lib\\site-packages\\statsmodels\\base\\model.py:579\u001b[0m, in \u001b[0;36mLikelihoodModel.fit\u001b[1;34m(self, start_params, method, maxiter, full_output, disp, fargs, callback, retall, skip_hessian, **kwargs)\u001b[0m\n\u001b[0;32m    577\u001b[0m     Hinv \u001b[38;5;241m=\u001b[39m cov_params_func(\u001b[38;5;28mself\u001b[39m, xopt, retvals)\n\u001b[0;32m    578\u001b[0m \u001b[38;5;28;01melif\u001b[39;00m method \u001b[38;5;241m==\u001b[39m \u001b[38;5;124m'\u001b[39m\u001b[38;5;124mnewton\u001b[39m\u001b[38;5;124m'\u001b[39m \u001b[38;5;129;01mand\u001b[39;00m full_output:\n\u001b[1;32m--> 579\u001b[0m     Hinv \u001b[38;5;241m=\u001b[39m \u001b[43mnp\u001b[49m\u001b[38;5;241;43m.\u001b[39;49m\u001b[43mlinalg\u001b[49m\u001b[38;5;241;43m.\u001b[39;49m\u001b[43minv\u001b[49m\u001b[43m(\u001b[49m\u001b[38;5;241;43m-\u001b[39;49m\u001b[43mretvals\u001b[49m\u001b[43m[\u001b[49m\u001b[38;5;124;43m'\u001b[39;49m\u001b[38;5;124;43mHessian\u001b[39;49m\u001b[38;5;124;43m'\u001b[39;49m\u001b[43m]\u001b[49m\u001b[43m)\u001b[49m \u001b[38;5;241m/\u001b[39m nobs\n\u001b[0;32m    580\u001b[0m \u001b[38;5;28;01melif\u001b[39;00m \u001b[38;5;129;01mnot\u001b[39;00m skip_hessian:\n\u001b[0;32m    581\u001b[0m     H \u001b[38;5;241m=\u001b[39m \u001b[38;5;241m-\u001b[39m\u001b[38;5;241m1\u001b[39m \u001b[38;5;241m*\u001b[39m \u001b[38;5;28mself\u001b[39m\u001b[38;5;241m.\u001b[39mhessian(xopt)\n",
      "File \u001b[1;32m<__array_function__ internals>:5\u001b[0m, in \u001b[0;36minv\u001b[1;34m(*args, **kwargs)\u001b[0m\n",
      "File \u001b[1;32m~\\anaconda3\\lib\\site-packages\\numpy\\linalg\\linalg.py:545\u001b[0m, in \u001b[0;36minv\u001b[1;34m(a)\u001b[0m\n\u001b[0;32m    543\u001b[0m signature \u001b[38;5;241m=\u001b[39m \u001b[38;5;124m'\u001b[39m\u001b[38;5;124mD->D\u001b[39m\u001b[38;5;124m'\u001b[39m \u001b[38;5;28;01mif\u001b[39;00m isComplexType(t) \u001b[38;5;28;01melse\u001b[39;00m \u001b[38;5;124m'\u001b[39m\u001b[38;5;124md->d\u001b[39m\u001b[38;5;124m'\u001b[39m\n\u001b[0;32m    544\u001b[0m extobj \u001b[38;5;241m=\u001b[39m get_linalg_error_extobj(_raise_linalgerror_singular)\n\u001b[1;32m--> 545\u001b[0m ainv \u001b[38;5;241m=\u001b[39m \u001b[43m_umath_linalg\u001b[49m\u001b[38;5;241;43m.\u001b[39;49m\u001b[43minv\u001b[49m\u001b[43m(\u001b[49m\u001b[43ma\u001b[49m\u001b[43m,\u001b[49m\u001b[43m \u001b[49m\u001b[43msignature\u001b[49m\u001b[38;5;241;43m=\u001b[39;49m\u001b[43msignature\u001b[49m\u001b[43m,\u001b[49m\u001b[43m \u001b[49m\u001b[43mextobj\u001b[49m\u001b[38;5;241;43m=\u001b[39;49m\u001b[43mextobj\u001b[49m\u001b[43m)\u001b[49m\n\u001b[0;32m    546\u001b[0m \u001b[38;5;28;01mreturn\u001b[39;00m wrap(ainv\u001b[38;5;241m.\u001b[39mastype(result_t, copy\u001b[38;5;241m=\u001b[39m\u001b[38;5;28;01mFalse\u001b[39;00m))\n",
      "File \u001b[1;32m~\\anaconda3\\lib\\site-packages\\numpy\\linalg\\linalg.py:88\u001b[0m, in \u001b[0;36m_raise_linalgerror_singular\u001b[1;34m(err, flag)\u001b[0m\n\u001b[0;32m     87\u001b[0m \u001b[38;5;28;01mdef\u001b[39;00m \u001b[38;5;21m_raise_linalgerror_singular\u001b[39m(err, flag):\n\u001b[1;32m---> 88\u001b[0m     \u001b[38;5;28;01mraise\u001b[39;00m LinAlgError(\u001b[38;5;124m\"\u001b[39m\u001b[38;5;124mSingular matrix\u001b[39m\u001b[38;5;124m\"\u001b[39m)\n",
      "\u001b[1;31mLinAlgError\u001b[0m: Singular matrix"
     ]
    }
   ],
   "source": [
    "model2 = sm.logit(formula = 'HeartDisease~Stroke', data = only_zero).fit()"
   ]
  },
  {
   "cell_type": "code",
   "execution_count": 110,
   "id": "586b136f",
   "metadata": {},
   "outputs": [],
   "source": [
    "def confusion_matrix_test(pred_values,actual_values,cutoff=0.3):\n",
    "    bins=np.array([0,cutoff,1])\n",
    "    cm = np.histogram2d(actual_values, pred_values, bins=bins)[0]\n",
    "    cm_df = pd.DataFrame(cm)\n",
    "    cm_df.columns = ['Predicted 0','Predicted 1']\n",
    "    cm_df = cm_df.rename(index={0: 'Actual 0',1:'Actual 1'})\n",
    "    accuracy = (cm[0,0]+cm[1,1])/cm.sum()\n",
    "    sns.heatmap(cm_df, annot=True, cmap='Blues', fmt='g')\n",
    "    plt.ylabel(\"Actual Values\")\n",
    "    plt.xlabel(\"Predicted Values\")\n",
    "    print(\"Classification accuracy = {:.1%}\".format(accuracy))"
   ]
  },
  {
   "cell_type": "code",
   "execution_count": 112,
   "id": "0ad580c1",
   "metadata": {},
   "outputs": [
    {
     "ename": "ValueError",
     "evalue": "The dimension of bins must be equal to the dimension of the  sample x.",
     "output_type": "error",
     "traceback": [
      "\u001b[1;31m---------------------------------------------------------------------------\u001b[0m",
      "\u001b[1;31mValueError\u001b[0m                                Traceback (most recent call last)",
      "Input \u001b[1;32mIn [112]\u001b[0m, in \u001b[0;36m<cell line: 1>\u001b[1;34m()\u001b[0m\n\u001b[1;32m----> 1\u001b[0m \u001b[43mconfusion_matrix_test\u001b[49m\u001b[43m(\u001b[49m\u001b[43mpred\u001b[49m\u001b[43m,\u001b[49m\u001b[43m \u001b[49m\u001b[43mtrain\u001b[49m\u001b[38;5;241;43m.\u001b[39;49m\u001b[43mHeartDisease\u001b[49m\u001b[43m,\u001b[49m\u001b[43m \u001b[49m\u001b[43mcutoff\u001b[49m\u001b[38;5;241;43m=\u001b[39;49m\u001b[38;5;241;43m0.4\u001b[39;49m\u001b[43m)\u001b[49m\n",
      "Input \u001b[1;32mIn [110]\u001b[0m, in \u001b[0;36mconfusion_matrix_test\u001b[1;34m(pred_values, actual_values, cutoff)\u001b[0m\n\u001b[0;32m      1\u001b[0m \u001b[38;5;28;01mdef\u001b[39;00m \u001b[38;5;21mconfusion_matrix_test\u001b[39m(pred_values,actual_values,cutoff\u001b[38;5;241m=\u001b[39m\u001b[38;5;241m0.3\u001b[39m):\n\u001b[0;32m      2\u001b[0m     bins\u001b[38;5;241m=\u001b[39mnp\u001b[38;5;241m.\u001b[39marray([\u001b[38;5;241m0\u001b[39m,cutoff,\u001b[38;5;241m1\u001b[39m])\n\u001b[1;32m----> 3\u001b[0m     cm \u001b[38;5;241m=\u001b[39m \u001b[43mnp\u001b[49m\u001b[38;5;241;43m.\u001b[39;49m\u001b[43mhistogram2d\u001b[49m\u001b[43m(\u001b[49m\u001b[43mactual_values\u001b[49m\u001b[43m,\u001b[49m\u001b[43m \u001b[49m\u001b[43mpred_values\u001b[49m\u001b[43m,\u001b[49m\u001b[43m \u001b[49m\u001b[43mbins\u001b[49m\u001b[38;5;241;43m=\u001b[39;49m\u001b[43mbins\u001b[49m\u001b[43m)\u001b[49m[\u001b[38;5;241m0\u001b[39m]\n\u001b[0;32m      4\u001b[0m     cm_df \u001b[38;5;241m=\u001b[39m pd\u001b[38;5;241m.\u001b[39mDataFrame(cm)\n\u001b[0;32m      5\u001b[0m     cm_df\u001b[38;5;241m.\u001b[39mcolumns \u001b[38;5;241m=\u001b[39m [\u001b[38;5;124m'\u001b[39m\u001b[38;5;124mPredicted 0\u001b[39m\u001b[38;5;124m'\u001b[39m,\u001b[38;5;124m'\u001b[39m\u001b[38;5;124mPredicted 1\u001b[39m\u001b[38;5;124m'\u001b[39m]\n",
      "File \u001b[1;32m<__array_function__ internals>:5\u001b[0m, in \u001b[0;36mhistogram2d\u001b[1;34m(*args, **kwargs)\u001b[0m\n",
      "File \u001b[1;32m~\\anaconda3\\lib\\site-packages\\numpy\\lib\\twodim_base.py:751\u001b[0m, in \u001b[0;36mhistogram2d\u001b[1;34m(x, y, bins, range, normed, weights, density)\u001b[0m\n\u001b[0;32m    749\u001b[0m     xedges \u001b[38;5;241m=\u001b[39m yedges \u001b[38;5;241m=\u001b[39m asarray(bins)\n\u001b[0;32m    750\u001b[0m     bins \u001b[38;5;241m=\u001b[39m [xedges, yedges]\n\u001b[1;32m--> 751\u001b[0m hist, edges \u001b[38;5;241m=\u001b[39m \u001b[43mhistogramdd\u001b[49m\u001b[43m(\u001b[49m\u001b[43m[\u001b[49m\u001b[43mx\u001b[49m\u001b[43m,\u001b[49m\u001b[43m \u001b[49m\u001b[43my\u001b[49m\u001b[43m]\u001b[49m\u001b[43m,\u001b[49m\u001b[43m \u001b[49m\u001b[43mbins\u001b[49m\u001b[43m,\u001b[49m\u001b[43m \u001b[49m\u001b[38;5;28;43mrange\u001b[39;49m\u001b[43m,\u001b[49m\u001b[43m \u001b[49m\u001b[43mnormed\u001b[49m\u001b[43m,\u001b[49m\u001b[43m \u001b[49m\u001b[43mweights\u001b[49m\u001b[43m,\u001b[49m\u001b[43m \u001b[49m\u001b[43mdensity\u001b[49m\u001b[43m)\u001b[49m\n\u001b[0;32m    752\u001b[0m \u001b[38;5;28;01mreturn\u001b[39;00m hist, edges[\u001b[38;5;241m0\u001b[39m], edges[\u001b[38;5;241m1\u001b[39m]\n",
      "File \u001b[1;32m<__array_function__ internals>:5\u001b[0m, in \u001b[0;36mhistogramdd\u001b[1;34m(*args, **kwargs)\u001b[0m\n",
      "File \u001b[1;32m~\\anaconda3\\lib\\site-packages\\numpy\\lib\\histograms.py:1031\u001b[0m, in \u001b[0;36mhistogramdd\u001b[1;34m(sample, bins, range, normed, weights, density)\u001b[0m\n\u001b[0;32m   1029\u001b[0m     M \u001b[38;5;241m=\u001b[39m \u001b[38;5;28mlen\u001b[39m(bins)\n\u001b[0;32m   1030\u001b[0m     \u001b[38;5;28;01mif\u001b[39;00m M \u001b[38;5;241m!=\u001b[39m D:\n\u001b[1;32m-> 1031\u001b[0m         \u001b[38;5;28;01mraise\u001b[39;00m \u001b[38;5;167;01mValueError\u001b[39;00m(\n\u001b[0;32m   1032\u001b[0m             \u001b[38;5;124m'\u001b[39m\u001b[38;5;124mThe dimension of bins must be equal to the dimension of the \u001b[39m\u001b[38;5;124m'\u001b[39m\n\u001b[0;32m   1033\u001b[0m             \u001b[38;5;124m'\u001b[39m\u001b[38;5;124m sample x.\u001b[39m\u001b[38;5;124m'\u001b[39m)\n\u001b[0;32m   1034\u001b[0m \u001b[38;5;28;01mexcept\u001b[39;00m \u001b[38;5;167;01mTypeError\u001b[39;00m:\n\u001b[0;32m   1035\u001b[0m     \u001b[38;5;66;03m# bins is an integer\u001b[39;00m\n\u001b[0;32m   1036\u001b[0m     bins \u001b[38;5;241m=\u001b[39m D\u001b[38;5;241m*\u001b[39m[bins]\n",
      "\u001b[1;31mValueError\u001b[0m: The dimension of bins must be equal to the dimension of the  sample x."
     ]
    }
   ],
   "source": [
    "confusion_matrix_test(pred, train.HeartDisease, cutoff=0.4)"
   ]
  },
  {
   "cell_type": "code",
   "execution_count": 114,
   "id": "274578ec",
   "metadata": {},
   "outputs": [
    {
     "data": {
      "text/html": [
       "<div>\n",
       "<style scoped>\n",
       "    .dataframe tbody tr th:only-of-type {\n",
       "        vertical-align: middle;\n",
       "    }\n",
       "\n",
       "    .dataframe tbody tr th {\n",
       "        vertical-align: top;\n",
       "    }\n",
       "\n",
       "    .dataframe thead th {\n",
       "        text-align: right;\n",
       "    }\n",
       "</style>\n",
       "<table border=\"1\" class=\"dataframe\">\n",
       "  <thead>\n",
       "    <tr style=\"text-align: right;\">\n",
       "      <th></th>\n",
       "      <th>Category</th>\n",
       "    </tr>\n",
       "    <tr>\n",
       "      <th>Id</th>\n",
       "      <th></th>\n",
       "    </tr>\n",
       "  </thead>\n",
       "  <tbody>\n",
       "    <tr>\n",
       "      <th>0</th>\n",
       "      <td>0</td>\n",
       "    </tr>\n",
       "    <tr>\n",
       "      <th>1</th>\n",
       "      <td>0</td>\n",
       "    </tr>\n",
       "    <tr>\n",
       "      <th>2</th>\n",
       "      <td>0</td>\n",
       "    </tr>\n",
       "    <tr>\n",
       "      <th>3</th>\n",
       "      <td>0</td>\n",
       "    </tr>\n",
       "    <tr>\n",
       "      <th>4</th>\n",
       "      <td>0</td>\n",
       "    </tr>\n",
       "    <tr>\n",
       "      <th>...</th>\n",
       "      <td>...</td>\n",
       "    </tr>\n",
       "    <tr>\n",
       "      <th>95934</th>\n",
       "      <td>0</td>\n",
       "    </tr>\n",
       "    <tr>\n",
       "      <th>95935</th>\n",
       "      <td>0</td>\n",
       "    </tr>\n",
       "    <tr>\n",
       "      <th>95936</th>\n",
       "      <td>0</td>\n",
       "    </tr>\n",
       "    <tr>\n",
       "      <th>95937</th>\n",
       "      <td>0</td>\n",
       "    </tr>\n",
       "    <tr>\n",
       "      <th>95938</th>\n",
       "      <td>0</td>\n",
       "    </tr>\n",
       "  </tbody>\n",
       "</table>\n",
       "<p>95939 rows × 1 columns</p>\n",
       "</div>"
      ],
      "text/plain": [
       "       Category\n",
       "Id             \n",
       "0             0\n",
       "1             0\n",
       "2             0\n",
       "3             0\n",
       "4             0\n",
       "...         ...\n",
       "95934         0\n",
       "95935         0\n",
       "95936         0\n",
       "95937         0\n",
       "95938         0\n",
       "\n",
       "[95939 rows x 1 columns]"
      ]
     },
     "execution_count": 114,
     "metadata": {},
     "output_type": "execute_result"
    }
   ],
   "source": [
    "pred"
   ]
  },
  {
   "cell_type": "code",
   "execution_count": null,
   "id": "85cb7efb",
   "metadata": {},
   "outputs": [],
   "source": []
  }
 ],
 "metadata": {
  "kernelspec": {
   "display_name": "Python 3 (ipykernel)",
   "language": "python",
   "name": "python3"
  },
  "language_info": {
   "codemirror_mode": {
    "name": "ipython",
    "version": 3
   },
   "file_extension": ".py",
   "mimetype": "text/x-python",
   "name": "python",
   "nbconvert_exporter": "python",
   "pygments_lexer": "ipython3",
   "version": "3.9.12"
  }
 },
 "nbformat": 4,
 "nbformat_minor": 5
}
